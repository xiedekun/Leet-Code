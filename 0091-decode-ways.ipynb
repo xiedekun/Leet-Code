{
 "cells": [
  {
   "cell_type": "markdown",
   "id": "9df1805c",
   "metadata": {},
   "source": [
    "### 91. 解码方法\n",
    "一条包含字母 A-Z 的消息通过以下映射进行了 编码 ：\n",
    "\n",
    "'A' -> \"1\"\n",
    "'B' -> \"2\"\n",
    "...\n",
    "'Z' -> \"26\"\n",
    "要 解码 已编码的消息，所有数字必须基于上述映射的方法，反向映射回字母（可能有多种方法）。例如，\"11106\" 可以映射为：\n",
    "\n",
    "\"AAJF\" ，将消息分组为 (1 1 10 6)\n",
    "\"KJF\" ，将消息分组为 (11 10 6)\n",
    "注意，消息不能分组为  (1 11 06) ，因为 \"06\" 不能映射为 \"F\" ，这是由于 \"6\" 和 \"06\" 在映射中并不等价。\n",
    "\n",
    "给你一个只含数字的 非空 字符串 s ，请计算并返回 解码 方法的 总数 。\n",
    "\n",
    "题目数据保证答案肯定是一个 32 位 的整数。\n",
    "\n",
    " \n",
    "\n",
    "示例 1：\n",
    "\n",
    "输入：s = \"12\"\n",
    "\n",
    "输出：2\n",
    "\n",
    "解释：它可以解码为 \"AB\"（1 2）或者 \"L\"（12）。\n",
    "\n",
    "示例 2：\n",
    "\n",
    "输入：s = \"226\"\n",
    "\n",
    "输出：3\n",
    "\n",
    "解释：它可以解码为 \"BZ\" (2 26), \"VF\" (22 6), 或者 \"BBF\" (2 2 6) 。\n",
    "\n",
    "https://leetcode.cn/problems/decode-ways/"
   ]
  },
  {
   "cell_type": "markdown",
   "id": "f10d904f",
   "metadata": {},
   "source": [
    "**思路**：动态规划\n",
    "\n",
    "爬楼梯\n",
    "\n",
    "初始化第0位置为1\n",
    "\n",
    "dp[i]\n",
    "\n",
    "一位数或者二位数:\n",
    "\n",
    "    dp[i] = dp[i-1] + dp[i-2]\n",
    "\n",
    "不能一位数或二位数:\n",
    "    \n",
    "    si = 0: 只能二位数\n",
    "    \n",
    "        if withinAZ(s, i):\n",
    "            dp[i+1] = dp[i-1]\n",
    "        else:\n",
    "            dp[i+1] = 0\n",
    "\n",
    "    si != 0: 只能一位数\n",
    "\n",
    "        if withinAZ(s, i):\n",
    "            dp[i+1] = dp[i] + dp[i-1]\n",
    "        else:\n",
    "            dp[i+1] = dp[i]"
   ]
  },
  {
   "cell_type": "code",
   "execution_count": 141,
   "id": "3cd805a6",
   "metadata": {
    "ExecuteTime": {
     "end_time": "2022-09-22T12:09:00.764900Z",
     "start_time": "2022-09-22T12:09:00.743840Z"
    }
   },
   "outputs": [],
   "source": [
    "def numDecodings(s):\n",
    "    \"\"\"\n",
    "    :type s: str\n",
    "    :rtype: int\n",
    "    \"\"\"\n",
    "    if s=='' or s[0]=='0':\n",
    "        return 0\n",
    "    \n",
    "    def withinAZ(s, i):\n",
    "        return i>0 and ((s[i-1] == '2' and int(s[i])<=6) or (s[i-1]=='1'))\n",
    "    \n",
    "    m = len(s)\n",
    "    dp = [0] * (m+1)\n",
    "    dp[0] = 1\n",
    "    \n",
    "    for i in range(m):\n",
    "\n",
    "        if s[i] == '0':\n",
    "            if withinAZ(s, i):\n",
    "                dp[i+1] = dp[i-1]\n",
    "            else:\n",
    "                dp[i+1] = 0\n",
    "        else:\n",
    "            if withinAZ(s, i):\n",
    "                dp[i+1] = dp[i] + dp[i-1]\n",
    "            else:\n",
    "                dp[i+1] = dp[i]\n",
    "            \n",
    "    return dp[-1]\n",
    "\n"
   ]
  },
  {
   "cell_type": "code",
   "execution_count": 142,
   "id": "194053d7",
   "metadata": {
    "ExecuteTime": {
     "end_time": "2022-09-22T12:09:02.152136Z",
     "start_time": "2022-09-22T12:09:02.141639Z"
    }
   },
   "outputs": [
    {
     "data": {
      "text/plain": [
       "0"
      ]
     },
     "execution_count": 142,
     "metadata": {},
     "output_type": "execute_result"
    }
   ],
   "source": [
    "s = \"226\"\n",
    "s = '0'\n",
    "s = ''\n",
    "s = '176'\n",
    "s = '06'\n",
    "s = '10'\n",
    "s = '2101'\n",
    "s = '10'\n",
    "s = '1123'\n",
    "s = '100001'\n",
    "\n",
    "numDecodings(s)"
   ]
  },
  {
   "cell_type": "code",
   "execution_count": 95,
   "id": "27f93bd8",
   "metadata": {
    "ExecuteTime": {
     "end_time": "2022-09-22T11:31:40.905372Z",
     "start_time": "2022-09-22T11:31:40.885380Z"
    }
   },
   "outputs": [
    {
     "data": {
      "text/plain": [
       "1"
      ]
     },
     "execution_count": 95,
     "metadata": {},
     "output_type": "execute_result"
    }
   ],
   "source": [
    "a = 1 if 3>2 else 2\n",
    "a"
   ]
  },
  {
   "cell_type": "code",
   "execution_count": 19,
   "id": "8700fa48",
   "metadata": {
    "ExecuteTime": {
     "end_time": "2022-09-22T10:05:21.450032Z",
     "start_time": "2022-09-22T10:05:21.426398Z"
    }
   },
   "outputs": [
    {
     "data": {
      "text/plain": [
       "[1, 2]"
      ]
     },
     "execution_count": 19,
     "metadata": {},
     "output_type": "execute_result"
    }
   ],
   "source": [
    "s = \"226\"\n",
    "s= '12'\n",
    "\n",
    "m = len(s)\n",
    "dp = [1] * m\n",
    "\n",
    "for i in range(1, m):\n",
    "    if 1<=int(s[i-1])<=2 and 1<=int(s[i])<=6:\n",
    "        dp[i] = dp[i-1]+1\n",
    "            \n",
    "    else:\n",
    "        d[i] = dp[i-1]\n",
    "\n",
    "dp\n",
    "\n"
   ]
  },
  {
   "cell_type": "code",
   "execution_count": null,
   "id": "1f73aac8",
   "metadata": {},
   "outputs": [],
   "source": []
  }
 ],
 "metadata": {
  "kernelspec": {
   "display_name": "Python 3",
   "language": "python",
   "name": "python3"
  },
  "language_info": {
   "codemirror_mode": {
    "name": "ipython",
    "version": 3
   },
   "file_extension": ".py",
   "mimetype": "text/x-python",
   "name": "python",
   "nbconvert_exporter": "python",
   "pygments_lexer": "ipython3",
   "version": "3.8.8"
  }
 },
 "nbformat": 4,
 "nbformat_minor": 5
}
