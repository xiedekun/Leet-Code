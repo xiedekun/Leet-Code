{
 "cells": [
  {
   "cell_type": "markdown",
   "id": "5d0ac622",
   "metadata": {},
   "source": [
    "### 70. 爬楼梯\n",
    "假设你正在爬楼梯。需要 n 阶你才能到达楼顶。\n",
    "\n",
    "每次你可以爬 1 或 2 个台阶。你有多少种不同的方法可以爬到楼顶呢？\n",
    "\n",
    " \n",
    "\n",
    "示例 1：\n",
    "\n",
    "输入：n = 3\n",
    "\n",
    "输出：3\n",
    "\n",
    "解释：有三种方法可以爬到楼顶。\n",
    "\n",
    "1. 1 阶 + 1 阶 + 1 阶\n",
    "2. 1 阶 + 2 阶\n",
    "3. 2 阶 + 1 阶\n",
    "\n",
    "https://leetcode.cn/problems/climbing-stairs/"
   ]
  },
  {
   "cell_type": "markdown",
   "id": "4e65957f",
   "metadata": {},
   "source": [
    "**思路**：动态规划\n",
    "\n",
    "n = 4\n",
    "- - - - \n",
    "\n",
    "dp[i]:dp[i-1]+ dp[i-2]\n",
    "\n",
    "初始化dp[0] = 1, dp[1] = 2"
   ]
  },
  {
   "cell_type": "code",
   "execution_count": 10,
   "id": "8b81fcdd",
   "metadata": {
    "ExecuteTime": {
     "end_time": "2022-09-14T12:45:45.527933Z",
     "start_time": "2022-09-14T12:45:45.509560Z"
    }
   },
   "outputs": [],
   "source": [
    "def climbStairs(n):\n",
    "    \"\"\"\n",
    "    :type n: int\n",
    "    :rtype: int\n",
    "    \"\"\"\n",
    "    if n == 0:\n",
    "        return 1\n",
    "    elif n == 1:\n",
    "        return 1\n",
    "    elif n == 2:\n",
    "        return 2\n",
    "    dp = [0]*n\n",
    "    dp[0] = 1\n",
    "    dp[1] = 2\n",
    "\n",
    "    for i in range(2, n):\n",
    "        dp[i] = dp[i-1]+ dp[i-2]\n",
    "\n",
    "    return dp[-1]"
   ]
  },
  {
   "cell_type": "code",
   "execution_count": 13,
   "id": "d3be2bea",
   "metadata": {
    "ExecuteTime": {
     "end_time": "2022-09-14T12:46:19.455123Z",
     "start_time": "2022-09-14T12:46:19.436609Z"
    }
   },
   "outputs": [
    {
     "data": {
      "text/plain": [
       "2"
      ]
     },
     "execution_count": 13,
     "metadata": {},
     "output_type": "execute_result"
    }
   ],
   "source": [
    "n = 2\n",
    "climbStairs(n)"
   ]
  }
 ],
 "metadata": {
  "kernelspec": {
   "display_name": "Python 3",
   "language": "python",
   "name": "python3"
  },
  "language_info": {
   "codemirror_mode": {
    "name": "ipython",
    "version": 3
   },
   "file_extension": ".py",
   "mimetype": "text/x-python",
   "name": "python",
   "nbconvert_exporter": "python",
   "pygments_lexer": "ipython3",
   "version": "3.8.8"
  }
 },
 "nbformat": 4,
 "nbformat_minor": 5
}
