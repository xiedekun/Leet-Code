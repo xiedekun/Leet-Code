{
 "cells": [
  {
   "cell_type": "markdown",
   "id": "e06402d9",
   "metadata": {},
   "source": [
    "### 88. 合并两个有序数组\n",
    "给你两个按 非递减顺序 排列的整数数组 nums1 和 nums2，另有两个整数 m 和 n ，分别表示 nums1 和 nums2 中的元素数目。\n",
    "\n",
    "请你 合并 nums2 到 nums1 中，使合并后的数组同样按 非递减顺序 排列。\n",
    "\n",
    "注意：最终，合并后数组不应由函数返回，而是存储在数组 nums1 中。为了应对这种情况，nums1 的初始长度为 m + n，其中前 m 个元素表示应合并的元素，后 n 个元素为 0 ，应忽略。nums2 的长度为 n 。\n",
    "\n",
    " \n",
    "\n",
    "示例 1：\n",
    "\n",
    "输入：nums1 = [1,2,3,0,0,0], m = 3, nums2 = [2,5,6], n = 3\n",
    "\n",
    "输出：[1,2,2,3,5,6]\n",
    "\n",
    "解释：需要合并 [1,2,3] 和 [2,5,6] 。\n",
    "\n",
    "合并结果是 [1,2,2,3,5,6] ，其中斜体加粗标注的为 nums1 中的元素。\n",
    "\n",
    "https://leetcode.cn/problems/merge-sorted-array/"
   ]
  },
  {
   "cell_type": "markdown",
   "id": "2dd21acc",
   "metadata": {},
   "source": [
    "**思路**：归并；倒着合并"
   ]
  },
  {
   "cell_type": "code",
   "execution_count": 25,
   "id": "b913914f",
   "metadata": {
    "ExecuteTime": {
     "end_time": "2022-09-19T12:09:18.815885Z",
     "start_time": "2022-09-19T12:09:18.790396Z"
    }
   },
   "outputs": [],
   "source": [
    "def merge(nums1, m, nums2, n):\n",
    "    \"\"\"\n",
    "    :type nums1: List[int]\n",
    "    :type m: int\n",
    "    :type nums2: List[int]\n",
    "    :type n: int\n",
    "    :rtype: None Do not return anything, modify nums1 in-place instead.\n",
    "    \"\"\"\n",
    "\n",
    "    i = m-1\n",
    "    j = n-1\n",
    "\n",
    "    for idx in range(m+n-1,-1,-1):\n",
    "        if j < 0:\n",
    "            nums1[idx] = nums1[i]\n",
    "            i-=1\n",
    "        elif i < 0 :\n",
    "            nums1[idx] = nums2[j]\n",
    "            j-=1\n",
    "\n",
    "        elif nums1[i] >= nums2[j]:\n",
    "            nums1[idx] = nums1[i]\n",
    "            i-=1\n",
    "        else:\n",
    "            nums1[idx] = nums2[j]\n",
    "            j-=1"
   ]
  },
  {
   "cell_type": "code",
   "execution_count": 26,
   "id": "83539b46",
   "metadata": {
    "ExecuteTime": {
     "end_time": "2022-09-19T12:11:10.293787Z",
     "start_time": "2022-09-19T12:11:10.262682Z"
    }
   },
   "outputs": [
    {
     "data": {
      "text/plain": [
       "[1, 2, 2, 3, 5, 6]"
      ]
     },
     "execution_count": 26,
     "metadata": {},
     "output_type": "execute_result"
    }
   ],
   "source": [
    "nums1 = [1,2,3,0,0,0]\n",
    "m = 3\n",
    "nums2 = [2,5,6]\n",
    "n = 3\n",
    "\n",
    "merge(nums1, m, nums2, n)\n",
    "\n",
    "nums1"
   ]
  }
 ],
 "metadata": {
  "kernelspec": {
   "display_name": "Python 3",
   "language": "python",
   "name": "python3"
  },
  "language_info": {
   "codemirror_mode": {
    "name": "ipython",
    "version": 3
   },
   "file_extension": ".py",
   "mimetype": "text/x-python",
   "name": "python",
   "nbconvert_exporter": "python",
   "pygments_lexer": "ipython3",
   "version": "3.8.8"
  }
 },
 "nbformat": 4,
 "nbformat_minor": 5
}
