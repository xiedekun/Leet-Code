{
 "cells": [
  {
   "cell_type": "markdown",
   "id": "c129aed8",
   "metadata": {},
   "source": [
    "### 120. 三角形最小路径和\n",
    "给定一个三角形 triangle ，找出自顶向下的最小路径和。\n",
    "\n",
    "每一步只能移动到下一行中相邻的结点上。相邻的结点 在这里指的是 下标 与 上一层结点下标 相同或者等于 上一层结点下标 + 1 的两个结点。也就是说，如果正位于当前行的下标 i ，那么下一步可以移动到下一行的下标 i 或 i + 1 。\n",
    "\n",
    " \n",
    "\n",
    "示例 1：\n",
    "\n",
    "输入：triangle = [[2],[3,4],[6,5,7],[4,1,8,3]]\n",
    "\n",
    "输出：11\n",
    "\n",
    "解释：如下面简图所示：\n",
    "\n",
    "       2\n",
    "      3 4\n",
    "     6 5 7\n",
    "    4 1 8 3\n",
    "\n",
    "自顶向下的最小路径和为 11（即，2 + 3 + 5 + 1 = 11）。\n",
    "\n",
    "https://leetcode.cn/problems/triangle/"
   ]
  },
  {
   "cell_type": "markdown",
   "id": "c1c3607a",
   "metadata": {},
   "source": [
    "**思路**：动态规划\n",
    "\n",
    "dp[i][j] : ij位置为止的最小值\n",
    "\n",
    "dp[i][j] = min(dp[i-1][j], dp[i-1][j-1])+arr[i][j]\n"
   ]
  },
  {
   "cell_type": "code",
   "execution_count": 7,
   "id": "437a2205",
   "metadata": {
    "ExecuteTime": {
     "end_time": "2022-09-24T02:25:36.936968Z",
     "start_time": "2022-09-24T02:25:36.924476Z"
    }
   },
   "outputs": [],
   "source": [
    "def minimumTotal(triangle):\n",
    "    \"\"\"\n",
    "    :type triangle: List[List[int]]\n",
    "    :rtype: int\n",
    "    \"\"\"\n",
    "    m = len(triangle)\n",
    "    n = len(triangle[-1])\n",
    "\n",
    "    dp = [[0 for y in range(n)] for x in range(m)]\n",
    "    dp[0][0] = triangle[0][0]\n",
    "    for i in range(1,m):\n",
    "        dp[i][0] = dp[i-1][0] + triangle[i][0]\n",
    "        dp[i][i] = dp[i-1][i-1] + triangle[i][i]\n",
    "\n",
    "    for i in range(2, m):\n",
    "        for j in range(1,i):\n",
    "            dp[i][j] = min(dp[i-1][j], dp[i-1][j-1])+triangle[i][j]\n",
    "\n",
    "    return min(dp[-1])"
   ]
  },
  {
   "cell_type": "code",
   "execution_count": 8,
   "id": "88772cf1",
   "metadata": {
    "ExecuteTime": {
     "end_time": "2022-09-24T02:25:43.324276Z",
     "start_time": "2022-09-24T02:25:43.298551Z"
    }
   },
   "outputs": [
    {
     "data": {
      "text/plain": [
       "11"
      ]
     },
     "execution_count": 8,
     "metadata": {},
     "output_type": "execute_result"
    }
   ],
   "source": [
    "triangle = [[2],[3,4],[6,5,7],[4,1,8,3]]\n",
    "minimumTotal(triangle)"
   ]
  },
  {
   "cell_type": "code",
   "execution_count": 5,
   "id": "f7f1860f",
   "metadata": {
    "ExecuteTime": {
     "end_time": "2022-09-24T02:24:43.265535Z",
     "start_time": "2022-09-24T02:24:43.233080Z"
    }
   },
   "outputs": [
    {
     "data": {
      "text/plain": [
       "[[2, 0, 0, 0], [5, 6, 0, 0], [11, 10, 13, 0], [15, 11, 18, 16]]"
      ]
     },
     "execution_count": 5,
     "metadata": {},
     "output_type": "execute_result"
    }
   ],
   "source": [
    "triangle = [[2],[3,4],[6,5,7],[4,1,8,3]]\n",
    "\n",
    "m = len(triangle)\n",
    "n = len(triangle[-1])\n",
    "\n",
    "dp = [[0 for y in range(n)] for x in range(m)]\n",
    "dp[0][0] = triangle[0][0]\n",
    "for i in range(1,m):\n",
    "    dp[i][0] = dp[i-1][0] + triangle[i][0]\n",
    "    dp[i][i] = dp[i-1][i-1] + triangle[i][i]\n",
    "    \n",
    "for i in range(2, m):\n",
    "    for j in range(1,i):\n",
    "        dp[i][j] = min(dp[i-1][j], dp[i-1][j-1])+triangle[i][j]\n",
    "        \n",
    "dp\n",
    "        "
   ]
  }
 ],
 "metadata": {
  "kernelspec": {
   "display_name": "Python 3",
   "language": "python",
   "name": "python3"
  },
  "language_info": {
   "codemirror_mode": {
    "name": "ipython",
    "version": 3
   },
   "file_extension": ".py",
   "mimetype": "text/x-python",
   "name": "python",
   "nbconvert_exporter": "python",
   "pygments_lexer": "ipython3",
   "version": "3.8.8"
  }
 },
 "nbformat": 4,
 "nbformat_minor": 5
}
