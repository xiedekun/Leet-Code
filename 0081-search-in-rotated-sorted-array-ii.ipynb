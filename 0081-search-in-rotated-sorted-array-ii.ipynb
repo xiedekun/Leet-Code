{
 "cells": [
  {
   "cell_type": "markdown",
   "id": "18d18b32",
   "metadata": {},
   "source": [
    "### 81. 搜索旋转排序数组 II\n",
    "已知存在一个按非降序排列的整数数组 nums ，数组中的值不必互不相同。\n",
    "\n",
    "在传递给函数之前，nums 在预先未知的某个下标 k（0 <= k < nums.length）上进行了 旋转 ，使数组变为 [nums[k], nums[k+1], ..., nums[n-1], nums[0], nums[1], ..., nums[k-1]]（下标 从 0 开始 计数）。例如， [0,1,2,4,4,4,5,6,6,7] 在下标 5 处经旋转后可能变为 [4,5,6,6,7,0,1,2,4,4] 。\n",
    "\n",
    "给你 旋转后 的数组 nums 和一个整数 target ，请你编写一个函数来判断给定的目标值是否存在于数组中。如果 nums 中存在这个目标值 target ，则返回 true ，否则返回 false 。\n",
    "\n",
    "你必须尽可能减少整个操作步骤。\n",
    "\n",
    " \n",
    "\n",
    "示例 1：\n",
    "\n",
    "输入：nums = [2,5,6,0,0,1,2], target = 0\n",
    "输出：true\n",
    "\n",
    "https://leetcode.cn/problems/search-in-rotated-sorted-array-ii/"
   ]
  },
  {
   "cell_type": "markdown",
   "id": "16448572",
   "metadata": {},
   "source": [
    "**思路**：在二分查找基础上，分类讨论mid，target和r/l的关系，但是注意元素允许相同，所以要多一类考虑。\n",
    "\n",
    "以右边作为基准，如果mid小于右边（mid-r未分割），比较target，mid，r的大小。\n",
    "\n",
    "如果mid大于右边（l-mid未分割），先看没有被分割的情况：比较target，mid，l的大小。\n",
    "\n",
    "如果mid等于右边，那么递归调用两种情况（l+1或者r-1）。"
   ]
  },
  {
   "cell_type": "code",
   "execution_count": 112,
   "id": "bbf2a3fa",
   "metadata": {
    "ExecuteTime": {
     "end_time": "2022-09-17T07:17:25.332154Z",
     "start_time": "2022-09-17T07:17:25.316491Z"
    }
   },
   "outputs": [],
   "source": [
    "def search(nums, target):\n",
    "    \"\"\"\n",
    "    :type nums: List[int]\n",
    "    :type target: int\n",
    "    :rtype: bool\n",
    "    \"\"\"\n",
    "\n",
    "    def searchloop(nums,target,l,r):\n",
    "\n",
    "        while l<=r:\n",
    "\n",
    "            mid = l+((r-l)>>1)\n",
    "            if nums[mid] == target:\n",
    "                return True\n",
    "\n",
    "            elif nums[mid]< nums[r]:\n",
    "                if nums[mid]<target<=nums[r]:\n",
    "                    l = mid+1\n",
    "                else:\n",
    "                    r = mid-1\n",
    "            elif nums[mid]> nums[r]:\n",
    "                if nums[l] <= target < nums[mid]:\n",
    "                    r = mid-1\n",
    "                else:\n",
    "                    l = mid+1\n",
    "            else:\n",
    "                res1 = searchloop(nums, target, mid+1, r)\n",
    "                res2 = searchloop(nums, target, l, mid-1)\n",
    "\n",
    "                return res1 or res2\n",
    "\n",
    "        return False\n",
    "    return searchloop(nums,target,0, len(nums)-1) \n"
   ]
  },
  {
   "cell_type": "code",
   "execution_count": 116,
   "id": "ffc7189c",
   "metadata": {
    "ExecuteTime": {
     "end_time": "2022-09-17T07:22:23.273254Z",
     "start_time": "2022-09-17T07:22:23.250749Z"
    }
   },
   "outputs": [
    {
     "data": {
      "text/plain": [
       "True"
      ]
     },
     "execution_count": 116,
     "metadata": {},
     "output_type": "execute_result"
    }
   ],
   "source": [
    "nums = [2,5,6,7,8,9,0,0,1,2]\n",
    "nums = [2,5,6,7,1,2,2,2,2]\n",
    "# nums = [1,1,1,1,1,1,2,1,1,1]\n",
    "target = 2\n",
    "        \n",
    "search(nums,target)   \n",
    "        "
   ]
  }
 ],
 "metadata": {
  "kernelspec": {
   "display_name": "Python 3",
   "language": "python",
   "name": "python3"
  },
  "language_info": {
   "codemirror_mode": {
    "name": "ipython",
    "version": 3
   },
   "file_extension": ".py",
   "mimetype": "text/x-python",
   "name": "python",
   "nbconvert_exporter": "python",
   "pygments_lexer": "ipython3",
   "version": "3.8.8"
  }
 },
 "nbformat": 4,
 "nbformat_minor": 5
}
