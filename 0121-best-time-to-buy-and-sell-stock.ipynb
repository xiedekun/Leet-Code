{
 "cells": [
  {
   "cell_type": "markdown",
   "id": "f5882df2",
   "metadata": {},
   "source": [
    "### 121. 买卖股票的最佳时机\n",
    "给定一个数组 prices ，它的第 i 个元素 prices[i] 表示一支给定股票第 i 天的价格。\n",
    "\n",
    "你只能选择 某一天 买入这只股票，并选择在 未来的某一个不同的日子 卖出该股票。设计一个算法来计算你所能获取的最大利润。\n",
    "\n",
    "返回你可以从这笔交易中获取的最大利润。如果你不能获取任何利润，返回 0 。\n",
    "\n",
    " \n",
    "\n",
    "示例 1：\n",
    "\n",
    "输入：[7,1,5,3,6,4]\n",
    "\n",
    "输出：5\n",
    "\n",
    "解释：在第 2 天（股票价格 = 1）的时候买入，在第 5 天（股票价格 = 6）的时候卖出，最大利润 = 6-1 = 5 。\n",
    "     注意利润不能是 7-1 = 6, 因为卖出价格需要大于买入价格；同时，你不能在买入前卖出股票。\n",
    "     \n",
    "https://leetcode.cn/problems/best-time-to-buy-and-sell-stock/"
   ]
  },
  {
   "cell_type": "markdown",
   "id": "ec948731",
   "metadata": {},
   "source": [
    "**思路**：动态规划\n",
    "\n",
    "dp[i] 截止第i天最大利润\n",
    "\n",
    "dp[i] = max(dp[i-1], p[i]-min)"
   ]
  },
  {
   "cell_type": "code",
   "execution_count": 28,
   "id": "229a6beb",
   "metadata": {
    "ExecuteTime": {
     "end_time": "2022-09-24T02:54:33.423499Z",
     "start_time": "2022-09-24T02:54:33.397919Z"
    }
   },
   "outputs": [],
   "source": [
    "def maxProfit(prices):\n",
    "    \"\"\"\n",
    "    :type prices: List[int]\n",
    "    :rtype: int\n",
    "    \"\"\"\n",
    "    m = len(prices)\n",
    "\n",
    "    dp = [0]*m\n",
    "\n",
    "    mn = prices[0]\n",
    "\n",
    "    for i in range(1, m):\n",
    "        dp[i] = max(dp[i-1], prices[i]-mn)\n",
    "        if prices[i]<mn:\n",
    "            mn = prices[i]\n",
    "    return dp[-1]"
   ]
  },
  {
   "cell_type": "code",
   "execution_count": 30,
   "id": "3f38e0bb",
   "metadata": {
    "ExecuteTime": {
     "end_time": "2022-09-24T02:55:06.424414Z",
     "start_time": "2022-09-24T02:55:06.410149Z"
    }
   },
   "outputs": [],
   "source": [
    "# 优化空间复杂度\n",
    "def maxProfit(prices):\n",
    "    \"\"\"\n",
    "    :type prices: List[int]\n",
    "    :rtype: int\n",
    "    \"\"\"\n",
    "    m = len(prices)\n",
    "\n",
    "    dp = 0\n",
    "\n",
    "    mn = prices[0]\n",
    "\n",
    "    for i in range(1, m):\n",
    "        dp = max(dp, prices[i]-mn)\n",
    "        if prices[i]<mn:\n",
    "            mn = prices[i]\n",
    "    return dp"
   ]
  },
  {
   "cell_type": "code",
   "execution_count": 33,
   "id": "5923b33d",
   "metadata": {
    "ExecuteTime": {
     "end_time": "2022-09-24T02:55:08.289100Z",
     "start_time": "2022-09-24T02:55:08.272138Z"
    }
   },
   "outputs": [
    {
     "data": {
      "text/plain": [
       "5"
      ]
     },
     "execution_count": 33,
     "metadata": {},
     "output_type": "execute_result"
    }
   ],
   "source": [
    "prices = [7,1,5,3,6,4]\n",
    "maxProfit(prices)"
   ]
  },
  {
   "cell_type": "markdown",
   "id": "99bb4d56",
   "metadata": {},
   "source": [
    "**思路**：暴力破解\n",
    "\n",
    "超时"
   ]
  },
  {
   "cell_type": "code",
   "execution_count": 20,
   "id": "fe1776c1",
   "metadata": {
    "ExecuteTime": {
     "end_time": "2022-09-24T02:44:13.202659Z",
     "start_time": "2022-09-24T02:44:13.187346Z"
    }
   },
   "outputs": [],
   "source": [
    "def maxProfit(prices):\n",
    "    \"\"\"\n",
    "    :type prices: List[int]\n",
    "    :rtype: int\n",
    "    \"\"\"\n",
    "    m = 0\n",
    "\n",
    "    for i in range(len(prices)):\n",
    "        for j in range(i, len(prices)):\n",
    "            if prices[j] - prices[i]>m:\n",
    "                m = prices[j] - prices[i]\n",
    "    return m"
   ]
  },
  {
   "cell_type": "code",
   "execution_count": 21,
   "id": "35356638",
   "metadata": {
    "ExecuteTime": {
     "end_time": "2022-09-24T02:44:14.495742Z",
     "start_time": "2022-09-24T02:44:14.483740Z"
    }
   },
   "outputs": [
    {
     "data": {
      "text/plain": [
       "1"
      ]
     },
     "execution_count": 21,
     "metadata": {},
     "output_type": "execute_result"
    }
   ],
   "source": [
    "prices = [7,6,4,3,1]\n",
    "prices = [1,2]\n",
    "maxProfit(prices)"
   ]
  },
  {
   "cell_type": "code",
   "execution_count": 3,
   "id": "b034a714",
   "metadata": {
    "ExecuteTime": {
     "end_time": "2022-09-24T02:38:55.683921Z",
     "start_time": "2022-09-24T02:38:55.665964Z"
    }
   },
   "outputs": [
    {
     "data": {
      "text/plain": [
       "4"
      ]
     },
     "execution_count": 3,
     "metadata": {},
     "output_type": "execute_result"
    }
   ],
   "source": [
    "prices = [7,1,5,3,6,4]\n",
    "\n",
    "m = 0\n",
    "idx = -1\n",
    "\n",
    "for i in range(len(prices)):\n",
    "    for j in range(1, len(prices)):\n",
    "        if prices[j] - prices[i]>m:\n",
    "            m = prices[j] - prices[i]\n",
    "            idx = j\n",
    "idx"
   ]
  },
  {
   "cell_type": "code",
   "execution_count": null,
   "id": "b939d705",
   "metadata": {},
   "outputs": [],
   "source": []
  }
 ],
 "metadata": {
  "kernelspec": {
   "display_name": "Python 3",
   "language": "python",
   "name": "python3"
  },
  "language_info": {
   "codemirror_mode": {
    "name": "ipython",
    "version": 3
   },
   "file_extension": ".py",
   "mimetype": "text/x-python",
   "name": "python",
   "nbconvert_exporter": "python",
   "pygments_lexer": "ipython3",
   "version": "3.8.8"
  }
 },
 "nbformat": 4,
 "nbformat_minor": 5
}
