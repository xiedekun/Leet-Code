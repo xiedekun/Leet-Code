{
 "cells": [
  {
   "cell_type": "markdown",
   "id": "24400c7e",
   "metadata": {},
   "source": [
    "### 105. 从前序与中序遍历序列构造二叉树\n",
    "\n",
    "难度：中等\n",
    "\n",
    "Given preorder and inorder traversal of a tree, construct the binary tree.\n",
    "\n",
    "Note:\n",
    "You may assume that duplicates do not exist in the tree.\n",
    "\n",
    "For example, given\n",
    "\n",
    "preorder = [3,9,20,15,7]\n",
    "\n",
    "inorder = [9,3,15,20,7]\n",
    "\n",
    "Return the following binary tree:\n",
    "\n",
    "    3\n",
    "    \n",
    "    / \\\n",
    "\n",
    "    9  20\n",
    "\n",
    "      /  \\\n",
    "    \n",
    "     15   7\n",
    "    \n",
    "    \n",
    "https://leetcode.cn/problems/construct-binary-tree-from-preorder-and-inorder-traversal/"
   ]
  },
  {
   "cell_type": "code",
   "execution_count": 1,
   "id": "f378897e",
   "metadata": {
    "ExecuteTime": {
     "end_time": "2022-08-22T06:06:56.606063Z",
     "start_time": "2022-08-22T06:06:56.585859Z"
    }
   },
   "outputs": [],
   "source": [
    "class TreeNode(object):\n",
    "    def __init__(self, val=0, left=None, right=None):\n",
    "        self.val = val\n",
    "        self.left = left\n",
    "        self.right = right"
   ]
  },
  {
   "cell_type": "code",
   "execution_count": 7,
   "id": "91a20c33",
   "metadata": {
    "ExecuteTime": {
     "end_time": "2022-08-22T06:11:34.552321Z",
     "start_time": "2022-08-22T06:11:34.529127Z"
    }
   },
   "outputs": [],
   "source": [
    "preorder = [3,9,20,15,7]\n",
    "inorder = [9,3,15,20,7]\n",
    "\n",
    "def buildTree(preorder, inorder):\n",
    "    \"\"\"\n",
    "    :type preorder: List[int]\n",
    "    :type inorder: List[int]\n",
    "    :rtype: TreeNode\n",
    "    \"\"\"\n",
    "    \n",
    "    if not preorder:\n",
    "        return None\n",
    "    \n",
    "    root = TreeNode(preorder[0])\n",
    "    k = inorder.index(preorder[0])\n",
    "    \n",
    "    root.left = buildTree(preorder[1:k+1], inorder[0:k])\n",
    "    root.right = buildTree(preorder[k+1:], inorder[k+1:])\n",
    "    return root\n",
    "\n",
    "node = buildTree(preorder, inorder)"
   ]
  },
  {
   "cell_type": "code",
   "execution_count": 8,
   "id": "70096a45",
   "metadata": {
    "ExecuteTime": {
     "end_time": "2022-08-22T06:11:36.283824Z",
     "start_time": "2022-08-22T06:11:36.254104Z"
    }
   },
   "outputs": [
    {
     "data": {
      "text/plain": [
       "[[3], [9, 20], [15, 7]]"
      ]
     },
     "execution_count": 8,
     "metadata": {},
     "output_type": "execute_result"
    }
   ],
   "source": [
    "from queue import deque\n",
    "def levelOrder(root):\n",
    "    \"\"\"\n",
    "    :type root: TreeNode\n",
    "    :rtype: List[List[int]]\n",
    "    \"\"\"\n",
    "    \n",
    "\n",
    "    res = []\n",
    "    queue = deque([root])\n",
    "    \n",
    "    if not root:\n",
    "        return res\n",
    "    \n",
    "    while queue:\n",
    "        size = len(queue)\n",
    "        res_ = []\n",
    "        while size > 0:\n",
    "            \n",
    "            node = queue.popleft()\n",
    "\n",
    "            res_.append(node.val)\n",
    "\n",
    "            if node.left:\n",
    "                queue.append(node.left)\n",
    "            if node.right:\n",
    "                queue.append(node.right)\n",
    "            size -= 1\n",
    "        res.append(res_)\n",
    "    return res\n",
    "        \n",
    "    \n",
    "levelOrder(node)"
   ]
  }
 ],
 "metadata": {
  "kernelspec": {
   "display_name": "Python 3",
   "language": "python",
   "name": "python3"
  },
  "language_info": {
   "codemirror_mode": {
    "name": "ipython",
    "version": 3
   },
   "file_extension": ".py",
   "mimetype": "text/x-python",
   "name": "python",
   "nbconvert_exporter": "python",
   "pygments_lexer": "ipython3",
   "version": "3.8.8"
  }
 },
 "nbformat": 4,
 "nbformat_minor": 5
}
