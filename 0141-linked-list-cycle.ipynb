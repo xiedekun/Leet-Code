{
 "cells": [
  {
   "attachments": {
    "image.png": {
     "image/png": "[encoded data removed]"
    }
   },
   "cell_type": "markdown",
   "id": "ded39669",
   "metadata": {},
   "source": [
    "### 141. 环形链表\n",
    "给你一个链表的头节点 head ，判断链表中是否有环。\n",
    "\n",
    "如果链表中有某个节点，可以通过连续跟踪 next 指针再次到达，则链表中存在环。 为了表示给定链表中的环，评测系统内部使用整数 pos 来表示链表尾连接到链表中的位置（索引从 0 开始）。注意：pos 不作为参数进行传递 。仅仅是为了标识链表的实际情况。\n",
    "\n",
    "如果链表中存在环 ，则返回 true 。 否则，返回 false 。\n",
    "\n",
    " \n",
    "\n",
    "示例 1：\n",
    "\n",
    "![image.png](attachment:image.png)\n",
    "\n",
    "\n",
    "\n",
    "    输入：head = [3,2,0,-4], pos = 1\n",
    "    输出：true\n",
    "    解释：链表中有一个环，其尾部连接到第二个节点。\n",
    "    \n",
    "https://leetcode.cn/problems/linked-list-cycle/"
   ]
  },
  {
   "cell_type": "markdown",
   "id": "fe767699",
   "metadata": {},
   "source": [
    "**思路**：修改链表做标记"
   ]
  },
  {
   "cell_type": "code",
   "execution_count": 4,
   "id": "1d35a799",
   "metadata": {
    "ExecuteTime": {
     "end_time": "2022-09-25T03:47:10.361116Z",
     "start_time": "2022-09-25T03:47:10.346566Z"
    }
   },
   "outputs": [],
   "source": [
    "class ListNode(object):\n",
    "    def __init__(self, x):\n",
    "        self.val = x\n",
    "        self.next = None"
   ]
  },
  {
   "cell_type": "code",
   "execution_count": 12,
   "id": "a06fa6db",
   "metadata": {
    "ExecuteTime": {
     "end_time": "2022-09-25T03:53:35.755132Z",
     "start_time": "2022-09-25T03:53:35.738094Z"
    }
   },
   "outputs": [],
   "source": [
    "def hasCycle(head):\n",
    "    \"\"\"\n",
    "    :type head: ListNode\n",
    "    :rtype: bool\n",
    "    \"\"\"\n",
    "    if not head:\n",
    "        return False\n",
    "    while head.next:\n",
    "        if head.val == None:\n",
    "            return True\n",
    "        head.val = None\n",
    "        head = head.next\n",
    "    return False"
   ]
  },
  {
   "cell_type": "code",
   "execution_count": 11,
   "id": "33195119",
   "metadata": {
    "ExecuteTime": {
     "end_time": "2022-09-25T03:53:27.724117Z",
     "start_time": "2022-09-25T03:53:27.681556Z"
    }
   },
   "outputs": [
    {
     "data": {
      "text/plain": [
       "True"
      ]
     },
     "execution_count": 11,
     "metadata": {},
     "output_type": "execute_result"
    }
   ],
   "source": [
    "head = [3,2,0,-4]\n",
    "def build(arr):\n",
    "    h = node = ListNode(None)\n",
    "    for i in range(len(head)):\n",
    "        node.next = ListNode(head[i])\n",
    "        node = node.next\n",
    "        \n",
    "    return h.next\n",
    "\n",
    "head = build(head)\n",
    "head.next.next.next.next = head.next\n",
    "\n",
    "hasCycle(head)\n",
    "    "
   ]
  }
 ],
 "metadata": {
  "kernelspec": {
   "display_name": "Python 3",
   "language": "python",
   "name": "python3"
  },
  "language_info": {
   "codemirror_mode": {
    "name": "ipython",
    "version": 3
   },
   "file_extension": ".py",
   "mimetype": "text/x-python",
   "name": "python",
   "nbconvert_exporter": "python",
   "pygments_lexer": "ipython3",
   "version": "3.8.8"
  }
 },
 "nbformat": 4,
 "nbformat_minor": 5
}
