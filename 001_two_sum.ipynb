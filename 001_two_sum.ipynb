{
 "cells": [
  {
   "cell_type": "markdown",
   "id": "e902a872",
   "metadata": {},
   "source": [
    "## 001.两数之和\n",
    "给定一个整数数组 nums 和一个整数目标值 target，请你在该数组中找出 和为目标值 target  的那 两个 整数，并返回它们的数组下标。\n",
    "\n",
    "你可以假设每种输入只会对应一个答案。但是，数组中同一个元素在答案里不能重复出现。\n",
    "\n",
    "你可以按任意顺序返回答案。\n",
    "\n",
    "输入：nums = [2,7,11,15], target = 9\n",
    "输出：[0,1]\n",
    "解释：因为 nums[0] + nums[1] == 9 ，返回 [0, 1] 。\n",
    "\n",
    "https://leetcode.cn/problems/two-sum"
   ]
  },
  {
   "cell_type": "markdown",
   "id": "034419db",
   "metadata": {},
   "source": [
    "### 1.暴力法\n",
    "\n",
    "时间复杂度 空间复杂度\n",
    "\n",
    "O(N^2)      O(1)"
   ]
  },
  {
   "cell_type": "code",
   "execution_count": 43,
   "id": "5ddf4015",
   "metadata": {
    "ExecuteTime": {
     "end_time": "2022-06-19T12:32:33.099788Z",
     "start_time": "2022-06-19T12:32:33.088800Z"
    }
   },
   "outputs": [],
   "source": [
    "\n",
    "def twoSum(nums, target):\n",
    "    \"\"\"\n",
    "    :type nums: List[int]\n",
    "    :type target: int\n",
    "    :rtype: List[int]\n",
    "    \"\"\"\n",
    "    len_nums = len(nums)\n",
    "    for i in range(len_nums):\n",
    "        for j in range(i+1, len_nums):\n",
    "            if nums[i] + nums[j] == target:\n",
    "                return [i, j]"
   ]
  },
  {
   "cell_type": "code",
   "execution_count": 44,
   "id": "5f04049e",
   "metadata": {
    "ExecuteTime": {
     "end_time": "2022-06-19T12:32:34.730291Z",
     "start_time": "2022-06-19T12:32:34.715930Z"
    }
   },
   "outputs": [
    {
     "data": {
      "text/plain": [
       "[0, 1]"
      ]
     },
     "execution_count": 44,
     "metadata": {},
     "output_type": "execute_result"
    }
   ],
   "source": [
    "nums = [2,7,11,15]\n",
    "target = 9\n",
    "twoSum(nums, target)"
   ]
  },
  {
   "cell_type": "markdown",
   "id": "6eeb0fd9",
   "metadata": {},
   "source": [
    "### 2.Look up 字典\n",
    "\n",
    "O(N); O(N)"
   ]
  },
  {
   "cell_type": "code",
   "execution_count": 45,
   "id": "548bab40",
   "metadata": {
    "ExecuteTime": {
     "end_time": "2022-06-19T12:32:36.058788Z",
     "start_time": "2022-06-19T12:32:36.047790Z"
    }
   },
   "outputs": [],
   "source": [
    "def twoSum(nums, target):\n",
    "    \"\"\"\n",
    "    :type nums: List[int]\n",
    "    :type target: int\n",
    "    :rtype: List[int]\n",
    "    \"\"\"\n",
    "    look_up = dict()\n",
    "    for i, num in enumerate(nums):\n",
    "        if target - num in look_up.keys():\n",
    "            return [i, look_up[target - num ]]\n",
    "        else:\n",
    "            look_up.update({num: i})"
   ]
  },
  {
   "cell_type": "code",
   "execution_count": 47,
   "id": "17ceb70f",
   "metadata": {
    "ExecuteTime": {
     "end_time": "2022-06-19T12:32:38.633289Z",
     "start_time": "2022-06-19T12:32:38.620286Z"
    }
   },
   "outputs": [
    {
     "data": {
      "text/plain": [
       "[1, 0]"
      ]
     },
     "execution_count": 47,
     "metadata": {},
     "output_type": "execute_result"
    }
   ],
   "source": [
    "nums = [2,7,11,15]\n",
    "target = 9\n",
    "twoSum(nums, target)"
   ]
  }
 ],
 "metadata": {
  "kernelspec": {
   "display_name": "Python 3",
   "language": "python",
   "name": "python3"
  },
  "language_info": {
   "codemirror_mode": {
    "name": "ipython",
    "version": 3
   },
   "file_extension": ".py",
   "mimetype": "text/x-python",
   "name": "python",
   "nbconvert_exporter": "python",
   "pygments_lexer": "ipython3",
   "version": "3.8.8"
  }
 },
 "nbformat": 4,
 "nbformat_minor": 5
}
