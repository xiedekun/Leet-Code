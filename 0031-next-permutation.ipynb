{
 "cells": [
  {
   "cell_type": "markdown",
   "id": "025c5251",
   "metadata": {},
   "source": [
    "### 31. 下一个排列\n",
    "整数数组的一个 排列  就是将其所有成员以序列或线性顺序排列。\n",
    "\n",
    "例如，arr = [1,2,3] ，以下这些都可以视作 arr 的排列：[1,2,3]、[1,3,2]、[3,1,2]、[2,3,1] 。\n",
    "整数数组的 下一个排列 是指其整数的下一个字典序更大的排列。更正式地，如果数组的所有排列根据其字典顺序从小到大排列在一个容器中，那么数组的 下一个排列 就是在这个有序容器中排在它后面的那个排列。如果不存在下一个更大的排列，那么这个数组必须重排为字典序最小的排列（即，其元素按升序排列）。\n",
    "\n",
    "例如，arr = [1,2,3] 的下一个排列是 [1,3,2] 。\n",
    "\n",
    "类似地，arr = [2,3,1] 的下一个排列是 [3,1,2] 。\n",
    "\n",
    "而 arr = [3,2,1] 的下一个排列是 [1,2,3] ，因为 [3,2,1] 不存在一个字典序更大的排列。\n",
    "给你一个整数数组 nums ，找出 nums 的下一个排列。\n",
    "\n",
    "必须 原地 修改，只允许使用额外常数空间。\n",
    "\n",
    "示例 1：\n",
    "\n",
    "输入：nums = [1,2,3]\n",
    "输出：[1,3,2]\n",
    "\n",
    "https://leetcode.cn/problems/next-permutation/"
   ]
  },
  {
   "cell_type": "markdown",
   "id": "6d033819",
   "metadata": {
    "ExecuteTime": {
     "end_time": "2022-09-11T07:12:28.040071Z",
     "start_time": "2022-09-11T07:12:27.997459Z"
    }
   },
   "source": [
    "**思路**：倒着找，如果序列是递减一定没有下一个序列；找到不递减的元素，再倒着找比它稍微大的元素，交换;再将交换之后的元素逆序，变成最小"
   ]
  },
  {
   "cell_type": "code",
   "execution_count": 72,
   "id": "f30560ad",
   "metadata": {
    "ExecuteTime": {
     "end_time": "2022-09-11T07:51:41.904815Z",
     "start_time": "2022-09-11T07:51:41.879751Z"
    }
   },
   "outputs": [],
   "source": [
    "def nextPermutation(nums):\n",
    "    \"\"\"\n",
    "    :type nums: List[int]\n",
    "    :rtype: None Do not return anything, modify nums in-place instead.\n",
    "    \"\"\"\n",
    "    l = len(nums)\n",
    "    \n",
    "    if l==0:\n",
    "        return []\n",
    "\n",
    "    idx = 0\n",
    "    \n",
    "    for i in range(l-1, 0, -1):\n",
    "        if nums[i] > nums[i-1]:\n",
    "            idx = i\n",
    "            break\n",
    "    if idx!=0:\n",
    "        for j in range(l-1, idx-1, -1):\n",
    "            if nums[j] > nums[idx-1]:\n",
    "                nums[j], nums[idx-1] = nums[idx-1], nums[j]\n",
    "                break\n",
    "            \n",
    "    nums[idx:] = nums[idx:][::-1]"
   ]
  },
  {
   "cell_type": "code",
   "execution_count": 73,
   "id": "3bfa85b2",
   "metadata": {
    "ExecuteTime": {
     "end_time": "2022-09-11T07:51:43.293373Z",
     "start_time": "2022-09-11T07:51:43.268806Z"
    }
   },
   "outputs": [
    {
     "data": {
      "text/plain": [
       "[1, 3, 2]"
      ]
     },
     "execution_count": 73,
     "metadata": {},
     "output_type": "execute_result"
    }
   ],
   "source": [
    "nums = [1, 2, 3]\n",
    "# nums = [3,2,1]\n",
    "# nums = [1,4,3,2]\n",
    "nextPermutation(nums)\n",
    "nums"
   ]
  },
  {
   "cell_type": "code",
   "execution_count": 39,
   "id": "98b5f3c8",
   "metadata": {
    "ExecuteTime": {
     "end_time": "2022-09-11T07:33:51.692073Z",
     "start_time": "2022-09-11T07:33:51.663204Z"
    }
   },
   "outputs": [
    {
     "data": {
      "text/plain": [
       "[3, 4, 2, 1]"
      ]
     },
     "execution_count": 39,
     "metadata": {},
     "output_type": "execute_result"
    }
   ],
   "source": [
    "nums = [1,4, 6, 5,2,1]\n",
    "nums = [2,4,3,1]\n",
    "l = len(nums)\n",
    "last = -1e9\n",
    "idx = -1\n",
    "for i in range(l-1, 0, -1):\n",
    "    if nums[i] < last:\n",
    "        idx = i\n",
    "        break\n",
    "    last = nums[i] \n",
    "\n",
    "if idx>0:\n",
    "    for j in range(l-1-idx, 0, -1):\n",
    "        if nums[j] > nums[idx]:\n",
    "            nums[j], nums[idx] = nums[idx], nums[j]\n",
    "            break\n",
    "else:\n",
    "    for k in range(l-1, 0, -1):\n",
    "        if nums[k] > nums[0]:\n",
    "            nums[k], nums[0] = nums[0], nums[k]\n",
    "            break\n",
    "            \n",
    "nums\n",
    "\n",
    "    "
   ]
  }
 ],
 "metadata": {
  "kernelspec": {
   "display_name": "Python 3",
   "language": "python",
   "name": "python3"
  },
  "language_info": {
   "codemirror_mode": {
    "name": "ipython",
    "version": 3
   },
   "file_extension": ".py",
   "mimetype": "text/x-python",
   "name": "python",
   "nbconvert_exporter": "python",
   "pygments_lexer": "ipython3",
   "version": "3.8.8"
  }
 },
 "nbformat": 4,
 "nbformat_minor": 5
}
