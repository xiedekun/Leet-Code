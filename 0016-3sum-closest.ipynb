{
 "cells": [
  {
   "cell_type": "markdown",
   "id": "25fa0ed9",
   "metadata": {},
   "source": [
    "### 16. 最接近的三数之和\n",
    "给你一个长度为 n 的整数数组 nums 和 一个目标值 target。请你从 nums 中选出三个整数，使它们的和与 target 最接近。\n",
    "\n",
    "返回这三个数的和。\n",
    "\n",
    "假定每组输入只存在恰好一个解。\n",
    "\n",
    "\n",
    "输入：nums = [-1,2,1,-4], target = 1\n",
    "\n",
    "输出：2\n",
    "\n",
    "解释：与 target 最接近的和是 2 (-1 + 2 + 1 = 2) 。\n",
    "\n",
    "https://leetcode.cn/problems/3sum-closest"
   ]
  },
  {
   "cell_type": "markdown",
   "id": "f896a075",
   "metadata": {
    "ExecuteTime": {
     "end_time": "2022-08-31T19:21:56.386424Z",
     "start_time": "2022-08-31T19:21:56.371918Z"
    }
   },
   "source": [
    "**思路**：排序；确定i，另外两个双指针；每次保存delta最小的。"
   ]
  },
  {
   "cell_type": "code",
   "execution_count": 13,
   "id": "737e7edd",
   "metadata": {
    "ExecuteTime": {
     "end_time": "2022-08-31T19:20:09.963076Z",
     "start_time": "2022-08-31T19:20:09.947083Z"
    }
   },
   "outputs": [
    {
     "name": "stdout",
     "output_type": "stream",
     "text": [
      "[-4, -1, 1, 2]\n",
      "-4 -1 2 10000000000.0\n",
      "-4 1 2 -3\n",
      "-1 1 2 -1\n"
     ]
    },
    {
     "data": {
      "text/plain": [
       "2"
      ]
     },
     "execution_count": 13,
     "metadata": {},
     "output_type": "execute_result"
    }
   ],
   "source": [
    "nums = [-1,2,1,-4]\n",
    "target = 1\n",
    "nums.sort()\n",
    "print(nums)\n",
    "nums\n",
    "res = 1e10\n",
    "n = len(nums)\n",
    "for i in range(n):\n",
    "    l, r = i+1, n-1\n",
    "    while l<r:\n",
    "        sums = nums[i] + nums[l] + nums[r]\n",
    "        print(nums[i], nums[l], nums[r], res)\n",
    "        delta = sums - target\n",
    "        if delta == 0:\n",
    "    #         return target\n",
    "                break\n",
    "        elif delta > 0:\n",
    "            r-=1\n",
    "        elif delta<0:\n",
    "            l+=1\n",
    "        if abs(delta) < abs(res - target):\n",
    "            res = sums  \n",
    "res"
   ]
  },
  {
   "cell_type": "code",
   "execution_count": 15,
   "id": "005a738f",
   "metadata": {
    "ExecuteTime": {
     "end_time": "2022-08-31T19:20:44.515380Z",
     "start_time": "2022-08-31T19:20:44.502873Z"
    }
   },
   "outputs": [],
   "source": [
    "def threeSumClosest(nums, target):\n",
    "    \"\"\"\n",
    "    :type nums: List[int]\n",
    "    :type target: int\n",
    "    :rtype: int\n",
    "    \"\"\"\n",
    "    nums.sort()\n",
    "    nums\n",
    "    res = 1e10\n",
    "    n = len(nums)\n",
    "    for i in range(n):\n",
    "        l, r = i+1, n-1\n",
    "        while l<r:\n",
    "            sums = nums[i] + nums[l] + nums[r]\n",
    "            delta = sums - target\n",
    "            if delta == 0:\n",
    "                return target\n",
    "            elif delta > 0:\n",
    "                r-=1\n",
    "            elif delta<0:\n",
    "                l+=1\n",
    "            if abs(delta) < abs(res - target):\n",
    "                res = sums  \n",
    "    return res"
   ]
  },
  {
   "cell_type": "code",
   "execution_count": 16,
   "id": "e911d7e0",
   "metadata": {
    "ExecuteTime": {
     "end_time": "2022-08-31T19:20:56.126844Z",
     "start_time": "2022-08-31T19:20:56.110314Z"
    }
   },
   "outputs": [
    {
     "data": {
      "text/plain": [
       "2"
      ]
     },
     "execution_count": 16,
     "metadata": {},
     "output_type": "execute_result"
    }
   ],
   "source": [
    "nums = [-1,2,1,-4]\n",
    "target = 1\n",
    "threeSumClosest(nums, target)"
   ]
  }
 ],
 "metadata": {
  "kernelspec": {
   "display_name": "Python 3",
   "language": "python",
   "name": "python3"
  },
  "language_info": {
   "codemirror_mode": {
    "name": "ipython",
    "version": 3
   },
   "file_extension": ".py",
   "mimetype": "text/x-python",
   "name": "python",
   "nbconvert_exporter": "python",
   "pygments_lexer": "ipython3",
   "version": "3.8.8"
  }
 },
 "nbformat": 4,
 "nbformat_minor": 5
}
