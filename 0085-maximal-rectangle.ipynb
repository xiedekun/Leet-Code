{
 "cells": [
  {
   "attachments": {
    "image.png": {
     "image/png": "[encoded data removed]"
    }
   },
   "cell_type": "markdown",
   "id": "4bc0eefe",
   "metadata": {},
   "source": [
    "### 85. 最大矩形\n",
    "给定一个仅包含 0 和 1 、大小为 rows x cols 的二维二进制矩阵，找出只包含 1 的最大矩形，并返回其面积。\n",
    "\n",
    " \n",
    "\n",
    "示例 1：\n",
    "\n",
    "![image.png](attachment:image.png)\n",
    "\n",
    "输入：matrix = [[\"1\",\"0\",\"1\",\"0\",\"0\"],[\"1\",\"0\",\"1\",\"1\",\"1\"],[\"1\",\"1\",\"1\",\"1\",\"1\"],[\"1\",\"0\",\"0\",\"1\",\"0\"]]\n",
    "\n",
    "输出：6\n",
    "\n",
    "解释：最大矩形如上图所示。\n",
    "\n",
    "https://leetcode.cn/problems/maximal-rectangle/"
   ]
  },
  {
   "cell_type": "markdown",
   "id": "ee12b7cd",
   "metadata": {},
   "source": [
    "**思路**：单调栈，力扣84题。\n",
    "\n",
    "循环每一层，顶层到循环到的层看做立体的height，进行力扣84的方法。\n",
    "\n"
   ]
  },
  {
   "cell_type": "code",
   "execution_count": 72,
   "id": "61a542e3",
   "metadata": {
    "ExecuteTime": {
     "end_time": "2022-09-17T11:57:30.817964Z",
     "start_time": "2022-09-17T11:57:30.786950Z"
    }
   },
   "outputs": [],
   "source": [
    "def maximalRectangle(matrix):\n",
    "    \"\"\"\n",
    "    :type matrix: List[List[str]]\n",
    "    :rtype: int\n",
    "    \"\"\"\n",
    "    def maxarea(height):\n",
    "        height = height.copy()\n",
    "        height.insert(0,0)\n",
    "        height.append(0)\n",
    "        stack = [0]\n",
    "        res = 0\n",
    "        for i in range(1, len(height)):\n",
    "            while stack and height[i]<height[stack[-1]]:\n",
    "                mid = stack.pop()\n",
    "                w = i-stack[-1]-1\n",
    "                h = height[mid]\n",
    "                area = w*h\n",
    "                res = max(area, res)\n",
    "\n",
    "            stack.append(i)\n",
    "        return res\n",
    "    \n",
    "    height = [0] * len(matrix[0])\n",
    "    res = 0\n",
    "    for i in range(len(matrix)):\n",
    "        for j in range(len(matrix[0])):\n",
    "            if matrix[i][j] !='0':\n",
    "                height[j]+=1\n",
    "            else:\n",
    "                height[j]=0\n",
    "        res = max(maxarea(height),res)\n",
    "    return res"
   ]
  },
  {
   "cell_type": "code",
   "execution_count": 73,
   "id": "28592dfc",
   "metadata": {
    "ExecuteTime": {
     "end_time": "2022-09-17T11:57:31.903543Z",
     "start_time": "2022-09-17T11:57:31.881978Z"
    }
   },
   "outputs": [
    {
     "data": {
      "text/plain": [
       "([['1', '0'], ['1', '0']], 2)"
      ]
     },
     "execution_count": 73,
     "metadata": {},
     "output_type": "execute_result"
    }
   ],
   "source": [
    "matrix = [[\"1\",\"0\",\"1\",\"0\",\"0\"],[\"1\",\"0\",\"1\",\"1\",\"1\"],[\"1\",\"1\",\"1\",\"1\",\"1\"],[\"1\",\"0\",\"0\",\"1\",\"0\"]]\n",
    "matrix = [['1','0'],['1','0']]\n",
    "matrix,maximalRectangle(matrix)"
   ]
  }
 ],
 "metadata": {
  "kernelspec": {
   "display_name": "Python 3",
   "language": "python",
   "name": "python3"
  },
  "language_info": {
   "codemirror_mode": {
    "name": "ipython",
    "version": 3
   },
   "file_extension": ".py",
   "mimetype": "text/x-python",
   "name": "python",
   "nbconvert_exporter": "python",
   "pygments_lexer": "ipython3",
   "version": "3.8.8"
  }
 },
 "nbformat": 4,
 "nbformat_minor": 5
}
