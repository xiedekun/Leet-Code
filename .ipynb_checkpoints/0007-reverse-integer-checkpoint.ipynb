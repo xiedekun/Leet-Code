{
 "cells": [
  {
   "cell_type": "markdown",
   "id": "19137125",
   "metadata": {},
   "source": [
    "### 7. 整数反转\n",
    "给你一个 32 位的有符号整数 x ，返回将 x 中的数字部分反转后的结果。\n",
    "\n",
    "如果反转后整数超过 32 位的有符号整数的范围 [−2^31,  2^31 − 1] ，就返回 0。\n",
    "\n",
    "假设环境不允许存储 64 位整数（有符号或无符号）。\n",
    "\n",
    "示例 1：\n",
    "\n",
    "输入：x = 123\n",
    "输出：321\n",
    "\n",
    "https://leetcode.cn/problems/reverse-integer"
   ]
  },
  {
   "cell_type": "markdown",
   "id": "57d8db3b",
   "metadata": {},
   "source": [
    "思路：余数"
   ]
  },
  {
   "cell_type": "code",
   "execution_count": 12,
   "id": "f11f55b9",
   "metadata": {
    "ExecuteTime": {
     "end_time": "2022-08-31T14:11:53.692766Z",
     "start_time": "2022-08-31T14:11:53.685239Z"
    }
   },
   "outputs": [
    {
     "data": {
      "text/plain": [
       "321"
      ]
     },
     "execution_count": 12,
     "metadata": {},
     "output_type": "execute_result"
    }
   ],
   "source": [
    "x = 123\n",
    "res = 0\n",
    "flag = False\n",
    "if x < 0:\n",
    "    x = -x\n",
    "    flag = True\n",
    "while x>0:\n",
    "    res = res*10 + x%10\n",
    "    x = int(x/10)\n",
    "if flag:\n",
    "    res = -res\n",
    "res"
   ]
  },
  {
   "cell_type": "code",
   "execution_count": 17,
   "id": "0de2240d",
   "metadata": {
    "ExecuteTime": {
     "end_time": "2022-08-31T14:17:51.611210Z",
     "start_time": "2022-08-31T14:17:51.603208Z"
    }
   },
   "outputs": [],
   "source": [
    "def reverse(x):\n",
    "    \"\"\"\n",
    "    :type x: int\n",
    "    :rtype: int\n",
    "    \"\"\"\n",
    "    res = 0\n",
    "    flag = False\n",
    "    if x < 0:\n",
    "        x = -x\n",
    "        flag = True\n",
    "    while x>0:\n",
    "        res = res*10 + x%10\n",
    "        x = int(x/10)\n",
    "    if flag:\n",
    "        res = -res\n",
    "        \n",
    "    if  -2**31>res or res >= 2**31-1:\n",
    "        return 0\n",
    "    else:\n",
    "        return res"
   ]
  },
  {
   "cell_type": "code",
   "execution_count": 18,
   "id": "92c754bc",
   "metadata": {
    "ExecuteTime": {
     "end_time": "2022-08-31T14:17:52.917709Z",
     "start_time": "2022-08-31T14:17:52.910708Z"
    }
   },
   "outputs": [
    {
     "data": {
      "text/plain": [
       "0"
      ]
     },
     "execution_count": 18,
     "metadata": {},
     "output_type": "execute_result"
    }
   ],
   "source": [
    "x = 1534236469\n",
    "reverse(x)"
   ]
  }
 ],
 "metadata": {
  "kernelspec": {
   "display_name": "Python 3",
   "language": "python",
   "name": "python3"
  },
  "language_info": {
   "codemirror_mode": {
    "name": "ipython",
    "version": 3
   },
   "file_extension": ".py",
   "mimetype": "text/x-python",
   "name": "python",
   "nbconvert_exporter": "python",
   "pygments_lexer": "ipython3",
   "version": "3.8.8"
  }
 },
 "nbformat": 4,
 "nbformat_minor": 5
}
