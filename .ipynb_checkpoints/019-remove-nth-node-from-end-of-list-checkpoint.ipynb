{
 "cells": [
  {
   "cell_type": "markdown",
   "id": "b53fcdc5",
   "metadata": {},
   "source": [
    "### 19. 删除链表的倒数第 N 个结点\n",
    "给你一个链表，删除链表的倒数第 n 个结点，并且返回链表的头结点。\n",
    "\n",
    "输入：head = [1,2,3,4,5], n = 2\n",
    "输出：[1,2,3,5]\n",
    "\n",
    "https://leetcode.cn/problems/remove-nth-node-from-end-of-list/"
   ]
  },
  {
   "cell_type": "code",
   "execution_count": 2,
   "id": "7d64f324",
   "metadata": {
    "ExecuteTime": {
     "end_time": "2022-08-24T07:57:04.210674Z",
     "start_time": "2022-08-24T07:57:04.178681Z"
    }
   },
   "outputs": [],
   "source": [
    "class ListNode(object):\n",
    "    def __init__(self, val=0, next=None):\n",
    "        self.val = val\n",
    "        self.next = next"
   ]
  },
  {
   "cell_type": "markdown",
   "id": "3ee05b9e",
   "metadata": {},
   "source": [
    "dummy head 和双指针"
   ]
  },
  {
   "cell_type": "code",
   "execution_count": 7,
   "id": "1ad7443e",
   "metadata": {
    "ExecuteTime": {
     "end_time": "2022-08-24T07:58:56.686235Z",
     "start_time": "2022-08-24T07:58:56.668019Z"
    }
   },
   "outputs": [],
   "source": [
    "head = ListNode(1, ListNode(2, ListNode(3, ListNode(4, ListNode(5)))))\n",
    "\n",
    "def removeNthFromEnd(head, n):\n",
    "    \"\"\"\n",
    "    :type head: ListNode\n",
    "    :type n: int\n",
    "    :rtype: ListNode\n",
    "    \"\"\"\n",
    "    \n",
    "    dummyhead = slow = fast = ListNode(-1)\n",
    "    dummyhead.next = head\n",
    "    for i in range(n):\n",
    "        fast = fast.next\n",
    "\n",
    "    while fast.next:\n",
    "        fast = fast.next\n",
    "        slow = slow.next\n",
    "\n",
    "    slow.next = slow.next.next\n",
    "    return dummyhead.next\n",
    "    "
   ]
  }
 ],
 "metadata": {
  "kernelspec": {
   "display_name": "Python 3",
   "language": "python",
   "name": "python3"
  },
  "language_info": {
   "codemirror_mode": {
    "name": "ipython",
    "version": 3
   },
   "file_extension": ".py",
   "mimetype": "text/x-python",
   "name": "python",
   "nbconvert_exporter": "python",
   "pygments_lexer": "ipython3",
   "version": "3.8.8"
  }
 },
 "nbformat": 4,
 "nbformat_minor": 5
}
