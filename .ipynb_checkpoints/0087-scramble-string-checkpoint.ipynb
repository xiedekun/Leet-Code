{
 "cells": [
  {
   "cell_type": "markdown",
   "id": "cb960a86",
   "metadata": {},
   "source": [
    "### 87. 扰乱字符串\n",
    "使用下面描述的算法可以扰乱字符串 s 得到字符串 t ：\n",
    "\n",
    "如果字符串的长度为 1 ，算法停止\n",
    "\n",
    "如果字符串的长度 > 1 ，执行下述步骤：\n",
    "\n",
    "在一个随机下标处将字符串分割成两个非空的子字符串。即，如果已知字符串 s ，则可以将其分成两个子字符串 x 和 y ，且满足 s = x + y 。\n",
    "\n",
    "随机 决定是要「交换两个子字符串」还是要「保持这两个子字符串的顺序不变」。即，在执行这一步骤之后，s 可能是 s = x + y 或者 s = y + x 。\n",
    "\n",
    "在 x 和 y 这两个子字符串上继续从步骤 1 开始递归执行此算法。\n",
    "给你两个 长度相等 的字符串 s1 和 s2，判断 s2 是否是 s1 的扰乱字符串。如果是，返回 true ；否则，返回 false 。\n",
    "\n",
    " \n",
    "\n",
    "示例 1：\n",
    "\n",
    "输入：s1 = \"great\", s2 = \"rgeat\"\n",
    "\n",
    "输出：true\n",
    "\n",
    "解释：s1 上可能发生的一种情形是：\n",
    "\"great\" --> \"gr/eat\" // 在一个随机下标处分割得到两个子字符串\n",
    "\"gr/eat\" --> \"gr/eat\" // 随机决定：「保持这两个子字符串的顺序不变」\n",
    "\"gr/eat\" --> \"g/r / e/at\" // 在子字符串上递归执行此算法。两个子字符串分别在随机下标处进行一轮分割\n",
    "\"g/r / e/at\" --> \"r/g / e/at\" // 随机决定：第一组「交换两个子字符串」，第二组「保持这两个子字符串的顺序不变」\n",
    "\"r/g / e/at\" --> \"r/g / e/ a/t\" // 继续递归执行此算法，将 \"at\" 分割得到 \"a/t\"\n",
    "\"r/g / e/ a/t\" --> \"r/g / e/ a/t\" // 随机决定：「保持这两个子字符串的顺序不变」\n",
    "算法终止，结果字符串和 s2 相同，都是 \"rgeat\"\n",
    "这是一种能够扰乱 s1 得到 s2 的情形，可以认为 s2 是 s1 的扰乱字符串，返回 true\n",
    "\n",
    "https://leetcode.cn/problems/scramble-string/"
   ]
  },
  {
   "cell_type": "markdown",
   "id": "a6f9895a",
   "metadata": {
    "ExecuteTime": {
     "end_time": "2022-09-19T10:42:38.751670Z",
     "start_time": "2022-09-19T10:42:38.699666Z"
    }
   },
   "source": [
    "**思路**：递归\n",
    "\n",
    "**递归退出条件：**\n",
    "\n",
    "1.s1和s2字符串字母不相同：False\n",
    "\n",
    "2.s1==s2：True\n",
    "\n",
    "**递归主体：**\n",
    "\n",
    "随机一个位置切割，所以用for循环；s1会被切割为s1[:i]和s1[i:]\n",
    "\n",
    "如果不考虑交换，比较s1[:i]和s2[:i]，s1[i:]和s2[i:]是否为扰乱字符串\n",
    "\n",
    "如果考虑交换，比较s1[i:]和s2[:-i]和s1[:i]和s2[-i:]是否为扰乱字符\n",
    "\n",
    "**提高效率：**\n",
    "\n",
    "存下递归重复的计算"
   ]
  },
  {
   "cell_type": "code",
   "execution_count": 76,
   "id": "72685350",
   "metadata": {
    "ExecuteTime": {
     "end_time": "2022-09-19T11:29:18.651887Z",
     "start_time": "2022-09-19T11:29:18.616267Z"
    }
   },
   "outputs": [],
   "source": [
    "def isScramble(s1, s2):\n",
    "    \"\"\"\n",
    "    :type s1: str\n",
    "    :type s2: str\n",
    "    :rtype: bool\n",
    "    \"\"\"\n",
    "    memo = {}\n",
    "    \n",
    "    def check(s1, s2):\n",
    "        if len(s1) != len(s2) or sorted(s1)!=sorted(s2):\n",
    "            return False\n",
    "\n",
    "        if s1==s2:\n",
    "            return True\n",
    "\n",
    "        key = '%s,%s'%(s1,s2)\n",
    "\n",
    "        if key in memo:\n",
    "            return memo[key]\n",
    "\n",
    "\n",
    "        for i in range(1, len(s1)):\n",
    "            if check(s1[:i], s2[:i]) and check(s1[i:], s2[i:]):\n",
    "                # s1被i分为s1[:i]和s1[i:];\n",
    "                memo[key] = True\n",
    "                return True\n",
    "            if check(s1[i:], s2[:-i]) and check(s1[:i], s2[-i:]):\n",
    "                # 考虑交换\n",
    "                memo[key] = True\n",
    "                return True\n",
    "\n",
    "        memo[key] = False\n",
    "        return False\n",
    "    \n",
    "    return check(s1, s2)"
   ]
  },
  {
   "cell_type": "code",
   "execution_count": 77,
   "id": "0fea0929",
   "metadata": {
    "ExecuteTime": {
     "end_time": "2022-09-19T11:29:22.538967Z",
     "start_time": "2022-09-19T11:29:22.505756Z"
    }
   },
   "outputs": [
    {
     "data": {
      "text/plain": [
       "False"
      ]
     },
     "execution_count": 77,
     "metadata": {},
     "output_type": "execute_result"
    }
   ],
   "source": [
    "s1 = \"great\"\n",
    "s2 = \"rgeat\"\n",
    "s1 = \"eebaacbcbcadaaedceaaacadccd\"\n",
    "s2 = \"eadcaacabaddaceacbceaabeccd\"\n",
    "\n",
    "isScramble(s1, s2)\n",
    "# print(memo)"
   ]
  }
 ],
 "metadata": {
  "kernelspec": {
   "display_name": "Python 3",
   "language": "python",
   "name": "python3"
  },
  "language_info": {
   "codemirror_mode": {
    "name": "ipython",
    "version": 3
   },
   "file_extension": ".py",
   "mimetype": "text/x-python",
   "name": "python",
   "nbconvert_exporter": "python",
   "pygments_lexer": "ipython3",
   "version": "3.8.8"
  }
 },
 "nbformat": 4,
 "nbformat_minor": 5
}
