{
 "cells": [
  {
   "cell_type": "markdown",
   "id": "6ff60a05",
   "metadata": {},
   "source": [
    "### 15. 三数之和\n",
    "给你一个整数数组 nums ，判断是否存在三元组 [nums[i], nums[j], nums[k]] 满足 i != j、i != k 且 j != k ，同时还满足 nums[i] + nums[j] + nums[k] == 0 。请\n",
    "\n",
    "你返回所有和为 0 且不重复的三元组。\n",
    "\n",
    "注意：答案中不可以包含重复的三元组。\n",
    "\n",
    "示例 1：\n",
    "\n",
    "输入：nums = [-1,0,1,2,-1,-4]\n",
    "\n",
    "输出：[[-1,-1,2],[-1,0,1]]\n",
    "\n",
    "解释：\n",
    "\n",
    "nums[0] + nums[1] + nums[2] = (-1) + 0 + 1 = 0 。\n",
    "\n",
    "nums[1] + nums[2] + nums[4] = 0 + 1 + (-1) = 0 。\n",
    "\n",
    "nums[0] + nums[3] + nums[4] = (-1) + 2 + (-1) = 0 。\n",
    "\n",
    "不同的三元组是 [-1,0,1] 和 [-1,-1,2] 。\n",
    "\n",
    "注意，输出的顺序和三元组的顺序并不重要。\n",
    "\n",
    "https://leetcode.cn/problems/3sum"
   ]
  },
  {
   "cell_type": "markdown",
   "id": "3cc16a4e",
   "metadata": {},
   "source": [
    "**思路**：排序；确定i，另外两个双指针；注意跳过重复。"
   ]
  },
  {
   "cell_type": "code",
   "execution_count": 25,
   "id": "c5985b58",
   "metadata": {
    "ExecuteTime": {
     "end_time": "2022-08-31T19:05:36.630764Z",
     "start_time": "2022-08-31T19:05:36.617265Z"
    }
   },
   "outputs": [
    {
     "data": {
      "text/plain": [
       "([[-2, 0, 2]], [-2, 0, 0, 2, 2])"
      ]
     },
     "execution_count": 25,
     "metadata": {},
     "output_type": "execute_result"
    }
   ],
   "source": [
    "nums = [-1,0,1,2,-1,-4]\n",
    "nums = [-2,0,0,2,2]\n",
    "nums.sort()\n",
    "n = len(nums)\n",
    "res = []\n",
    "for i in range(n):\n",
    "    if i > 0 and nums[i] == nums[i-1]:\n",
    "        continue\n",
    "    l, r = i+1, n-1\n",
    "    while l<r:\n",
    "        sums = nums[i] + nums[l] + nums[r]\n",
    "        if sums == 0:\n",
    "            res.append([nums[i], nums[l], nums[r]])\n",
    "            l+=1\n",
    "            r-=1\n",
    "            while nums[l-1] == nums[l] and l<r:\n",
    "                l+=1\n",
    "            while nums[r+1] == nums[r] and r>l:\n",
    "                r-=1\n",
    "        elif sums<0:\n",
    "            l+=1\n",
    "        elif sums>0:\n",
    "            r-=1\n",
    "            \n",
    "res, nums"
   ]
  },
  {
   "cell_type": "code",
   "execution_count": 26,
   "id": "68e4db03",
   "metadata": {
    "ExecuteTime": {
     "end_time": "2022-08-31T19:05:48.026946Z",
     "start_time": "2022-08-31T19:05:48.013477Z"
    }
   },
   "outputs": [],
   "source": [
    "def threeSum(nums):\n",
    "    \"\"\"\n",
    "    :type nums: List[int]\n",
    "    :rtype: List[List[int]]\n",
    "    \"\"\"\n",
    "    nums.sort()\n",
    "    n = len(nums)\n",
    "    res = []\n",
    "    for i in range(n):\n",
    "        if i > 0 and nums[i] == nums[i-1]:\n",
    "            continue\n",
    "        l, r = i+1, n-1\n",
    "        while l<r:\n",
    "            sums = nums[i] + nums[l] + nums[r]\n",
    "            if sums == 0:\n",
    "                res.append([nums[i], nums[l], nums[r]])\n",
    "                l+=1\n",
    "                r-=1\n",
    "                while nums[l-1] == nums[l] and l<r:\n",
    "                    l+=1\n",
    "                while nums[r+1] == nums[r] and r>l:\n",
    "                    r-=1\n",
    "            elif sums<0:\n",
    "                l+=1\n",
    "            elif sums>0:\n",
    "                r-=1\n",
    "    return res\n",
    "    "
   ]
  },
  {
   "cell_type": "code",
   "execution_count": 27,
   "id": "040e2a02",
   "metadata": {
    "ExecuteTime": {
     "end_time": "2022-08-31T19:05:48.962568Z",
     "start_time": "2022-08-31T19:05:48.953973Z"
    }
   },
   "outputs": [
    {
     "data": {
      "text/plain": [
       "[[-2, 0, 2]]"
      ]
     },
     "execution_count": 27,
     "metadata": {},
     "output_type": "execute_result"
    }
   ],
   "source": [
    "nums = [-2,0,0,2,2]\n",
    "threeSum(nums)"
   ]
  }
 ],
 "metadata": {
  "kernelspec": {
   "display_name": "Python 3",
   "language": "python",
   "name": "python3"
  },
  "language_info": {
   "codemirror_mode": {
    "name": "ipython",
    "version": 3
   },
   "file_extension": ".py",
   "mimetype": "text/x-python",
   "name": "python",
   "nbconvert_exporter": "python",
   "pygments_lexer": "ipython3",
   "version": "3.8.8"
  }
 },
 "nbformat": 4,
 "nbformat_minor": 5
}
