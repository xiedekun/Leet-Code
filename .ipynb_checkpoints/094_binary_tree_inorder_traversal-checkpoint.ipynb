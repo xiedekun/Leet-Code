{
 "cells": [
  {
   "cell_type": "markdown",
   "id": "33909741",
   "metadata": {},
   "source": [
    "### 094.二叉树中序遍历\n",
    "\n",
    "难度：简单\n",
    "\n",
    "Given a binary tree, return the inorder traversal of its nodes' values.\n",
    "\n",
    "Example:\n",
    "\n",
    "Input: [1,null,2,3]\n",
    "   \n",
    "   1\n",
    "   \n",
    "    \\\n",
    "    \n",
    "     2\n",
    "     \n",
    "    /\n",
    "    \n",
    "   3\n",
    "\n",
    "Output: [1,3,2]\n",
    "Follow up: Recursive solution is trivial, could you do it iteratively?\n",
    "\n",
    "https://leetcode.cn/problems/binary-tree-inorder-traversal/"
   ]
  },
  {
   "cell_type": "code",
   "execution_count": 1,
   "id": "6cec1c07",
   "metadata": {
    "ExecuteTime": {
     "end_time": "2022-08-21T13:09:26.203524Z",
     "start_time": "2022-08-21T13:09:26.186966Z"
    }
   },
   "outputs": [],
   "source": [
    "class TreeNode(object):\n",
    "    def __init__(self, val=0, left=None, right=None):\n",
    "        self.val = val\n",
    "        self.left = left\n",
    "        self.right = right\n",
    "\n",
    "root = TreeNode(1, None, TreeNode(2, TreeNode(3)))\n",
    "roots = [1, None, 2, 3]"
   ]
  },
  {
   "cell_type": "markdown",
   "id": "dfb42ac4",
   "metadata": {},
   "source": [
    "递归"
   ]
  },
  {
   "cell_type": "code",
   "execution_count": 3,
   "id": "4cb6ec83",
   "metadata": {
    "ExecuteTime": {
     "end_time": "2022-08-21T13:13:25.438616Z",
     "start_time": "2022-08-21T13:13:25.426668Z"
    }
   },
   "outputs": [
    {
     "data": {
      "text/plain": [
       "[1, 3, 2]"
      ]
     },
     "execution_count": 3,
     "metadata": {},
     "output_type": "execute_result"
    }
   ],
   "source": [
    "def inorderTraversal(root):\n",
    "    \"\"\"\n",
    "    :type root: TreeNode\n",
    "    :rtype: List[int]\n",
    "    \"\"\"\n",
    "    res = []\n",
    "    \n",
    "    if not root:\n",
    "        return res\n",
    "    \n",
    "    if root.left:\n",
    "        res.extend(inorderTraversal(root.left))\n",
    "\n",
    "    res.append(root.val)\n",
    "    \n",
    "    if root.right:\n",
    "        res.extend(inorderTraversal(root.right))\n",
    "        \n",
    "    return res\n",
    "\n",
    "inorderTraversal(root)"
   ]
  },
  {
   "cell_type": "code",
   "execution_count": 8,
   "id": "d1b46912",
   "metadata": {
    "ExecuteTime": {
     "end_time": "2022-08-21T13:25:19.712459Z",
     "start_time": "2022-08-21T13:25:19.705332Z"
    }
   },
   "outputs": [
    {
     "data": {
      "text/plain": [
       "[1, 3, 2]"
      ]
     },
     "execution_count": 8,
     "metadata": {},
     "output_type": "execute_result"
    }
   ],
   "source": [
    "def inorderTraversal(root):\n",
    "    \"\"\"\n",
    "    :type root: TreeNode\n",
    "    :rtype: List[int]\n",
    "    \"\"\"\n",
    "    res = []\n",
    "    stack = []\n",
    "\n",
    "    if not root:\n",
    "        return res\n",
    "    \n",
    "    node = root\n",
    "    \n",
    "    while node or stack:\n",
    "        if node:\n",
    "            stack.append(node)\n",
    "            node = node.left\n",
    "        else:\n",
    "            node = stack.pop()\n",
    "            res.append(node.val)\n",
    "            node = node.right\n",
    "    return res\n",
    "\n",
    "inorderTraversal(root)"
   ]
  }
 ],
 "metadata": {
  "kernelspec": {
   "display_name": "Python 3",
   "language": "python",
   "name": "python3"
  },
  "language_info": {
   "codemirror_mode": {
    "name": "ipython",
    "version": 3
   },
   "file_extension": ".py",
   "mimetype": "text/x-python",
   "name": "python",
   "nbconvert_exporter": "python",
   "pygments_lexer": "ipython3",
   "version": "3.8.8"
  }
 },
 "nbformat": 4,
 "nbformat_minor": 5
}
