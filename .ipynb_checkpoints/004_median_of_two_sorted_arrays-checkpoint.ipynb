{
 "cells": [
  {
   "cell_type": "markdown",
   "id": "2138fecd",
   "metadata": {},
   "source": [
    "## 004.寻找两个正序数组的中位数\n",
    "\n",
    "难度： 困难\n",
    "\n",
    "给定两个大小分别为 m 和 n 的正序（从小到大）数组 nums1 和 nums2。请你找出并返回这两个正序数组的 中位数 。\n",
    "\n",
    "算法的时间复杂度应该为 O(log (m+n)) 。\n",
    "\n",
    "示例 1：\n",
    "\n",
    "输入：nums1 = [1,3], nums2 = [2]\n",
    "\n",
    "输出：2.00000\n",
    "\n",
    "解释：合并数组 = [1,2,3] ，中位数 2\n",
    "\n",
    "https://leetcode.cn/problems/median-of-two-sorted-arrays\n"
   ]
  },
  {
   "cell_type": "code",
   "execution_count": 28,
   "id": "e2ee9f22",
   "metadata": {
    "ExecuteTime": {
     "end_time": "2022-08-28T09:42:28.730615Z",
     "start_time": "2022-08-28T09:42:28.719616Z"
    }
   },
   "outputs": [
    {
     "name": "stdout",
     "output_type": "stream",
     "text": [
      "[1, 2, 3, 4]\n",
      "2.5\n"
     ]
    }
   ],
   "source": [
    "nums1 = [1,2]\n",
    "nums2 = [3,4]\n",
    "l = len(nums1)+len(nums2)\n",
    "res = [0] * l\n",
    "i, j = 0, 0\n",
    "\n",
    "for index in range(l):\n",
    "    if i >= len(nums1):\n",
    "        res[index] = nums2[j]\n",
    "        j+=1\n",
    "    elif j >= len(nums2):\n",
    "        res[index] = nums1[i]\n",
    "        i+=1\n",
    "    elif nums1[i]<= nums2[j]:\n",
    "        res[index] = nums1[i]\n",
    "        i+=1\n",
    "    elif nums1[i] > nums2[j]:\n",
    "        res[index] = nums2[j]\n",
    "        j+=1\n",
    "print(res)\n",
    "if l % 2 == 0:\n",
    "    mid1 = int(int(l/2)-0.5)\n",
    "    mid2 = int(int(int(l/2)+0.5))\n",
    "    print((res[mid1]+ res[mid2])/2)\n",
    "else:\n",
    "    mid = int(l/2)\n",
    "    print(res[mid])"
   ]
  },
  {
   "cell_type": "code",
   "execution_count": 21,
   "id": "28f02d17",
   "metadata": {
    "ExecuteTime": {
     "end_time": "2022-08-28T09:40:54.374280Z",
     "start_time": "2022-08-28T09:40:54.367778Z"
    }
   },
   "outputs": [],
   "source": [
    "def findMedianSortedArrays(nums1, nums2):\n",
    "    \"\"\"\n",
    "    :type nums1: List[int]\n",
    "    :type nums2: List[int]\n",
    "    :rtype: float\n",
    "    \"\"\"\n",
    "    \n",
    "    l = len(nums1)+len(nums2)\n",
    "    res = [0] * l\n",
    "    i, j = 0, 0\n",
    "\n",
    "    for index in range(l):\n",
    "        if i >= len(nums1):\n",
    "            res[index] = nums2[j]\n",
    "            j+=1\n",
    "        elif j >= len(nums2):\n",
    "            res[index] = nums1[i]\n",
    "            i+=1\n",
    "        elif nums1[i]<= nums2[j]:\n",
    "            res[index] = nums1[i]\n",
    "            i+=1\n",
    "        elif nums1[i] > nums2[j]:\n",
    "            res[index] = nums2[j]\n",
    "            j+=1\n",
    "\n",
    "    if l % 2 == 0:\n",
    "        mid1 = int(int(l/2)-0.5)\n",
    "        mid2 = int(int(int(l/2)+0.5))\n",
    "        return (res[mid1]+ res[mid2])/2\n",
    "    else:\n",
    "        mid = int(l/2)\n",
    "        return res[mid]"
   ]
  }
 ],
 "metadata": {
  "kernelspec": {
   "display_name": "Python 3",
   "language": "python",
   "name": "python3"
  },
  "language_info": {
   "codemirror_mode": {
    "name": "ipython",
    "version": 3
   },
   "file_extension": ".py",
   "mimetype": "text/x-python",
   "name": "python",
   "nbconvert_exporter": "python",
   "pygments_lexer": "ipython3",
   "version": "3.8.8"
  }
 },
 "nbformat": 4,
 "nbformat_minor": 5
}
