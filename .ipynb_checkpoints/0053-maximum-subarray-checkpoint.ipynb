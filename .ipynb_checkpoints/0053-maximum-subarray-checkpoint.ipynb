{
 "cells": [
  {
   "cell_type": "markdown",
   "id": "6d0d5978",
   "metadata": {},
   "source": [
    "### 53. 最大子数组和\n",
    "给你一个整数数组 nums ，请你找出一个具有最大和的连续子数组（子数组最少包含一个元素），返回其最大和。\n",
    "\n",
    "子数组 是数组中的一个连续部分。\n",
    "\n",
    " \n",
    "\n",
    "示例 1：\n",
    "\n",
    "输入：nums = [-2,1,-3,4,-1,2,1,-5,4]\n",
    "输出：6\n",
    "解释：连续子数组 [4,-1,2,1] 的和最大，为 6 。\n",
    "\n",
    "https://leetcode.cn/problems/maximum-subarray/"
   ]
  },
  {
   "cell_type": "markdown",
   "id": "5174644b",
   "metadata": {},
   "source": [
    "**思路**：动态规划：\n",
    "\n",
    "dp[i]\n",
    "\n",
    "if dp[i+1] <0: dp[i] = num[i]\n",
    "\n",
    "if dp[i+1] > 0 dp[i] = dp[i+1] + nums[i]"
   ]
  },
  {
   "cell_type": "code",
   "execution_count": 17,
   "id": "0b4a9d06",
   "metadata": {
    "ExecuteTime": {
     "end_time": "2022-09-13T08:36:54.370650Z",
     "start_time": "2022-09-13T08:36:54.348429Z"
    }
   },
   "outputs": [],
   "source": [
    "def maxSubArray(nums):\n",
    "    \"\"\"\n",
    "    :type nums: List[int]\n",
    "    :rtype: int\n",
    "    \"\"\"\n",
    "\n",
    "    dp = [0] * len(nums)\n",
    "    dp[len(nums)-1] = nums[len(nums)-1]\n",
    "\n",
    "    for i in range(len(nums)-2, -1, -1):\n",
    "        if dp[i+1]>0:\n",
    "            dp[i] = dp[i+1] + nums[i]\n",
    "        else:\n",
    "            dp[i] = nums[i]\n",
    "\n",
    "    return max(dp)"
   ]
  },
  {
   "cell_type": "code",
   "execution_count": 18,
   "id": "e36850e6",
   "metadata": {
    "ExecuteTime": {
     "end_time": "2022-09-13T08:36:55.446645Z",
     "start_time": "2022-09-13T08:36:55.429453Z"
    }
   },
   "outputs": [
    {
     "data": {
      "text/plain": [
       "6"
      ]
     },
     "execution_count": 18,
     "metadata": {},
     "output_type": "execute_result"
    }
   ],
   "source": [
    "nums = [-2,1,-3,4,-1,2,1,-5,4]\n",
    "maxSubArray(nums)"
   ]
  },
  {
   "cell_type": "code",
   "execution_count": 11,
   "id": "abc828fb",
   "metadata": {
    "ExecuteTime": {
     "end_time": "2022-09-13T08:36:18.709296Z",
     "start_time": "2022-09-13T08:36:18.687905Z"
    }
   },
   "outputs": [
    {
     "data": {
      "text/plain": [
       "6"
      ]
     },
     "execution_count": 11,
     "metadata": {},
     "output_type": "execute_result"
    }
   ],
   "source": [
    "nums = [-2,1,-3,4,-1,2,1,-5,4]\n",
    "\n",
    "\n",
    "dp = [0] * len(nums)\n",
    "dp[len(nums)-1] = nums[len(nums)-1]\n",
    "\n",
    "for i in range(len(nums)-2, -1, -1):\n",
    "    if dp[i+1]>0:\n",
    "        dp[i] = dp[i+1] + nums[i]\n",
    "    else:\n",
    "        dp[i] = nums[i]\n",
    "\n",
    "max(dp)"
   ]
  }
 ],
 "metadata": {
  "kernelspec": {
   "display_name": "Python 3",
   "language": "python",
   "name": "python3"
  },
  "language_info": {
   "codemirror_mode": {
    "name": "ipython",
    "version": 3
   },
   "file_extension": ".py",
   "mimetype": "text/x-python",
   "name": "python",
   "nbconvert_exporter": "python",
   "pygments_lexer": "ipython3",
   "version": "3.8.8"
  }
 },
 "nbformat": 4,
 "nbformat_minor": 5
}
