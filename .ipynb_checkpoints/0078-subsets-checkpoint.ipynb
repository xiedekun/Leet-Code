{
 "cells": [
  {
   "cell_type": "markdown",
   "id": "43632be2",
   "metadata": {},
   "source": [
    "### 78. 子集\n",
    "给你一个整数数组 nums ，数组中的元素 互不相同 。返回该数组所有可能的子集（幂集）。\n",
    "\n",
    "解集 不能 包含重复的子集。你可以按 任意顺序 返回解集。\n",
    "\n",
    " \n",
    "\n",
    "示例 1：\n",
    "\n",
    "输入：nums = [1,2,3]\n",
    "\n",
    "输出：[[],[1],[2],[1,2],[3],[1,3],[2,3],[1,2,3]]\n",
    "\n",
    "https://leetcode.cn/problems/subsets/"
   ]
  },
  {
   "cell_type": "markdown",
   "id": "858bfa4e",
   "metadata": {},
   "source": [
    "**思路**：回溯法"
   ]
  },
  {
   "cell_type": "code",
   "execution_count": 5,
   "id": "1861a715",
   "metadata": {
    "ExecuteTime": {
     "end_time": "2022-09-17T00:45:27.565531Z",
     "start_time": "2022-09-17T00:45:27.541183Z"
    }
   },
   "outputs": [],
   "source": [
    "def subsets(nums):\n",
    "    \"\"\"\n",
    "    :type nums: List[int]\n",
    "    :rtype: List[List[int]]\n",
    "    \"\"\"\n",
    "    res = []\n",
    "    def backtrack(nums, arr):\n",
    "\n",
    "        res.append(arr)\n",
    "\n",
    "        if not nums:\n",
    "            return \n",
    "\n",
    "        for i in range(len(nums)):\n",
    "            backtrack(nums[i+1:], arr+[nums[i]])\n",
    "    backtrack(nums, [])     \n",
    "    return res"
   ]
  },
  {
   "cell_type": "code",
   "execution_count": 6,
   "id": "9826357c",
   "metadata": {
    "ExecuteTime": {
     "end_time": "2022-09-17T00:45:38.319251Z",
     "start_time": "2022-09-17T00:45:38.306038Z"
    }
   },
   "outputs": [
    {
     "data": {
      "text/plain": [
       "[[], [1], [1, 2], [1, 2, 3], [1, 3], [2], [2, 3], [3]]"
      ]
     },
     "execution_count": 6,
     "metadata": {},
     "output_type": "execute_result"
    }
   ],
   "source": [
    "nums = [1,2,3]\n",
    "subsets(nums)"
   ]
  },
  {
   "cell_type": "code",
   "execution_count": 4,
   "id": "7f4bd087",
   "metadata": {
    "ExecuteTime": {
     "end_time": "2022-09-17T00:44:59.389039Z",
     "start_time": "2022-09-17T00:44:59.374960Z"
    }
   },
   "outputs": [
    {
     "data": {
      "text/plain": [
       "[[], [1], [1, 2], [1, 2, 3], [1, 3], [2], [2, 3], [3]]"
      ]
     },
     "execution_count": 4,
     "metadata": {},
     "output_type": "execute_result"
    }
   ],
   "source": [
    "nums = [1,2,3]\n",
    "res = []\n",
    "def backtrack(nums, arr):\n",
    "    \n",
    "    res.append(arr)\n",
    "    \n",
    "    if not nums:\n",
    "        return \n",
    "    \n",
    "    for i in range(len(nums)):\n",
    "        backtrack(nums[i+1:], arr+[nums[i]])\n",
    "backtrack(nums, [])     \n",
    "res"
   ]
  }
 ],
 "metadata": {
  "kernelspec": {
   "display_name": "Python 3",
   "language": "python",
   "name": "python3"
  },
  "language_info": {
   "codemirror_mode": {
    "name": "ipython",
    "version": 3
   },
   "file_extension": ".py",
   "mimetype": "text/x-python",
   "name": "python",
   "nbconvert_exporter": "python",
   "pygments_lexer": "ipython3",
   "version": "3.8.8"
  }
 },
 "nbformat": 4,
 "nbformat_minor": 5
}
