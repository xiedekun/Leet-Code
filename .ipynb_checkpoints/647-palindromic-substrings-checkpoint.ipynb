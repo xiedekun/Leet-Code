{
 "cells": [
  {
   "cell_type": "markdown",
   "id": "d7fdef81",
   "metadata": {},
   "source": [
    "### 647.回文子串\n",
    "\n",
    "给你一个字符串 s ，请你统计并返回这个字符串中 回文子串 的数目。\n",
    "\n",
    "回文字符串 是正着读和倒过来读一样的字符串。\n",
    "\n",
    "子字符串 是字符串中的由连续字符组成的一个序列。\n",
    "\n",
    "具有不同开始位置或结束位置的子串，即使是由相同的字符组成，也会被视作不同的子串。\n",
    "\n",
    " \n",
    "示例 1：\n",
    "\n",
    "输入：s = \"abc\"\n",
    "\n",
    "输出：3\n",
    "\n",
    "解释：三个回文子串: \"a\", \"b\", \"c\"\n",
    "\n",
    "输入：s = \"aaa\"\n",
    "\n",
    "输出：6\n",
    "\n",
    "解释：6个回文子串: \"a\", \"a\", \"a\", \"aa\", \"aa\", \"aaa\"\n",
    "\n",
    "链接：https://leetcode.cn/problems/palindromic-substrings\n"
   ]
  },
  {
   "cell_type": "code",
   "execution_count": 38,
   "id": "310c2862",
   "metadata": {
    "ExecuteTime": {
     "end_time": "2022-08-22T18:26:59.143316Z",
     "start_time": "2022-08-22T18:26:59.002690Z"
    }
   },
   "outputs": [
    {
     "data": {
      "text/plain": [
       "([[1, 0, 0, 0, 1, 0],\n",
       "  [0, 1, 0, 1, 0, 0],\n",
       "  [0, 0, 1, 0, 0, 0],\n",
       "  [0, 0, 0, 1, 0, 0],\n",
       "  [0, 0, 0, 0, 1, 0],\n",
       "  [0, 0, 0, 0, 0, 1]],\n",
       " 8)"
      ]
     },
     "execution_count": 38,
     "metadata": {},
     "output_type": "execute_result"
    }
   ],
   "source": [
    "# 动态规划\n",
    "# 判断[i，j]范围内字符串是不是回文\n",
    "# if s[i] == s[j]\n",
    "# i==j: 1\n",
    "# j-i == 1: 1\n",
    "# j-i>1: dp[i+1][j-1] => 所以要从下到上；从左到右\n",
    "\n",
    "# if s[i] != s[j]:\n",
    "# dp[i][j] = 0\n",
    "s = \"abcbae\"\n",
    "l = len(s)\n",
    "m = l\n",
    "n = l\n",
    "dp = [[0 for y in range(n)] for x in range(m)]\n",
    "cnt = 0\n",
    "for i in range(m-1, -1, -1):\n",
    "    for j in range(i, m):\n",
    "        if s[i] == s[j]:\n",
    "            if j-i <= 1:\n",
    "                cnt += 1\n",
    "                dp[i][j] = 1\n",
    "            elif dp[i+1][j-1]:\n",
    "                cnt += 1\n",
    "                dp[i][j] = 1\n",
    "dp,cnt\n"
   ]
  }
 ],
 "metadata": {
  "kernelspec": {
   "display_name": "Python 3",
   "language": "python",
   "name": "python3"
  },
  "language_info": {
   "codemirror_mode": {
    "name": "ipython",
    "version": 3
   },
   "file_extension": ".py",
   "mimetype": "text/x-python",
   "name": "python",
   "nbconvert_exporter": "python",
   "pygments_lexer": "ipython3",
   "version": "3.8.8"
  }
 },
 "nbformat": 4,
 "nbformat_minor": 5
}
