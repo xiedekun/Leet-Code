{
 "cells": [
  {
   "cell_type": "markdown",
   "id": "123858df",
   "metadata": {},
   "source": [
    "### 145.二叉树后序遍历\n",
    "\n",
    "难度：简单\n",
    "\n",
    "Given a binary tree, return the postorder traversal of its nodes' values.\n",
    "\n",
    "Example:\n",
    "\n",
    "Input: [1,null,2,3]\n",
    "   \n",
    "   1\n",
    "   \n",
    "    \\\n",
    "    \n",
    "     2\n",
    "     \n",
    "    /\n",
    "    \n",
    "   3\n",
    "\n",
    "Output: [3,2,1]\n",
    "Follow up: Recursive solution is trivial, could you do it iteratively?\n",
    "\n",
    "https://leetcode.cn/problems/binary-tree-postorder-traversal/"
   ]
  },
  {
   "cell_type": "code",
   "execution_count": 12,
   "id": "cd9dcbfd",
   "metadata": {
    "ExecuteTime": {
     "end_time": "2022-08-21T13:43:26.709716Z",
     "start_time": "2022-08-21T13:43:26.700864Z"
    }
   },
   "outputs": [],
   "source": [
    "class TreeNode(object):\n",
    "    def __init__(self, val=0, left=None, right=None):\n",
    "        self.val = val\n",
    "        self.left = left\n",
    "        self.right = right\n",
    "\n",
    "root = TreeNode(1, None, TreeNode(2, TreeNode(3)))"
   ]
  },
  {
   "cell_type": "markdown",
   "id": "ecd5f4ae",
   "metadata": {},
   "source": [
    "递归"
   ]
  },
  {
   "cell_type": "code",
   "execution_count": 7,
   "id": "ab908746",
   "metadata": {
    "ExecuteTime": {
     "end_time": "2022-08-21T13:37:01.628896Z",
     "start_time": "2022-08-21T13:37:01.613129Z"
    }
   },
   "outputs": [
    {
     "data": {
      "text/plain": [
       "[3, 2, 1]"
      ]
     },
     "execution_count": 7,
     "metadata": {},
     "output_type": "execute_result"
    }
   ],
   "source": [
    "def postorderTraversal(root):\n",
    "    \"\"\"\n",
    "    :type root: TreeNode\n",
    "    :rtype: List[int]\n",
    "    \"\"\"\n",
    "    res = []\n",
    "    \n",
    "    if not root:\n",
    "        return res\n",
    "    \n",
    "    if root.left:\n",
    "        res.extend(postorderTraversal(root.left))\n",
    "    \n",
    "    if root.right:\n",
    "        res.extend(postorderTraversal(root.right))\n",
    "\n",
    "    res.append(root.val)\n",
    "    return res\n",
    "\n",
    "postorderTraversal(root)"
   ]
  },
  {
   "cell_type": "markdown",
   "id": "53b74bac",
   "metadata": {},
   "source": [
    "迭代"
   ]
  },
  {
   "cell_type": "code",
   "execution_count": 14,
   "id": "eab1f19f",
   "metadata": {
    "ExecuteTime": {
     "end_time": "2022-08-21T13:44:24.471944Z",
     "start_time": "2022-08-21T13:44:24.458591Z"
    }
   },
   "outputs": [
    {
     "data": {
      "text/plain": [
       "[3, 2, 1]"
      ]
     },
     "execution_count": 14,
     "metadata": {},
     "output_type": "execute_result"
    }
   ],
   "source": [
    "def postorderTraversal(root):\n",
    "    \"\"\"\n",
    "    :type root: TreeNode\n",
    "    :rtype: List[int]\n",
    "    \"\"\"\n",
    "    res = []\n",
    "    stack = [root]\n",
    "    \n",
    "    if not root:\n",
    "        return res\n",
    "\n",
    "    while stack:\n",
    "        node = stack.pop()\n",
    "        res.append(node.val)\n",
    "        if node.left:\n",
    "            stack.append(node.left)\n",
    "        if node.right:\n",
    "            stack.append(node.right)\n",
    "\n",
    "            \n",
    "    return res[::-1]\n",
    "\n",
    "postorderTraversal(root)"
   ]
  }
 ],
 "metadata": {
  "kernelspec": {
   "display_name": "Python 3",
   "language": "python",
   "name": "python3"
  },
  "language_info": {
   "codemirror_mode": {
    "name": "ipython",
    "version": 3
   },
   "file_extension": ".py",
   "mimetype": "text/x-python",
   "name": "python",
   "nbconvert_exporter": "python",
   "pygments_lexer": "ipython3",
   "version": "3.8.8"
  }
 },
 "nbformat": 4,
 "nbformat_minor": 5
}
