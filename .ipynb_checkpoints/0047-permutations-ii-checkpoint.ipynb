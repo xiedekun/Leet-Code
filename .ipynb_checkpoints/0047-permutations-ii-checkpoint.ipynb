{
 "cells": [
  {
   "cell_type": "markdown",
   "id": "c65c7997",
   "metadata": {},
   "source": [
    "### 47. 全排列 II\n",
    "给定一个可包含重复数字的序列 nums ，按任意顺序 返回所有不重复的全排列。\n",
    "\n",
    " \n",
    "\n",
    "示例 1：\n",
    "\n",
    "输入：nums = [1,1,2]\n",
    "\n",
    "输出：\n",
    "\n",
    "[[1,1,2],\n",
    " [1,2,1],\n",
    " [2,1,1]]\n",
    " \n",
    "https://leetcode.cn/problems/permutations-ii/"
   ]
  },
  {
   "cell_type": "code",
   "execution_count": null,
   "id": "a49cea92",
   "metadata": {},
   "outputs": [],
   "source": []
  }
 ],
 "metadata": {
  "kernelspec": {
   "display_name": "Python 3",
   "language": "python",
   "name": "python3"
  },
  "language_info": {
   "codemirror_mode": {
    "name": "ipython",
    "version": 3
   },
   "file_extension": ".py",
   "mimetype": "text/x-python",
   "name": "python",
   "nbconvert_exporter": "python",
   "pygments_lexer": "ipython3",
   "version": "3.8.8"
  }
 },
 "nbformat": 4,
 "nbformat_minor": 5
}
