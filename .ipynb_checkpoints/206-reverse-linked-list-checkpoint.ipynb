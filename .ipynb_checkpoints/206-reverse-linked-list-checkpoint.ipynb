{
 "cells": [
  {
   "cell_type": "markdown",
   "id": "642da110",
   "metadata": {},
   "source": [
    "### 206. 反转链表\n",
    "给你单链表的头节点 head ，请你反转链表，并返回反转后的链表。\n",
    "\n",
    "输入：head = [1,2,3,4,5]\n",
    "\n",
    "输出：[5,4,3,2,1]\n",
    "\n",
    "https://leetcode.cn/problems/reverse-linked-list/"
   ]
  },
  {
   "cell_type": "code",
   "execution_count": 16,
   "id": "c7c82a15",
   "metadata": {
    "ExecuteTime": {
     "end_time": "2022-08-24T09:02:56.906359Z",
     "start_time": "2022-08-24T09:02:56.892195Z"
    }
   },
   "outputs": [],
   "source": [
    "class ListNode(object):\n",
    "    def __init__(self, val=0, next=None):\n",
    "        self.val = val\n",
    "        self.next = next"
   ]
  },
  {
   "cell_type": "markdown",
   "id": "78ae6da3",
   "metadata": {},
   "source": [
    "栈"
   ]
  },
  {
   "cell_type": "code",
   "execution_count": 17,
   "id": "012ddaed",
   "metadata": {
    "ExecuteTime": {
     "end_time": "2022-08-24T09:03:02.549408Z",
     "start_time": "2022-08-24T09:03:02.525140Z"
    }
   },
   "outputs": [
    {
     "data": {
      "text/plain": [
       "5"
      ]
     },
     "execution_count": 17,
     "metadata": {},
     "output_type": "execute_result"
    }
   ],
   "source": [
    "head = ListNode(1, ListNode(2, ListNode(3, ListNode(4, ListNode(5)))))\n",
    "\n",
    "stack = []\n",
    "\n",
    "if head == None or head.next == None:\n",
    "    # return head\n",
    "    pass\n",
    "\n",
    "dummyhead = p = ListNode(-1)\n",
    "while head:\n",
    "    stack.append(head.val)\n",
    "    head = head.next\n",
    "\n",
    "while stack:\n",
    "    p.next = ListNode(stack.pop())\n",
    "    p = p.next\n",
    "    \n",
    "dummyhead.next.val"
   ]
  },
  {
   "cell_type": "code",
   "execution_count": 18,
   "id": "e6a01f4e",
   "metadata": {
    "ExecuteTime": {
     "end_time": "2022-08-24T09:09:53.152046Z",
     "start_time": "2022-08-24T09:09:53.115780Z"
    }
   },
   "outputs": [],
   "source": [
    "def reverseList(head):\n",
    "    \"\"\"\n",
    "    :type head: ListNode\n",
    "    :rtype: ListNode\n",
    "    \"\"\"\n",
    "    stack = []\n",
    "\n",
    "    if head == None or head.next == None:\n",
    "        return head\n",
    "    \n",
    "    dummyhead = p = ListNode(-1)\n",
    "    while head:\n",
    "        stack.append(head.val)\n",
    "        head = head.next\n",
    "\n",
    "    while stack:\n",
    "        p.next = ListNode(stack.pop())\n",
    "        p = p.next\n",
    "        \n",
    "    return dummyhead.next"
   ]
  },
  {
   "cell_type": "markdown",
   "id": "e9a9a8ec",
   "metadata": {},
   "source": [
    "后驱改前驱"
   ]
  },
  {
   "cell_type": "code",
   "execution_count": 20,
   "id": "3acd4099",
   "metadata": {
    "ExecuteTime": {
     "end_time": "2022-08-24T09:11:49.441902Z",
     "start_time": "2022-08-24T09:11:49.428367Z"
    }
   },
   "outputs": [],
   "source": [
    "head = ListNode(1, ListNode(2, ListNode(3, ListNode(4, ListNode(5)))))\n",
    "\n",
    "pre = None\n",
    "nxt = None\n",
    "\n",
    "while head.next:\n",
    "    nxt =  head.next\n",
    "    head.nxt = pre\n",
    "    pre = head\n",
    "    head = head.next"
   ]
  },
  {
   "cell_type": "code",
   "execution_count": 21,
   "id": "b836d81a",
   "metadata": {
    "ExecuteTime": {
     "end_time": "2022-08-24T09:14:41.709253Z",
     "start_time": "2022-08-24T09:14:41.691289Z"
    }
   },
   "outputs": [],
   "source": [
    "def reverseList(head):\n",
    "    \"\"\"\n",
    "    :type head: ListNode\n",
    "    :rtype: ListNode\n",
    "    \"\"\"\n",
    "    \n",
    "    pre = None\n",
    "    nxt = None\n",
    "\n",
    "    while head:\n",
    "        nxt =  head.next\n",
    "        head.next = pre\n",
    "        pre = head\n",
    "        head = nxt\n",
    "        \n",
    "    return pre"
   ]
  }
 ],
 "metadata": {
  "kernelspec": {
   "display_name": "Python 3",
   "language": "python",
   "name": "python3"
  },
  "language_info": {
   "codemirror_mode": {
    "name": "ipython",
    "version": 3
   },
   "file_extension": ".py",
   "mimetype": "text/x-python",
   "name": "python",
   "nbconvert_exporter": "python",
   "pygments_lexer": "ipython3",
   "version": "3.8.8"
  }
 },
 "nbformat": 4,
 "nbformat_minor": 5
}
