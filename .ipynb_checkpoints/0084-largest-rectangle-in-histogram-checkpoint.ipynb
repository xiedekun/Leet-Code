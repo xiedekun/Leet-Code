{
 "cells": [
  {
   "attachments": {
    "image.png": {
     "image/png": "[encoded data removed]"
    }
   },
   "cell_type": "markdown",
   "id": "63312a96",
   "metadata": {},
   "source": [
    "### 84. 柱状图中最大的矩形\n",
    "给定 n 个非负整数，用来表示柱状图中各个柱子的高度。每个柱子彼此相邻，且宽度为 1 。\n",
    "\n",
    "求在该柱状图中，能够勾勒出来的矩形的最大面积。\n",
    "\n",
    " \n",
    "\n",
    "示例 1:\n",
    "\n",
    "![image.png](attachment:image.png)\n",
    "\n",
    "输入：heights = [2,1,5,6,2,3]\n",
    "\n",
    "输出：10\n",
    "\n",
    "解释：最大的矩形为图中红色区域，面积为 10\n",
    "\n",
    "https://leetcode.cn/problems/largest-rectangle-in-histogram/"
   ]
  },
  {
   "cell_type": "markdown",
   "id": "bc69ae05",
   "metadata": {},
   "source": [
    "**思路**：单调栈\n",
    "\n",
    "现在height首位插入0方便统一运算，栈先加入索引0，保持栈底到栈顶对应高度从小到大，如果遇到h[i]小于栈顶元素，栈顶弹出栈作为高，宽=i-stack[-1] - 1（当前位置-弹出元素前一个位置-1），求面积，并持续弹出运算。"
   ]
  },
  {
   "cell_type": "code",
   "execution_count": 74,
   "id": "32df458d",
   "metadata": {
    "ExecuteTime": {
     "end_time": "2022-09-17T09:59:39.354832Z",
     "start_time": "2022-09-17T09:59:39.328363Z"
    }
   },
   "outputs": [],
   "source": [
    "def largestRectangleArea(heights):\n",
    "    \"\"\"\n",
    "    :type heights: List[int]\n",
    "    :rtype: int\n",
    "    \"\"\"\n",
    "    heights.insert(0,0)\n",
    "    heights.append(0)\n",
    "    stack = [0]\n",
    "    res = 0\n",
    "    for i in range(1,len(heights)):\n",
    "        while stack and heights[stack[-1]]>=heights[i]:\n",
    "            mid = stack.pop()\n",
    "            if stack:\n",
    "                area = (i-stack[-1] -1) * heights[mid]\n",
    "                res = max(area, res)\n",
    "        stack.append(i)\n",
    "    return res"
   ]
  },
  {
   "cell_type": "code",
   "execution_count": 79,
   "id": "2482b9e2",
   "metadata": {
    "ExecuteTime": {
     "end_time": "2022-09-17T10:00:01.646111Z",
     "start_time": "2022-09-17T10:00:01.618234Z"
    }
   },
   "outputs": [
    {
     "data": {
      "text/plain": [
       "10"
      ]
     },
     "execution_count": 79,
     "metadata": {},
     "output_type": "execute_result"
    }
   ],
   "source": [
    "heights = [2,1,5,6,2,3]\n",
    "largestRectangleArea(heights)"
   ]
  },
  {
   "cell_type": "markdown",
   "id": "55aefd50",
   "metadata": {},
   "source": [
    "**思路**：暴力破解\n",
    "\n",
    "选定中间点，向两边延展，遇到比较大的退出循环，小的length++\n",
    "\n",
    "O（n**2）；超时"
   ]
  },
  {
   "cell_type": "code",
   "execution_count": 26,
   "id": "a052b6f0",
   "metadata": {
    "ExecuteTime": {
     "end_time": "2022-09-17T08:48:22.102160Z",
     "start_time": "2022-09-17T08:48:22.077951Z"
    }
   },
   "outputs": [],
   "source": [
    "def largestRectangleArea(heights):\n",
    "    \"\"\"\n",
    "    :type heights: List[int]\n",
    "    :rtype: int\n",
    "    \"\"\"\n",
    "    res = 0\n",
    "    for i in range(len(heights)):\n",
    "        length = 0\n",
    "        for j in range(i, len(heights)):\n",
    "            if heights[i]<= heights[j]:\n",
    "                length+=1\n",
    "                continue\n",
    "            else:\n",
    "                break\n",
    "        for k in range(i-1, -1, -1):\n",
    "            if heights[i]<= heights[k]:\n",
    "                length+=1\n",
    "                continue\n",
    "            else:\n",
    "                break\n",
    "        res = max(length*heights[i],res)\n",
    "    return res"
   ]
  },
  {
   "cell_type": "code",
   "execution_count": 29,
   "id": "442a162a",
   "metadata": {
    "ExecuteTime": {
     "end_time": "2022-09-17T08:49:42.648202Z",
     "start_time": "2022-09-17T08:49:42.621107Z"
    }
   },
   "outputs": [
    {
     "data": {
      "text/plain": [
       "3"
      ]
     },
     "execution_count": 29,
     "metadata": {},
     "output_type": "execute_result"
    }
   ],
   "source": [
    "heights = [2,1,5,6,2,3]\n",
    "heights = [2,1,2]\n",
    "largestRectangleArea(heights)"
   ]
  }
 ],
 "metadata": {
  "kernelspec": {
   "display_name": "Python 3",
   "language": "python",
   "name": "python3"
  },
  "language_info": {
   "codemirror_mode": {
    "name": "ipython",
    "version": 3
   },
   "file_extension": ".py",
   "mimetype": "text/x-python",
   "name": "python",
   "nbconvert_exporter": "python",
   "pygments_lexer": "ipython3",
   "version": "3.8.8"
  }
 },
 "nbformat": 4,
 "nbformat_minor": 5
}
