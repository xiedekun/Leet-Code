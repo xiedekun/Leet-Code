{
 "cells": [
  {
   "attachments": {
    "image.png": {
     "image/png": "[encoded data removed]"
    }
   },
   "cell_type": "markdown",
   "id": "d137ccd2",
   "metadata": {},
   "source": [
    "### 83. 删除排序链表中的重复元素\n",
    "给定一个已排序的链表的头 head ， 删除所有重复的元素，使每个元素只出现一次 。返回 已排序的链表 。\n",
    "\n",
    " \n",
    "\n",
    "示例 1：\n",
    "\n",
    "![image.png](attachment:image.png)\n",
    "\n",
    "输入：head = [1,1,2]\n",
    "输出：[1,2]\n",
    "\n",
    "https://leetcode.cn/problems/remove-duplicates-from-sorted-list/"
   ]
  },
  {
   "cell_type": "markdown",
   "id": "5042655b",
   "metadata": {},
   "source": [
    "**思路**：快慢双指针\n",
    "\n",
    "快的先探路，当快慢元素不同，慢的下一个连到快指针，之后同时下一个。"
   ]
  },
  {
   "cell_type": "code",
   "execution_count": 4,
   "id": "545d498c",
   "metadata": {
    "ExecuteTime": {
     "end_time": "2022-09-17T07:39:17.347550Z",
     "start_time": "2022-09-17T07:39:17.330490Z"
    }
   },
   "outputs": [],
   "source": [
    "class ListNode(object):\n",
    "    def __init__(self, val=0, next=None):\n",
    "        self.val = val\n",
    "        self.next = next"
   ]
  },
  {
   "cell_type": "code",
   "execution_count": 33,
   "id": "5343bd2f",
   "metadata": {
    "ExecuteTime": {
     "end_time": "2022-09-17T07:54:45.003597Z",
     "start_time": "2022-09-17T07:54:44.982699Z"
    }
   },
   "outputs": [],
   "source": [
    "def deleteDuplicates(head):\n",
    "    \"\"\"\n",
    "    :type head: ListNode\n",
    "    :rtype: ListNode\n",
    "    \"\"\"\n",
    "    \n",
    "    if not head:\n",
    "        return head\n",
    "    \n",
    "    dummyhead = fast = slow= ListNode(None)\n",
    "    dummyhead.next = head\n",
    "\n",
    "    fast = fast.next\n",
    "\n",
    "    while fast:\n",
    "        while fast and fast.val == slow.val:\n",
    "            fast = fast.next\n",
    "\n",
    "            slow.next = fast\n",
    "        if fast:\n",
    "            fast = fast.next\n",
    "            slow = slow.next\n",
    "        \n",
    "    return dummyhead.next"
   ]
  },
  {
   "cell_type": "code",
   "execution_count": 32,
   "id": "d4d3e9b4",
   "metadata": {
    "ExecuteTime": {
     "end_time": "2022-09-17T07:54:09.783707Z",
     "start_time": "2022-09-17T07:54:09.755986Z"
    }
   },
   "outputs": [
    {
     "name": "stdout",
     "output_type": "stream",
     "text": [
      "1\n",
      "2\n",
      "3\n"
     ]
    }
   ],
   "source": [
    "head = ListNode(1,ListNode(1,ListNode(2,ListNode(2,ListNode(2,ListNode(3,ListNode(3)))))))\n",
    "\n",
    "node = deleteDuplicates(head)\n",
    "\n",
    "while node:\n",
    "    print(node.val)\n",
    "    node = node.next"
   ]
  },
  {
   "cell_type": "code",
   "execution_count": 11,
   "id": "a4484adc",
   "metadata": {
    "ExecuteTime": {
     "end_time": "2022-09-17T07:42:15.751956Z",
     "start_time": "2022-09-17T07:42:15.710027Z"
    }
   },
   "outputs": [
    {
     "data": {
      "text/plain": [
       "False"
      ]
     },
     "execution_count": 11,
     "metadata": {},
     "output_type": "execute_result"
    }
   ],
   "source": []
  }
 ],
 "metadata": {
  "kernelspec": {
   "display_name": "Python 3",
   "language": "python",
   "name": "python3"
  },
  "language_info": {
   "codemirror_mode": {
    "name": "ipython",
    "version": 3
   },
   "file_extension": ".py",
   "mimetype": "text/x-python",
   "name": "python",
   "nbconvert_exporter": "python",
   "pygments_lexer": "ipython3",
   "version": "3.8.8"
  }
 },
 "nbformat": 4,
 "nbformat_minor": 5
}
