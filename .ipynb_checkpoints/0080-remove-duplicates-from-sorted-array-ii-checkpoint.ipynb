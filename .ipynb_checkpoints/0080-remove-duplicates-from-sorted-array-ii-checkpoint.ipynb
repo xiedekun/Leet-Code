{
 "cells": [
  {
   "cell_type": "markdown",
   "id": "f0214e49",
   "metadata": {},
   "source": [
    "### 80. 删除有序数组中的重复项 II\n",
    "给你一个有序数组 nums ，请你 原地 删除重复出现的元素，使得出现次数超过两次的元素只出现两次 ，返回删除后数组的新长度。\n",
    "\n",
    "不要使用额外的数组空间，你必须在 原地 修改输入数组 并在使用 O(1) 额外空间的条件下完成。\n",
    "\n",
    " \n",
    "\n",
    "说明：\n",
    "\n",
    "为什么返回数值是整数，但输出的答案是数组呢？\n",
    "\n",
    "请注意，输入数组是以「引用」方式传递的，这意味着在函数里修改输入数组对于调用者是可见的。\n",
    "\n",
    "你可以想象内部操作如下:\n",
    "\n",
    "// nums 是以“引用”方式传递的。也就是说，不对实参做任何拷贝\n",
    "int len = removeDuplicates(nums);\n",
    "\n",
    "// 在函数里修改输入数组对于调用者是可见的。\n",
    "// 根据你的函数返回的长度, 它会打印出数组中 该长度范围内 的所有元素。\n",
    "for (int i = 0; i < len; i++) {\n",
    "    print(nums[i]);\n",
    "}\n",
    " \n",
    "\n",
    "示例 1：\n",
    "\n",
    "输入：nums = [1,1,1,2,2,3]\n",
    "\n",
    "输出：5, nums = [1,1,2,2,3]\n",
    "\n",
    "解释：函数应返回新长度 length = 5, 并且原数组的前五个元素被修改为 1, 1, 2, 2, 3 。 不需要考虑数组中超出新长度后面的元素。\n",
    "\n",
    "https://leetcode.cn/problems/remove-duplicates-from-sorted-array-ii/"
   ]
  },
  {
   "cell_type": "markdown",
   "id": "b7930b95",
   "metadata": {},
   "source": [
    "**思路**：双指针，j修改到i+2地方"
   ]
  },
  {
   "cell_type": "code",
   "execution_count": 25,
   "id": "5beeb3b6",
   "metadata": {
    "ExecuteTime": {
     "end_time": "2022-09-17T05:23:17.160977Z",
     "start_time": "2022-09-17T05:23:17.154480Z"
    }
   },
   "outputs": [],
   "source": [
    "def removeDuplicates(nums):\n",
    "    \"\"\"\n",
    "    :type nums: List[int]\n",
    "    :rtype: int\n",
    "    \"\"\"\n",
    "    i, j = 0, 2\n",
    "    remove = 0\n",
    "    while i<j and j<len(nums):\n",
    "        while j<len(nums) and nums[i] == nums[j]:\n",
    "            remove += 1\n",
    "            j+=1\n",
    "        if j<len(nums) and i+2<len(nums):\n",
    "            nums[i+2] = nums[j]\n",
    "        i+=1\n",
    "        j+=1\n",
    "\n",
    "    return len(nums)-remove"
   ]
  },
  {
   "cell_type": "code",
   "execution_count": 24,
   "id": "27df7c77",
   "metadata": {
    "ExecuteTime": {
     "end_time": "2022-09-17T05:23:16.279918Z",
     "start_time": "2022-09-17T05:23:16.265912Z"
    }
   },
   "outputs": [
    {
     "data": {
      "text/plain": [
       "[1, 1]"
      ]
     },
     "execution_count": 24,
     "metadata": {},
     "output_type": "execute_result"
    }
   ],
   "source": [
    "nums = [1,2,2,2,3,3,3,4,4,4,4,4,4,5]\n",
    "nums = [1,1,1,1,1]\n",
    "nums[:removeDuplicates(nums)]"
   ]
  }
 ],
 "metadata": {
  "kernelspec": {
   "display_name": "Python 3",
   "language": "python",
   "name": "python3"
  },
  "language_info": {
   "codemirror_mode": {
    "name": "ipython",
    "version": 3
   },
   "file_extension": ".py",
   "mimetype": "text/x-python",
   "name": "python",
   "nbconvert_exporter": "python",
   "pygments_lexer": "ipython3",
   "version": "3.8.8"
  }
 },
 "nbformat": 4,
 "nbformat_minor": 5
}
