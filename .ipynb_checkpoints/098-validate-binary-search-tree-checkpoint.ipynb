{
 "cells": [
  {
   "cell_type": "markdown",
   "id": "d0213931",
   "metadata": {},
   "source": [
    "### 098.验证二叉搜索树\n",
    "\n",
    "The left subtree of a node contains only nodes with keys less than the node's key.\n",
    "The right subtree of a node contains only nodes with keys greater than the node's key.\n",
    "Both the left and right subtrees must also be binary search trees.\n",
    "\n",
    "Example 1:\n",
    "\n",
    "Input:\n",
    "\n",
    "     2\n",
    "    \n",
    "    / \\\n",
    "   \n",
    "    1   3\n",
    "    \n",
    "Output: true\n",
    "\n",
    "Example 2:\n",
    "\n",
    "    5\n",
    "    \n",
    "    / \\\n",
    "   \n",
    "    1   4\n",
    "  \n",
    "      / \\\n",
    "     \n",
    "     3   6\n",
    "Output: false\n",
    "Explanation: \n",
    "\n",
    "The input is: [5,1,4,null,null,3,6]. The root node's value\n",
    "             is 5 but its right child's value is 4."
   ]
  },
  {
   "cell_type": "code",
   "execution_count": 3,
   "id": "dd52d8ed",
   "metadata": {
    "ExecuteTime": {
     "end_time": "2022-08-22T11:19:42.727458Z",
     "start_time": "2022-08-22T11:19:42.701083Z"
    }
   },
   "outputs": [],
   "source": [
    "class TreeNode(object):\n",
    "    def __init__(self, val=0, left=None, right=None):\n",
    "        self.val = val\n",
    "        self.left = left\n",
    "        self.right = right\n",
    "\n",
    "root = TreeNode(5, TreeNode(1), TreeNode(4, TreeNode(3), TreeNode(6)))"
   ]
  },
  {
   "cell_type": "code",
   "execution_count": 7,
   "id": "798f1cdc",
   "metadata": {
    "ExecuteTime": {
     "end_time": "2022-08-22T11:22:23.036928Z",
     "start_time": "2022-08-22T11:22:23.012149Z"
    }
   },
   "outputs": [
    {
     "data": {
      "text/plain": [
       "False"
      ]
     },
     "execution_count": 7,
     "metadata": {},
     "output_type": "execute_result"
    }
   ],
   "source": [
    "def isValidBST(root):\n",
    "    \"\"\"\n",
    "    :type root: TreeNode\n",
    "    :rtype: bool\n",
    "    \"\"\"\n",
    "    \n",
    "    res = inOrder(root)\n",
    "    for i in range(len(res)-1):\n",
    "        if res[i]>= res[i+1]:\n",
    "            return False\n",
    "    \n",
    "    return True\n",
    "    \n",
    "        \n",
    "    \n",
    "def inOrder(node):\n",
    "    res = []\n",
    "    if not node:\n",
    "        return res\n",
    "    \n",
    "    if node.left:\n",
    "        res.extend(inOrder(node.left))\n",
    "    res.append(node.val)\n",
    "    \n",
    "    if node.right:\n",
    "        res.extend(inOrder(node.right))\n",
    "        \n",
    "    return res\n",
    "\n",
    "isValidBST(root)"
   ]
  }
 ],
 "metadata": {
  "kernelspec": {
   "display_name": "Python 3",
   "language": "python",
   "name": "python3"
  },
  "language_info": {
   "codemirror_mode": {
    "name": "ipython",
    "version": 3
   },
   "file_extension": ".py",
   "mimetype": "text/x-python",
   "name": "python",
   "nbconvert_exporter": "python",
   "pygments_lexer": "ipython3",
   "version": "3.8.8"
  }
 },
 "nbformat": 4,
 "nbformat_minor": 5
}
