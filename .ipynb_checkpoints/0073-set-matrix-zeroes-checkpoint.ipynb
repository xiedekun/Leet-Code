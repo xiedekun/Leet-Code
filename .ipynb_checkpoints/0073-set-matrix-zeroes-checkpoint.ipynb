{
 "cells": [
  {
   "attachments": {
    "image.png": {
     "image/png": "[encoded data removed]"
    }
   },
   "cell_type": "markdown",
   "id": "ac4908d0",
   "metadata": {},
   "source": [
    "### 73. 矩阵置零\n",
    "给定一个 m x n 的矩阵，如果一个元素为 0 ，则将其所在行和列的所有元素都设为 0 。请使用 原地 算法。\n",
    "\n",
    " \n",
    "\n",
    "示例 1：\n",
    "\n",
    "![image.png](attachment:image.png)\n",
    "\n",
    "输入：matrix = [[1,1,1],[1,0,1],[1,1,1]]\n",
    "输出：[[1,0,1],[0,0,0],[1,0,1]]\n",
    "\n",
    "https://leetcode.cn/problems/set-matrix-zeroes/"
   ]
  },
  {
   "cell_type": "markdown",
   "id": "eb582355",
   "metadata": {},
   "source": [
    "**思路**：用set记录0的x和y\n",
    "\n",
    "空间复杂度 O(m+n)"
   ]
  },
  {
   "cell_type": "code",
   "execution_count": 6,
   "id": "120f3031",
   "metadata": {
    "ExecuteTime": {
     "end_time": "2022-09-15T00:57:10.020519Z",
     "start_time": "2022-09-15T00:57:09.989005Z"
    }
   },
   "outputs": [],
   "source": [
    "def setZeroes(matrix):\n",
    "    \"\"\"\n",
    "    :type matrix: List[List[int]]\n",
    "    :rtype: None Do not return anything, modify matrix in-place instead.\n",
    "    \"\"\"\n",
    "    m = len(matrix)\n",
    "    n = len(matrix[0])\n",
    "\n",
    "    x = set()\n",
    "    y = set()\n",
    "\n",
    "    for i in range(m):\n",
    "        for j in range(n):\n",
    "            if matrix[i][j] == 0:\n",
    "                x.add(i)\n",
    "                y.add(j)\n",
    "\n",
    "    for i in range(m):\n",
    "        for j in range(n):\n",
    "            if i in x or j in y:\n",
    "                matrix[i][j] = 0"
   ]
  },
  {
   "cell_type": "code",
   "execution_count": 9,
   "id": "e89933fa",
   "metadata": {
    "ExecuteTime": {
     "end_time": "2022-09-15T00:59:40.361714Z",
     "start_time": "2022-09-15T00:59:40.345428Z"
    }
   },
   "outputs": [
    {
     "data": {
      "text/plain": [
       "[[1, 0, 1], [0, 0, 0], [1, 0, 1]]"
      ]
     },
     "execution_count": 9,
     "metadata": {},
     "output_type": "execute_result"
    }
   ],
   "source": [
    "matrix = [[1,1,1],[1,0,1],[1,1,1]] \n",
    "setZeroes(matrix)\n",
    "matrix"
   ]
  },
  {
   "cell_type": "markdown",
   "id": "973dee1b",
   "metadata": {},
   "source": [
    "**思路**：第一次遍历遇到0只改变第一行和第一列为0；列要从1开始遍历，行中如果发现第0列有0，就把flag改成True；还原时候先不管0,0位置，之后考虑该位置是否为0，先还原行，再根据flag还原列。"
   ]
  },
  {
   "cell_type": "code",
   "execution_count": 28,
   "id": "830e1962",
   "metadata": {
    "ExecuteTime": {
     "end_time": "2022-09-15T01:40:00.473178Z",
     "start_time": "2022-09-15T01:40:00.442322Z"
    }
   },
   "outputs": [],
   "source": [
    "def setZeroes(matrix):\n",
    "    \"\"\"\n",
    "    :type matrix: List[List[int]]\n",
    "    :rtype: None Do not return anything, modify matrix in-place instead.\n",
    "    \"\"\"\n",
    "    m = len(matrix)\n",
    "    n = len(matrix[0])\n",
    "\n",
    "    setCol = False\n",
    "\n",
    "    for i in range(m):\n",
    "        if matrix[i][0] == 0:\n",
    "            setCol = True\n",
    "        for j in range(1, n):\n",
    "            if matrix[i][j] == 0:\n",
    "                matrix[i][0] = 0\n",
    "                matrix[0][j] = 0\n",
    "\n",
    "    for i in range(1, m):\n",
    "        for j in range(1, n):\n",
    "            if matrix[0][j] == 0 or matrix[i][0] == 0:\n",
    "                matrix[i][j] = 0\n",
    "\n",
    "    if matrix[0][0] == 0:\n",
    "        for j in range(n):\n",
    "            matrix[0][j] = 0\n",
    "    if setCol:\n",
    "        for i in range(m):\n",
    "            matrix[i][0] = 0\n",
    "    "
   ]
  },
  {
   "cell_type": "code",
   "execution_count": 29,
   "id": "5f85faa3",
   "metadata": {
    "ExecuteTime": {
     "end_time": "2022-09-15T01:40:02.053445Z",
     "start_time": "2022-09-15T01:40:02.031179Z"
    }
   },
   "outputs": [
    {
     "data": {
      "text/plain": [
       "[[1, 0, 1], [0, 0, 0], [1, 0, 1]]"
      ]
     },
     "execution_count": 29,
     "metadata": {},
     "output_type": "execute_result"
    }
   ],
   "source": [
    "matrix = [[1,1,1],[1,0,1],[1,1,1]] \n",
    "setZeroes(matrix)\n",
    "matrix"
   ]
  },
  {
   "cell_type": "code",
   "execution_count": 27,
   "id": "99a500bc",
   "metadata": {
    "ExecuteTime": {
     "end_time": "2022-09-15T01:38:52.407352Z",
     "start_time": "2022-09-15T01:38:52.376140Z"
    }
   },
   "outputs": [
    {
     "data": {
      "text/plain": [
       "[[0, 0, 1], [0, 0, 0], [0, 0, 1]]"
      ]
     },
     "execution_count": 27,
     "metadata": {},
     "output_type": "execute_result"
    }
   ],
   "source": [
    "matrix = [[1,1,1],[0,0,1],[1,1,1]] \n",
    "m = len(matrix)\n",
    "n = len(matrix[0])\n",
    "\n",
    "setCol = False\n",
    "\n",
    "for i in range(m):\n",
    "    if matrix[i][0] == 0:\n",
    "        setCol = True\n",
    "    for j in range(1, n):\n",
    "        if matrix[i][j] == 0:\n",
    "            matrix[i][0] = 0\n",
    "            matrix[0][j] = 0\n",
    "\n",
    "for i in range(1, m):\n",
    "    for j in range(1, n):\n",
    "        if matrix[0][j] == 0 or matrix[i][0] == 0:\n",
    "            matrix[i][j] = 0\n",
    "            \n",
    "if matrix[0][0] == 0:\n",
    "    for j in range(n):\n",
    "        matrix[0][j] = 0\n",
    "if setCol:\n",
    "    for i in range(m):\n",
    "        matrix[i][0] = 0\n",
    "        \n",
    "matrix"
   ]
  }
 ],
 "metadata": {
  "kernelspec": {
   "display_name": "Python 3",
   "language": "python",
   "name": "python3"
  },
  "language_info": {
   "codemirror_mode": {
    "name": "ipython",
    "version": 3
   },
   "file_extension": ".py",
   "mimetype": "text/x-python",
   "name": "python",
   "nbconvert_exporter": "python",
   "pygments_lexer": "ipython3",
   "version": "3.8.8"
  }
 },
 "nbformat": 4,
 "nbformat_minor": 5
}
