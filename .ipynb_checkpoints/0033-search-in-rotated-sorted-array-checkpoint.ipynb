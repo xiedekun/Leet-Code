{
 "cells": [
  {
   "cell_type": "markdown",
   "id": "e66e8801",
   "metadata": {},
   "source": [
    "### 33. 搜索旋转排序数组\n",
    "整数数组 nums 按升序排列，数组中的值 互不相同 。\n",
    "\n",
    "在传递给函数之前，nums 在预先未知的某个下标 k（0 <= k < nums.length）上进行了 旋转，使数组变为 [nums[k], nums[k+1], ..., nums[n-1], nums[0], nums[1], ..., nums[k-1]]（下标 从 0 开始 计数）。例如， [0,1,2,4,5,6,7] 在下标 3 处经旋转后可能变为 [4,5,6,7,0,1,2] 。\n",
    "\n",
    "给你 旋转后 的数组 nums 和一个整数 target ，如果 nums 中存在这个目标值 target ，则返回它的下标，否则返回 -1 。\n",
    "\n",
    "你必须设计一个时间复杂度为 O(log n) 的算法解决此问题。\n",
    "\n",
    " \n",
    "\n",
    "示例 1：\n",
    "\n",
    "输入：nums = [4,5,6,7,0,1,2], target = 0\n",
    "\n",
    "输出：4\n",
    "\n",
    "https://leetcode.cn/problems/search-in-rotated-sorted-array/"
   ]
  },
  {
   "cell_type": "markdown",
   "id": "dc543e77",
   "metadata": {},
   "source": [
    "**思路**：在二分查找基础上，分类讨论mid，target和r/l的关系\n",
    "\n",
    "以右边作为基准，如果mid小于等于右边（mid-r未分割），比较target，mid，r的大小。\n",
    "\n",
    "如果mid大于右边（l-mid未分割），先看没有被分割的情况：比较target，mid，l的大小。"
   ]
  },
  {
   "cell_type": "code",
   "execution_count": 11,
   "id": "9abab9b1",
   "metadata": {
    "ExecuteTime": {
     "end_time": "2022-09-11T09:34:41.821738Z",
     "start_time": "2022-09-11T09:34:41.804734Z"
    }
   },
   "outputs": [],
   "source": [
    "def search(nums, target):\n",
    "    \"\"\"\n",
    "    :type nums: List[int]\n",
    "    :type target: int\n",
    "    :rtype: int\n",
    "    \"\"\"\n",
    "\n",
    "    l, r = 0, len(nums) - 1\n",
    "\n",
    "    while l<=r:\n",
    "        mid = int((l+r)/2)\n",
    "\n",
    "        if nums[mid] == target:\n",
    "            return mid\n",
    "\n",
    "        elif nums[mid] <= nums[r]:\n",
    "            if nums[mid] < target <= nums[r]:\n",
    "                l = mid+1\n",
    "            else:\n",
    "                r = mid-1\n",
    "        else:\n",
    "            if nums[l] <= target < nums[mid]:\n",
    "                r = mid-1\n",
    "            else:\n",
    "                l = mid+1\n",
    "\n",
    "    return -1"
   ]
  },
  {
   "cell_type": "code",
   "execution_count": 10,
   "id": "53484d01",
   "metadata": {
    "ExecuteTime": {
     "end_time": "2022-09-11T09:34:34.400080Z",
     "start_time": "2022-09-11T09:34:34.382720Z"
    }
   },
   "outputs": [
    {
     "name": "stdout",
     "output_type": "stream",
     "text": [
      "0 6\n",
      "4 6\n",
      "4 4\n"
     ]
    },
    {
     "data": {
      "text/plain": [
       "4"
      ]
     },
     "execution_count": 10,
     "metadata": {},
     "output_type": "execute_result"
    }
   ],
   "source": [
    "nums = [4,5,6,7,0,1,2]\n",
    "target = 0\n",
    "search(nums, target)"
   ]
  }
 ],
 "metadata": {
  "kernelspec": {
   "display_name": "Python 3",
   "language": "python",
   "name": "python3"
  },
  "language_info": {
   "codemirror_mode": {
    "name": "ipython",
    "version": 3
   },
   "file_extension": ".py",
   "mimetype": "text/x-python",
   "name": "python",
   "nbconvert_exporter": "python",
   "pygments_lexer": "ipython3",
   "version": "3.8.8"
  }
 },
 "nbformat": 4,
 "nbformat_minor": 5
}
