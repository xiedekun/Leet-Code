{
 "cells": [
  {
   "cell_type": "markdown",
   "id": "403a640f",
   "metadata": {},
   "source": [
    "### 114. 二叉树展开为链表\n",
    "给你二叉树的根结点 root ，请你将它展开为一个单链表：\n",
    "\n",
    "展开后的单链表应该同样使用 TreeNode ，其中 right 子指针指向链表中下一个结点，而左子指针始终为 null 。\n",
    "展开后的单链表应该与二叉树 先序遍历 顺序相同。\n",
    "\n",
    "输入：root = [1,2,5,3,4,null,6]\n",
    "输出：[1,null,2,null,3,null,4,null,5,null,6]\n",
    "\n",
    "链接：https://leetcode.cn/problems/flatten-binary-tree-to-linked-list\n"
   ]
  },
  {
   "cell_type": "code",
   "execution_count": 3,
   "id": "c9f1db0e",
   "metadata": {
    "ExecuteTime": {
     "end_time": "2022-08-24T07:04:03.299711Z",
     "start_time": "2022-08-24T07:04:03.284556Z"
    }
   },
   "outputs": [],
   "source": [
    "class TreeNode(object):\n",
    "    def __init__(self, val=0, left=None, right=None):\n",
    "        self.val = val\n",
    "        self.left = left\n",
    "        self.right = right"
   ]
  },
  {
   "cell_type": "code",
   "execution_count": 4,
   "id": "9e98fbc3",
   "metadata": {
    "ExecuteTime": {
     "end_time": "2022-08-24T07:04:47.837203Z",
     "start_time": "2022-08-24T07:04:47.821801Z"
    }
   },
   "outputs": [],
   "source": [
    "root = TreeNode(1,TreeNode(2, TreeNode(3), TreeNode(4)), TreeNode(5,None, TreeNode(6)))"
   ]
  },
  {
   "cell_type": "code",
   "execution_count": 2,
   "id": "3eff102a",
   "metadata": {
    "ExecuteTime": {
     "end_time": "2022-08-24T07:02:54.436631Z",
     "start_time": "2022-08-24T07:02:54.425019Z"
    }
   },
   "outputs": [],
   "source": [
    "def flatten(root):\n",
    "    \"\"\"\n",
    "    :type root: TreeNode\n",
    "    :rtype: None Do not return anything, modify root in-place instead.\n",
    "    \"\"\""
   ]
  },
  {
   "cell_type": "code",
   "execution_count": 5,
   "id": "aa6fc643",
   "metadata": {
    "ExecuteTime": {
     "end_time": "2022-08-24T07:12:22.689409Z",
     "start_time": "2022-08-24T07:12:22.639083Z"
    }
   },
   "outputs": [
    {
     "data": {
      "text/plain": [
       "[1]"
      ]
     },
     "execution_count": 5,
     "metadata": {},
     "output_type": "execute_result"
    }
   ],
   "source": [
    "def preorder(root):\n",
    "    res = []\n",
    "    if not root:\n",
    "        return res\n",
    "    \n",
    "    if root.left:\n",
    "        preorder(root.left)\n",
    "    res.append(root.val)\n",
    "    if root.right:\n",
    "        preorder(root.right)\n",
    "    return res\n",
    "\n",
    "preorder(root)"
   ]
  }
 ],
 "metadata": {
  "kernelspec": {
   "display_name": "Python 3",
   "language": "python",
   "name": "python3"
  },
  "language_info": {
   "codemirror_mode": {
    "name": "ipython",
    "version": 3
   },
   "file_extension": ".py",
   "mimetype": "text/x-python",
   "name": "python",
   "nbconvert_exporter": "python",
   "pygments_lexer": "ipython3",
   "version": "3.8.8"
  }
 },
 "nbformat": 4,
 "nbformat_minor": 5
}
