{
 "cells": [
  {
   "cell_type": "markdown",
   "id": "9b4cdce6",
   "metadata": {},
   "source": [
    "### 68. 文本左右对齐\n",
    "给定一个单词数组 words 和一个长度 maxWidth ，重新排版单词，使其成为每行恰好有 maxWidth 个字符，且左右两端对齐的文本。\n",
    "\n",
    "你应该使用 “贪心算法” 来放置给定的单词；也就是说，尽可能多地往每行中放置单词。必要时可用空格 ' ' 填充，使得每行恰好有 maxWidth 个字符。\n",
    "\n",
    "要求尽可能均匀分配单词间的空格数量。如果某一行单词间的空格不能均匀分配，则左侧放置的空格数要多于右侧的空格数。\n",
    "\n",
    "文本的最后一行应为左对齐，且单词之间不插入额外的空格。\n",
    "\n",
    "注意:\n",
    "\n",
    "单词是指由非空格字符组成的字符序列。\n",
    "每个单词的长度大于 0，小于等于 maxWidth。\n",
    "输入单词数组 words 至少包含一个单词。\n",
    " \n",
    "\n",
    "示例 1:\n",
    "\n",
    "输入: words = [\"This\", \"is\", \"an\", \"example\", \"of\", \"text\", \"justification.\"], maxWidth = 16\n",
    "输出:\n",
    "[\n",
    "   \"This    is    an\",\n",
    "   \"example  of text\",\n",
    "   \"justification.  \"\n",
    "]\n",
    "\n",
    "示例 2:\n",
    "\n",
    "输入:words = [\"What\",\"must\",\"be\",\"acknowledgment\",\"shall\",\"be\"], maxWidth = 16\n",
    "输出:\n",
    "[\n",
    "  \"What   must   be\",\n",
    "  \"acknowledgment  \",\n",
    "  \"shall be        \"\n",
    "]\n",
    "解释: 注意最后一行的格式应为 \"shall be    \" 而不是 \"shall     be\",\n",
    "     因为最后一行应为左对齐，而不是左右两端对齐。       \n",
    "     第二行同样为左对齐，这是因为这行只包含一个单词。\n",
    "     \n",
    "https://leetcode.cn/problems/text-justification/"
   ]
  },
  {
   "cell_type": "markdown",
   "id": "3c31eaaf",
   "metadata": {},
   "source": [
    "**思路**：一步一步模拟；用remain保存余数"
   ]
  },
  {
   "cell_type": "code",
   "execution_count": 123,
   "id": "3c0df00e",
   "metadata": {
    "ExecuteTime": {
     "end_time": "2022-09-14T11:56:41.859041Z",
     "start_time": "2022-09-14T11:56:41.824975Z"
    }
   },
   "outputs": [],
   "source": [
    "def fullJustify(words, maxWidth):\n",
    "    \"\"\"\n",
    "    :type words: List[str]\n",
    "    :type maxWidth: int\n",
    "    :rtype: List[str]\n",
    "    \"\"\"\n",
    "    \n",
    "    lines = []\n",
    "\n",
    "    while words:\n",
    "        l,idx = 0, 0\n",
    "        while l<=maxWidth+1:\n",
    "            l += len(words[idx])+1\n",
    "            idx+=1\n",
    "            if l<=maxWidth+1 and idx>=len(words):\n",
    "                idx+=1\n",
    "                break\n",
    "        lines.append(words[:idx-1])\n",
    "\n",
    "        words = words[idx-1:]\n",
    "\n",
    "    for k, line in enumerate(lines):\n",
    "        cnt = len(line)\n",
    "        l = 0\n",
    "        for s in line:\n",
    "            l+=len(s)\n",
    "        diff = maxWidth-l\n",
    "        if cnt!=1:\n",
    "            incre = int(diff/(cnt-1))\n",
    "            remain = diff%(cnt-1)\n",
    "        else:\n",
    "            incre = diff\n",
    "            remain = 0\n",
    "            \n",
    "        for i in range(len(line)):\n",
    "            if k != len(lines)-1:\n",
    "                if diff:\n",
    "                    if remain:\n",
    "                        line[i] = line[i]+' '*(incre+1)\n",
    "                        remain-=1\n",
    "                        diff-=(incre+1)\n",
    "                    else:\n",
    "                        line[i] = line[i]+ ' '*incre\n",
    "                        diff-=incre\n",
    "                    \n",
    "            else:\n",
    "                if i == len(line) - 1:\n",
    "                    line[i] = line[i]+' '*diff\n",
    "                else:\n",
    "                    line[i] = line[i]+' '\n",
    "                    diff-=1\n",
    "        lines[k] = ''.join(line)\n",
    "\n",
    "    return lines"
   ]
  },
  {
   "cell_type": "code",
   "execution_count": 126,
   "id": "1f121e33",
   "metadata": {
    "ExecuteTime": {
     "end_time": "2022-09-14T11:57:02.697210Z",
     "start_time": "2022-09-14T11:57:02.678847Z"
    }
   },
   "outputs": [
    {
     "data": {
      "text/plain": [
       "(['ask   not   what',\n",
       "  'your country can',\n",
       "  'do  for  you ask',\n",
       "  'what  you can do',\n",
       "  'for your country'],\n",
       " ['This    is    an', 'example  of text', 'justification.  '])"
      ]
     },
     "execution_count": 126,
     "metadata": {},
     "output_type": "execute_result"
    }
   ],
   "source": [
    "words = [\"ask\",\"not\",\"what\",\"your\",\"country\",\"can\",\"do\",\"for\",\"you\",\"ask\",\"what\",\"you\",\"can\",\"do\",\"for\",\"your\",\"country\"]\n",
    "words = [\"This\", \"is\", \"an\", \"example\", \"of\", \"text\", \"justification.\"]\n",
    "maxWidth = 16\n",
    "b = [\"ask   not   what\",\"your country can\",\"do  for  you ask\",\"what  you can do\",\"for your country\"]\n",
    "b,fullJustify(words, maxWidth)\n",
    "\n"
   ]
  },
  {
   "cell_type": "code",
   "execution_count": 73,
   "id": "27925d40",
   "metadata": {
    "ExecuteTime": {
     "end_time": "2022-09-14T11:32:58.551257Z",
     "start_time": "2022-09-14T11:32:58.501645Z"
    }
   },
   "outputs": [
    {
     "data": {
      "text/plain": [
       "['Science  is  what we',\n",
       " 'understand      well',\n",
       " 'enough  to explainto',\n",
       " 'a  computer.  Art is',\n",
       " 'everything   else we',\n",
       " 'do it                ']"
      ]
     },
     "execution_count": 73,
     "metadata": {},
     "output_type": "execute_result"
    }
   ],
   "source": [
    "import math\n",
    "words = [\"Science\",\"is\",\"what\",\"we\",\"understand\",\"well\",\"enough\",\"to\",\"explain\",\"to\",\"a\",\"computer.\",\"Art\",\"is\",\"everything\",\"else\",\"we\",\"do\", 'it']    \n",
    "maxWidth = 20\n",
    "\n",
    "lines = []\n",
    "\n",
    "while words:\n",
    "    l,idx = 0, 0\n",
    "    while l<=maxWidth+1:\n",
    "        l += len(words[idx])+1\n",
    "        idx+=1\n",
    "        if l<=maxWidth+1 and idx>=len(words):\n",
    "            idx+=1\n",
    "            break\n",
    "    lines.append(words[:idx-1])\n",
    "    \n",
    "    words = words[idx-1:]\n",
    "\n",
    "for k, line in enumerate(lines):\n",
    "    cnt = len(line)\n",
    "    l = 0\n",
    "    for s in line:\n",
    "        l+=len(s)\n",
    "    diff = maxWidth-l\n",
    "    incre = math.ceil(diff/(cnt-1.001))\n",
    "    for i in range(len(line)):\n",
    "        if k != len(lines)-1:\n",
    "            if diff-incre>0:\n",
    "                line[i] = line[i]+' '*incre\n",
    "            else:\n",
    "                line[i] = line[i]+ ' '*diff\n",
    "            diff-=incre\n",
    "        else:\n",
    "            if i == len(line) - 1:\n",
    "                line[i] = line[i]+' '*diff\n",
    "            else:\n",
    "                line[i] = line[i]+' '\n",
    "    lines[k] = ''.join(line)\n",
    "    \n",
    "lines"
   ]
  }
 ],
 "metadata": {
  "kernelspec": {
   "display_name": "Python 3",
   "language": "python",
   "name": "python3"
  },
  "language_info": {
   "codemirror_mode": {
    "name": "ipython",
    "version": 3
   },
   "file_extension": ".py",
   "mimetype": "text/x-python",
   "name": "python",
   "nbconvert_exporter": "python",
   "pygments_lexer": "ipython3",
   "version": "3.8.8"
  }
 },
 "nbformat": 4,
 "nbformat_minor": 5
}
