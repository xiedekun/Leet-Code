{
 "cells": [
  {
   "cell_type": "markdown",
   "id": "669051bb",
   "metadata": {},
   "source": [
    "### 50. Pow(x, n)\n",
    "实现 pow(x, n) ，即计算 x 的整数 n 次幂函数（即，xn ）。\n",
    "\n",
    " \n",
    "\n",
    "示例 1：\n",
    "\n",
    "输入：x = 2.00000, n = 10\n",
    "输出：1024.00000\n",
    "\n",
    "示例 2：\n",
    "\n",
    "输入：x = 2.10000, n = 3\n",
    "输出：9.26100\n",
    "\n",
    "https://leetcode.cn/problems/powx-n/"
   ]
  },
  {
   "cell_type": "markdown",
   "id": "837dc87c",
   "metadata": {},
   "source": [
    "**思路**：递归；位运算/2"
   ]
  },
  {
   "cell_type": "code",
   "execution_count": 43,
   "id": "0fbb7288",
   "metadata": {
    "ExecuteTime": {
     "end_time": "2022-09-13T07:10:08.738570Z",
     "start_time": "2022-09-13T07:10:08.723358Z"
    }
   },
   "outputs": [],
   "source": [
    "\n",
    "def myPow(x, n):\n",
    "    \"\"\"\n",
    "    :type x: float\n",
    "    :type n: int\n",
    "    :rtype: float\n",
    "    \"\"\"\n",
    "    if n==0:\n",
    "        return 1\n",
    "    if n<0:\n",
    "        return 1 / myPow(x, -n)\n",
    "    if n&1:\n",
    "        return x * myPow(x*x, n>>1)\n",
    "    else:\n",
    "        return myPow(x*x, n>>1)"
   ]
  },
  {
   "cell_type": "code",
   "execution_count": 41,
   "id": "7d324776",
   "metadata": {
    "ExecuteTime": {
     "end_time": "2022-09-13T07:08:11.834580Z",
     "start_time": "2022-09-13T07:08:11.813354Z"
    }
   },
   "outputs": [
    {
     "data": {
      "text/plain": [
       "1024.0"
      ]
     },
     "execution_count": 41,
     "metadata": {},
     "output_type": "execute_result"
    }
   ],
   "source": [
    "x = 2.00000\n",
    "n = 10\n",
    "myPow(x,n)"
   ]
  },
  {
   "cell_type": "markdown",
   "id": "50cfd50c",
   "metadata": {
    "ExecuteTime": {
     "end_time": "2022-09-13T06:38:44.204097Z",
     "start_time": "2022-09-13T06:38:44.182418Z"
    }
   },
   "source": [
    "**思路**：暴力"
   ]
  },
  {
   "cell_type": "code",
   "execution_count": 12,
   "id": "220c1b36",
   "metadata": {
    "ExecuteTime": {
     "end_time": "2022-09-13T06:42:24.128751Z",
     "start_time": "2022-09-13T06:42:24.119416Z"
    }
   },
   "outputs": [],
   "source": [
    "def myPow(x, n):\n",
    "    \"\"\"\n",
    "    :type x: float\n",
    "    :type n: int\n",
    "    :rtype: float\n",
    "    \"\"\"\n",
    "    if n == 0:\n",
    "        return 1\n",
    "\n",
    "    res = 1\n",
    "    if n>0:\n",
    "        for i in range(n):\n",
    "            res *= x\n",
    "    else:\n",
    "        for i in range(-n):\n",
    "            res /= x\n",
    "        \n",
    "        \n",
    "    return res"
   ]
  },
  {
   "cell_type": "code",
   "execution_count": 14,
   "id": "a500e2f0",
   "metadata": {
    "ExecuteTime": {
     "end_time": "2022-09-13T06:42:50.284873Z",
     "start_time": "2022-09-13T06:42:50.273045Z"
    }
   },
   "outputs": [
    {
     "data": {
      "text/plain": [
       "0.5"
      ]
     },
     "execution_count": 14,
     "metadata": {},
     "output_type": "execute_result"
    }
   ],
   "source": [
    "x = 2.00000\n",
    "n = -1\n",
    "myPow(x,n)"
   ]
  }
 ],
 "metadata": {
  "kernelspec": {
   "display_name": "Python 3",
   "language": "python",
   "name": "python3"
  },
  "language_info": {
   "codemirror_mode": {
    "name": "ipython",
    "version": 3
   },
   "file_extension": ".py",
   "mimetype": "text/x-python",
   "name": "python",
   "nbconvert_exporter": "python",
   "pygments_lexer": "ipython3",
   "version": "3.8.8"
  }
 },
 "nbformat": 4,
 "nbformat_minor": 5
}
