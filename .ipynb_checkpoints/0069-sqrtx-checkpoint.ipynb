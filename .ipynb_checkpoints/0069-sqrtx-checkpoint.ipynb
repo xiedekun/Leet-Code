{
 "cells": [
  {
   "cell_type": "markdown",
   "id": "0b826979",
   "metadata": {},
   "source": [
    "### 69. x 的平方根 \n",
    "给你一个非负整数 x ，计算并返回 x 的 算术平方根 。\n",
    "\n",
    "由于返回类型是整数，结果只保留 整数部分 ，小数部分将被 舍去 。\n",
    "\n",
    "注意：不允许使用任何内置指数函数和算符，例如 pow(x, 0.5) 或者 x ** 0.5 。\n",
    "\n",
    " \n",
    "\n",
    "示例 1：\n",
    "\n",
    "输入：x = 4\n",
    "输出：2\n",
    "\n",
    "https://leetcode.cn/problems/sqrtx/"
   ]
  },
  {
   "cell_type": "markdown",
   "id": "e9a23ecc",
   "metadata": {},
   "source": [
    "**思路**：二分搜索\n",
    "\n",
    "在0和 2x之间一个一个试，但用mid"
   ]
  },
  {
   "cell_type": "code",
   "execution_count": 50,
   "id": "52f99229",
   "metadata": {
    "ExecuteTime": {
     "end_time": "2022-09-14T12:32:49.111317Z",
     "start_time": "2022-09-14T12:32:49.102014Z"
    }
   },
   "outputs": [],
   "source": [
    "def mySqrt(x):\n",
    "    \"\"\"\n",
    "    :type x: int\n",
    "    :rtype: int\n",
    "    \"\"\"\n",
    "    l,r = 0, 2*x\n",
    "    while l<=r:  \n",
    "\n",
    "        mid = int((l+r)/2)\n",
    "        # mid = l + (r-l)>>1\n",
    "\n",
    "        if mid*mid<=x and (mid+1)*(mid+1)>x:\n",
    "            return mid\n",
    "        \n",
    "        if mid*mid<x:\n",
    "            l = mid + 1\n",
    "            \n",
    "        else:\n",
    "            r = mid - 1\n",
    "            \n",
    "            \n",
    "        "
   ]
  },
  {
   "cell_type": "code",
   "execution_count": 52,
   "id": "15b22cee",
   "metadata": {
    "ExecuteTime": {
     "end_time": "2022-09-14T12:32:52.936716Z",
     "start_time": "2022-09-14T12:32:52.912511Z"
    }
   },
   "outputs": [
    {
     "data": {
      "text/plain": [
       "46339"
      ]
     },
     "execution_count": 52,
     "metadata": {},
     "output_type": "execute_result"
    }
   ],
   "source": [
    "x = 2147395599\n",
    "mySqrt(x)"
   ]
  },
  {
   "cell_type": "code",
   "execution_count": 5,
   "id": "7538d8ce",
   "metadata": {
    "ExecuteTime": {
     "end_time": "2022-09-14T12:22:29.499984Z",
     "start_time": "2022-09-14T12:22:29.466517Z"
    }
   },
   "outputs": [],
   "source": [
    "\n",
    "\n"
   ]
  }
 ],
 "metadata": {
  "kernelspec": {
   "display_name": "Python 3",
   "language": "python",
   "name": "python3"
  },
  "language_info": {
   "codemirror_mode": {
    "name": "ipython",
    "version": 3
   },
   "file_extension": ".py",
   "mimetype": "text/x-python",
   "name": "python",
   "nbconvert_exporter": "python",
   "pygments_lexer": "ipython3",
   "version": "3.8.8"
  }
 },
 "nbformat": 4,
 "nbformat_minor": 5
}
