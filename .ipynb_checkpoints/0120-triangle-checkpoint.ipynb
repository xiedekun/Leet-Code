{
 "cells": [
  {
   "cell_type": "markdown",
   "id": "0130bc91",
   "metadata": {},
   "source": [
    "### 120. 三角形最小路径和\n",
    "给定一个三角形 triangle ，找出自顶向下的最小路径和。\n",
    "\n",
    "每一步只能移动到下一行中相邻的结点上。相邻的结点 在这里指的是 下标 与 上一层结点下标 相同或者等于 上一层结点下标 + 1 的两个结点。也就是说，如果正位于当前行的下标 i ，那么下一步可以移动到下一行的下标 i 或 i + 1 。\n",
    "\n",
    " \n",
    "\n",
    "示例 1：\n",
    "\n",
    "输入：triangle = [[2],[3,4],[6,5,7],[4,1,8,3]]\n",
    "\n",
    "输出：11\n",
    "\n",
    "解释：如下面简图所示：\n",
    "\n",
    "       2\n",
    "      3 4\n",
    "     6 5 7\n",
    "    4 1 8 3\n",
    "\n",
    "自顶向下的最小路径和为 11（即，2 + 3 + 5 + 1 = 11）。\n",
    "\n",
    "https://leetcode.cn/problems/triangle/"
   ]
  },
  {
   "cell_type": "code",
   "execution_count": null,
   "id": "a52a4dfd",
   "metadata": {},
   "outputs": [],
   "source": []
  },
  {
   "cell_type": "code",
   "execution_count": 1,
   "id": "187be3e9",
   "metadata": {
    "ExecuteTime": {
     "end_time": "2022-09-24T02:11:39.317413Z",
     "start_time": "2022-09-24T02:11:39.252911Z"
    }
   },
   "outputs": [],
   "source": [
    "def minimumTotal(triangle):\n",
    "    \"\"\"\n",
    "    :type triangle: List[List[int]]\n",
    "    :rtype: int\n",
    "    \"\"\""
   ]
  },
  {
   "cell_type": "code",
   "execution_count": null,
   "id": "3accd498",
   "metadata": {},
   "outputs": [],
   "source": [
    "triangle = [[2],[3,4],[6,5,7],[4,1,8,3]]\n"
   ]
  }
 ],
 "metadata": {
  "kernelspec": {
   "display_name": "Python 3",
   "language": "python",
   "name": "python3"
  },
  "language_info": {
   "codemirror_mode": {
    "name": "ipython",
    "version": 3
   },
   "file_extension": ".py",
   "mimetype": "text/x-python",
   "name": "python",
   "nbconvert_exporter": "python",
   "pygments_lexer": "ipython3",
   "version": "3.8.8"
  }
 },
 "nbformat": 4,
 "nbformat_minor": 5
}
