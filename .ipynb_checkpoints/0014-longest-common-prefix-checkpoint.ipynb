{
 "cells": [
  {
   "cell_type": "markdown",
   "id": "0937aa7d",
   "metadata": {},
   "source": [
    "### 14. 最长公共前缀\n",
    "编写一个函数来查找字符串数组中的最长公共前缀。\n",
    "\n",
    "如果不存在公共前缀，返回空字符串 \"\"。\n",
    "\n",
    " \n",
    "\n",
    "示例 1：\n",
    "\n",
    "输入：strs = [\"flower\",\"flow\",\"flight\"]\n",
    "\n",
    "输出：\"fl\"\n",
    "\n",
    "示例 2：\n",
    "\n",
    "输入：strs = [\"dog\",\"racecar\",\"car\"]\n",
    "\n",
    "输出：\"\"\n",
    "\n",
    "解释：输入不存在公共前缀。\n",
    "\n",
    "https://leetcode.cn/problems/longest-common-prefix"
   ]
  },
  {
   "cell_type": "markdown",
   "id": "a0a30ccc",
   "metadata": {},
   "source": [
    "**思路**：随便选一个字符当做前缀，然后慢慢减小去匹配。"
   ]
  },
  {
   "cell_type": "code",
   "execution_count": 11,
   "id": "030e6564",
   "metadata": {
    "ExecuteTime": {
     "end_time": "2022-08-31T18:07:13.731890Z",
     "start_time": "2022-08-31T18:07:13.714808Z"
    }
   },
   "outputs": [
    {
     "name": "stdout",
     "output_type": "stream",
     "text": [
      "pre: flower\n",
      "pre: flowe\n",
      "pre: flow\n",
      "pre: flo\n"
     ]
    },
    {
     "data": {
      "text/plain": [
       "'fl'"
      ]
     },
     "execution_count": 11,
     "metadata": {},
     "output_type": "execute_result"
    }
   ],
   "source": [
    "strs = [\"flower\",\"flow\",\"flight\"]\n",
    "pre = strs[0]\n",
    "for s in strs:\n",
    "    while pre != s[:len(pre)]:\n",
    "        print('pre:',pre)\n",
    "        if pre == '':\n",
    "            break\n",
    "        pre = pre[:-1]\n",
    "        \n",
    "pre"
   ]
  },
  {
   "cell_type": "code",
   "execution_count": 15,
   "id": "47e9f723",
   "metadata": {
    "ExecuteTime": {
     "end_time": "2022-08-31T18:07:56.515589Z",
     "start_time": "2022-08-31T18:07:56.509590Z"
    }
   },
   "outputs": [],
   "source": [
    "def longestCommonPrefix(strs):\n",
    "    \"\"\"\n",
    "    :type strs: List[str]\n",
    "    :rtype: str\n",
    "    \"\"\"\n",
    "    pre = strs[0]\n",
    "    for s in strs:\n",
    "        while pre != s[:len(pre)]:\n",
    "            if pre == '':\n",
    "                return ''\n",
    "            pre = pre[:-1]\n",
    "\n",
    "    return pre"
   ]
  },
  {
   "cell_type": "code",
   "execution_count": 16,
   "id": "dea44a28",
   "metadata": {
    "ExecuteTime": {
     "end_time": "2022-08-31T18:07:57.964884Z",
     "start_time": "2022-08-31T18:07:57.957380Z"
    }
   },
   "outputs": [
    {
     "data": {
      "text/plain": [
       "'fl'"
      ]
     },
     "execution_count": 16,
     "metadata": {},
     "output_type": "execute_result"
    }
   ],
   "source": [
    "strs = [\"flower\",\"flow\",\"flight\"]\n",
    "longestCommonPrefix(strs)"
   ]
  }
 ],
 "metadata": {
  "kernelspec": {
   "display_name": "Python 3",
   "language": "python",
   "name": "python3"
  },
  "language_info": {
   "codemirror_mode": {
    "name": "ipython",
    "version": 3
   },
   "file_extension": ".py",
   "mimetype": "text/x-python",
   "name": "python",
   "nbconvert_exporter": "python",
   "pygments_lexer": "ipython3",
   "version": "3.8.8"
  }
 },
 "nbformat": 4,
 "nbformat_minor": 5
}
