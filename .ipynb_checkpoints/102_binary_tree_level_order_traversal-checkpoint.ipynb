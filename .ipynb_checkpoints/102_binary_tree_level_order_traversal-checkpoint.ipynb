{
 "cells": [
  {
   "cell_type": "markdown",
   "id": "39f3fadf",
   "metadata": {},
   "source": [
    "### 102.二叉树层序遍历\n",
    "\n",
    "Given a binary tree, return the level order traversal of its nodes' values. (ie, from left to right, level by level).\n",
    "\n",
    "For example:\n",
    "Given binary tree [3,9,20,null,null,15,7],\n",
    "\n",
    "    3\n",
    "    / \\\n",
    "   \n",
    "    9  20\n",
    "      /  \\\n",
    "    \n",
    "     15   7\n",
    "   \n",
    "return its level order traversal as:\n",
    "\n",
    "[\n",
    "  [3],\n",
    "  [9,20],\n",
    "  [15,7]\n",
    "]\n",
    "\n",
    "https://leetcode.cn/problems/binary-tree-level-order-traversal/"
   ]
  },
  {
   "cell_type": "code",
   "execution_count": 1,
   "id": "e5483b68",
   "metadata": {
    "ExecuteTime": {
     "end_time": "2022-08-21T14:26:29.332136Z",
     "start_time": "2022-08-21T14:26:29.304670Z"
    }
   },
   "outputs": [],
   "source": [
    "class TreeNode(object):\n",
    "    def __init__(self, val=0, left=None, right=None):\n",
    "        self.val = val\n",
    "        self.left = left\n",
    "        self.right = right\n",
    "\n",
    "root = TreeNode(3, TreeNode(9), TreeNode(20, TreeNode(15), TreeNode(7)))"
   ]
  },
  {
   "cell_type": "code",
   "execution_count": 20,
   "id": "41a96b91",
   "metadata": {
    "ExecuteTime": {
     "end_time": "2022-08-22T05:55:15.424966Z",
     "start_time": "2022-08-22T05:55:15.378720Z"
    }
   },
   "outputs": [
    {
     "data": {
      "text/plain": [
       "[[3], [9, 20], [15, 7]]"
      ]
     },
     "execution_count": 20,
     "metadata": {},
     "output_type": "execute_result"
    }
   ],
   "source": [
    "from queue import deque\n",
    "def levelOrder(root):\n",
    "    \"\"\"\n",
    "    :type root: TreeNode\n",
    "    :rtype: List[List[int]]\n",
    "    \"\"\"\n",
    "    \n",
    "\n",
    "    res = []\n",
    "    queue = deque([root])\n",
    "    \n",
    "    if not root:\n",
    "        return res\n",
    "    \n",
    "    while queue:\n",
    "        size = len(queue)\n",
    "        res_ = []\n",
    "        while size > 0:\n",
    "            \n",
    "            node = queue.popleft()\n",
    "\n",
    "            res_.append(node.val)\n",
    "\n",
    "            if node.left:\n",
    "                queue.append(node.left)\n",
    "            if node.right:\n",
    "                queue.append(node.right)\n",
    "            size -= 1\n",
    "        res.append(res_)\n",
    "    return res\n",
    "        \n",
    "    \n",
    "levelOrder(root)"
   ]
  },
  {
   "cell_type": "code",
   "execution_count": 23,
   "id": "0e860fc0",
   "metadata": {
    "ExecuteTime": {
     "end_time": "2022-08-22T05:55:42.778083Z",
     "start_time": "2022-08-22T05:55:42.744872Z"
    }
   },
   "outputs": [
    {
     "data": {
      "text/plain": [
       "[[15, 7], [9, 20], [3]]"
      ]
     },
     "execution_count": 23,
     "metadata": {},
     "output_type": "execute_result"
    }
   ],
   "source": [
    "res = levelOrder(root)\n",
    "res.reverse()\n",
    "res"
   ]
  }
 ],
 "metadata": {
  "kernelspec": {
   "display_name": "Python 3",
   "language": "python",
   "name": "python3"
  },
  "language_info": {
   "codemirror_mode": {
    "name": "ipython",
    "version": 3
   },
   "file_extension": ".py",
   "mimetype": "text/x-python",
   "name": "python",
   "nbconvert_exporter": "python",
   "pygments_lexer": "ipython3",
   "version": "3.8.8"
  }
 },
 "nbformat": 4,
 "nbformat_minor": 5
}
