{
 "cells": [
  {
   "cell_type": "markdown",
   "id": "74494dfb",
   "metadata": {},
   "source": [
    "### 237. 删除链表中的节点\n",
    "请编写一个函数，用于 删除单链表中某个特定节点 。在设计函数时需要注意，你无法访问链表的头节点 head ，只能直接访问 要被删除的节点 。\n",
    "\n",
    "题目数据保证需要删除的节点 不是末尾节点 。\n",
    "\n",
    "\n",
    "输入：head = [4,5,1,9], node = 5\n",
    "\n",
    "输出：[4,1,9]\n",
    "\n",
    "解释：指定链表中值为 5 的第二个节点，那么在调用了你的函数之后，该链表应变为 4 -> 1 -> 9\n",
    "\n",
    "链接：https://leetcode.cn/problems/delete-node-in-a-linked-list"
   ]
  },
  {
   "cell_type": "code",
   "execution_count": 1,
   "id": "6129c48f",
   "metadata": {
    "ExecuteTime": {
     "end_time": "2022-08-24T08:36:43.821632Z",
     "start_time": "2022-08-24T08:36:43.795300Z"
    }
   },
   "outputs": [],
   "source": [
    "class ListNode(object):\n",
    "    def __init__(self, val=0, next=None):\n",
    "        self.val = val\n",
    "        self.next = next"
   ]
  },
  {
   "cell_type": "code",
   "execution_count": 5,
   "id": "9285a2c9",
   "metadata": {
    "ExecuteTime": {
     "end_time": "2022-08-24T08:46:04.034404Z",
     "start_time": "2022-08-24T08:46:04.006372Z"
    }
   },
   "outputs": [
    {
     "data": {
      "text/plain": [
       "2"
      ]
     },
     "execution_count": 5,
     "metadata": {},
     "output_type": "execute_result"
    }
   ],
   "source": [
    "node = ListNode(1, ListNode(2, ListNode(3, ListNode(4, ListNode(5)))))\n",
    "\n",
    "node.val = node.next.val\n",
    "node.next = node.next.next\n",
    "\n",
    "node.val"
   ]
  },
  {
   "cell_type": "code",
   "execution_count": null,
   "id": "f7553cc9",
   "metadata": {},
   "outputs": [],
   "source": [
    "def deleteNode(node):\n",
    "    \"\"\"\n",
    "    :type node: ListNode\n",
    "    :rtype: void Do not return anything, modify node in-place instead.\n",
    "    \"\"\"\n",
    "    node.val = node.next.val\n",
    "    node.next = node.next.next"
   ]
  }
 ],
 "metadata": {
  "kernelspec": {
   "display_name": "Python 3",
   "language": "python",
   "name": "python3"
  },
  "language_info": {
   "codemirror_mode": {
    "name": "ipython",
    "version": 3
   },
   "file_extension": ".py",
   "mimetype": "text/x-python",
   "name": "python",
   "nbconvert_exporter": "python",
   "pygments_lexer": "ipython3",
   "version": "3.8.8"
  }
 },
 "nbformat": 4,
 "nbformat_minor": 5
}
