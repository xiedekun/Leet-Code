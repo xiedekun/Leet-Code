{
 "cells": [
  {
   "cell_type": "markdown",
   "id": "456d2f1a",
   "metadata": {},
   "source": [
    "### 26. 删除有序数组中的重复项\n",
    "\n",
    "给你一个 升序排列 的数组 nums ，请你 原地 删除重复出现的元素，使每个元素 只出现一次 ，返回删除后数组的新长度。元素的 相对顺序 应该保持 一致 。\n",
    "\n",
    "由于在某些语言中不能改变数组的长度，所以必须将结果放在数组nums的第一部分。更规范地说，如果在删除重复项之后有 k 个元素，那么 nums 的前 k 个元素应该保存最终结果。\n",
    "\n",
    "将最终结果插入 nums 的前 k 个位置后返回 k 。\n",
    "\n",
    "不要使用额外的空间，你必须在 原地 修改输入数组 并在使用 O(1) 额外空间的条件下完成。\n",
    "\n",
    "输入：nums = [1,1,2]\n",
    "\n",
    "输出：2, nums = [1,2,_]\n",
    "\n",
    "解释：函数应该返回新的长度 2 ，并且原数组 nums 的前两个元素被修改为 1, 2 。不需要考虑数组中超出新长度后面的元素。\n",
    "\n",
    "\n",
    "https://leetcode.cn/problems/remove-duplicates-from-sorted-array\n"
   ]
  },
  {
   "cell_type": "markdown",
   "id": "dd4719dd",
   "metadata": {},
   "source": [
    "**思路**：双指针"
   ]
  },
  {
   "cell_type": "code",
   "execution_count": 40,
   "id": "c6432dd2",
   "metadata": {
    "ExecuteTime": {
     "end_time": "2022-09-03T17:00:13.394695Z",
     "start_time": "2022-09-03T17:00:13.384020Z"
    }
   },
   "outputs": [],
   "source": [
    "def removeDuplicates(nums):\n",
    "    \"\"\"\n",
    "    :type nums: List[int]\n",
    "    :rtype: int\n",
    "    \"\"\"\n",
    "    l = len(nums)\n",
    "    remove = 0\n",
    "    i,j = 0, 1\n",
    "    while i<j and j<l:\n",
    "        while i<j and j<l and nums[i] == nums[j] :\n",
    "            remove += 1\n",
    "            j+=1\n",
    "        if j<l:\n",
    "            nums[i+1] = nums[j]\n",
    "        j+=1\n",
    "        i+=1\n",
    "    return l-remove"
   ]
  },
  {
   "cell_type": "code",
   "execution_count": 41,
   "id": "5ac487d9",
   "metadata": {
    "ExecuteTime": {
     "end_time": "2022-09-03T17:00:15.880512Z",
     "start_time": "2022-09-03T17:00:15.867017Z"
    }
   },
   "outputs": [
    {
     "data": {
      "text/plain": [
       "(5, [0, 1, 2, 3, 4, 2, 2, 3, 3, 4])"
      ]
     },
     "execution_count": 41,
     "metadata": {},
     "output_type": "execute_result"
    }
   ],
   "source": [
    "nums = [0,0,1,1,1,2,2,3,3,4]\n",
    "# nums = [1,1,2]\n",
    "removeDuplicates(nums),nums"
   ]
  }
 ],
 "metadata": {
  "kernelspec": {
   "display_name": "Python 3",
   "language": "python",
   "name": "python3"
  },
  "language_info": {
   "codemirror_mode": {
    "name": "ipython",
    "version": 3
   },
   "file_extension": ".py",
   "mimetype": "text/x-python",
   "name": "python",
   "nbconvert_exporter": "python",
   "pygments_lexer": "ipython3",
   "version": "3.8.8"
  }
 },
 "nbformat": 4,
 "nbformat_minor": 5
}
