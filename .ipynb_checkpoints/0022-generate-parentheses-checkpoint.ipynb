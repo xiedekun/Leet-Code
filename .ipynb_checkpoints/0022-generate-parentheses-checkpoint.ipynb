{
 "cells": [
  {
   "cell_type": "markdown",
   "id": "bcb1b615",
   "metadata": {},
   "source": [
    "### 22. 括号生成\n",
    "数字 n 代表生成括号的对数，请你设计一个函数，用于能够生成所有可能的并且 有效的 括号组合。\n",
    "\n",
    "示例 1：\n",
    "\n",
    "输入：n = 3\n",
    "\n",
    "输出：[\"((()))\",\"(()())\",\"(())()\",\"()(())\",\"()()()\"]\n",
    "\n",
    "https://leetcode.cn/problems/generate-parentheses"
   ]
  },
  {
   "cell_type": "markdown",
   "id": "2e0dad19",
   "metadata": {},
   "source": [
    "回溯法\n",
    "\n",
    "**思路**：所谓Backtracking都是这样的思路：在当前局面下，你有若干种选择。那么尝试每一种选择。如果已经发现某种选择肯定不行（因为违反了某些限定条件），就返回；如果某种选择试到最后发现是正确解，就将其加入解集\n",
    "\n",
    "所以你思考递归题时，只要明确三点就行：选择 (Options)，限制 (Restraints)，结束条件 (Termination)。即“ORT原则”（这个是我自己编的）\n",
    "\n",
    "对于这道题，在任何时刻，你都有两种选择：\n",
    "\n",
    "加左括号。\n",
    "加右括号。\n",
    "\n",
    "同时有以下限制：\n",
    "\n",
    "如果左括号已经用完了，则不能再加左括号了。\n",
    "\n",
    "如果已经出现的右括号和左括号一样多，则不能再加右括号了。因为那样的话新加入的右括号一定无法匹配。\n",
    "\n",
    "结束条件是： 左右括号都已经用完。\n",
    "\n",
    "结束后的正确性： 左右括号用完以后，一定是正确解。因为1. 左右括号一样多，2. 每个右括号都一定有与之配对的左括号。因此一旦结束就可以加入解集（有时也可能出现结束以后不一定是正确解的情况，这时要多一步判断）。\n",
    "\n",
    "递归函数传入参数： 限制和结束条件中有“用完”和“一样多”字样，因此你需要知道左右括号的数目。 当然你还需要知道当前局面sublist和解集res。"
   ]
  },
  {
   "cell_type": "code",
   "execution_count": 28,
   "id": "e18e0b60",
   "metadata": {
    "ExecuteTime": {
     "end_time": "2022-09-03T12:18:50.633953Z",
     "start_time": "2022-09-03T12:18:50.622365Z"
    }
   },
   "outputs": [
    {
     "data": {
      "text/plain": [
       "['((()))', '(()())', '(())()', '()(())', '()()()']"
      ]
     },
     "execution_count": 28,
     "metadata": {},
     "output_type": "execute_result"
    }
   ],
   "source": [
    "res = []\n",
    "def generate(s, left, right, n):\n",
    "    if left == n and right == n:\n",
    "        res.append(s)\n",
    "    if left < n:\n",
    "        generate(s+'(', left+1, right, n)\n",
    "    if right < left:\n",
    "        generate(s+')', left, right+1, n)\n",
    "        \n",
    "generate('', 0, 0, n)\n",
    "res"
   ]
  },
  {
   "cell_type": "markdown",
   "id": "a2175b5f",
   "metadata": {
    "ExecuteTime": {
     "end_time": "2022-09-03T10:41:23.985782Z",
     "start_time": "2022-09-03T10:41:23.963423Z"
    }
   },
   "source": [
    "**思路**：递归；回溯；左括号-1，右括号+1，如果右括号时候总和已经==0，那么不有效。"
   ]
  },
  {
   "cell_type": "code",
   "execution_count": 19,
   "id": "7d88b191",
   "metadata": {
    "ExecuteTime": {
     "end_time": "2022-09-03T10:39:08.814274Z",
     "start_time": "2022-09-03T10:39:08.803277Z"
    }
   },
   "outputs": [
    {
     "data": {
      "text/plain": [
       "['((()))', '(()())', '(())()', '()(())', '()()()']"
      ]
     },
     "execution_count": 19,
     "metadata": {},
     "output_type": "execute_result"
    }
   ],
   "source": [
    "left = right = n = 3\n",
    "p = ['(', ')']\n",
    "res = []\n",
    "\n",
    "def generate(s, left, right, check):\n",
    "    \n",
    "#     print(s, left, right)\n",
    "    \n",
    "    if left == 0 and right == 0:\n",
    "        res.append(s)\n",
    "        return\n",
    "    \n",
    "    for c in p:\n",
    "        if c == '(' and left>0:\n",
    "            generate(s+'(', left-1, right, check-1)\n",
    "        elif c ==')' and right>0:\n",
    "            if s == ''or check>=0:\n",
    "                continue\n",
    "            generate(s+')', left, right-1, check+1)\n",
    "\n",
    "generate('',left, right, 0)\n",
    "res"
   ]
  },
  {
   "cell_type": "code",
   "execution_count": 23,
   "id": "bf30841a",
   "metadata": {
    "ExecuteTime": {
     "end_time": "2022-09-03T10:43:39.044292Z",
     "start_time": "2022-09-03T10:43:39.031813Z"
    }
   },
   "outputs": [],
   "source": [
    "def generateParenthesis(n):\n",
    "    \"\"\"\n",
    "    :type n: int\n",
    "    :rtype: List[str]\n",
    "    \"\"\"\n",
    "    left = right = n\n",
    "    p = ['(', ')']\n",
    "    res = []\n",
    "\n",
    "    def generate(s, left, right, check):\n",
    "\n",
    "        if left == 0 and right == 0:\n",
    "            res.append(s)\n",
    "            return\n",
    "\n",
    "        for c in p:\n",
    "            if c == '(' and left>0:\n",
    "                generate(s+'(', left-1, right, check-1)\n",
    "            elif c ==')' and right>0:\n",
    "                if s == ''or check>=0:\n",
    "                    continue\n",
    "                generate(s+')', left, right-1, check+1)\n",
    "\n",
    "    generate('',left, right, 0)\n",
    "    return res"
   ]
  },
  {
   "cell_type": "code",
   "execution_count": 24,
   "id": "5dd7046c",
   "metadata": {
    "ExecuteTime": {
     "end_time": "2022-09-03T10:43:40.297277Z",
     "start_time": "2022-09-03T10:43:40.286848Z"
    }
   },
   "outputs": [
    {
     "data": {
      "text/plain": [
       "['((()))', '(()())', '(())()', '()(())', '()()()']"
      ]
     },
     "execution_count": 24,
     "metadata": {},
     "output_type": "execute_result"
    }
   ],
   "source": [
    "n = 3\n",
    "generateParenthesis(3)"
   ]
  }
 ],
 "metadata": {
  "kernelspec": {
   "display_name": "Python 3",
   "language": "python",
   "name": "python3"
  },
  "language_info": {
   "codemirror_mode": {
    "name": "ipython",
    "version": 3
   },
   "file_extension": ".py",
   "mimetype": "text/x-python",
   "name": "python",
   "nbconvert_exporter": "python",
   "pygments_lexer": "ipython3",
   "version": "3.8.8"
  }
 },
 "nbformat": 4,
 "nbformat_minor": 5
}
