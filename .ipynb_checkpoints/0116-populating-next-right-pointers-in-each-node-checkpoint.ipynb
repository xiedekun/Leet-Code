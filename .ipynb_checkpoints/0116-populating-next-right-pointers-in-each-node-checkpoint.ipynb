{
 "cells": [
  {
   "attachments": {
    "image.png": {
     "image/png": "[encoded data removed]"
    }
   },
   "cell_type": "markdown",
   "id": "c0168201",
   "metadata": {},
   "source": [
    "### 116. 填充每个节点的下一个右侧节点指针\n",
    "给定一个 完美二叉树 ，其所有叶子节点都在同一层，每个父节点都有两个子节点。二叉树定义如下：\n",
    "\n",
    "    struct Node {\n",
    "      int val;\n",
    "      Node *left;\n",
    "      Node *right;\n",
    "      Node *next;\n",
    "    }\n",
    "填充它的每个 next 指针，让这个指针指向其下一个右侧节点。如果找不到下一个右侧节点，则将 next 指针设置为 NULL。\n",
    "\n",
    "初始状态下，所有 next 指针都被设置为 NULL。\n",
    "\n",
    " \n",
    "\n",
    "示例 1：\n",
    "\n",
    "![image.png](attachment:image.png)\n",
    "\n",
    "    输入：root = [1,2,3,4,5,6,7]\n",
    "    输出：[1,#,2,3,#,4,5,6,7,#]\n",
    "解释：给定二叉树如图 A 所示，你的函数应该填充它的每个 next 指针，以指向其下一个右侧节点，如图 B 所示。序列化的输出按层序遍历排列，同一层节点由 next 指针连接，'#' 标志着每一层的结束。\n",
    "\n",
    "https://leetcode.cn/problems/populating-next-right-pointers-in-each-node/"
   ]
  },
  {
   "cell_type": "markdown",
   "id": "a44abc72",
   "metadata": {},
   "source": [
    "**思路**：递归\n",
    "\n",
    "节点左子树连接右子树；节点next的左子树连节点的右子树。"
   ]
  },
  {
   "cell_type": "code",
   "execution_count": 25,
   "id": "6772144f",
   "metadata": {
    "ExecuteTime": {
     "end_time": "2022-09-23T14:04:16.196291Z",
     "start_time": "2022-09-23T14:04:16.180315Z"
    }
   },
   "outputs": [],
   "source": [
    "class Node(object):\n",
    "    def __init__(self, val=0, left=None, right=None, next=None):\n",
    "        self.val = val\n",
    "        self.left = left\n",
    "        self.right = right\n",
    "        self.next = next"
   ]
  },
  {
   "cell_type": "code",
   "execution_count": 86,
   "id": "781aa1e0",
   "metadata": {
    "ExecuteTime": {
     "end_time": "2022-09-23T14:30:36.887547Z",
     "start_time": "2022-09-23T14:30:36.861921Z"
    }
   },
   "outputs": [],
   "source": [
    "def build(nums, i):\n",
    "    \n",
    "    if i >= len(nums):\n",
    "        return \n",
    "    \n",
    "    if not nums[i]:\n",
    "        return\n",
    "\n",
    "    root = Node(nums[i])\n",
    "        \n",
    "    root.left = build(nums, 2*i+1)\n",
    "    root.right = build(nums, 2*i+2)\n",
    "    \n",
    "    return root"
   ]
  },
  {
   "cell_type": "code",
   "execution_count": 95,
   "id": "603ae720",
   "metadata": {
    "ExecuteTime": {
     "end_time": "2022-09-23T14:40:45.415518Z",
     "start_time": "2022-09-23T14:40:45.389790Z"
    }
   },
   "outputs": [],
   "source": [
    "def connect(root):\n",
    "    \"\"\"\n",
    "    :type root: Node\n",
    "    :rtype: Node\n",
    "    \"\"\"\n",
    "    \n",
    "    if root == None or root.left == None:\n",
    "        return root\n",
    "    \n",
    "    root.left.next = root.right\n",
    "    \n",
    "    if root.next:\n",
    "        root.right.next = root.next.left\n",
    "    \n",
    "    connect(root.left)\n",
    "    connect(root.right)\n",
    "    \n",
    "    return root"
   ]
  },
  {
   "cell_type": "code",
   "execution_count": 96,
   "id": "46ade089",
   "metadata": {
    "ExecuteTime": {
     "end_time": "2022-09-23T14:40:47.019245Z",
     "start_time": "2022-09-23T14:40:46.998845Z"
    }
   },
   "outputs": [
    {
     "data": {
      "text/plain": [
       "3"
      ]
     },
     "execution_count": 96,
     "metadata": {},
     "output_type": "execute_result"
    }
   ],
   "source": [
    "root = [1,2,3,4,5,6,7]\n",
    "root = build(root, 0)\n",
    "connect(root)\n",
    "root.left.next.val\n",
    "# root.left.next.val"
   ]
  },
  {
   "cell_type": "markdown",
   "id": "ed2428d0",
   "metadata": {},
   "source": [
    "**思路**：层序遍历\n",
    "\n",
    "空间复杂度 O(n)"
   ]
  },
  {
   "cell_type": "code",
   "execution_count": 28,
   "id": "af2209a9",
   "metadata": {
    "ExecuteTime": {
     "end_time": "2022-09-23T14:11:16.551344Z",
     "start_time": "2022-09-23T14:11:16.537573Z"
    }
   },
   "outputs": [],
   "source": [
    "def connect(root):\n",
    "    \"\"\"\n",
    "    :type root: Node\n",
    "    :rtype: Node\n",
    "    \"\"\"\n",
    "    if not root:\n",
    "        return \n",
    "    \n",
    "    queue = [root]\n",
    "\n",
    "    while queue:\n",
    "        size = len(queue)\n",
    "        for i in range(size):\n",
    "            if i != size-1:\n",
    "                queue[i].next = queue[i+1]\n",
    "            else:\n",
    "                queue[i].next = None\n",
    "\n",
    "        for _ in range(size):\n",
    "            node = queue.pop(0)\n",
    "\n",
    "            if node.left:\n",
    "                queue.append(node.left)\n",
    "            if node.right:\n",
    "                queue.append(node.right)\n",
    "\n",
    "    return root"
   ]
  },
  {
   "cell_type": "code",
   "execution_count": 31,
   "id": "243ded7c",
   "metadata": {
    "ExecuteTime": {
     "end_time": "2022-09-23T14:19:20.061232Z",
     "start_time": "2022-09-23T14:19:20.046963Z"
    }
   },
   "outputs": [
    {
     "data": {
      "text/plain": [
       "3"
      ]
     },
     "execution_count": 31,
     "metadata": {},
     "output_type": "execute_result"
    }
   ],
   "source": [
    "root = [1,2,3,4,5,6,7]\n",
    "root = build(root, 0)\n",
    "\n",
    "connect(root)\n",
    "root.left.next.val"
   ]
  },
  {
   "cell_type": "code",
   "execution_count": null,
   "id": "7ebfbd96",
   "metadata": {},
   "outputs": [],
   "source": []
  }
 ],
 "metadata": {
  "kernelspec": {
   "display_name": "Python 3",
   "language": "python",
   "name": "python3"
  },
  "language_info": {
   "codemirror_mode": {
    "name": "ipython",
    "version": 3
   },
   "file_extension": ".py",
   "mimetype": "text/x-python",
   "name": "python",
   "nbconvert_exporter": "python",
   "pygments_lexer": "ipython3",
   "version": "3.8.8"
  }
 },
 "nbformat": 4,
 "nbformat_minor": 5
}
