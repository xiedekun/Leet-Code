{
 "cells": [
  {
   "attachments": {
    "image-2.png": {
     "image/png": "[encoded data removed]"
    },
    "image.png": {
     "image/png": "[encoded data removed]"
    }
   },
   "cell_type": "markdown",
   "id": "df6a3348",
   "metadata": {},
   "source": [
    "### 885.螺旋矩阵 III\n",
    "在 R 行 C 列的矩阵上，我们从 (r0, c0) 面朝东面开始\n",
    "\n",
    "这里，网格的西北角位于第一行第一列，网格的东南角位于最后一行最后一列。\n",
    "\n",
    "现在，我们以顺时针按螺旋状行走，访问此网格中的每个位置。\n",
    "\n",
    "每当我们移动到网格的边界之外时，我们会继续在网格之外行走（但稍后可能会返回到网格边界）。\n",
    "\n",
    "最终，我们到过网格的所有 R * C 个空间。\n",
    "\n",
    "按照访问顺序返回表示网格位置的坐标列表。\n",
    "![image.png](attachment:image.png)\n",
    "\n",
    "输入：R = 5, C = 6, r0 = 1, c0 = 4\n",
    "\n",
    "输出：[[1,4],[1,5],[2,5],[2,4],[2,3],[1,3],[0,3],[0,4],[0,5],[3,5],[3,4],[3,3],[3,2],[2,2],[1,2],[0,2],[4,5],[4,4],[4,3],[4,2],[4,1],[3,1],[2,1],[1,1],[0,1],[4,0],[3,0],[2,0],[1,0],[0,0]]\n",
    "\n",
    "![image-2.png](attachment:image-2.png)\n",
    "\n",
    "输入：R = 1, C = 4, r0 = 0, c0 = 0\n",
    "输出：[[0,0],[0,1],[0,2],[0,3]]\n",
    "\n",
    "https://leetcode.cn/problems/spiral-matrix-iii"
   ]
  },
  {
   "cell_type": "code",
   "execution_count": 12,
   "id": "9151701f",
   "metadata": {
    "ExecuteTime": {
     "end_time": "2022-08-30T15:44:50.477571Z",
     "start_time": "2022-08-30T15:44:50.461121Z"
    }
   },
   "outputs": [
    {
     "data": {
      "text/plain": [
       "[[1, 4],\n",
       " [1, 5],\n",
       " [2, 5],\n",
       " [2, 4],\n",
       " [2, 3],\n",
       " [1, 3],\n",
       " [0, 3],\n",
       " [0, 4],\n",
       " [0, 5],\n",
       " [3, 5],\n",
       " [3, 4],\n",
       " [3, 3],\n",
       " [3, 2],\n",
       " [2, 2],\n",
       " [1, 2],\n",
       " [0, 2],\n",
       " [4, 5],\n",
       " [4, 4],\n",
       " [4, 3],\n",
       " [4, 2],\n",
       " [4, 1],\n",
       " [3, 1],\n",
       " [2, 1],\n",
       " [1, 1],\n",
       " [0, 1],\n",
       " [4, 0],\n",
       " [3, 0],\n",
       " [2, 0],\n",
       " [1, 0],\n",
       " [0, 0]]"
      ]
     },
     "execution_count": 12,
     "metadata": {},
     "output_type": "execute_result"
    }
   ],
   "source": [
    "r, c, r0, c0 = 5, 6, 1, 4\n",
    "i, j = r0, c0\n",
    "di, dj = 0, 1\n",
    "step = 1\n",
    "n = 0\n",
    "\n",
    "res = [[i, j]]\n",
    "\n",
    "while len(res) < r*c:\n",
    "    for _ in range(step):\n",
    "        i+=di\n",
    "        j+=dj\n",
    "        if 0<=i<r and 0<=j<c:\n",
    "            res.append([i, j])\n",
    "            \n",
    "    n+=1\n",
    "    if n%2 == 0:\n",
    "        step+=1\n",
    "        \n",
    "    di, dj = dj, -di\n",
    "    \n",
    "res"
   ]
  }
 ],
 "metadata": {
  "kernelspec": {
   "display_name": "Python 3",
   "language": "python",
   "name": "python3"
  },
  "language_info": {
   "codemirror_mode": {
    "name": "ipython",
    "version": 3
   },
   "file_extension": ".py",
   "mimetype": "text/x-python",
   "name": "python",
   "nbconvert_exporter": "python",
   "pygments_lexer": "ipython3",
   "version": "3.8.8"
  }
 },
 "nbformat": 4,
 "nbformat_minor": 5
}
