{
 "cells": [
  {
   "cell_type": "markdown",
   "id": "bf8c4665",
   "metadata": {},
   "source": [
    "### 092. 反转链表 II\n",
    "给你单链表的头指针 head 和两个整数 left 和 right ，其中 left <= right 。请你反转从位置 left 到位置 right 的链表节点，返回 反转后的链表 。\n",
    "\n",
    "输入：head = [1,2,3,4,5], left = 2, right = 4\n",
    "\n",
    "输出：[1,4,3,2,5]\n",
    "\n",
    "链接：https://leetcode.cn/problems/reverse-linked-list-ii"
   ]
  },
  {
   "cell_type": "code",
   "execution_count": 1,
   "id": "140004fe",
   "metadata": {
    "ExecuteTime": {
     "end_time": "2022-08-24T09:50:48.986485Z",
     "start_time": "2022-08-24T09:50:48.966491Z"
    }
   },
   "outputs": [],
   "source": [
    "class ListNode(object):\n",
    "    def __init__(self, val=0, next=None):\n",
    "        self.val = val\n",
    "        self.next = next"
   ]
  },
  {
   "cell_type": "code",
   "execution_count": 3,
   "id": "dbe60f9b",
   "metadata": {
    "ExecuteTime": {
     "end_time": "2022-08-24T09:50:59.775132Z",
     "start_time": "2022-08-24T09:50:59.753407Z"
    }
   },
   "outputs": [
    {
     "name": "stdout",
     "output_type": "stream",
     "text": [
      "1\n",
      "4\n",
      "3\n",
      "2\n",
      "5\n"
     ]
    }
   ],
   "source": [
    "head = ListNode(1, ListNode(2, ListNode(3, ListNode(4, ListNode(5)))))\n",
    "\n",
    "left = 2\n",
    "right = 4\n",
    "\n",
    "nxt = None\n",
    "pre = None\n",
    "\n",
    "dummyhead = node_left_before = ListNode(None)\n",
    "\n",
    "dummyhead.next = head\n",
    "\n",
    "for i in range(left-1):\n",
    "    node_left_before = node_left_before.next\n",
    "    \n",
    "node_left = node_left_before.next\n",
    "cur = node_left_before.next\n",
    "\n",
    "for i in range(right-left+1):\n",
    "    nxt = cur.next\n",
    "    cur.next= pre\n",
    "    pre = cur\n",
    "    cur = nxt\n",
    "    \n",
    "node_left_before.next = pre\n",
    "node_left.next = cur\n",
    "\n",
    "while dummyhead.next:\n",
    "    print(dummyhead.next.val)\n",
    "    dummyhead = dummyhead.next\n",
    "    \n",
    "\n",
    "\n",
    "    "
   ]
  },
  {
   "cell_type": "code",
   "execution_count": 4,
   "id": "91cf3f99",
   "metadata": {
    "ExecuteTime": {
     "end_time": "2022-08-24T09:51:44.046530Z",
     "start_time": "2022-08-24T09:51:44.034029Z"
    }
   },
   "outputs": [],
   "source": [
    "def reverseBetween(head, left, right):\n",
    "    \"\"\"\n",
    "    :type head: ListNode\n",
    "    :type left: int\n",
    "    :type right: int\n",
    "    :rtype: ListNode\n",
    "    \"\"\"\n",
    "    nxt = None\n",
    "    pre = None\n",
    "    \n",
    "    dummyhead = node_left_before = ListNode(None)\n",
    "\n",
    "    dummyhead.next = head\n",
    "\n",
    "    for i in range(left-1):\n",
    "        node_left_before = node_left_before.next\n",
    "\n",
    "    node_left = node_left_before.next\n",
    "    cur = node_left_before.next\n",
    "\n",
    "    for i in range(right-left+1):\n",
    "        nxt = cur.next\n",
    "        cur.next= pre\n",
    "        pre = cur\n",
    "        cur = nxt\n",
    "\n",
    "    node_left_before.next = pre\n",
    "    node_left.next = cur\n",
    "    return dummyhead.next"
   ]
  }
 ],
 "metadata": {
  "kernelspec": {
   "display_name": "Python 3",
   "language": "python",
   "name": "python3"
  },
  "language_info": {
   "codemirror_mode": {
    "name": "ipython",
    "version": 3
   },
   "file_extension": ".py",
   "mimetype": "text/x-python",
   "name": "python",
   "nbconvert_exporter": "python",
   "pygments_lexer": "ipython3",
   "version": "3.8.8"
  }
 },
 "nbformat": 4,
 "nbformat_minor": 5
}
