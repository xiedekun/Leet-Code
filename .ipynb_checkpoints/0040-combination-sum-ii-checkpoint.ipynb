{
 "cells": [
  {
   "cell_type": "markdown",
   "id": "29ceacdd",
   "metadata": {},
   "source": [
    "### 40. 组合总和 II\n",
    "给定一个候选人编号的集合 candidates 和一个目标数 target ，找出 candidates 中所有可以使数字和为 target 的组合。\n",
    "\n",
    "candidates 中的每个数字在每个组合中只能使用 一次 。\n",
    "\n",
    "注意：解集不能包含重复的组合。 \n",
    "\n",
    " \n",
    "\n",
    "示例 1:\n",
    "\n",
    "输入: candidates = [10,1,2,7,6,1,5], target = 8,\n",
    "\n",
    "输出:\n",
    "[\n",
    "[1,1,6],\n",
    "[1,2,5],\n",
    "[1,7],\n",
    "[2,6]\n",
    "]\n",
    "\n",
    "https://leetcode.cn/problems/combination-sum-ii/"
   ]
  },
  {
   "cell_type": "markdown",
   "id": "c1b77298",
   "metadata": {},
   "source": [
    "**思路**：回溯法;重点再去重，要先排序，如果前后一样跳过"
   ]
  },
  {
   "cell_type": "code",
   "execution_count": 63,
   "id": "c565b4a1",
   "metadata": {
    "ExecuteTime": {
     "end_time": "2022-09-11T16:19:14.395422Z",
     "start_time": "2022-09-11T16:19:14.366627Z"
    }
   },
   "outputs": [],
   "source": [
    "def combinationSum2(candidates, target):\n",
    "    \"\"\"\n",
    "    :type candidates: List[int]\n",
    "    :type target: int\n",
    "    :rtype: List[List[int]]\n",
    "    \"\"\"\n",
    "    if not candidates:\n",
    "        return []\n",
    "    res = []\n",
    "    candidates.sort()\n",
    "    def backtrack(candidates, target, arr):\n",
    "#         print(arr)\n",
    "        if sum(arr) == target:\n",
    "            res.append(arr)\n",
    "            return \n",
    "        elif sum(arr) > target:\n",
    "            return \n",
    "        \n",
    "        for i in range(len(candidates)):\n",
    "            if i>0 and candidates[i] == candidates[i-1]:\n",
    "                continue\n",
    "            backtrack(candidates[i+1:], target, arr+[candidates[i]])\n",
    "            \n",
    "    backtrack(candidates, target, [])\n",
    "    return res\n",
    "        "
   ]
  },
  {
   "cell_type": "code",
   "execution_count": 64,
   "id": "9f140035",
   "metadata": {
    "ExecuteTime": {
     "end_time": "2022-09-11T16:19:15.700239Z",
     "start_time": "2022-09-11T16:19:15.678731Z"
    }
   },
   "outputs": [
    {
     "data": {
      "text/plain": [
       "[[1, 1, 6], [1, 2, 5], [1, 7], [2, 6]]"
      ]
     },
     "execution_count": 64,
     "metadata": {},
     "output_type": "execute_result"
    }
   ],
   "source": [
    "candidates = [10,1,2,7,6,1,5]\n",
    "target = 8\n",
    "\n",
    "\n",
    "# candidates = [1,1,1,1,1,1,1,1,1,1,1,1,1,1,1,1,1,1,1,1,1,1,1,1,1]\n",
    "# target = 27\n",
    "combinationSum2(candidates, target)"
   ]
  }
 ],
 "metadata": {
  "kernelspec": {
   "display_name": "Python 3",
   "language": "python",
   "name": "python3"
  },
  "language_info": {
   "codemirror_mode": {
    "name": "ipython",
    "version": 3
   },
   "file_extension": ".py",
   "mimetype": "text/x-python",
   "name": "python",
   "nbconvert_exporter": "python",
   "pygments_lexer": "ipython3",
   "version": "3.8.8"
  }
 },
 "nbformat": 4,
 "nbformat_minor": 5
}
