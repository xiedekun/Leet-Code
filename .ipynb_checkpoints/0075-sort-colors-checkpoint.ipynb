{
 "cells": [
  {
   "cell_type": "markdown",
   "id": "8d028749",
   "metadata": {},
   "source": [
    "### 75. 颜色分类\n",
    "给定一个包含红色、白色和蓝色、共 n 个元素的数组 nums ，原地对它们进行排序，使得相同颜色的元素相邻，并按照红色、白色、蓝色顺序排列。\n",
    "\n",
    "我们使用整数 0、 1 和 2 分别表示红色、白色和蓝色。\n",
    "\n",
    "必须在不使用库的sort函数的情况下解决这个问题。\n",
    "\n",
    " \n",
    "\n",
    "示例 1：\n",
    "\n",
    "输入：nums = [2,0,2,1,1,0]\n",
    "输出：[0,0,1,1,2,2]\n",
    "\n",
    "https://leetcode.cn/problems/sort-colors/"
   ]
  },
  {
   "cell_type": "markdown",
   "id": "26fb6e9c",
   "metadata": {},
   "source": [
    "**思路**：快速排序"
   ]
  },
  {
   "cell_type": "code",
   "execution_count": 169,
   "id": "9af13ed4",
   "metadata": {
    "ExecuteTime": {
     "end_time": "2022-09-15T03:38:49.816741Z",
     "start_time": "2022-09-15T03:38:49.791676Z"
    }
   },
   "outputs": [],
   "source": [
    "def sortColors(nums):\n",
    "    \"\"\"\n",
    "    :type nums: List[int]\n",
    "    :rtype: None Do not return anything, modify nums in-place instead.\n",
    "    \"\"\"\n",
    "    import random\n",
    "    def partition(nums, start, end):\n",
    "\n",
    "        idx = start + int((end-start+1)*random.random())\n",
    "        nums[idx], nums[end] = nums[end], nums[idx]\n",
    "        i = j = start-1\n",
    "        for idx in range(start, end):\n",
    "            if nums[idx]<=nums[end]:\n",
    "                nums[idx], nums[i+1] = nums[i+1], nums[idx]\n",
    "                i+=1\n",
    "                j+=1\n",
    "            elif nums[idx]>nums[end]:\n",
    "                j+=1\n",
    "        nums[end], nums[i+1] = nums[i+1], nums[end]\n",
    "\n",
    "        return i+1\n",
    "\n",
    "    def quicksort(nums, start, end):\n",
    "        if start<0 or end>=len(nums) or start>end:\n",
    "            return \n",
    "        idx = partition(nums, start, end)\n",
    "        if idx > start:\n",
    "            quicksort(nums, start, idx-1)\n",
    "        if idx < end:\n",
    "            quicksort(nums, idx+1, end)\n",
    "    quicksort(nums, 0, len(nums)-1)\n",
    "\n"
   ]
  },
  {
   "cell_type": "code",
   "execution_count": 170,
   "id": "3838741c",
   "metadata": {
    "ExecuteTime": {
     "end_time": "2022-09-15T03:38:57.458478Z",
     "start_time": "2022-09-15T03:38:57.441155Z"
    }
   },
   "outputs": [
    {
     "data": {
      "text/plain": [
       "[0, 0, 1, 1, 2, 2]"
      ]
     },
     "execution_count": 170,
     "metadata": {},
     "output_type": "execute_result"
    }
   ],
   "source": [
    "nums = [2,0,2,1,1,0] \n",
    "sortColors(nums)\n",
    "nums"
   ]
  },
  {
   "cell_type": "markdown",
   "id": "f4db482c",
   "metadata": {
    "ExecuteTime": {
     "end_time": "2022-09-15T03:36:24.190516Z",
     "start_time": "2022-09-15T03:36:24.171248Z"
    }
   },
   "source": [
    "**思路**：3个元素，类似partition"
   ]
  },
  {
   "cell_type": "code",
   "execution_count": 199,
   "id": "4a320864",
   "metadata": {
    "ExecuteTime": {
     "end_time": "2022-09-15T08:06:54.882250Z",
     "start_time": "2022-09-15T08:06:54.863053Z"
    }
   },
   "outputs": [],
   "source": [
    "def sortColors(nums):\n",
    "    \"\"\"\n",
    "    :type nums: List[int]\n",
    "    :rtype: None Do not return anything, modify nums in-place instead.\n",
    "    \"\"\"\n",
    "\n",
    "    start, cur, end = 0, 0, len(nums)-1\n",
    "    \n",
    "    while cur<=end:\n",
    "        if nums[cur]==0:\n",
    "            nums[cur], nums[start] = nums[start], nums[cur]\n",
    "            cur+=1\n",
    "            start+=1\n",
    "        elif nums[cur]==1:\n",
    "            cur+=1\n",
    "        else:\n",
    "            nums[cur], nums[end] = nums[end], nums[cur]\n",
    "            end-=1\n"
   ]
  },
  {
   "cell_type": "code",
   "execution_count": 200,
   "id": "d1e04aac",
   "metadata": {
    "ExecuteTime": {
     "end_time": "2022-09-15T08:06:56.185941Z",
     "start_time": "2022-09-15T08:06:56.170542Z"
    }
   },
   "outputs": [
    {
     "data": {
      "text/plain": [
       "[0, 0, 0, 1, 1, 1, 1, 2, 2, 2]"
      ]
     },
     "execution_count": 200,
     "metadata": {},
     "output_type": "execute_result"
    }
   ],
   "source": [
    "nums = [2,0,2,1,1,0,2,0,1,1] \n",
    "sortColors(nums)\n",
    "nums"
   ]
  }
 ],
 "metadata": {
  "kernelspec": {
   "display_name": "Python 3",
   "language": "python",
   "name": "python3"
  },
  "language_info": {
   "codemirror_mode": {
    "name": "ipython",
    "version": 3
   },
   "file_extension": ".py",
   "mimetype": "text/x-python",
   "name": "python",
   "nbconvert_exporter": "python",
   "pygments_lexer": "ipython3",
   "version": "3.8.8"
  }
 },
 "nbformat": 4,
 "nbformat_minor": 5
}
