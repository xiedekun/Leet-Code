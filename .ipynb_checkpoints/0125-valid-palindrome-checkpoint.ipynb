{
 "cells": [
  {
   "cell_type": "markdown",
   "id": "64a23cfd",
   "metadata": {},
   "source": [
    "### 125. 验证回文串\n",
    "如果在将所有大写字符转换为小写字符、并移除所有非字母数字字符之后，短语正着读和反着读都一样。则可以认为该短语是一个 回文串 。\n",
    "\n",
    "字母和数字都属于字母数字字符。\n",
    "\n",
    "给你一个字符串 s，如果它是 回文串 ，返回 true ；否则，返回 false 。\n",
    "\n",
    " \n",
    "\n",
    "示例 1：\n",
    "\n",
    "    输入: s = \"A man, a plan, a canal: Panama\"\n",
    "    输出：true\n",
    "    解释：\"amanaplanacanalpanama\" 是回文串。\n",
    "\n",
    "https://leetcode.cn/problems/valid-palindrome/"
   ]
  },
  {
   "cell_type": "markdown",
   "id": "bd796bb0",
   "metadata": {},
   "source": [
    "**思路**：双指针"
   ]
  },
  {
   "cell_type": "code",
   "execution_count": 102,
   "id": "4554f836",
   "metadata": {
    "ExecuteTime": {
     "end_time": "2022-09-25T03:42:18.504840Z",
     "start_time": "2022-09-25T03:42:18.485129Z"
    }
   },
   "outputs": [],
   "source": [
    "def isPalindrome(s):\n",
    "    \"\"\"\n",
    "    :type s: str\n",
    "    :rtype: bool\n",
    "    \"\"\"\n",
    "    if s == '':\n",
    "        return True\n",
    "    s = s.lower()\n",
    "    i,j = 0, len(s)-1\n",
    "\n",
    "    while i<=j:\n",
    "        if not ('a' <= s[i]<='z' or '0'<=s[i]<='9'):\n",
    "            i+=1\n",
    "            continue\n",
    "        if not ('a' <= s[j]<='z' or '0'<=s[j]<='9'):\n",
    "            j-=1\n",
    "            continue\n",
    "            \n",
    "        if s[i] != s[j]:\n",
    "            return False\n",
    "        i+=1\n",
    "        j-=1\n",
    "        \n",
    "    return True"
   ]
  },
  {
   "cell_type": "code",
   "execution_count": 104,
   "id": "d147afe2",
   "metadata": {
    "ExecuteTime": {
     "end_time": "2022-09-25T03:42:22.257662Z",
     "start_time": "2022-09-25T03:42:22.230610Z"
    }
   },
   "outputs": [
    {
     "data": {
      "text/plain": [
       "False"
      ]
     },
     "execution_count": 104,
     "metadata": {},
     "output_type": "execute_result"
    }
   ],
   "source": [
    "s = \"A man, a plan, a canal: Panama\"\n",
    "s= \"0P\"\n",
    "isPalindrome(s)"
   ]
  }
 ],
 "metadata": {
  "kernelspec": {
   "display_name": "Python 3",
   "language": "python",
   "name": "python3"
  },
  "language_info": {
   "codemirror_mode": {
    "name": "ipython",
    "version": 3
   },
   "file_extension": ".py",
   "mimetype": "text/x-python",
   "name": "python",
   "nbconvert_exporter": "python",
   "pygments_lexer": "ipython3",
   "version": "3.8.8"
  }
 },
 "nbformat": 4,
 "nbformat_minor": 5
}
