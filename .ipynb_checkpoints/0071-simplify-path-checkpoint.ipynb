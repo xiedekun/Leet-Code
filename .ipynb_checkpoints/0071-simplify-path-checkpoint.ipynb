{
 "cells": [
  {
   "cell_type": "markdown",
   "id": "b24b6eb5",
   "metadata": {},
   "source": [
    "### 71. 简化路径\n",
    "给你一个字符串 path ，表示指向某一文件或目录的 Unix 风格 绝对路径 （以 '/' 开头），请你将其转化为更加简洁的规范路径。\n",
    "\n",
    "在 Unix 风格的文件系统中，一个点（.）表示当前目录本身；此外，两个点 （..） 表示将目录切换到上一级（指向父目录）；两者都可以是复杂相对路径的组成部分。任意多个连续的斜杠（即，'//'）都被视为单个斜杠 '/' 。 对于此问题，任何其他格式的点（例如，'...'）均被视为文件/目录名称。\n",
    "\n",
    "请注意，返回的 规范路径 必须遵循下述格式：\n",
    "\n",
    "始终以斜杠 '/' 开头。\n",
    "两个目录名之间必须只有一个斜杠 '/' 。\n",
    "最后一个目录名（如果存在）不能 以 '/' 结尾。\n",
    "此外，路径仅包含从根目录到目标文件或目录的路径上的目录（即，不含 '.' 或 '..'）。\n",
    "返回简化后得到的 规范路径 。\n",
    "\n",
    " \n",
    "\n",
    "示例 1：\n",
    "\n",
    "输入：path = \"/home/\"\n",
    "输出：\"/home\"\n",
    "解释：注意，最后一个目录名后面没有斜杠。 \n",
    "\n",
    "https://leetcode.cn/problems/simplify-path/"
   ]
  },
  {
   "cell_type": "markdown",
   "id": "a41cb6f1",
   "metadata": {},
   "source": [
    "**思路**：先分割，数组里面再根据'..'弹出"
   ]
  },
  {
   "cell_type": "code",
   "execution_count": 19,
   "id": "26ad8f19",
   "metadata": {
    "ExecuteTime": {
     "end_time": "2022-09-14T12:59:33.093477Z",
     "start_time": "2022-09-14T12:59:33.073150Z"
    }
   },
   "outputs": [],
   "source": [
    "def simplifyPath(path):\n",
    "    \"\"\"\n",
    "    :type path: str\n",
    "    :rtype: str\n",
    "    \"\"\"\n",
    "    res = []\n",
    "    p = path.split('/')\n",
    "    for s in p:\n",
    "        if s not in ('','.','/','..'):\n",
    "            res.append(s)\n",
    "        if s=='..'and res:\n",
    "            res.pop()\n",
    "\n",
    "    return '/'+'/'.join(res)"
   ]
  },
  {
   "cell_type": "code",
   "execution_count": 20,
   "id": "d4457e04",
   "metadata": {
    "ExecuteTime": {
     "end_time": "2022-09-14T12:59:34.022867Z",
     "start_time": "2022-09-14T12:59:34.009284Z"
    }
   },
   "outputs": [
    {
     "data": {
      "text/plain": [
       "'/home/foo'"
      ]
     },
     "execution_count": 20,
     "metadata": {},
     "output_type": "execute_result"
    }
   ],
   "source": [
    "path = \"/a/./b/../../c/\"\n",
    "path = \"/home/\"\n",
    "path = \"/home//foo/\"\n",
    "simplifyPath(path)"
   ]
  }
 ],
 "metadata": {
  "kernelspec": {
   "display_name": "Python 3",
   "language": "python",
   "name": "python3"
  },
  "language_info": {
   "codemirror_mode": {
    "name": "ipython",
    "version": 3
   },
   "file_extension": ".py",
   "mimetype": "text/x-python",
   "name": "python",
   "nbconvert_exporter": "python",
   "pygments_lexer": "ipython3",
   "version": "3.8.8"
  }
 },
 "nbformat": 4,
 "nbformat_minor": 5
}
