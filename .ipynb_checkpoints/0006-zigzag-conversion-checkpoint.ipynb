{
 "cells": [
  {
   "attachments": {
    "image.png": {
     "image/png": "[encoded data removed]"
    }
   },
   "cell_type": "markdown",
   "id": "b676cc53",
   "metadata": {},
   "source": [
    "### 6. Z 字形变换\n",
    "将一个给定字符串 s 根据给定的行数 numRows ，以从上往下、从左到右进行 Z 字形排列。\n",
    "\n",
    "比如输入字符串为 \"PAYPALISHIRING\" 行数为 3 时，排列如下：\n",
    "\n",
    "P   A   H   N\n",
    "\n",
    "A P L S I I G\n",
    "\n",
    "Y   I   R\n",
    "\n",
    "之后，你的输出需要从左往右逐行读取，产生出一个新的字符串，比如：\"PAHNAPLSIIGYIR\"。\n",
    "\n",
    "请你实现这个将字符串进行指定行数变换的函数：\n",
    "\n",
    "string convert(string s, int numRows);\n",
    "\n",
    "输入：s = \"PAYPALISHIRING\", numRows = 4\n",
    "\n",
    "输出：\"PINALSIGYAHRPI\"\n",
    "\n",
    "解释：\n",
    "![image.png](attachment:image.png)\n",
    "\n",
    "https://leetcode.cn/problems/zigzag-conversion"
   ]
  },
  {
   "cell_type": "markdown",
   "id": "9079d7c0",
   "metadata": {},
   "source": [
    "### 模拟\n",
    "思路：找到重复的规律，然后循环。"
   ]
  },
  {
   "cell_type": "code",
   "execution_count": 98,
   "id": "f37669f5",
   "metadata": {
    "ExecuteTime": {
     "end_time": "2022-08-31T13:42:12.872594Z",
     "start_time": "2022-08-31T13:42:12.860595Z"
    }
   },
   "outputs": [
    {
     "data": {
      "text/plain": [
       "'PAHNAPLSIIGYIR'"
      ]
     },
     "execution_count": 98,
     "metadata": {},
     "output_type": "execute_result"
    }
   ],
   "source": [
    "s = 'PAYPALISHIRING'\n",
    "# s = 'A'\n",
    "n = 3\n",
    "\n",
    "# if n== 1:\n",
    "#     return s\n",
    "\n",
    "res = [[] for x in range(n)]\n",
    "\n",
    "skip = 2 * n - 2\n",
    "c = s[0: skip]\n",
    "\n",
    "start = 0\n",
    "\n",
    "while start < len(s):\n",
    "    for i in range(n):\n",
    "        if i in (0, n-1):\n",
    "            if start+i < len(s):\n",
    "                res[i].append(s[start+i])\n",
    "\n",
    "        else:\n",
    "            if start+i < len(s):            \n",
    "                res[i].append(s[start+i])\n",
    "            if start+skip-i < len(s):            \n",
    "                res[i].append(s[start+skip-i])\n",
    "    start += skip\n",
    "\n",
    "\n",
    "''.join([s for i in range(len(res)) for s in res[i]])"
   ]
  },
  {
   "cell_type": "code",
   "execution_count": 99,
   "id": "45b399e3",
   "metadata": {
    "ExecuteTime": {
     "end_time": "2022-08-31T13:42:17.585223Z",
     "start_time": "2022-08-31T13:42:17.572646Z"
    }
   },
   "outputs": [],
   "source": [
    "def convert(s, numRows):\n",
    "        \"\"\"\n",
    "        :type s: str\n",
    "        :type numRows: int\n",
    "        :rtype: str\n",
    "        \"\"\"\n",
    "        n = numRows\n",
    "        if n== 1:\n",
    "            return s\n",
    "\n",
    "        res = [[] for x in range(n)]\n",
    "\n",
    "        skip = 2 * n - 2\n",
    "        c = s[0: skip]\n",
    "\n",
    "        start = 0\n",
    "\n",
    "        while start < len(s):\n",
    "            for i in range(n):\n",
    "                if i in (0, n-1):\n",
    "                    if start+i < len(s):\n",
    "                        res[i].append(s[start+i])\n",
    "\n",
    "                else:\n",
    "                    if start+i < len(s):            \n",
    "                        res[i].append(s[start+i])\n",
    "                    if start+skip-i < len(s):            \n",
    "                        res[i].append(s[start+skip-i])\n",
    "            start += skip\n",
    "\n",
    "\n",
    "        return ''.join([s for i in range(len(res)) for s in res[i]])"
   ]
  },
  {
   "cell_type": "code",
   "execution_count": 96,
   "id": "637ea5f6",
   "metadata": {
    "ExecuteTime": {
     "end_time": "2022-08-31T13:40:16.788511Z",
     "start_time": "2022-08-31T13:40:16.780013Z"
    }
   },
   "outputs": [
    {
     "data": {
      "text/plain": [
       "'PINALSIGYAHRPI'"
      ]
     },
     "execution_count": 96,
     "metadata": {},
     "output_type": "execute_result"
    }
   ],
   "source": [
    "s = 'PAYPALISHIRING'\n",
    "convert(s, 4)"
   ]
  }
 ],
 "metadata": {
  "kernelspec": {
   "display_name": "Python 3",
   "language": "python",
   "name": "python3"
  },
  "language_info": {
   "codemirror_mode": {
    "name": "ipython",
    "version": 3
   },
   "file_extension": ".py",
   "mimetype": "text/x-python",
   "name": "python",
   "nbconvert_exporter": "python",
   "pygments_lexer": "ipython3",
   "version": "3.8.8"
  }
 },
 "nbformat": 4,
 "nbformat_minor": 5
}
