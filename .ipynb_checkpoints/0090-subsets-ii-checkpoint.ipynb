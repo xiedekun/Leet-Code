{
 "cells": [
  {
   "cell_type": "markdown",
   "id": "69219905",
   "metadata": {},
   "source": [
    "### 90. 子集 II\n",
    "给你一个整数数组 nums ，其中可能包含重复元素，请你返回该数组所有可能的子集（幂集）。\n",
    "\n",
    "解集 不能 包含重复的子集。返回的解集中，子集可以按 任意顺序 排列。\n",
    "\n",
    " \n",
    "\n",
    "示例 1：\n",
    "\n",
    "输入：nums = [1,2,2]\n",
    "输出：[[],[1],[1,2],[1,2,2],[2],[2,2]]\n",
    "\n",
    "https://leetcode.cn/problems/subsets-ii/"
   ]
  },
  {
   "cell_type": "markdown",
   "id": "c1edd053",
   "metadata": {},
   "source": [
    "**思路**：常规回溯法"
   ]
  },
  {
   "cell_type": "code",
   "execution_count": 33,
   "id": "9414cb82",
   "metadata": {
    "ExecuteTime": {
     "end_time": "2022-09-22T09:41:50.973839Z",
     "start_time": "2022-09-22T09:41:50.955930Z"
    }
   },
   "outputs": [],
   "source": [
    "def subsetsWithDup(nums):\n",
    "    \"\"\"\n",
    "    :type nums: List[int]\n",
    "    :rtype: List[List[int]]\n",
    "    \"\"\"\n",
    "    res = []\n",
    "    \n",
    "    if not nums:\n",
    "        return res\n",
    "\n",
    "\n",
    "    def backtrack(nums, arr):\n",
    "        res.append(arr)\n",
    "        if not nums:\n",
    "            return\n",
    "        for i in range(len(nums)):\n",
    "            if i!=0 and nums[i-1] == nums[i]:\n",
    "                continue        \n",
    "            backtrack(nums[i+1:], arr+[nums[i]])\n",
    "\n",
    "    nums.sort()\n",
    "    backtrack(nums,[])\n",
    "    return res"
   ]
  },
  {
   "cell_type": "code",
   "execution_count": 34,
   "id": "3df65c30",
   "metadata": {
    "ExecuteTime": {
     "end_time": "2022-09-22T09:41:52.237431Z",
     "start_time": "2022-09-22T09:41:52.220031Z"
    }
   },
   "outputs": [
    {
     "data": {
      "text/plain": [
       "[[], [1], [1, 2], [1, 2, 2], [2], [2, 2]]"
      ]
     },
     "execution_count": 34,
     "metadata": {},
     "output_type": "execute_result"
    }
   ],
   "source": [
    "nums = [1,2,2]\n",
    "nums = []\n",
    "nums = [2,1,2]\n",
    "subsetsWithDup(nums)"
   ]
  },
  {
   "cell_type": "code",
   "execution_count": 20,
   "id": "fb252762",
   "metadata": {
    "ExecuteTime": {
     "end_time": "2022-09-22T09:35:39.357807Z",
     "start_time": "2022-09-22T09:35:39.344365Z"
    }
   },
   "outputs": [
    {
     "data": {
      "text/plain": [
       "[[], [1], [1, 2], [1, 2, 2], [2], [2, 2]]"
      ]
     },
     "execution_count": 20,
     "metadata": {},
     "output_type": "execute_result"
    }
   ],
   "source": [
    "nums = [1,2,2]\n",
    "res = []\n",
    "\n",
    "def backtrack(nums, arr):\n",
    "    res.append(arr)\n",
    "    if not nums:\n",
    "        return\n",
    "    for i in range(len(nums)):\n",
    "        if i!=0 and nums[i-1] == nums[i]:\n",
    "            continue        \n",
    "        backtrack(nums[i+1:], arr+[nums[i]])\n",
    "\n",
    "        \n",
    "backtrack(nums,[])\n",
    "\n",
    "res"
   ]
  }
 ],
 "metadata": {
  "kernelspec": {
   "display_name": "Python 3",
   "language": "python",
   "name": "python3"
  },
  "language_info": {
   "codemirror_mode": {
    "name": "ipython",
    "version": 3
   },
   "file_extension": ".py",
   "mimetype": "text/x-python",
   "name": "python",
   "nbconvert_exporter": "python",
   "pygments_lexer": "ipython3",
   "version": "3.8.8"
  }
 },
 "nbformat": 4,
 "nbformat_minor": 5
}
