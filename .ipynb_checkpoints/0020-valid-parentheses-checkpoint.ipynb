{
 "cells": [
  {
   "cell_type": "markdown",
   "id": "2f528152",
   "metadata": {},
   "source": [
    "### 20. 有效的括号\n",
    "\n",
    "给定一个只包括 '('，')'，'{'，'}'，'['，']' 的字符串 s ，判断字符串是否有效。\n",
    "\n",
    "有效字符串需满足：\n",
    "\n",
    "左括号必须用相同类型的右括号闭合。\n",
    "\n",
    "左括号必须以正确的顺序闭合。\n",
    "\n",
    "每个右括号都有一个对应的相同类型的左括号。\n",
    "\n",
    "\n",
    "输入：s = \"()\"\n",
    "\n",
    "输出：true\n",
    "\n",
    "示例 2：\n",
    "\n",
    "输入：s = \"()[]{}\"\n",
    "\n",
    "输出：true"
   ]
  },
  {
   "cell_type": "markdown",
   "id": "c3373a7e",
   "metadata": {},
   "source": [
    "**思路**：模拟入栈匹配过程"
   ]
  },
  {
   "cell_type": "code",
   "execution_count": 57,
   "id": "a68cdce3",
   "metadata": {
    "ExecuteTime": {
     "end_time": "2022-09-03T09:34:30.616153Z",
     "start_time": "2022-09-03T09:34:30.601679Z"
    }
   },
   "outputs": [],
   "source": [
    "def isValid(s):\n",
    "    \"\"\"\n",
    "    :type s: str\n",
    "    :rtype: bool\n",
    "    \"\"\"\n",
    "    parenthese = {'(':')'\n",
    "                 ,'[':']'\n",
    "                 ,'{':'}'}\n",
    "    left = ['(','[','{']\n",
    "    \n",
    "    stack = []\n",
    "    \n",
    "    for c in s:\n",
    "        if c in left:\n",
    "            stack.append(c)\n",
    "            s = s[1:]\n",
    "        else:\n",
    "            if len(stack) == 0:\n",
    "                return False\n",
    "            p = stack.pop()\n",
    "            if parenthese.get(p) != c:\n",
    "                return False\n",
    "            \n",
    "    if len(stack) == 0:\n",
    "        return True\n",
    "    else:\n",
    "        return False"
   ]
  },
  {
   "cell_type": "code",
   "execution_count": 69,
   "id": "c13c90f4",
   "metadata": {
    "ExecuteTime": {
     "end_time": "2022-09-03T09:39:10.941763Z",
     "start_time": "2022-09-03T09:39:10.931389Z"
    }
   },
   "outputs": [
    {
     "data": {
      "text/plain": [
       "False"
      ]
     },
     "execution_count": 69,
     "metadata": {},
     "output_type": "execute_result"
    }
   ],
   "source": [
    "s = '(()[]{}'\n",
    "s = ']'\n",
    "isValid(s)"
   ]
  },
  {
   "cell_type": "markdown",
   "id": "4fb9d0ae",
   "metadata": {},
   "source": [
    "**思路**：字符串替换"
   ]
  },
  {
   "cell_type": "code",
   "execution_count": 67,
   "id": "b7eff1e6",
   "metadata": {
    "ExecuteTime": {
     "end_time": "2022-09-03T09:39:08.387181Z",
     "start_time": "2022-09-03T09:39:08.381223Z"
    }
   },
   "outputs": [],
   "source": [
    "def isValid(s):\n",
    "    \"\"\"\n",
    "    :type s: str\n",
    "    :rtype: bool\n",
    "    \"\"\"\n",
    "    while '()' in s or '[]' in s or '{}' in s:\n",
    "        s = s.replace('()','')\n",
    "        s = s.replace('[]','')\n",
    "        s = s.replace('{}','')\n",
    "    return s == ''"
   ]
  },
  {
   "cell_type": "code",
   "execution_count": 68,
   "id": "51c6ccd2",
   "metadata": {
    "ExecuteTime": {
     "end_time": "2022-09-03T09:39:09.384683Z",
     "start_time": "2022-09-03T09:39:09.376682Z"
    }
   },
   "outputs": [
    {
     "data": {
      "text/plain": [
       "True"
      ]
     },
     "execution_count": 68,
     "metadata": {},
     "output_type": "execute_result"
    }
   ],
   "source": [
    "s = '()[]{}'\n",
    "# s = ']'\n",
    "isValid(s)"
   ]
  }
 ],
 "metadata": {
  "kernelspec": {
   "display_name": "Python 3",
   "language": "python",
   "name": "python3"
  },
  "language_info": {
   "codemirror_mode": {
    "name": "ipython",
    "version": 3
   },
   "file_extension": ".py",
   "mimetype": "text/x-python",
   "name": "python",
   "nbconvert_exporter": "python",
   "pygments_lexer": "ipython3",
   "version": "3.8.8"
  }
 },
 "nbformat": 4,
 "nbformat_minor": 5
}
