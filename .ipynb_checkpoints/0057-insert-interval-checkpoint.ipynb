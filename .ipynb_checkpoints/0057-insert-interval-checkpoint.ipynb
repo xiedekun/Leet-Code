{
 "cells": [
  {
   "cell_type": "markdown",
   "id": "52ac6901",
   "metadata": {},
   "source": [
    "### 57. 插入区间\n",
    "给你一个 无重叠的 ，按照区间起始端点排序的区间列表。\n",
    "\n",
    "在列表中插入一个新的区间，你需要确保列表中的区间仍然有序且不重叠（如果有必要的话，可以合并区间）。\n",
    "\n",
    " \n",
    "\n",
    "示例 1：\n",
    "\n",
    "输入：intervals = [[1,3],[6,9]], newInterval = [2,5]\n",
    "输出：[[1,5],[6,9]]\n",
    "\n",
    "https://leetcode.cn/problems/insert-interval/"
   ]
  },
  {
   "cell_type": "code",
   "execution_count": null,
   "id": "c18aea77",
   "metadata": {},
   "outputs": [],
   "source": []
  },
  {
   "cell_type": "code",
   "execution_count": 4,
   "id": "94479016",
   "metadata": {
    "ExecuteTime": {
     "end_time": "2022-09-13T11:32:28.060028Z",
     "start_time": "2022-09-13T11:32:28.043805Z"
    }
   },
   "outputs": [],
   "source": [
    "def insert(intervals, newInterval):\n",
    "    \"\"\"\n",
    "    :type intervals: List[List[int]]\n",
    "    :type newInterval: List[int]\n",
    "    :rtype: List[List[int]]\n",
    "    \"\"\"\n",
    "    intervals.append(newInterval)\n",
    "    res = []\n",
    "    for i in sorted(intervals, key=lambda x:x[0]):\n",
    "        if res and res[-1][-1] >= i[0]:\n",
    "            element = res.pop()\n",
    "            res.append([element[0], max(element[-1], i[-1])])\n",
    "        else:\n",
    "            res.append(i)\n",
    "\n",
    "    return res"
   ]
  },
  {
   "cell_type": "code",
   "execution_count": 5,
   "id": "b6871afe",
   "metadata": {
    "ExecuteTime": {
     "end_time": "2022-09-13T11:32:29.359515Z",
     "start_time": "2022-09-13T11:32:29.333005Z"
    }
   },
   "outputs": [
    {
     "data": {
      "text/plain": [
       "[[1, 5], [6, 9]]"
      ]
     },
     "execution_count": 5,
     "metadata": {},
     "output_type": "execute_result"
    }
   ],
   "source": [
    "intervals = [[1,3],[6,9]]\n",
    "newInterval = [2,5]\n",
    "insert(intervals, newInterval)"
   ]
  },
  {
   "cell_type": "code",
   "execution_count": 1,
   "id": "6e47e5e5",
   "metadata": {
    "ExecuteTime": {
     "end_time": "2022-09-13T11:31:16.100521Z",
     "start_time": "2022-09-13T11:31:15.952541Z"
    }
   },
   "outputs": [
    {
     "data": {
      "text/plain": [
       "[[1, 5], [6, 9]]"
      ]
     },
     "execution_count": 1,
     "metadata": {},
     "output_type": "execute_result"
    }
   ],
   "source": [
    "intervals = [[1,3],[6,9]]\n",
    "newInterval = [2,5]\n",
    "\n",
    "intervals.append(newInterval)\n",
    "res = []\n",
    "for i in sorted(intervals, key=lambda x:x[0]):\n",
    "    if res and res[-1][-1] > i[0]:\n",
    "        element = res.pop()\n",
    "        res.append([element[0], max(element[-1], i[-1])])\n",
    "    else:\n",
    "        res.append(i)\n",
    "        \n",
    "res"
   ]
  }
 ],
 "metadata": {
  "kernelspec": {
   "display_name": "Python 3",
   "language": "python",
   "name": "python3"
  },
  "language_info": {
   "codemirror_mode": {
    "name": "ipython",
    "version": 3
   },
   "file_extension": ".py",
   "mimetype": "text/x-python",
   "name": "python",
   "nbconvert_exporter": "python",
   "pygments_lexer": "ipython3",
   "version": "3.8.8"
  }
 },
 "nbformat": 4,
 "nbformat_minor": 5
}
