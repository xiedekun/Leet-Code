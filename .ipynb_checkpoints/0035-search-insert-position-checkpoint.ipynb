{
 "cells": [
  {
   "cell_type": "markdown",
   "id": "18d1a6bd",
   "metadata": {},
   "source": [
    "### 35. 搜索插入位置\n",
    "给定一个排序数组和一个目标值，在数组中找到目标值，并返回其索引。如果目标值不存在于数组中，返回它将会被按顺序插入的位置。\n",
    "\n",
    "请必须使用时间复杂度为 O(log n) 的算法。\n",
    "\n",
    " \n",
    "\n",
    "示例 1:\n",
    "\n",
    "输入: nums = [1,3,5,6], target = 5\n",
    "输出: 2\n",
    "\n",
    "示例 2:\n",
    "\n",
    "输入: nums = [1,3,5,6], target = 2\n",
    "输出: 1\n",
    "\n",
    "https://leetcode.cn/problems/search-insert-position/"
   ]
  },
  {
   "cell_type": "markdown",
   "id": "67a2ef9e",
   "metadata": {},
   "source": [
    "**思路**：二分法"
   ]
  },
  {
   "cell_type": "code",
   "execution_count": 20,
   "id": "36127784",
   "metadata": {
    "ExecuteTime": {
     "end_time": "2022-09-11T12:23:18.576835Z",
     "start_time": "2022-09-11T12:23:18.563794Z"
    }
   },
   "outputs": [],
   "source": [
    "def searchInsert(nums, target):\n",
    "    \"\"\"\n",
    "    :type nums: List[int]\n",
    "    :type target: int\n",
    "    :rtype: int\n",
    "    \"\"\"\n",
    "    if not nums:\n",
    "        return 0\n",
    "    l, r = 0, len(nums)-1\n",
    "    idx = -1\n",
    "    ins = -1\n",
    "    while l<=r:\n",
    "        mid = int((l+r)/2)\n",
    "        if nums[mid] == target:\n",
    "            idx = mid\n",
    "            break\n",
    "\n",
    "        elif nums[mid] > target:\n",
    "            r-=1\n",
    "        else:\n",
    "            ins = max(ins, mid)\n",
    "            l+=1\n",
    "    if idx>=0:\n",
    "        return idx\n",
    "    else:\n",
    "        return ins+1"
   ]
  },
  {
   "cell_type": "code",
   "execution_count": 25,
   "id": "36a80025",
   "metadata": {
    "ExecuteTime": {
     "end_time": "2022-09-11T12:23:29.105117Z",
     "start_time": "2022-09-11T12:23:29.084168Z"
    }
   },
   "outputs": [],
   "source": [
    "nums = [1,3,5,6]\n",
    "target = 2"
   ]
  },
  {
   "cell_type": "code",
   "execution_count": 24,
   "id": "64186940",
   "metadata": {
    "ExecuteTime": {
     "end_time": "2022-09-11T12:23:26.602363Z",
     "start_time": "2022-09-11T12:23:26.585149Z"
    }
   },
   "outputs": [
    {
     "data": {
      "text/plain": [
       "0"
      ]
     },
     "execution_count": 24,
     "metadata": {},
     "output_type": "execute_result"
    }
   ],
   "source": [
    "searchInsert(nums, target)"
   ]
  },
  {
   "cell_type": "code",
   "execution_count": 11,
   "id": "b3f4c9e8",
   "metadata": {
    "ExecuteTime": {
     "end_time": "2022-09-11T12:22:03.998569Z",
     "start_time": "2022-09-11T12:22:03.970403Z"
    }
   },
   "outputs": [
    {
     "name": "stdout",
     "output_type": "stream",
     "text": [
      "3\n"
     ]
    }
   ],
   "source": [
    "l, r = 0, len(nums)-1\n",
    "idx = -1\n",
    "ins = -1\n",
    "while l<=r:\n",
    "    mid = int((l+r)/2)\n",
    "    if nums[mid] == target:\n",
    "        idx = mid\n",
    "        break\n",
    "        \n",
    "    elif nums[mid] > target:\n",
    "        r-=1\n",
    "    else:\n",
    "        ins = max(ins, mid)\n",
    "        l+=1\n",
    "if idx>=0:\n",
    "    print(idx)\n",
    "else:\n",
    "    print(ins+1)"
   ]
  }
 ],
 "metadata": {
  "kernelspec": {
   "display_name": "Python 3",
   "language": "python",
   "name": "python3"
  },
  "language_info": {
   "codemirror_mode": {
    "name": "ipython",
    "version": 3
   },
   "file_extension": ".py",
   "mimetype": "text/x-python",
   "name": "python",
   "nbconvert_exporter": "python",
   "pygments_lexer": "ipython3",
   "version": "3.8.8"
  }
 },
 "nbformat": 4,
 "nbformat_minor": 5
}
