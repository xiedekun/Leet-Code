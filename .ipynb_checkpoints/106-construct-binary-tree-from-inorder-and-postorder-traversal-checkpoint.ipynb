{
 "cells": [
  {
   "cell_type": "markdown",
   "id": "24400c7e",
   "metadata": {},
   "source": [
    "### 106. 从中序与后序遍历序列构造二叉树\n",
    "\n",
    "难度：中等\n",
    "\n",
    "Given inorder and postorder traversal of a tree, construct the binary tree.\n",
    "\n",
    "Note:\n",
    "You may assume that duplicates do not exist in the tree.\n",
    "\n",
    "For example, given\n",
    "\n",
    "inorder = [9,3,15,20,7]\n",
    "\n",
    "postorder = [9,15,7,20,3]\n",
    "\n",
    "Return the following binary tree:\n",
    "\n",
    "    3\n",
    "    \n",
    "    / \\\n",
    "\n",
    "    9  20\n",
    "\n",
    "      /  \\\n",
    "    \n",
    "     15   7\n",
    "    \n",
    "    \n",
    "https://leetcode.cn/problems/construct-binary-tree-from-preorder-and-inorder-traversal/"
   ]
  },
  {
   "cell_type": "code",
   "execution_count": 3,
   "id": "f378897e",
   "metadata": {
    "ExecuteTime": {
     "end_time": "2022-08-22T06:25:29.875532Z",
     "start_time": "2022-08-22T06:25:29.855164Z"
    }
   },
   "outputs": [],
   "source": [
    "class TreeNode(object):\n",
    "    def __init__(self, val=0, left=None, right=None):\n",
    "        self.val = val\n",
    "        self.left = left\n",
    "        self.right = right"
   ]
  },
  {
   "cell_type": "code",
   "execution_count": 9,
   "id": "91a20c33",
   "metadata": {
    "ExecuteTime": {
     "end_time": "2022-08-22T06:28:07.548470Z",
     "start_time": "2022-08-22T06:28:07.533436Z"
    }
   },
   "outputs": [],
   "source": [
    "inorder = [9,3,15,20,7]\n",
    "postorder = [9,15,7,20,3]\n",
    "\n",
    "def buildTree(inorder, postorder):\n",
    "    \"\"\"\n",
    "    :type inorder: List[int]\n",
    "    :type postorder: List[int]\n",
    "    :rtype: TreeNode\n",
    "    \"\"\"\n",
    "    if not postorder:\n",
    "        return None\n",
    "    \n",
    "    root = TreeNode(postorder[-1])\n",
    "    k = inorder.index(postorder[-1])\n",
    "    \n",
    "    root.left = buildTree(inorder[0:k], postorder[0:k])\n",
    "    root.right = buildTree(inorder[k+1:], postorder[k: len(postorder)-1])\n",
    "    \n",
    "    return root\n",
    "\n",
    "node = buildTree(inorder, postorder)"
   ]
  },
  {
   "cell_type": "code",
   "execution_count": 10,
   "id": "70096a45",
   "metadata": {
    "ExecuteTime": {
     "end_time": "2022-08-22T06:28:09.742194Z",
     "start_time": "2022-08-22T06:28:09.712141Z"
    }
   },
   "outputs": [
    {
     "data": {
      "text/plain": [
       "[[3], [9, 20], [15, 7]]"
      ]
     },
     "execution_count": 10,
     "metadata": {},
     "output_type": "execute_result"
    }
   ],
   "source": [
    "from queue import deque\n",
    "def levelOrder(root):\n",
    "    \"\"\"\n",
    "    :type root: TreeNode\n",
    "    :rtype: List[List[int]]\n",
    "    \"\"\"\n",
    "    \n",
    "\n",
    "    res = []\n",
    "    queue = deque([root])\n",
    "    \n",
    "    if not root:\n",
    "        return res\n",
    "    \n",
    "    while queue:\n",
    "        size = len(queue)\n",
    "        res_ = []\n",
    "        while size > 0:\n",
    "            \n",
    "            node = queue.popleft()\n",
    "\n",
    "            res_.append(node.val)\n",
    "\n",
    "            if node.left:\n",
    "                queue.append(node.left)\n",
    "            if node.right:\n",
    "                queue.append(node.right)\n",
    "            size -= 1\n",
    "        res.append(res_)\n",
    "    return res\n",
    "        \n",
    "    \n",
    "levelOrder(node)"
   ]
  }
 ],
 "metadata": {
  "kernelspec": {
   "display_name": "Python 3",
   "language": "python",
   "name": "python3"
  },
  "language_info": {
   "codemirror_mode": {
    "name": "ipython",
    "version": 3
   },
   "file_extension": ".py",
   "mimetype": "text/x-python",
   "name": "python",
   "nbconvert_exporter": "python",
   "pygments_lexer": "ipython3",
   "version": "3.8.8"
  }
 },
 "nbformat": 4,
 "nbformat_minor": 5
}
