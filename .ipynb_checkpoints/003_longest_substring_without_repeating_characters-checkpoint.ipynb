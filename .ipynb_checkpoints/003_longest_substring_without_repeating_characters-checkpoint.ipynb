{
 "cells": [
  {
   "cell_type": "markdown",
   "id": "271d7423",
   "metadata": {},
   "source": [
    "## 003.无重复字符的最长子串\n",
    "\n",
    "难度：中等\n",
    "\n",
    "给定一个字符串 s ，请你找出其中不含有重复字符的 最长子串 的长度。\n",
    "\n",
    "输入: s = \"abcabcbb\"\n",
    "\n",
    "输出: 3 \n",
    "\n",
    "解释: 因为无重复字符的最长子串是 \"abc\"，所以其长度为 3。\n",
    "\n",
    "https://leetcode.cn/problems/longest-substring-without-repeating-characters/"
   ]
  },
  {
   "cell_type": "markdown",
   "id": "bb47aed2",
   "metadata": {},
   "source": [
    "### 1.滑动窗口 slide window\n",
    "\n",
    "O(N); O(N)"
   ]
  },
  {
   "cell_type": "code",
   "execution_count": 9,
   "id": "27a91a08",
   "metadata": {
    "ExecuteTime": {
     "end_time": "2022-06-19T14:15:00.447043Z",
     "start_time": "2022-06-19T14:15:00.429044Z"
    }
   },
   "outputs": [],
   "source": [
    "def lengthOfLongestSubstring(s):\n",
    "    \"\"\"\n",
    "    :type s: str\n",
    "    :rtype: int\n",
    "    \"\"\"\n",
    "    if not s or len(s) == 0:\n",
    "        return 0\n",
    "    \n",
    "    l, r = 0, 0\n",
    "    res, lookup = 0, set()\n",
    "    \n",
    "    while l < len(s) and r < len(s):\n",
    "        if s[r] not in lookup:\n",
    "            lookup.add(s[r])\n",
    "            res = max(res, r-l+1)\n",
    "            r += 1\n",
    "        else:\n",
    "            lookup.discard(s[l])\n",
    "            l += 1\n",
    "            \n",
    "    return res"
   ]
  },
  {
   "cell_type": "code",
   "execution_count": 16,
   "id": "9380ac77",
   "metadata": {
    "ExecuteTime": {
     "end_time": "2022-06-19T14:15:04.986161Z",
     "start_time": "2022-06-19T14:15:04.969040Z"
    }
   },
   "outputs": [
    {
     "data": {
      "text/plain": [
       "3"
      ]
     },
     "execution_count": 16,
     "metadata": {},
     "output_type": "execute_result"
    }
   ],
   "source": [
    "s = \"abcabcbb\"\n",
    "lengthOfLongestSubstring(s)"
   ]
  },
  {
   "cell_type": "markdown",
   "id": "5e3d931e",
   "metadata": {
    "ExecuteTime": {
     "end_time": "2022-06-19T14:32:56.027410Z",
     "start_time": "2022-06-19T14:32:55.994773Z"
    }
   },
   "source": [
    "### 2.Hashmap\n",
    "O(N); O(N)\n",
    "\n",
    "我们使用一个hashmap，将每一个已经阅读过的字符作为键，而它的值就是它在原字符串中的index，如果我们现在的字符不在hashmap里面我们就把它加进hashmap中去。因此，只要目前的这个字符在该hashmap中的值大于等于了这一轮字符串的首字符，就说明它已经出现过了，我们就将首字符的index加1，即从后一位又重新开始读，然后比较目前的子串长度与之前的最大长度，取大者。"
   ]
  },
  {
   "cell_type": "code",
   "execution_count": 39,
   "id": "202a4934",
   "metadata": {
    "ExecuteTime": {
     "end_time": "2022-06-19T14:51:50.569465Z",
     "start_time": "2022-06-19T14:51:50.553378Z"
    }
   },
   "outputs": [],
   "source": [
    "def lengthOfLongestSubstring(s):\n",
    "    \"\"\"\n",
    "    :type s: str\n",
    "    :rtype: int\n",
    "    \"\"\"\n",
    "    res, start = 0, 0\n",
    "    maps = {}\n",
    "    for i in range(len(s)):\n",
    "        start = max(start, maps.get(s[i], -1) + 1)\n",
    "        res = max(res, i - start + 1)\n",
    "        maps[s[i]] = i\n",
    "    return res"
   ]
  },
  {
   "cell_type": "code",
   "execution_count": 41,
   "id": "52226674",
   "metadata": {
    "ExecuteTime": {
     "end_time": "2022-06-19T14:52:42.031906Z",
     "start_time": "2022-06-19T14:52:42.019401Z"
    }
   },
   "outputs": [
    {
     "data": {
      "text/plain": [
       "3"
      ]
     },
     "execution_count": 41,
     "metadata": {},
     "output_type": "execute_result"
    }
   ],
   "source": [
    "s = \"pwwkew\"\n",
    "lengthOfLongestSubstring(s)"
   ]
  },
  {
   "cell_type": "markdown",
   "id": "d8d0db5e",
   "metadata": {},
   "source": [
    "### 3.滑动窗口（全）\n",
    "O(N); O(N)"
   ]
  },
  {
   "cell_type": "code",
   "execution_count": 62,
   "id": "dd6a33eb",
   "metadata": {
    "ExecuteTime": {
     "end_time": "2022-06-19T17:28:44.263430Z",
     "start_time": "2022-06-19T17:28:44.250933Z"
    }
   },
   "outputs": [],
   "source": [
    "from collections import defaultdict\n",
    "\n",
    "def lengthOfLongestSubstring(s):\n",
    "    \"\"\"\n",
    "    :type s: str\n",
    "    :rtype: int\n",
    "    \"\"\" \n",
    "    lookup = defaultdict(int)\n",
    "    l, r, counter, res = 0, 0, 0, 0\n",
    "    while r < len(s):\n",
    "        lookup[s[r]] += 1\n",
    "        if lookup[s[r]] == 1:\n",
    "            counter += 1\n",
    "        r += 1\n",
    "        # counter < r - l 说明有重复字符出现，正常为counter == r - l        \n",
    "        while l < r and counter < r - l:\n",
    "            lookup[s[l]] -= 1\n",
    "            if lookup[s[l]] == 0:\n",
    "                counter -= 1\n",
    "            l += 1\n",
    "        res = max(res, r - l) # r += 1已经加过1了\n",
    "    return res"
   ]
  },
  {
   "cell_type": "code",
   "execution_count": 63,
   "id": "51dcd480",
   "metadata": {
    "ExecuteTime": {
     "end_time": "2022-06-19T17:28:45.345418Z",
     "start_time": "2022-06-19T17:28:45.336879Z"
    }
   },
   "outputs": [
    {
     "data": {
      "text/plain": [
       "3"
      ]
     },
     "execution_count": 63,
     "metadata": {},
     "output_type": "execute_result"
    }
   ],
   "source": [
    "s = \"pwwkew\"\n",
    "lengthOfLongestSubstring(s)"
   ]
  }
 ],
 "metadata": {
  "kernelspec": {
   "display_name": "Python 3",
   "language": "python",
   "name": "python3"
  },
  "language_info": {
   "codemirror_mode": {
    "name": "ipython",
    "version": 3
   },
   "file_extension": ".py",
   "mimetype": "text/x-python",
   "name": "python",
   "nbconvert_exporter": "python",
   "pygments_lexer": "ipython3",
   "version": "3.8.8"
  }
 },
 "nbformat": 4,
 "nbformat_minor": 5
}
