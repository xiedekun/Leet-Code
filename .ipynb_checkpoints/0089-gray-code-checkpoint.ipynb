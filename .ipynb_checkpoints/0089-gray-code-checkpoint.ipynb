{
 "cells": [
  {
   "cell_type": "markdown",
   "id": "da0e7527",
   "metadata": {},
   "source": [
    "### 89. 格雷编码\n",
    "n 位格雷码序列 是一个由 2^n 个整数组成的序列，其中：\n",
    "每个整数都在范围 [0, 2^n - 1] 内（含 0 和 2^n - 1）\n",
    "第一个整数是 0\n",
    "一个整数在序列中出现 不超过一次\n",
    "每对 相邻 整数的二进制表示 恰好一位不同 ，且\n",
    "第一个 和 最后一个 整数的二进制表示 恰好一位不同\n",
    "给你一个整数 n ，返回任一有效的 n 位格雷码序列 。\n",
    "\n",
    " \n",
    "\n",
    "示例 1：\n",
    "\n",
    "输入：n = 2\n",
    "\n",
    "输出：[0,1,3,2]\n",
    "\n",
    "解释：\n",
    "[0,1,3,2] 的二进制表示是 [00,01,11,10] 。\n",
    "- 00 和 01 有一位不同\n",
    "- 01 和 11 有一位不同\n",
    "- 11 和 10 有一位不同\n",
    "- 10 和 00 有一位不同\n",
    "\n",
    "[0,2,3,1] 也是一个有效的格雷码序列，其二进制表示是 [00,10,11,01] 。\n",
    "- 00 和 10 有一位不同\n",
    "- 10 和 11 有一位不同\n",
    "- 11 和 01 有一位不同\n",
    "- 01 和 00 有一位不同\n",
    "\n",
    "https://leetcode.cn/problems/gray-code/"
   ]
  },
  {
   "cell_type": "markdown",
   "id": "6a54d9f6",
   "metadata": {},
   "source": [
    "**思路**：\n",
    "\n",
    "格雷编码生成规则：\n",
    "\n",
    " G(i) = i ^ int(i/2)\n",
    " \n",
    " g0 = 000\n",
    " g1 = 001^000 = 001\n",
    " g2 = 010^001 = 011\n",
    " g3 = 011^001 = 010\n",
    "     "
   ]
  },
  {
   "cell_type": "code",
   "execution_count": 21,
   "id": "8db8f5c4",
   "metadata": {
    "ExecuteTime": {
     "end_time": "2022-09-22T09:48:32.127295Z",
     "start_time": "2022-09-22T09:48:32.113688Z"
    }
   },
   "outputs": [],
   "source": [
    "def grayCode(n):\n",
    "    \"\"\"\n",
    "    :type n: int\n",
    "    :rtype: List[int]\n",
    "    \"\"\"\n",
    "    res = []\n",
    "    for i in range(2**n):\n",
    "        res.append(i^(i>>1))\n",
    "    return res"
   ]
  },
  {
   "cell_type": "code",
   "execution_count": 22,
   "id": "6d20cdf9",
   "metadata": {
    "ExecuteTime": {
     "end_time": "2022-09-22T09:48:33.275331Z",
     "start_time": "2022-09-22T09:48:33.258171Z"
    }
   },
   "outputs": [
    {
     "data": {
      "text/plain": [
       "[0, 1, 3, 2]"
      ]
     },
     "execution_count": 22,
     "metadata": {},
     "output_type": "execute_result"
    }
   ],
   "source": [
    "n = 2\n",
    "grayCode(n)"
   ]
  }
 ],
 "metadata": {
  "kernelspec": {
   "display_name": "Python 3",
   "language": "python",
   "name": "python3"
  },
  "language_info": {
   "codemirror_mode": {
    "name": "ipython",
    "version": 3
   },
   "file_extension": ".py",
   "mimetype": "text/x-python",
   "name": "python",
   "nbconvert_exporter": "python",
   "pygments_lexer": "ipython3",
   "version": "3.8.8"
  }
 },
 "nbformat": 4,
 "nbformat_minor": 5
}
