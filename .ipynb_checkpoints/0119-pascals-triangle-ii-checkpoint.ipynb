{
 "cells": [
  {
   "cell_type": "markdown",
   "id": "ef20dc57",
   "metadata": {},
   "source": [
    "### 119. 杨辉三角 II\n",
    "给定一个非负索引 rowIndex，返回「杨辉三角」的第 rowIndex 行。\n",
    "\n",
    "在「杨辉三角」中，每个数是它左上方和右上方的数的和。\n",
    "\n",
    "\n",
    "\n",
    " \n",
    "\n",
    "示例 1:\n",
    "\n",
    "输入: rowIndex = 3\n",
    "输出: [1,3,3,1]"
   ]
  },
  {
   "cell_type": "markdown",
   "id": "8d8bac07",
   "metadata": {
    "ExecuteTime": {
     "end_time": "2022-09-23T15:54:05.538508Z",
     "start_time": "2022-09-23T15:54:05.523317Z"
    }
   },
   "source": [
    "**思路**：和上一题一样，但是res只用存一行"
   ]
  },
  {
   "cell_type": "code",
   "execution_count": 12,
   "id": "3738cd66",
   "metadata": {
    "ExecuteTime": {
     "end_time": "2022-09-23T15:53:35.865125Z",
     "start_time": "2022-09-23T15:53:35.841739Z"
    }
   },
   "outputs": [],
   "source": [
    "def getRow(rowIndex):\n",
    "    \"\"\"\n",
    "    :type rowIndex: int\n",
    "    :rtype: List[int]\n",
    "    \"\"\"\n",
    "    \n",
    "    res = [1]\n",
    "    for i in range(1, rowIndex+1):\n",
    "        tmp = [1]\n",
    "        for j in range(1, i):\n",
    "            tmp.append(res[j-1]+res[j])\n",
    "        tmp.append(1)\n",
    "        res = tmp\n",
    "    return res"
   ]
  },
  {
   "cell_type": "code",
   "execution_count": 13,
   "id": "92d13e21",
   "metadata": {
    "ExecuteTime": {
     "end_time": "2022-09-23T15:53:37.376082Z",
     "start_time": "2022-09-23T15:53:37.347078Z"
    }
   },
   "outputs": [
    {
     "data": {
      "text/plain": [
       "[1, 3, 3, 1]"
      ]
     },
     "execution_count": 13,
     "metadata": {},
     "output_type": "execute_result"
    }
   ],
   "source": [
    "rowIndex = 3 \n",
    "getRow(rowIndex)"
   ]
  }
 ],
 "metadata": {
  "kernelspec": {
   "display_name": "Python 3",
   "language": "python",
   "name": "python3"
  },
  "language_info": {
   "codemirror_mode": {
    "name": "ipython",
    "version": 3
   },
   "file_extension": ".py",
   "mimetype": "text/x-python",
   "name": "python",
   "nbconvert_exporter": "python",
   "pygments_lexer": "ipython3",
   "version": "3.8.8"
  }
 },
 "nbformat": 4,
 "nbformat_minor": 5
}
