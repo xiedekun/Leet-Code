{
 "cells": [
  {
   "cell_type": "markdown",
   "id": "955d037f",
   "metadata": {},
   "source": [
    "### 32. 最长有效括号\n",
    "给你一个只包含 '(' 和 ')' 的字符串，找出最长有效（格式正确且连续）括号子串的长度。\n",
    "\n",
    " \n",
    "\n",
    "示例 1：\n",
    "\n",
    "输入：s = \"(()\"\n",
    "输出：2\n",
    "解释：最长有效括号子串是 \"()\"\n",
    "\n",
    "示例 2：\n",
    "\n",
    "输入：s = \")()())\"\n",
    "输出：4\n",
    "解释：最长有效括号子串是 \"()()\"\n",
    "\n",
    "https://leetcode.cn/problems/longest-valid-parentheses/"
   ]
  },
  {
   "cell_type": "markdown",
   "id": "7a34eb18",
   "metadata": {
    "ExecuteTime": {
     "end_time": "2022-09-11T08:42:51.062998Z",
     "start_time": "2022-09-11T08:42:51.045421Z"
    }
   },
   "source": [
    "**思路**：栈对未匹配的括号一个个计算长度"
   ]
  },
  {
   "cell_type": "code",
   "execution_count": 29,
   "id": "5442fa80",
   "metadata": {
    "ExecuteTime": {
     "end_time": "2022-09-11T08:42:10.730728Z",
     "start_time": "2022-09-11T08:42:10.718501Z"
    }
   },
   "outputs": [],
   "source": [
    "def longestValidParentheses(s):\n",
    "    \"\"\"\n",
    "    :type s: str\n",
    "    :rtype: int\n",
    "    \"\"\"\n",
    "    stack = []\n",
    "    for i in range(len(s)):\n",
    "        if s[i] == ')':\n",
    "            if stack and s[stack[-1]] == '(':\n",
    "                stack.pop()\n",
    "                continue\n",
    "        stack.append(i)\n",
    "\n",
    "    max_len = 0\n",
    "    next_index = len(s)\n",
    "    while stack:\n",
    "        cur_index = stack.pop()\n",
    "        cur_len = next_index - cur_index - 1\n",
    "        max_len = max(max_len, cur_len)\n",
    "        next_index = cur_index\n",
    "    max_len = max(max_len, next_index)\n",
    "    \n",
    "    return max_len"
   ]
  },
  {
   "cell_type": "code",
   "execution_count": 32,
   "id": "e4a83b6b",
   "metadata": {
    "ExecuteTime": {
     "end_time": "2022-09-11T08:43:04.101883Z",
     "start_time": "2022-09-11T08:43:04.093366Z"
    }
   },
   "outputs": [
    {
     "data": {
      "text/plain": [
       "2"
      ]
     },
     "execution_count": 32,
     "metadata": {},
     "output_type": "execute_result"
    }
   ],
   "source": [
    "s = \"()(()\"\n",
    "longestValidParentheses(s)"
   ]
  },
  {
   "cell_type": "markdown",
   "id": "e183fc28",
   "metadata": {},
   "source": [
    "**思路**：动态规划\n",
    "\n",
    "dp[i] 以index i为结尾的括号长度；\n",
    "\n",
    "s[i] = '('， dp[i] = 0\n",
    "\n",
    "s[i] = ')' 而且dp[i-1]之前还有个'('，dp[i] = dp[i-1] + 2"
   ]
  },
  {
   "cell_type": "code",
   "execution_count": 39,
   "id": "16b30a8a",
   "metadata": {
    "ExecuteTime": {
     "end_time": "2022-09-11T08:53:36.027786Z",
     "start_time": "2022-09-11T08:53:36.021785Z"
    }
   },
   "outputs": [],
   "source": [
    "def longestValidParentheses(s):\n",
    "    \"\"\"\n",
    "    :type s: str\n",
    "    :rtype: int\n",
    "    \"\"\"\n",
    "    dp = [0 for i in range(len(s))]\n",
    "\n",
    "    for i in range(len(dp)):\n",
    "        if s[i] == ')' and i > 0:\n",
    "            left = i - dp[i-1]-1\n",
    "            if left>=0 and s[left] == '(':\n",
    "                dp[i] = dp[i-1] + 2\n",
    "\n",
    "    return max(dp)"
   ]
  },
  {
   "cell_type": "code",
   "execution_count": 41,
   "id": "62b2c6f4",
   "metadata": {
    "ExecuteTime": {
     "end_time": "2022-09-11T08:54:40.015047Z",
     "start_time": "2022-09-11T08:54:39.996404Z"
    }
   },
   "outputs": [
    {
     "data": {
      "text/plain": [
       "[0, 0, 2, 0, 2, 0]"
      ]
     },
     "execution_count": 41,
     "metadata": {},
     "output_type": "execute_result"
    }
   ],
   "source": [
    "s = \"()(()\"\n",
    "s = \")()())\"\n",
    "dp = [0 for i in range(len(s))]\n",
    "\n",
    "for i in range(len(dp)):\n",
    "    if s[i] == ')' and i > 0:\n",
    "        left = i - dp[i-1]-1\n",
    "        if left>=0 and s[left] == '(':\n",
    "            dp[i] = dp[i-1] + 2\n",
    "            if left > 0:\n",
    "                dp[i] += dp[left-1] #连起来\n",
    "            \n",
    "dp"
   ]
  }
 ],
 "metadata": {
  "kernelspec": {
   "display_name": "Python 3",
   "language": "python",
   "name": "python3"
  },
  "language_info": {
   "codemirror_mode": {
    "name": "ipython",
    "version": 3
   },
   "file_extension": ".py",
   "mimetype": "text/x-python",
   "name": "python",
   "nbconvert_exporter": "python",
   "pygments_lexer": "ipython3",
   "version": "3.8.8"
  }
 },
 "nbformat": 4,
 "nbformat_minor": 5
}
