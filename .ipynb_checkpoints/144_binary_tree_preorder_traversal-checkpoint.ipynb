{
 "cells": [
  {
   "cell_type": "markdown",
   "id": "ea12679c",
   "metadata": {},
   "source": [
    "144.二叉树前序遍历\n",
    "\n",
    "难度：简单\n",
    "\n",
    "给你二叉树的根节点 root ，返回它节点值的 前序 遍历。\n",
    "\n",
    "Example:\n",
    "\n",
    "Input: [1,null,2,3]\n",
    "   \n",
    "   1\n",
    "   \n",
    "    \\\n",
    "    \n",
    "     2\n",
    "     \n",
    "    /\n",
    "    \n",
    "   3\n",
    "\n",
    "Output: [1,2,3]\n",
    "\n",
    "Follow up: Recursive solution is trivial, could you do it iteratively?\n",
    "\n",
    "https://leetcode.cn/problems/binary-tree-preorder-traversal/"
   ]
  },
  {
   "cell_type": "markdown",
   "id": "f2a8a783",
   "metadata": {},
   "source": [
    "递归"
   ]
  },
  {
   "cell_type": "code",
   "execution_count": 9,
   "id": "b101f44c",
   "metadata": {
    "ExecuteTime": {
     "end_time": "2022-08-21T12:55:39.423286Z",
     "start_time": "2022-08-21T12:55:39.388403Z"
    }
   },
   "outputs": [
    {
     "data": {
      "text/plain": [
       "[1, 2, 3]"
      ]
     },
     "execution_count": 9,
     "metadata": {},
     "output_type": "execute_result"
    }
   ],
   "source": [
    "class TreeNode(object):\n",
    "    def __init__(self, val=0, left=None, right=None):\n",
    "        self.val = val\n",
    "        self.left = left\n",
    "        self.right = right\n",
    "\n",
    "root = TreeNode(1, None, TreeNode(2, TreeNode(3)))\n",
    "\n",
    "def preorderTraversal(root):\n",
    "    res = []\n",
    "    if not root:\n",
    "        return res\n",
    "    res.append(root.val)\n",
    "    if root.left:\n",
    "        res.extend(preorderTraversal(root.left))\n",
    "    if root.right:\n",
    "        res.extend(preorderTraversal(root.right))\n",
    "    return res\n",
    "\n",
    "preorderTraversal(root)"
   ]
  },
  {
   "cell_type": "markdown",
   "id": "bff34393",
   "metadata": {},
   "source": [
    "非递归"
   ]
  },
  {
   "cell_type": "code",
   "execution_count": 11,
   "id": "ed6f64d0",
   "metadata": {
    "ExecuteTime": {
     "end_time": "2022-08-21T12:58:18.230785Z",
     "start_time": "2022-08-21T12:58:18.221968Z"
    }
   },
   "outputs": [
    {
     "data": {
      "text/plain": [
       "[1, 2, 3]"
      ]
     },
     "execution_count": 11,
     "metadata": {},
     "output_type": "execute_result"
    }
   ],
   "source": [
    "def preorderTraversal(root):\n",
    "    res = []\n",
    "    stack = [root]\n",
    "    if not root:\n",
    "        return res\n",
    "\n",
    "    while stack:\n",
    "        node = stack.pop()\n",
    "        res.append(node.val)\n",
    "        \n",
    "        if node.right:\n",
    "            stack.append(node.right)\n",
    "        if node.left:\n",
    "            stack.append(node.left)\n",
    "    return res\n",
    "\n",
    "preorderTraversal(root)"
   ]
  }
 ],
 "metadata": {
  "kernelspec": {
   "display_name": "Python 3",
   "language": "python",
   "name": "python3"
  },
  "language_info": {
   "codemirror_mode": {
    "name": "ipython",
    "version": 3
   },
   "file_extension": ".py",
   "mimetype": "text/x-python",
   "name": "python",
   "nbconvert_exporter": "python",
   "pygments_lexer": "ipython3",
   "version": "3.8.8"
  }
 },
 "nbformat": 4,
 "nbformat_minor": 5
}
