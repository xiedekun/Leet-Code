{
 "cells": [
  {
   "cell_type": "markdown",
   "id": "41adedf2",
   "metadata": {},
   "source": [
    "### 12. 整数转罗马数字\n",
    "\n",
    "罗马数字包含以下七种字符： I， V， X， L，C，D 和 M。\n",
    "\n",
    "字符          数值\n",
    "\n",
    "I             1\n",
    "\n",
    "V             5\n",
    "\n",
    "X             10\n",
    "\n",
    "L             50\n",
    "\n",
    "C             100\n",
    "\n",
    "D             500\n",
    "\n",
    "M             1000\n",
    "\n",
    "例如， 罗马数字 2 写做 II ，即为两个并列的 1。12 写做 XII ，即为 X + II 。 27 写做  XXVII, 即为 XX + V + II 。\n",
    "\n",
    "通常情况下，罗马数字中小的数字在大的数字的右边。但也存在特例，例如 4 不写做 IIII，而是 IV。数字 1 在数字 5 的左边，所表示的数等于大数 5 减小数 1 得到的数值 4 。同样地，数字 9 表示为 IX。这个特殊的规则只适用于以下六种情况：\n",
    "\n",
    "I 可以放在 V (5) 和 X (10) 的左边，来表示 4 和 9。\n",
    "\n",
    "X 可以放在 L (50) 和 C (100) 的左边，来表示 40 和 90。 \n",
    "\n",
    "C 可以放在 D (500) 和 M (1000) 的左边，来表示 400 和 900。\n",
    "\n",
    "给你一个整数，将其转为罗马数字。\n",
    "\n",
    " \n",
    "\n",
    "示例 1:\n",
    "\n",
    "输入: num = 3\n",
    "\n",
    "输出: \"III\"\n",
    "\n",
    "https://leetcode.cn/problems/integer-to-roman\n"
   ]
  },
  {
   "cell_type": "markdown",
   "id": "3fd6f50e",
   "metadata": {},
   "source": [
    "**思路**: 递归"
   ]
  },
  {
   "cell_type": "code",
   "execution_count": 22,
   "id": "596b5d48",
   "metadata": {
    "ExecuteTime": {
     "end_time": "2022-08-31T16:19:08.146171Z",
     "start_time": "2022-08-31T16:19:08.139300Z"
    }
   },
   "outputs": [
    {
     "data": {
      "text/plain": [
       "'CMXI'"
      ]
     },
     "execution_count": 22,
     "metadata": {},
     "output_type": "execute_result"
    }
   ],
   "source": [
    "num = 911\n",
    "intToRoman(num)"
   ]
  },
  {
   "cell_type": "code",
   "execution_count": 18,
   "id": "fdcaf0b1",
   "metadata": {
    "ExecuteTime": {
     "end_time": "2022-08-31T16:18:35.099443Z",
     "start_time": "2022-08-31T16:18:35.086441Z"
    }
   },
   "outputs": [],
   "source": [
    "def intToRoman(num):\n",
    "    \"\"\"\n",
    "    :type num: int\n",
    "    :rtype: str\n",
    "    \"\"\"\n",
    "    if num>=1000:\n",
    "        return 'M' + intToRoman(num-1000)\n",
    "    elif num>=900:\n",
    "        return 'CM' + intToRoman(num-900)\n",
    "    elif num>=500:\n",
    "        return 'D' + intToRoman(num-500)\n",
    "    elif num>=400:\n",
    "        return 'CD' + intToRoman(num-400)\n",
    "    elif num>=100:\n",
    "        return 'C' + intToRoman(num-100)\n",
    "    elif num>=90:\n",
    "        return 'XC' + intToRoman(num-90)\n",
    "    elif num>=50:\n",
    "        return 'L' + intToRoman(num-50)\n",
    "    elif num>=40:\n",
    "        return 'XL' + intToRoman(num-40)\n",
    "    elif num>=10:\n",
    "        return 'X' + intToRoman(num-10)\n",
    "    elif num==9:\n",
    "        return 'IX'\n",
    "    elif num>=5:\n",
    "        return 'V' + intToRoman(num-5)\n",
    "    elif num==4:\n",
    "        return 'IV'\n",
    "    elif num>=1:\n",
    "        return 'I' + intToRoman(num-1)\n",
    "    else:\n",
    "        return ''"
   ]
  }
 ],
 "metadata": {
  "kernelspec": {
   "display_name": "Python 3",
   "language": "python",
   "name": "python3"
  },
  "language_info": {
   "codemirror_mode": {
    "name": "ipython",
    "version": 3
   },
   "file_extension": ".py",
   "mimetype": "text/x-python",
   "name": "python",
   "nbconvert_exporter": "python",
   "pygments_lexer": "ipython3",
   "version": "3.8.8"
  }
 },
 "nbformat": 4,
 "nbformat_minor": 5
}
