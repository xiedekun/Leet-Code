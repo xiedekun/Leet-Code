{
 "cells": [
  {
   "cell_type": "markdown",
   "id": "9c8c858d",
   "metadata": {
    "ExecuteTime": {
     "end_time": "2022-09-13T04:03:02.797132Z",
     "start_time": "2022-09-13T04:03:02.766673Z"
    }
   },
   "source": [
    "### 46. 全排列\n",
    "给定一个不含重复数字的数组 nums ，返回其 所有可能的全排列 。你可以 按任意顺序 返回答案。\n",
    "\n",
    " \n",
    "\n",
    "示例 1：\n",
    "\n",
    "输入：nums = [1,2,3]\n",
    "\n",
    "输出：[[1,2,3],[1,3,2],[2,1,3],[2,3,1],[3,1,2],[3,2,1]]\n",
    "\n",
    "https://leetcode.cn/problems/permutations/"
   ]
  },
  {
   "cell_type": "markdown",
   "id": "583fce7b",
   "metadata": {},
   "source": [
    "**思路**：回溯法；每次循环要去掉自己"
   ]
  },
  {
   "cell_type": "code",
   "execution_count": 42,
   "id": "ad97ab6a",
   "metadata": {
    "ExecuteTime": {
     "end_time": "2022-09-13T04:20:55.839072Z",
     "start_time": "2022-09-13T04:20:55.823366Z"
    }
   },
   "outputs": [],
   "source": [
    "def permute(nums):\n",
    "    \"\"\"\n",
    "    :type nums: List[int]\n",
    "    :rtype: List[List[int]]\n",
    "    \"\"\"\n",
    "    res = []\n",
    "    def backtrack(nums, arr):\n",
    "\n",
    "        if not nums:\n",
    "            res.append(arr)\n",
    "            return res\n",
    "\n",
    "        for i in range(len(nums)):\n",
    "            backtrack(nums[:i]+nums[i+1:], arr+[nums[i]])\n",
    "\n",
    "    backtrack(nums, [])       \n",
    "    return res"
   ]
  },
  {
   "cell_type": "code",
   "execution_count": 43,
   "id": "992c5e5f",
   "metadata": {
    "ExecuteTime": {
     "end_time": "2022-09-13T04:20:57.515456Z",
     "start_time": "2022-09-13T04:20:57.502932Z"
    }
   },
   "outputs": [
    {
     "data": {
      "text/plain": [
       "[[1, 2, 3], [1, 3, 2], [2, 1, 3], [2, 3, 1], [3, 1, 2], [3, 2, 1]]"
      ]
     },
     "execution_count": 43,
     "metadata": {},
     "output_type": "execute_result"
    }
   ],
   "source": [
    "nums = [1,2,3]\n",
    "permute(nums)"
   ]
  },
  {
   "cell_type": "code",
   "execution_count": 39,
   "id": "992f913a",
   "metadata": {
    "ExecuteTime": {
     "end_time": "2022-09-13T04:20:04.408612Z",
     "start_time": "2022-09-13T04:20:04.382498Z"
    }
   },
   "outputs": [
    {
     "data": {
      "text/plain": [
       "[[1, 2, 3], [1, 3, 2], [2, 1, 3], [2, 3, 1], [3, 1, 2], [3, 2, 1]]"
      ]
     },
     "execution_count": 39,
     "metadata": {},
     "output_type": "execute_result"
    }
   ],
   "source": [
    "nums = [1,2,3]\n",
    "res = []\n",
    "def backtrack(nums, arr):\n",
    "\n",
    "    if not nums:\n",
    "        res.append(arr)\n",
    "        return res\n",
    "    \n",
    "    for i in range(len(nums)):\n",
    "        backtrack(nums[:i]+nums[i+1:], arr+[nums[i]])\n",
    "        \n",
    "backtrack(nums, [])       \n",
    "res"
   ]
  }
 ],
 "metadata": {
  "kernelspec": {
   "display_name": "Python 3",
   "language": "python",
   "name": "python3"
  },
  "language_info": {
   "codemirror_mode": {
    "name": "ipython",
    "version": 3
   },
   "file_extension": ".py",
   "mimetype": "text/x-python",
   "name": "python",
   "nbconvert_exporter": "python",
   "pygments_lexer": "ipython3",
   "version": "3.8.8"
  }
 },
 "nbformat": 4,
 "nbformat_minor": 5
}
