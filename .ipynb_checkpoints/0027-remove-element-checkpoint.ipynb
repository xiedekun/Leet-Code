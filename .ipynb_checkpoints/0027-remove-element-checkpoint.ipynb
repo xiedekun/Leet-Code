{
 "cells": [
  {
   "cell_type": "markdown",
   "id": "4ee21f68",
   "metadata": {},
   "source": [
    "### 27. 移除元素\n",
    "给你一个数组 nums 和一个值 val，你需要 原地 移除所有数值等于 val 的元素，并返回移除后数组的新长度。\n",
    "\n",
    "不要使用额外的数组空间，你必须仅使用 O(1) 额外空间并 原地 修改输入数组。\n",
    "\n",
    "元素的顺序可以改变。你不需要考虑数组中超出新长度后面的元素。\n",
    "\n",
    " \n",
    "\n",
    "说明:\n",
    "\n",
    "为什么返回数值是整数，但输出的答案是数组呢?\n",
    "\n",
    "请注意，输入数组是以「引用」方式传递的，这意味着在函数里修改输入数组对于调用者是可见的。\n",
    "\n",
    "输入：nums = [3,2,2,3], val = 3\n",
    "\n",
    "输出：2, nums = [2,2]\n",
    "\n",
    "解释：函数应该返回新的长度 2, 并且 nums 中的前两个元素均为 2。你不需要考虑数组中超出新长度后面的元素。例如，函数返回的新长度为 2 ，而 nums = [2,2,3,3] 或 nums = [2,2,0,0]，也会被视作正确答案。\n",
    "\n",
    "https://leetcode.cn/problems/remove-element"
   ]
  },
  {
   "cell_type": "markdown",
   "id": "4b6147ed",
   "metadata": {},
   "source": [
    "**思路**：双指针；初始化要看开头是否为目标；不够优雅"
   ]
  },
  {
   "cell_type": "code",
   "execution_count": 51,
   "id": "56755164",
   "metadata": {
    "ExecuteTime": {
     "end_time": "2022-09-03T17:42:59.077661Z",
     "start_time": "2022-09-03T17:42:59.068162Z"
    }
   },
   "outputs": [],
   "source": [
    "def removeElement(nums, val):\n",
    "    \"\"\"\n",
    "    :type nums: List[int]\n",
    "    :type val: int\n",
    "    :rtype: int\n",
    "    \"\"\"\n",
    "    l = len(nums)\n",
    "    \n",
    "    if l==0:\n",
    "        return 0\n",
    "\n",
    "    i,j = 0,1\n",
    "\n",
    "    while i<l and nums[i] != val:\n",
    "        i+=1\n",
    "\n",
    "    j=i+1\n",
    "\n",
    "    remove = 0\n",
    "    if i<l and nums[i] == val:\n",
    "        remove = 1\n",
    "\n",
    "    while i<j and j<l:\n",
    "        while j<l and nums[j]==val:\n",
    "            remove+=1\n",
    "            j+=1\n",
    "\n",
    "        while i<j and nums[i]!=val:\n",
    "            i+=1\n",
    "\n",
    "        if j<l:\n",
    "            nums[i] = nums[j]\n",
    "            nums[j] = val\n",
    "        i+=1\n",
    "        j+=1\n",
    "\n",
    "    return l-remove"
   ]
  },
  {
   "cell_type": "code",
   "execution_count": 53,
   "id": "a66b0992",
   "metadata": {
    "ExecuteTime": {
     "end_time": "2022-09-03T17:44:19.063714Z",
     "start_time": "2022-09-03T17:44:19.054167Z"
    }
   },
   "outputs": [
    {
     "data": {
      "text/plain": [
       "(1, [3])"
      ]
     },
     "execution_count": 53,
     "metadata": {},
     "output_type": "execute_result"
    }
   ],
   "source": [
    "nums = [0,1,2,2,3,0,4,2]\n",
    "nums = [3]\n",
    "val = 2\n",
    "removeElement(nums, val),nums"
   ]
  },
  {
   "cell_type": "markdown",
   "id": "f736eac3",
   "metadata": {},
   "source": [
    "**思路**：操作数组"
   ]
  },
  {
   "cell_type": "code",
   "execution_count": 59,
   "id": "10b6d3e1",
   "metadata": {
    "ExecuteTime": {
     "end_time": "2022-09-03T17:48:31.199659Z",
     "start_time": "2022-09-03T17:48:31.193160Z"
    }
   },
   "outputs": [],
   "source": [
    "def removeElement(nums, val):\n",
    "    \"\"\"\n",
    "    :type nums: List[int]\n",
    "    :type val: int\n",
    "    :rtype: int\n",
    "    \"\"\"\n",
    "    idx = 0\n",
    "    while idx < len(nums):\n",
    "        if nums[idx] == val:\n",
    "            nums[idx] = nums[-1]\n",
    "            del nums[-1]\n",
    "        else:\n",
    "            idx+=1\n",
    "\n",
    "    return len(nums)"
   ]
  },
  {
   "cell_type": "code",
   "execution_count": 61,
   "id": "3bf65ad7",
   "metadata": {
    "ExecuteTime": {
     "end_time": "2022-09-03T17:48:32.765187Z",
     "start_time": "2022-09-03T17:48:32.754662Z"
    }
   },
   "outputs": [
    {
     "data": {
      "text/plain": [
       "(5, [0, 1, 4, 0, 3])"
      ]
     },
     "execution_count": 61,
     "metadata": {},
     "output_type": "execute_result"
    }
   ],
   "source": [
    "nums = [0,1,2,2,3,0,4,2]\n",
    "# nums = [3]\n",
    "val = 2\n",
    "removeElement(nums, val),nums"
   ]
  }
 ],
 "metadata": {
  "kernelspec": {
   "display_name": "Python 3",
   "language": "python",
   "name": "python3"
  },
  "language_info": {
   "codemirror_mode": {
    "name": "ipython",
    "version": 3
   },
   "file_extension": ".py",
   "mimetype": "text/x-python",
   "name": "python",
   "nbconvert_exporter": "python",
   "pygments_lexer": "ipython3",
   "version": "3.8.8"
  }
 },
 "nbformat": 4,
 "nbformat_minor": 5
}
