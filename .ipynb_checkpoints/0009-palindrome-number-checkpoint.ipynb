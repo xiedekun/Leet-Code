{
 "cells": [
  {
   "cell_type": "markdown",
   "id": "26cc9488",
   "metadata": {},
   "source": [
    "### 9. 回文数\n",
    "给你一个整数 x ，如果 x 是一个回文整数，返回 true ；否则，返回 false 。\n",
    "\n",
    "回文数是指正序（从左向右）和倒序（从右向左）读都是一样的整数。\n",
    "\n",
    "例如，121 是回文，而 123 不是。\n",
    " \n",
    "示例 1：\n",
    "\n",
    "输入：x = 121\n",
    "\n",
    "输出：true\n",
    "\n",
    "链接：https://leetcode.cn/problems/palindrome-number\n"
   ]
  },
  {
   "cell_type": "markdown",
   "id": "28ad3451",
   "metadata": {},
   "source": [
    "**思路**：先翻转再对比"
   ]
  },
  {
   "cell_type": "code",
   "execution_count": 11,
   "id": "39cf3503",
   "metadata": {
    "ExecuteTime": {
     "end_time": "2022-08-31T15:12:39.410663Z",
     "start_time": "2022-08-31T15:12:39.397668Z"
    }
   },
   "outputs": [
    {
     "name": "stdout",
     "output_type": "stream",
     "text": [
      "True\n"
     ]
    }
   ],
   "source": [
    "x = 121\n",
    "originalX = x\n",
    "res = 0\n",
    "\n",
    "while x>0:\n",
    "    res = 10*res + x%10\n",
    "    x = int(x/10)\n",
    "    \n",
    "if res == originalX:\n",
    "    print('True')\n",
    "else:\n",
    "    print('False')"
   ]
  },
  {
   "cell_type": "code",
   "execution_count": 14,
   "id": "902fac7d",
   "metadata": {
    "ExecuteTime": {
     "end_time": "2022-08-31T15:13:16.078034Z",
     "start_time": "2022-08-31T15:13:16.067050Z"
    }
   },
   "outputs": [],
   "source": [
    "def isPalindrome(x):\n",
    "    \"\"\"\n",
    "    :type x: int\n",
    "    :rtype: bool\n",
    "    \"\"\"\n",
    "    if x<0:\n",
    "        return False\n",
    "    originalX = x\n",
    "    res = 0\n",
    "\n",
    "    while x>0:\n",
    "        res = 10*res + x%10\n",
    "        x = int(x/10)\n",
    "\n",
    "    if res == originalX:\n",
    "        return True\n",
    "    else:\n",
    "        return False"
   ]
  },
  {
   "cell_type": "code",
   "execution_count": 17,
   "id": "3f566a59",
   "metadata": {
    "ExecuteTime": {
     "end_time": "2022-08-31T15:13:33.511485Z",
     "start_time": "2022-08-31T15:13:33.503987Z"
    }
   },
   "outputs": [
    {
     "data": {
      "text/plain": [
       "False"
      ]
     },
     "execution_count": 17,
     "metadata": {},
     "output_type": "execute_result"
    }
   ],
   "source": [
    "x = -121\n",
    "isPalindrome(x)"
   ]
  }
 ],
 "metadata": {
  "kernelspec": {
   "display_name": "Python 3",
   "language": "python",
   "name": "python3"
  },
  "language_info": {
   "codemirror_mode": {
    "name": "ipython",
    "version": 3
   },
   "file_extension": ".py",
   "mimetype": "text/x-python",
   "name": "python",
   "nbconvert_exporter": "python",
   "pygments_lexer": "ipython3",
   "version": "3.8.8"
  }
 },
 "nbformat": 4,
 "nbformat_minor": 5
}
