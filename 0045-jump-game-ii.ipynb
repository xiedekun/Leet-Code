{
 "cells": [
  {
   "cell_type": "markdown",
   "id": "bb432f47",
   "metadata": {},
   "source": [
    "### 45. 跳跃游戏 II\n",
    "给你一个非负整数数组 nums ，你最初位于数组的第一个位置。\n",
    "\n",
    "数组中的每个元素代表你在该位置可以跳跃的最大长度。\n",
    "\n",
    "你的目标是使用最少的跳跃次数到达数组的最后一个位置。\n",
    "\n",
    "假设你总是可以到达数组的最后一个位置。\n",
    "\n",
    " \n",
    "\n",
    "示例 1:\n",
    "\n",
    "输入: nums = [2,3,1,1,4]\n",
    "\n",
    "输出: 2\n",
    "\n",
    "解释: 跳到最后一个位置的最小跳跃数是 2。\n",
    "     从下标为 0 跳到下标为 1 的位置，跳 1 步，然后跳 3 步到达数组的最后一个位置。\n",
    "     \n",
    "https://leetcode.cn/problems/jump-game-ii/"
   ]
  },
  {
   "cell_type": "markdown",
   "id": "6bc01454",
   "metadata": {
    "ExecuteTime": {
     "end_time": "2022-09-12T21:34:27.795177Z",
     "start_time": "2022-09-12T21:34:27.777742Z"
    }
   },
   "source": [
    "**思路**：动态规划：每次要从头检查之前的情况\n",
    "dp[i] = min(dp[i], dp[j]+1)\n",
    "\n",
    "效率有点低"
   ]
  },
  {
   "cell_type": "code",
   "execution_count": 25,
   "id": "c4e6b12e",
   "metadata": {
    "ExecuteTime": {
     "end_time": "2022-09-12T21:34:21.562786Z",
     "start_time": "2022-09-12T21:34:21.545790Z"
    }
   },
   "outputs": [],
   "source": [
    "def jump(nums):\n",
    "    \"\"\"\n",
    "    :type nums: List[int]\n",
    "    :rtype: int\n",
    "    \"\"\"\n",
    "    import sys\n",
    "    dp = [sys.maxsize] * (len(nums))\n",
    "    dp[0] = 0\n",
    "    for i in range(1, len(nums)):\n",
    "        for j in range(i):\n",
    "            if nums[j]>=i-j:\n",
    "                dp[i] = min(dp[i], dp[j]+1)\n",
    "\n",
    "    return dp[-1]"
   ]
  },
  {
   "cell_type": "code",
   "execution_count": 45,
   "id": "fb0f0710",
   "metadata": {
    "ExecuteTime": {
     "end_time": "2022-09-13T03:59:03.132670Z",
     "start_time": "2022-09-13T03:59:03.105227Z"
    }
   },
   "outputs": [
    {
     "name": "stdout",
     "output_type": "stream",
     "text": [
      "0 0 0\n",
      "2 2 1\n"
     ]
    },
    {
     "data": {
      "text/plain": [
       "2"
      ]
     },
     "execution_count": 45,
     "metadata": {},
     "output_type": "execute_result"
    }
   ],
   "source": [
    "nums = [2,3,1,1,4]\n",
    "jump(nums)"
   ]
  },
  {
   "cell_type": "markdown",
   "id": "243a7906",
   "metadata": {
    "ExecuteTime": {
     "end_time": "2022-09-12T21:38:17.219740Z",
     "start_time": "2022-09-12T21:38:17.195157Z"
    }
   },
   "source": [
    "**思路**：贪心算法\n",
    "\n",
    "计算最大范围，如果到了最底部则步骤+1返回；如果当前位置到了上一次的最大位置，则步骤+1"
   ]
  },
  {
   "cell_type": "code",
   "execution_count": 48,
   "id": "e2afe88a",
   "metadata": {
    "ExecuteTime": {
     "end_time": "2022-09-13T04:00:56.522916Z",
     "start_time": "2022-09-13T04:00:56.505083Z"
    }
   },
   "outputs": [],
   "source": [
    "def jump(nums):\n",
    "    \"\"\"\n",
    "    :type nums: List[int]\n",
    "    :rtype: int\n",
    "    \"\"\"\n",
    "    cur_end, cur_furthest, step = 0, 0, 0\n",
    "\n",
    "    for i in range(len(nums)-1):\n",
    "\n",
    "        cur_furthest = max(nums[i]+i, cur_furthest)\n",
    "\n",
    "        if cur_furthest >= len(nums)-1:\n",
    "            step += 1\n",
    "            return step\n",
    "\n",
    "        if cur_end == i:\n",
    "            cur_end = cur_furthest\n",
    "            step+=1\n",
    "\n",
    "    return step"
   ]
  },
  {
   "cell_type": "code",
   "execution_count": 49,
   "id": "128dc8fb",
   "metadata": {
    "ExecuteTime": {
     "end_time": "2022-09-13T04:00:58.324237Z",
     "start_time": "2022-09-13T04:00:58.306126Z"
    }
   },
   "outputs": [
    {
     "data": {
      "text/plain": [
       "0"
      ]
     },
     "execution_count": 49,
     "metadata": {},
     "output_type": "execute_result"
    }
   ],
   "source": [
    "nums = [2,3,1,1,4]\n",
    "nums = [0]\n",
    "jump(nums)"
   ]
  },
  {
   "cell_type": "code",
   "execution_count": 40,
   "id": "ceda997d",
   "metadata": {
    "ExecuteTime": {
     "end_time": "2022-09-13T03:57:14.068489Z",
     "start_time": "2022-09-13T03:57:14.035544Z"
    }
   },
   "outputs": [
    {
     "name": "stdout",
     "output_type": "stream",
     "text": [
      "0 0 0\n",
      "2 2 1\n",
      "2 2 1\n",
      "3 3 2\n",
      "5 5 3\n",
      "5 5 3\n"
     ]
    },
    {
     "data": {
      "text/plain": [
       "4"
      ]
     },
     "execution_count": 40,
     "metadata": {},
     "output_type": "execute_result"
    }
   ],
   "source": [
    "nums = [2,3,1,1,4]\n",
    "nums = [2,1,1,2,1, 3,1,1,4]\n",
    "cur_end, cur_furthest, step = 0, 0, 0\n",
    "\n",
    "for i in range(len(nums)):\n",
    "    print(cur_end, cur_furthest, step)\n",
    "    cur_furthest = max(nums[i]+i, cur_furthest)\n",
    "    \n",
    "    if cur_furthest >= len(nums)-1:\n",
    "        step += 1\n",
    "        break\n",
    "    \n",
    "    if cur_end == i:\n",
    "        cur_end = cur_furthest\n",
    "        step+=1\n",
    "        \n",
    "step"
   ]
  }
 ],
 "metadata": {
  "kernelspec": {
   "display_name": "Python 3",
   "language": "python",
   "name": "python3"
  },
  "language_info": {
   "codemirror_mode": {
    "name": "ipython",
    "version": 3
   },
   "file_extension": ".py",
   "mimetype": "text/x-python",
   "name": "python",
   "nbconvert_exporter": "python",
   "pygments_lexer": "ipython3",
   "version": "3.8.8"
  }
 },
 "nbformat": 4,
 "nbformat_minor": 5
}
