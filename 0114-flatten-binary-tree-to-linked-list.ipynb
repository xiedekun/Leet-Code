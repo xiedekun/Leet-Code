{
 "cells": [
  {
   "cell_type": "markdown",
   "id": "004576f5",
   "metadata": {},
   "source": [
    "### 114. 二叉树展开为链表\n",
    "给你二叉树的根结点 root ，请你将它展开为一个单链表：\n",
    "\n",
    "展开后的单链表应该同样使用 TreeNode ，其中 right 子指针指向链表中下一个结点，而左子指针始终为 null 。\n",
    "展开后的单链表应该与二叉树 先序遍历 顺序相同。\n",
    "\n",
    "输入：root = [1,2,5,3,4,null,6]\n",
    "输出：[1,null,2,null,3,null,4,null,5,null,6]\n",
    "\n",
    "链接：https://leetcode.cn/problems/flatten-binary-tree-to-linked-list\n"
   ]
  },
  {
   "cell_type": "code",
   "execution_count": 3,
   "id": "c6d82eab",
   "metadata": {
    "ExecuteTime": {
     "end_time": "2022-08-24T07:04:03.299711Z",
     "start_time": "2022-08-24T07:04:03.284556Z"
    }
   },
   "outputs": [],
   "source": [
    "class TreeNode(object):\n",
    "    def __init__(self, val=0, left=None, right=None):\n",
    "        self.val = val\n",
    "        self.left = left\n",
    "        self.right = right"
   ]
  },
  {
   "cell_type": "code",
   "execution_count": 37,
   "id": "bfd29ba6",
   "metadata": {
    "ExecuteTime": {
     "end_time": "2022-08-24T07:25:32.129296Z",
     "start_time": "2022-08-24T07:25:32.093351Z"
    }
   },
   "outputs": [
    {
     "name": "stdout",
     "output_type": "stream",
     "text": [
      "[1, 2, 3, 4, 5, 6]\n"
     ]
    },
    {
     "data": {
      "text/plain": [
       "2"
      ]
     },
     "execution_count": 37,
     "metadata": {},
     "output_type": "execute_result"
    }
   ],
   "source": [
    "root = TreeNode(1,TreeNode(2, TreeNode(3), TreeNode(4)), TreeNode(5,None, TreeNode(6)))\n",
    "\n",
    "def flatten(root):\n",
    "    \"\"\"\n",
    "    :type root: TreeNode\n",
    "    :rtype: None Do not return anything, modify root in-place instead.\n",
    "    \"\"\"\n",
    "    def preorder(root):\n",
    "        res = []\n",
    "        if not root:\n",
    "            return res\n",
    "\n",
    "        res.append(root.val)\n",
    "        if root.left:\n",
    "            res.extend(preorder(root.left))\n",
    "        if root.right:\n",
    "            res.extend(preorder(root.right))\n",
    "        return res\n",
    "    \n",
    "    if not root:\n",
    "        return\n",
    "    preorder(root)\n",
    "    res = preorder(root)\n",
    "    root.val = res[0]\n",
    "    for i in range(1, len(res)):\n",
    "        root.left = None\n",
    "        root.right =  TreeNode(res[i])\n",
    "        root = root.right\n",
    "    \n",
    "flatten(root)\n",
    "root.right.val\n",
    "        "
   ]
  }
 ],
 "metadata": {
  "kernelspec": {
   "display_name": "Python 3",
   "language": "python",
   "name": "python3"
  },
  "language_info": {
   "codemirror_mode": {
    "name": "ipython",
    "version": 3
   },
   "file_extension": ".py",
   "mimetype": "text/x-python",
   "name": "python",
   "nbconvert_exporter": "python",
   "pygments_lexer": "ipython3",
   "version": "3.8.8"
  }
 },
 "nbformat": 4,
 "nbformat_minor": 5
}
