{
 "cells": [
  {
   "attachments": {
    "image.png": {
     "image/png": "[encoded data removed]"
    }
   },
   "cell_type": "markdown",
   "id": "a5639f0b",
   "metadata": {},
   "source": [
    "### 36. 有效的数独\n",
    "请你判断一个 9 x 9 的数独是否有效。只需要 根据以下规则 ，验证已经填入的数字是否有效即可。\n",
    "\n",
    "数字 1-9 在每一行只能出现一次。\n",
    "\n",
    "数字 1-9 在每一列只能出现一次。\n",
    "\n",
    "数字 1-9 在每一个以粗实线分隔的 3x3 宫内只能出现一次。（请参考示例图）\n",
    " \n",
    "\n",
    "注意：\n",
    "\n",
    "一个有效的数独（部分已被填充）不一定是可解的。\n",
    "只需要根据以上规则，验证已经填入的数字是否有效即可。\n",
    "空白格用 '.' 表示。\n",
    "\n",
    "![image.png](attachment:image.png)\n",
    "\n",
    "输入：board = \n",
    "[[\"5\",\"3\",\".\",\".\",\"7\",\".\",\".\",\".\",\".\"]\n",
    ",[\"6\",\".\",\".\",\"1\",\"9\",\"5\",\".\",\".\",\".\"]\n",
    ",[\".\",\"9\",\"8\",\".\",\".\",\".\",\".\",\"6\",\".\"]\n",
    ",[\"8\",\".\",\".\",\".\",\"6\",\".\",\".\",\".\",\"3\"]\n",
    ",[\"4\",\".\",\".\",\"8\",\".\",\"3\",\".\",\".\",\"1\"]\n",
    ",[\"7\",\".\",\".\",\".\",\"2\",\".\",\".\",\".\",\"6\"]\n",
    ",[\".\",\"6\",\".\",\".\",\".\",\".\",\"2\",\"8\",\".\"]\n",
    ",[\".\",\".\",\".\",\"4\",\"1\",\"9\",\".\",\".\",\"5\"]\n",
    ",[\".\",\".\",\".\",\".\",\"8\",\".\",\".\",\"7\",\"9\"]]\n",
    "输出：true\n",
    "\n",
    "\n",
    "链接：https://leetcode.cn/problems/valid-sudoku\n"
   ]
  },
  {
   "cell_type": "markdown",
   "id": "9e088f5e",
   "metadata": {},
   "source": [
    "**思路**：字典存储行、列、正方形找重复"
   ]
  },
  {
   "cell_type": "code",
   "execution_count": 31,
   "id": "2479ffc9",
   "metadata": {
    "ExecuteTime": {
     "end_time": "2022-09-11T13:12:43.186910Z",
     "start_time": "2022-09-11T13:12:43.168427Z"
    }
   },
   "outputs": [
    {
     "data": {
      "text/plain": [
       "[['.', '.', '4', '.', '.', '.', '6', '3', '.'],\n",
       " ['.', '.', '.', '.', '.', '.', '.', '.', '.'],\n",
       " ['5', '.', '.', '.', '.', '.', '.', '9', '.'],\n",
       " ['.', '.', '.', '5', '6', '.', '.', '.', '.'],\n",
       " ['4', '.', '3', '.', '.', '.', '.', '.', '1'],\n",
       " ['.', '.', '.', '7', '.', '.', '.', '.', '.'],\n",
       " ['.', '.', '.', '5', '.', '.', '.', '.', '.'],\n",
       " ['.', '.', '.', '.', '.', '.', '.', '.', '.'],\n",
       " ['.', '.', '.', '.', '.', '.', '.', '.', '.']]"
      ]
     },
     "execution_count": 31,
     "metadata": {},
     "output_type": "execute_result"
    }
   ],
   "source": [
    "board = [[\".\",\".\",\"4\",\".\",\".\",\".\",\"6\",\"3\",\".\"],[\".\",\".\",\".\",\".\",\".\",\".\",\".\",\".\",\".\"],[\"5\",\".\",\".\",\".\",\".\",\".\",\".\",\"9\",\".\"],[\".\",\".\",\".\",\"5\",\"6\",\".\",\".\",\".\",\".\"],[\"4\",\".\",\"3\",\".\",\".\",\".\",\".\",\".\",\"1\"],[\".\",\".\",\".\",\"7\",\".\",\".\",\".\",\".\",\".\"],[\".\",\".\",\".\",\"5\",\".\",\".\",\".\",\".\",\".\"],[\".\",\".\",\".\",\".\",\".\",\".\",\".\",\".\",\".\"],[\".\",\".\",\".\",\".\",\".\",\".\",\".\",\".\",\".\"]]\n",
    "board"
   ]
  },
  {
   "cell_type": "code",
   "execution_count": 35,
   "id": "15f328b2",
   "metadata": {
    "ExecuteTime": {
     "end_time": "2022-09-11T13:14:42.773688Z",
     "start_time": "2022-09-11T13:14:42.748894Z"
    }
   },
   "outputs": [],
   "source": [
    "def isValidSudoku(board):\n",
    "    \"\"\"\n",
    "    :type board: List[List[str]]\n",
    "    :rtype: bool\n",
    "    \"\"\"\n",
    "    r = c = len(board)\n",
    "    square = dict()\n",
    "    row = dict()\n",
    "    column = dict()\n",
    "    \n",
    "    for i in range(r):\n",
    "        for j in range(c):\n",
    "            num = board[i][j]\n",
    "            if num == '.':\n",
    "                continue\n",
    "                \n",
    "            s = (int(i/3), int(j/3))\n",
    "            vs = square.get(s, [])\n",
    "            vr = row.get(i, [])\n",
    "            vc = column.get(j, [])\n",
    "\n",
    "\n",
    "            if num in vs:\n",
    "                return False\n",
    "            else:\n",
    "                vs.append(num)\n",
    "                square.update({s:vs})\n",
    "                \n",
    "            if num in vr:\n",
    "                return False\n",
    "            else:\n",
    "                vr.append(num)\n",
    "                row.update({i:vr})\n",
    "                \n",
    "            if num in vc:\n",
    "                return False\n",
    "            else:\n",
    "                vc.append(num)\n",
    "                column.update({j:vc})\n",
    "    return True\n",
    "\n"
   ]
  },
  {
   "cell_type": "code",
   "execution_count": 36,
   "id": "5dd45277",
   "metadata": {
    "ExecuteTime": {
     "end_time": "2022-09-11T13:14:44.364716Z",
     "start_time": "2022-09-11T13:14:44.356691Z"
    }
   },
   "outputs": [
    {
     "data": {
      "text/plain": [
       "False"
      ]
     },
     "execution_count": 36,
     "metadata": {},
     "output_type": "execute_result"
    }
   ],
   "source": [
    "isValidSudoku(board)"
   ]
  },
  {
   "cell_type": "code",
   "execution_count": 19,
   "id": "7b2f8c7a",
   "metadata": {
    "ExecuteTime": {
     "end_time": "2022-09-11T12:54:04.127148Z",
     "start_time": "2022-09-11T12:54:04.104772Z"
    }
   },
   "outputs": [
    {
     "name": "stdout",
     "output_type": "stream",
     "text": [
      ". false\n",
      ". false\n",
      ". false\n",
      ". false\n",
      ". false\n",
      ". false\n",
      ". false\n",
      ". false\n",
      ". false\n"
     ]
    },
    {
     "data": {
      "text/plain": [
       "{(0, 0): ['5', '3', '.', '6'],\n",
       " (0, 1): ['.', '7'],\n",
       " (1, 0): ['8', '.', '4', '7'],\n",
       " (2, 0): ['.', '6']}"
      ]
     },
     "execution_count": 19,
     "metadata": {},
     "output_type": "execute_result"
    }
   ],
   "source": [
    "row = column = len(board)\n",
    "square = dict()\n",
    "maps = dict()\n",
    "for i in range(row):\n",
    "    for j in range(column):\n",
    "        num = board[i][j]\n",
    "        s = (int(i/3), int(j/3))\n",
    "        v = square.get(s, [])\n",
    "\n",
    "        if num in v:\n",
    "            print(num,'false')\n",
    "            break\n",
    "        else:\n",
    "            v.append(num)\n",
    "            square.update({s:v})\n",
    "            \n",
    "square\n",
    "            "
   ]
  },
  {
   "cell_type": "code",
   "execution_count": null,
   "id": "7498dbb8",
   "metadata": {},
   "outputs": [],
   "source": []
  }
 ],
 "metadata": {
  "kernelspec": {
   "display_name": "Python 3",
   "language": "python",
   "name": "python3"
  },
  "language_info": {
   "codemirror_mode": {
    "name": "ipython",
    "version": 3
   },
   "file_extension": ".py",
   "mimetype": "text/x-python",
   "name": "python",
   "nbconvert_exporter": "python",
   "pygments_lexer": "ipython3",
   "version": "3.8.8"
  }
 },
 "nbformat": 4,
 "nbformat_minor": 5
}
