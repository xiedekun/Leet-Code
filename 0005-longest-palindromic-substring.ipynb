{
 "cells": [
  {
   "cell_type": "markdown",
   "id": "bcdc1f83",
   "metadata": {},
   "source": [
    "### 5.最长回文子串\n",
    "\n",
    "给你一个字符串 s，找到 s 中最长的回文子串。\n",
    "\n",
    "示例 1：\n",
    "\n",
    "输入：s = \"babad\"\n",
    "\n",
    "输出：\"bab\"\n",
    "\n",
    "解释：\"aba\" 同样是符合题意的答案。\n",
    "\n",
    "链接：https://leetcode.cn/problems/longest-palindromic-substring\n"
   ]
  },
  {
   "cell_type": "code",
   "execution_count": 13,
   "id": "a28fb6bf",
   "metadata": {
    "ExecuteTime": {
     "end_time": "2022-08-22T18:25:50.634105Z",
     "start_time": "2022-08-22T18:25:50.604725Z"
    }
   },
   "outputs": [
    {
     "data": {
      "text/plain": [
       "'aba'"
      ]
     },
     "execution_count": 13,
     "metadata": {},
     "output_type": "execute_result"
    }
   ],
   "source": [
    "s = \"babad\"\n",
    "l = len(s)\n",
    "dp = [[0 for y in range(l)] for x in range(l)]\n",
    "\n",
    "indexI = indexJ = 0\n",
    "for i in range(l-1, -1, -1):\n",
    "    for j in range(i, l):\n",
    "        if s[i] == s[j]:\n",
    "            if j-i<=1:\n",
    "                dp[i][j] = 1\n",
    "                if j-i+1 > indexJ-indexI+1:\n",
    "                    indexI = i\n",
    "                    indexJ = j\n",
    "            elif dp[i+1][j-1]:\n",
    "                if j-i+1 > indexJ-indexI+1:\n",
    "                    indexI = i\n",
    "                    indexJ = j\n",
    "                dp[i][j] = 1\n",
    "                \n",
    "s[indexI:indexJ+1]                "
   ]
  }
 ],
 "metadata": {
  "kernelspec": {
   "display_name": "Python 3",
   "language": "python",
   "name": "python3"
  },
  "language_info": {
   "codemirror_mode": {
    "name": "ipython",
    "version": 3
   },
   "file_extension": ".py",
   "mimetype": "text/x-python",
   "name": "python",
   "nbconvert_exporter": "python",
   "pygments_lexer": "ipython3",
   "version": "3.8.8"
  }
 },
 "nbformat": 4,
 "nbformat_minor": 5
}
