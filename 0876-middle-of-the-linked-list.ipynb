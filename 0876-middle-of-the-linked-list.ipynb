{
 "cells": [
  {
   "cell_type": "markdown",
   "id": "26425723",
   "metadata": {},
   "source": [
    "### 876. 链表的中间结点\n",
    "\n",
    "给定一个头结点为 head 的非空单链表，返回链表的中间结点。\n",
    "\n",
    "如果有两个中间结点，则返回第二个中间结点。\n",
    "\n",
    "输入：[1,2,3,4,5]\n",
    "\n",
    "输出：此列表中的结点 3 (序列化形式：[3,4,5])\n",
    "\n",
    "返回的结点值为 3 。 (测评系统对该结点序列化表述是 [3,4,5])。\n",
    "\n",
    "注意，我们返回了一个 ListNode 类型的对象 ans，这样：\n",
    "\n",
    "ans.val = 3, ans.next.val = 4, ans.next.next.val = 5, 以及 ans.next.next.next = NULL.\n",
    "\n",
    "链接：https://leetcode.cn/problems/middle-of-the-linked-list"
   ]
  },
  {
   "cell_type": "code",
   "execution_count": 1,
   "id": "49474cef",
   "metadata": {
    "ExecuteTime": {
     "end_time": "2022-08-24T08:10:20.067036Z",
     "start_time": "2022-08-24T08:10:20.042331Z"
    }
   },
   "outputs": [],
   "source": [
    "class ListNode(object):\n",
    "    def __init__(self, val=0, next=None):\n",
    "        self.val = val\n",
    "        self.next = next"
   ]
  },
  {
   "cell_type": "code",
   "execution_count": 46,
   "id": "da3dc9ed",
   "metadata": {
    "ExecuteTime": {
     "end_time": "2022-08-24T10:12:06.464672Z",
     "start_time": "2022-08-24T10:12:06.445154Z"
    }
   },
   "outputs": [
    {
     "data": {
      "text/plain": [
       "2"
      ]
     },
     "execution_count": 46,
     "metadata": {},
     "output_type": "execute_result"
    }
   ],
   "source": [
    "head = ListNode(1, ListNode(2, ListNode(3, ListNode(4, ListNode(5)))))\n",
    "# head = ListNode(1, ListNode(2, ListNode(3, ListNode(4))))\n",
    "\n",
    "slow = fast = head\n",
    "\n",
    "fast =fast.next.next\n",
    "    \n",
    "while fast.next and fast.next.next:\n",
    "    slow = slow.next\n",
    "    fast = fast.next.next\n",
    "    \n",
    "slow.val"
   ]
  },
  {
   "cell_type": "code",
   "execution_count": 44,
   "id": "56634077",
   "metadata": {
    "ExecuteTime": {
     "end_time": "2022-08-24T10:11:31.743855Z",
     "start_time": "2022-08-24T10:11:31.716581Z"
    }
   },
   "outputs": [
    {
     "data": {
      "text/plain": [
       "4"
      ]
     },
     "execution_count": 44,
     "metadata": {},
     "output_type": "execute_result"
    }
   ],
   "source": [
    "head = ListNode(1, ListNode(2, ListNode(3, ListNode(4, ListNode(5)))))\n",
    "head = ListNode(1, ListNode(2, ListNode(3, ListNode(4, ListNode(5, ListNode(6))))))\n",
    "# head = ListNode(1, ListNode(2, ListNode(3)))\n",
    "def middleNode(head):\n",
    "    \"\"\"\n",
    "    :type head: ListNode\n",
    "    :rtype: ListNode\n",
    "    \"\"\"\n",
    "    slow = fast = head\n",
    "    if head == None or head.next == None:\n",
    "        return head\n",
    "    if head.next.next == None:\n",
    "        return head.next\n",
    "    \n",
    "    fast =fast.next.next\n",
    "\n",
    "    while fast.next and fast.next.next:\n",
    "        slow = slow.next\n",
    "        fast = fast.next.next\n",
    "        \n",
    "    if fast.next:\n",
    "        return slow.next.next\n",
    "    else:\n",
    "        return slow.next\n",
    "middleNode(head).val"
   ]
  }
 ],
 "metadata": {
  "kernelspec": {
   "display_name": "Python 3",
   "language": "python",
   "name": "python3"
  },
  "language_info": {
   "codemirror_mode": {
    "name": "ipython",
    "version": 3
   },
   "file_extension": ".py",
   "mimetype": "text/x-python",
   "name": "python",
   "nbconvert_exporter": "python",
   "pygments_lexer": "ipython3",
   "version": "3.8.8"
  }
 },
 "nbformat": 4,
 "nbformat_minor": 5
}
