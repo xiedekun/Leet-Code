{
 "cells": [
  {
   "cell_type": "markdown",
   "id": "91d50a9e",
   "metadata": {},
   "source": [
    "### 66. 加一\n",
    "给定一个由 整数 组成的 非空 数组所表示的非负整数，在该数的基础上加一。\n",
    "\n",
    "最高位数字存放在数组的首位， 数组中每个元素只存储单个数字。\n",
    "\n",
    "你可以假设除了整数 0 之外，这个整数不会以零开头。\n",
    "\n",
    " \n",
    "\n",
    "示例 1：\n",
    "\n",
    "输入：digits = [1,2,3]\n",
    "\n",
    "输出：[1,2,4]\n",
    "\n",
    "解释：输入数组表示数字 123。\n",
    "\n",
    "https://leetcode.cn/problems/plus-one/"
   ]
  },
  {
   "cell_type": "markdown",
   "id": "692f76f4",
   "metadata": {},
   "source": [
    "**思路**：递归；传递index和是否进一位参数；如果位数发生改变，改变第一个参数为1, 末尾添加0."
   ]
  },
  {
   "cell_type": "code",
   "execution_count": 35,
   "id": "739e8a56",
   "metadata": {
    "ExecuteTime": {
     "end_time": "2022-09-14T09:20:46.541123Z",
     "start_time": "2022-09-14T09:20:46.509535Z"
    }
   },
   "outputs": [],
   "source": [
    "def plusOne(digits):\n",
    "    \"\"\"\n",
    "    :type digits: List[int]\n",
    "    :rtype: List[int]\n",
    "    \"\"\"\n",
    "\n",
    "    idx = len(digits)-1\n",
    "\n",
    "    def addOne(digits, add, idx):\n",
    "\n",
    "        if idx == len(digits)-1:\n",
    "            digits[idx] +=1\n",
    "\n",
    "        incre = digits[idx] + add\n",
    "\n",
    "        digits[idx] = incre%10\n",
    "        add = int(incre/10)\n",
    "\n",
    "        if idx==0 or add==0:\n",
    "            if add !=0:\n",
    "                digits[0] = add\n",
    "                digits.append(0)\n",
    "                return \n",
    "            return \n",
    "\n",
    "        addOne(digits, add, idx-1)\n",
    "    addOne(digits, 0, idx)\n",
    "    return digits"
   ]
  },
  {
   "cell_type": "code",
   "execution_count": 36,
   "id": "d4a7b4e4",
   "metadata": {
    "ExecuteTime": {
     "end_time": "2022-09-14T09:20:48.000911Z",
     "start_time": "2022-09-14T09:20:47.985276Z"
    }
   },
   "outputs": [
    {
     "data": {
      "text/plain": [
       "[3, 3, 0]"
      ]
     },
     "execution_count": 36,
     "metadata": {},
     "output_type": "execute_result"
    }
   ],
   "source": [
    "digits = [3,2,9]\n",
    "plusOne(digits)"
   ]
  }
 ],
 "metadata": {
  "kernelspec": {
   "display_name": "Python 3",
   "language": "python",
   "name": "python3"
  },
  "language_info": {
   "codemirror_mode": {
    "name": "ipython",
    "version": 3
   },
   "file_extension": ".py",
   "mimetype": "text/x-python",
   "name": "python",
   "nbconvert_exporter": "python",
   "pygments_lexer": "ipython3",
   "version": "3.8.8"
  }
 },
 "nbformat": 4,
 "nbformat_minor": 5
}
