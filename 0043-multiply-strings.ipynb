{
 "cells": [
  {
   "cell_type": "markdown",
   "id": "a54733d4",
   "metadata": {},
   "source": [
    "### 43. 字符串相乘\n",
    "给定两个以字符串形式表示的非负整数 num1 和 num2，返回 num1 和 num2 的乘积，它们的乘积也表示为字符串形式。\n",
    "\n",
    "注意：不能使用任何内置的 BigInteger 库或直接将输入转换为整数。\n",
    "\n",
    " \n",
    "\n",
    "示例 1:\n",
    "\n",
    "输入: num1 = \"2\", num2 = \"3\"\n",
    "输出: \"6\"\n",
    "\n",
    "示例 2:\n",
    "\n",
    "输入: num1 = \"123\", num2 = \"456\"\n",
    "输出: \"56088\"\n",
    "\n",
    "https://leetcode.cn/problems/multiply-strings/"
   ]
  },
  {
   "cell_type": "code",
   "execution_count": 20,
   "id": "222efbcb",
   "metadata": {
    "ExecuteTime": {
     "end_time": "2022-09-12T08:56:41.188036Z",
     "start_time": "2022-09-12T08:56:41.174771Z"
    }
   },
   "outputs": [],
   "source": [
    "def multiply(num1, num2):\n",
    "    \"\"\"\n",
    "    :type num1: str\n",
    "    :type num2: str\n",
    "    :rtype: str\n",
    "    \"\"\"\n",
    "    \n",
    "    def str2int(num):\n",
    "        res = 0\n",
    "        for i in range(len(num)):\n",
    "            res = res*10 + ord(num[i])-ord('0')\n",
    "        return res\n",
    "    \n",
    "    return str(str2int(num1) * str2int(num2))"
   ]
  },
  {
   "cell_type": "code",
   "execution_count": 21,
   "id": "af9770f9",
   "metadata": {
    "ExecuteTime": {
     "end_time": "2022-09-12T08:56:42.701054Z",
     "start_time": "2022-09-12T08:56:42.692364Z"
    }
   },
   "outputs": [
    {
     "data": {
      "text/plain": [
       "'56088'"
      ]
     },
     "execution_count": 21,
     "metadata": {},
     "output_type": "execute_result"
    }
   ],
   "source": [
    "num1 = \"123\"\n",
    "num2 = \"456\"\n",
    "multiply(num1, num2)"
   ]
  },
  {
   "cell_type": "code",
   "execution_count": 19,
   "id": "023278aa",
   "metadata": {
    "ExecuteTime": {
     "end_time": "2022-09-12T08:56:38.869475Z",
     "start_time": "2022-09-12T08:56:38.849859Z"
    }
   },
   "outputs": [
    {
     "data": {
      "text/plain": [
       "456"
      ]
     },
     "execution_count": 19,
     "metadata": {},
     "output_type": "execute_result"
    }
   ],
   "source": [
    "num1 = \"123\"\n",
    "num2 = \"456\"\n",
    "\n",
    "res = 0\n",
    "\n",
    "\n",
    "for i in range(len(num2)):\n",
    "    res = res*10 + ord(num2[i])-ord('0')\n",
    "res"
   ]
  }
 ],
 "metadata": {
  "kernelspec": {
   "display_name": "Python 3",
   "language": "python",
   "name": "python3"
  },
  "language_info": {
   "codemirror_mode": {
    "name": "ipython",
    "version": 3
   },
   "file_extension": ".py",
   "mimetype": "text/x-python",
   "name": "python",
   "nbconvert_exporter": "python",
   "pygments_lexer": "ipython3",
   "version": "3.8.8"
  }
 },
 "nbformat": 4,
 "nbformat_minor": 5
}
