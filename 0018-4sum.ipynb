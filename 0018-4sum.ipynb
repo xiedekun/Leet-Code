{
 "cells": [
  {
   "cell_type": "markdown",
   "id": "abbb4ddf",
   "metadata": {},
   "source": [
    "### 18. 四数之和\n",
    "给你一个由 n 个整数组成的数组 nums ，和一个目标值 target 。请你找出并返回满足下述全部条件且不重复的四元组 [nums[a], nums[b], nums[c], nums[d]] （若两个四元组元素一一对应，则认为两个四元组重复）：\n",
    "\n",
    "0 <= a, b, c, d < n\n",
    "\n",
    "a、b、c 和 d 互不相同\n",
    "\n",
    "nums[a] + nums[b] + nums[c] + nums[d] == target\n",
    "\n",
    "你可以按 任意顺序 返回答案 。\n",
    "\n",
    "输入：nums = [1,0,-1,0,-2,2], target = 0\n",
    "\n",
    "输出：[[-2,-1,1,2],[-2,0,0,2],[-1,0,0,1]]\n",
    "\n",
    "https://leetcode.cn/problems/4sum\n"
   ]
  },
  {
   "cell_type": "code",
   "execution_count": 29,
   "id": "b6f09f25",
   "metadata": {
    "ExecuteTime": {
     "end_time": "2022-09-03T08:39:34.978612Z",
     "start_time": "2022-09-03T08:39:34.953108Z"
    }
   },
   "outputs": [
    {
     "data": {
      "text/plain": [
       "[[2, 2, 2, 2]]"
      ]
     },
     "execution_count": 29,
     "metadata": {},
     "output_type": "execute_result"
    }
   ],
   "source": [
    "nums = [1,0,-1,0,-2,2]\n",
    "nums = [2,2,2,2,2]\n",
    "target = 0\n",
    "target = 8\n",
    "nums.sort()\n",
    "\n",
    "res = []\n",
    "\n",
    "for i in range(len(nums)):\n",
    "    if i>0 and nums[i-1] == nums[i]:\n",
    "        continue\n",
    "    for j in range(i+1, len(nums)):\n",
    "        if j>i+1 and nums[j-1] == nums[j]:\n",
    "            continue\n",
    "        \n",
    "        l = j+1\n",
    "        r = len(nums)-1\n",
    "        \n",
    "        while l<r and r<len(nums):\n",
    "            sums = nums[i] + nums[j] + nums[l] + nums[r]\n",
    "            if target == sums:\n",
    "                res. append([nums[i], nums[j], nums[l], nums[r]])\n",
    "                r-=1\n",
    "                l+=1\n",
    "                while l<r and nums[l-1] == nums[l]:\n",
    "                    l+=1\n",
    "\n",
    "                while l< r and nums[r+1] == nums[r]:\n",
    "                    r-=1\n",
    "            elif target > sums:\n",
    "                l+=1\n",
    "            else:\n",
    "                r-=1\n",
    "                \n",
    "res\n",
    "                   "
   ]
  },
  {
   "cell_type": "code",
   "execution_count": 30,
   "id": "d0ccf7e7",
   "metadata": {
    "ExecuteTime": {
     "end_time": "2022-09-03T08:39:48.040179Z",
     "start_time": "2022-09-03T08:39:48.026110Z"
    }
   },
   "outputs": [],
   "source": [
    "def fourSum(nums, target):\n",
    "    \"\"\"\n",
    "    :type nums: List[int]\n",
    "    :type target: int\n",
    "    :rtype: List[List[int]]\n",
    "    \"\"\"\n",
    "    nums.sort()\n",
    "\n",
    "    res = []\n",
    "\n",
    "    for i in range(len(nums)):\n",
    "        if i>0 and nums[i-1] == nums[i]:\n",
    "            continue\n",
    "        for j in range(i+1, len(nums)):\n",
    "            if j>i+1 and nums[j-1] == nums[j]:\n",
    "                continue\n",
    "\n",
    "            l = j+1\n",
    "            r = len(nums)-1\n",
    "\n",
    "            while l<r and r<len(nums):\n",
    "                sums = nums[i] + nums[j] + nums[l] + nums[r]\n",
    "                if target == sums:\n",
    "                    res. append([nums[i], nums[j], nums[l], nums[r]])\n",
    "                    r-=1\n",
    "                    l+=1\n",
    "                    while l<r and nums[l-1] == nums[l]:\n",
    "                        l+=1\n",
    "\n",
    "                    while l< r and nums[r+1] == nums[r]:\n",
    "                        r-=1\n",
    "                elif target > sums:\n",
    "                    l+=1\n",
    "                else:\n",
    "                    r-=1\n",
    "\n",
    "    return res"
   ]
  },
  {
   "cell_type": "code",
   "execution_count": 33,
   "id": "01d2635f",
   "metadata": {
    "ExecuteTime": {
     "end_time": "2022-09-03T08:39:52.126650Z",
     "start_time": "2022-09-03T08:39:52.117153Z"
    }
   },
   "outputs": [
    {
     "data": {
      "text/plain": [
       "[[-2, -1, 1, 2], [-2, 0, 0, 2], [-1, 0, 0, 1]]"
      ]
     },
     "execution_count": 33,
     "metadata": {},
     "output_type": "execute_result"
    }
   ],
   "source": [
    "nums = [1,0,-1,0,-2,2]\n",
    "target = 0\n",
    "fourSum(nums, target)"
   ]
  }
 ],
 "metadata": {
  "kernelspec": {
   "display_name": "Python 3",
   "language": "python",
   "name": "python3"
  },
  "language_info": {
   "codemirror_mode": {
    "name": "ipython",
    "version": 3
   },
   "file_extension": ".py",
   "mimetype": "text/x-python",
   "name": "python",
   "nbconvert_exporter": "python",
   "pygments_lexer": "ipython3",
   "version": "3.8.8"
  }
 },
 "nbformat": 4,
 "nbformat_minor": 5
}
