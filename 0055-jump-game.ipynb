{
 "cells": [
  {
   "cell_type": "markdown",
   "id": "e7379553",
   "metadata": {},
   "source": [
    "### 55. 跳跃游戏\n",
    "给定一个非负整数数组 nums ，你最初位于数组的 第一个下标 。\n",
    "\n",
    "数组中的每个元素代表你在该位置可以跳跃的最大长度。\n",
    "\n",
    "判断你是否能够到达最后一个下标。\n",
    "\n",
    " \n",
    "\n",
    "示例 1：\n",
    "\n",
    "输入：nums = [2,3,1,1,4]\n",
    "\n",
    "输出：true\n",
    "\n",
    "解释：可以先跳 1 步，从下标 0 到达下标 1, 然后再从下标 1 跳 3 步到达最后一个下标。\n",
    "\n",
    "https://leetcode.cn/problems/jump-game/"
   ]
  },
  {
   "cell_type": "markdown",
   "id": "6c67b3d8",
   "metadata": {},
   "source": [
    "**思路**：贪心算法\n",
    "\n",
    "计算最大范围，如果到了最底部则返回True；如果中途当前位置等于最大范围说明中间有0，返回False"
   ]
  },
  {
   "cell_type": "code",
   "execution_count": 39,
   "id": "fb647418",
   "metadata": {
    "ExecuteTime": {
     "end_time": "2022-09-13T09:05:18.890233Z",
     "start_time": "2022-09-13T09:05:18.878443Z"
    }
   },
   "outputs": [],
   "source": [
    "def canJump(nums):\n",
    "    \"\"\"\n",
    "    :type nums: List[int]\n",
    "    :rtype: bool\n",
    "    \"\"\"\n",
    "    if len(nums) == 1:\n",
    "        return True\n",
    "    max_range = 0\n",
    "\n",
    "    for i in range(len(nums)-1):\n",
    "        max_range = max(max_range, i+nums[i])\n",
    "        if max_range == i: # 中间有0\n",
    "            return False\n",
    "        if max_range>=len(nums)-1:\n",
    "            return True\n",
    "        \n",
    "    return False"
   ]
  },
  {
   "cell_type": "code",
   "execution_count": 37,
   "id": "d0ad60cd",
   "metadata": {
    "ExecuteTime": {
     "end_time": "2022-09-13T09:04:47.982017Z",
     "start_time": "2022-09-13T09:04:47.960845Z"
    }
   },
   "outputs": [
    {
     "data": {
      "text/plain": [
       "False"
      ]
     },
     "execution_count": 37,
     "metadata": {},
     "output_type": "execute_result"
    }
   ],
   "source": [
    "nums = [2,3,1,1,4]\n",
    "nums = [0,2,3]\n",
    "canJump(nums)"
   ]
  },
  {
   "cell_type": "code",
   "execution_count": 20,
   "id": "d5621cde",
   "metadata": {
    "ExecuteTime": {
     "end_time": "2022-09-13T09:00:15.769549Z",
     "start_time": "2022-09-13T09:00:15.743822Z"
    }
   },
   "outputs": [
    {
     "name": "stdout",
     "output_type": "stream",
     "text": [
      "0 3\n",
      "1 3\n",
      "2 3\n",
      "3 3\n"
     ]
    }
   ],
   "source": [
    "nums = [2,1,3,1,0,1,4]\n",
    "nums = [3,2,1,0,4]\n",
    "\n",
    "max_range = 0\n",
    "\n",
    "for i in range(len(nums)-1):\n",
    "    max_range = max(max_range, nums[i])\n",
    "    print(i, max_range)\n",
    "    if max_range>=len(nums)-1:\n",
    "        print(True)\n",
    "        break\n"
   ]
  }
 ],
 "metadata": {
  "kernelspec": {
   "display_name": "Python 3",
   "language": "python",
   "name": "python3"
  },
  "language_info": {
   "codemirror_mode": {
    "name": "ipython",
    "version": 3
   },
   "file_extension": ".py",
   "mimetype": "text/x-python",
   "name": "python",
   "nbconvert_exporter": "python",
   "pygments_lexer": "ipython3",
   "version": "3.8.8"
  }
 },
 "nbformat": 4,
 "nbformat_minor": 5
}
