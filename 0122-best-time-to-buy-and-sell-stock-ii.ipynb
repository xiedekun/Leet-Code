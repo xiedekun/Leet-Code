{
 "cells": [
  {
   "cell_type": "markdown",
   "id": "1fcc6a82",
   "metadata": {},
   "source": [
    "### 122. 买卖股票的最佳时机 II\n",
    "给你一个整数数组 prices ，其中 prices[i] 表示某支股票第 i 天的价格。\n",
    "\n",
    "在每一天，你可以决定是否购买和/或出售股票。你在任何时候 最多 只能持有 一股 股票。你也可以先购买，然后在 同一天 出售。\n",
    "\n",
    "返回 你能获得的 最大 利润 。\n",
    "\n",
    " \n",
    "\n",
    "示例 1：\n",
    "\n",
    "输入：prices = [7,1,5,3,6,4]\n",
    "\n",
    "输出：7\n",
    "\n",
    "解释：在第 2 天（股票价格 = 1）的时候买入，在第 3 天（股票价格 = 5）的时候卖出, 这笔交易所能获得利润 = 5 - 1 = 4 。\n",
    "     随后，在第 4 天（股票价格 = 3）的时候买入，在第 5 天（股票价格 = 6）的时候卖出, 这笔交易所能获得利润 = 6 - 3 = 3 。\n",
    "     总利润为 4 + 3 = 7 。\n",
    "     \n",
    "https://leetcode.cn/problems/best-time-to-buy-and-sell-stock-ii/"
   ]
  },
  {
   "cell_type": "markdown",
   "id": "92aeb569",
   "metadata": {},
   "source": [
    "**思路**：贪心算法\n",
    "\n",
    "第二天比今天大就卖\n",
    "\n",
    "```\n",
    "力扣：[7, 1, 5, 6] 第二天买入，第四天卖出，收益最大（6-1），所以一般人可能会想，怎么判断不是第三天就卖出了呢? 这里就把问题复杂化了，根据题目的意思，当天卖出以后，当天还可以买入，所以其实可以第三天卖出，第三天买入，第四天又卖出（（5-1）+ （6-5） === 6 - 1）。所以算法可以直接简化为只要今天比昨天大，就卖出。\n",
    "```"
   ]
  },
  {
   "cell_type": "code",
   "execution_count": 3,
   "id": "bdf26e53",
   "metadata": {
    "ExecuteTime": {
     "end_time": "2022-09-24T03:40:54.397703Z",
     "start_time": "2022-09-24T03:40:54.374143Z"
    }
   },
   "outputs": [],
   "source": [
    "def maxProfit(prices):\n",
    "    \"\"\"\n",
    "    :type prices: List[int]\n",
    "    :rtype: int\n",
    "    \"\"\"\n",
    "    res = 0\n",
    "\n",
    "    for i in range(len(prices)-1):\n",
    "        if prices[i+1] > prices[i]:\n",
    "            res += prices[i+1]-prices[i]\n",
    "\n",
    "    return res"
   ]
  },
  {
   "cell_type": "code",
   "execution_count": 5,
   "id": "e7d77243",
   "metadata": {
    "ExecuteTime": {
     "end_time": "2022-09-24T03:40:56.407595Z",
     "start_time": "2022-09-24T03:40:56.399624Z"
    }
   },
   "outputs": [
    {
     "data": {
      "text/plain": [
       "7"
      ]
     },
     "execution_count": 5,
     "metadata": {},
     "output_type": "execute_result"
    }
   ],
   "source": [
    "prices = [7,1,5,3,6,4]\n",
    "maxProfit(prices)"
   ]
  }
 ],
 "metadata": {
  "kernelspec": {
   "display_name": "Python 3",
   "language": "python",
   "name": "python3"
  },
  "language_info": {
   "codemirror_mode": {
    "name": "ipython",
    "version": 3
   },
   "file_extension": ".py",
   "mimetype": "text/x-python",
   "name": "python",
   "nbconvert_exporter": "python",
   "pygments_lexer": "ipython3",
   "version": "3.8.8"
  }
 },
 "nbformat": 4,
 "nbformat_minor": 5
}
