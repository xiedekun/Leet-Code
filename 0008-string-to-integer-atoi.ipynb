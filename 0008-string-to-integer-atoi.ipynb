{
 "cells": [
  {
   "cell_type": "markdown",
   "id": "d87cfd75",
   "metadata": {},
   "source": [
    "### 8. 字符串转换整数 (atoi)\n",
    "请你来实现一个 myAtoi(string s) 函数，使其能将字符串转换成一个 32 位有符号整数（类似 C/C++ 中的 atoi 函数）。\n",
    "\n",
    "函数 myAtoi(string s) 的算法如下：\n",
    "\n",
    "读入字符串并丢弃无用的前导空格\n",
    "检查下一个字符（假设还未到字符末尾）为正还是负号，读取该字符（如果有）。 确定最终结果是负数还是正数。 如果两者都不存在，则假定结果为正。\n",
    "读入下一个字符，直到到达下一个非数字字符或到达输入的结尾。字符串的其余部分将被忽略。\n",
    "将前面步骤读入的这些数字转换为整数（即，\"123\" -> 123， \"0032\" -> 32）。如果没有读入数字，则整数为 0 。必要时更改符号（从步骤 2 开始）。\n",
    "如果整数数超过 32 位有符号整数范围 [−231,  231 − 1] ，需要截断这个整数，使其保持在这个范围内。具体来说，小于 −231 的整数应该被固定为 −231 ，大于 231 − 1 的整数应该被固定为 231 − 1 。\n",
    "返回整数作为最终结果。\n",
    "注意：\n",
    "\n",
    "本题中的空白字符只包括空格字符 ' ' 。\n",
    "\n",
    "除前导空格或数字后的其余字符串外，请勿忽略 任何其他字符。\n",
    "\n",
    "示例 1：\n",
    "\n",
    "输入：s = \"42\"\n",
    "\n",
    "输出：42\n",
    "\n",
    "解释：加粗的字符串为已经读入的字符，插入符号是当前读取的字符。\n",
    "\n",
    "第 1 步：\"42\"（当前没有读入字符，因为没有前导空格）\n",
    "         \n",
    "第 2 步：\"42\"（当前没有读入字符，因为这里不存在 '-' 或者 '+'）\n",
    "         \n",
    "第 3 步：\"42\"（读入 \"42\"）\n",
    "          \n",
    "解析得到整数 42 。\n",
    "\n",
    "由于 \"42\" 在范围 [-231, 231 - 1] 内，最终结果为 42 。\n",
    "\n",
    "链接：https://leetcode.cn/problems/string-to-integer-atoi"
   ]
  },
  {
   "cell_type": "markdown",
   "id": "97176bf4",
   "metadata": {
    "ExecuteTime": {
     "end_time": "2022-08-31T15:02:26.314627Z",
     "start_time": "2022-08-31T15:02:26.228976Z"
    }
   },
   "source": [
    "**思路**：符号一定在首位才有效"
   ]
  },
  {
   "cell_type": "code",
   "execution_count": 68,
   "id": "dd023cdf",
   "metadata": {
    "ExecuteTime": {
     "end_time": "2022-08-31T16:55:08.266886Z",
     "start_time": "2022-08-31T16:55:08.253434Z"
    }
   },
   "outputs": [
    {
     "data": {
      "text/plain": [
       "-4193"
      ]
     },
     "execution_count": 68,
     "metadata": {},
     "output_type": "execute_result"
    }
   ],
   "source": [
    "s = ' -4193 with words'\n",
    "# s = \"words and 987\"\n",
    "s = s.strip()\n",
    "res = 0\n",
    "isNegtive = False\n",
    "for i in range(len(s)):\n",
    "    if s[i] == '-':\n",
    "        isNegtive = True\n",
    "    elif '0'<=s[i]<='9':\n",
    "        res = res*10 + int(s[i])\n",
    "    else:\n",
    "        break\n",
    "\n",
    "if isNegtive:\n",
    "    res = -res\n",
    "res"
   ]
  },
  {
   "cell_type": "code",
   "execution_count": 69,
   "id": "77bffb5d",
   "metadata": {
    "ExecuteTime": {
     "end_time": "2022-08-31T16:55:21.933378Z",
     "start_time": "2022-08-31T16:55:21.922217Z"
    }
   },
   "outputs": [],
   "source": [
    "def myAtoi(s):\n",
    "    \"\"\"\n",
    "    :type s: str\n",
    "    :rtype: int\n",
    "    \"\"\"\n",
    "    s = s.strip()\n",
    "    res = 0\n",
    "    isNegtive = False\n",
    "    for i in range(len(s)):\n",
    "        if s[i] == '-' and i==0:\n",
    "            isNegtive = True\n",
    "        elif s[i] == '+' and i==0:\n",
    "            continue\n",
    "        elif '0'<=s[i]<='9':\n",
    "            res = res*10 + int(s[i])\n",
    "        else:\n",
    "            break\n",
    "            \n",
    "    if isNegtive:\n",
    "        res = -res\n",
    "        \n",
    "    if res<= -2**31:\n",
    "        return -2**31\n",
    "    elif res>=2**31-1:\n",
    "        return 2**31-1\n",
    "    else:\n",
    "        return res"
   ]
  },
  {
   "cell_type": "code",
   "execution_count": 71,
   "id": "6ae108ea",
   "metadata": {
    "ExecuteTime": {
     "end_time": "2022-08-31T16:55:23.891714Z",
     "start_time": "2022-08-31T16:55:23.880219Z"
    }
   },
   "outputs": [
    {
     "data": {
      "text/plain": [
       "(-2147483648, -2147483648)"
      ]
     },
     "execution_count": 71,
     "metadata": {},
     "output_type": "execute_result"
    }
   ],
   "source": [
    "s = ' 4193 with words'\n",
    "s = \"words and 987\"\n",
    "s = '+-12'\n",
    "s = \"      -11919730356x\"\n",
    "myAtoi(s),-2**31"
   ]
  }
 ],
 "metadata": {
  "kernelspec": {
   "display_name": "Python 3",
   "language": "python",
   "name": "python3"
  },
  "language_info": {
   "codemirror_mode": {
    "name": "ipython",
    "version": 3
   },
   "file_extension": ".py",
   "mimetype": "text/x-python",
   "name": "python",
   "nbconvert_exporter": "python",
   "pygments_lexer": "ipython3",
   "version": "3.8.8"
  }
 },
 "nbformat": 4,
 "nbformat_minor": 5
}
