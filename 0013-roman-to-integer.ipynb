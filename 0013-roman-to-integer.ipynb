{
 "cells": [
  {
   "cell_type": "markdown",
   "id": "e26048c3",
   "metadata": {},
   "source": [
    "### 13. 罗马数字转整数\n",
    "罗马数字包含以下七种字符: I， V， X， L，C，D 和 M。\n",
    "\n",
    "字符          数值\n",
    "\n",
    "I             1\n",
    "\n",
    "V             5\n",
    "\n",
    "X             10\n",
    "\n",
    "L             50\n",
    "\n",
    "C             100\n",
    "\n",
    "D             500\n",
    "\n",
    "M             1000\n",
    "\n",
    "\n",
    "例如， 罗马数字 2 写做 II ，即为两个并列的 1 。12 写做 XII ，即为 X + II 。 27 写做  XXVII, 即为 XX + V + II 。\n",
    "\n",
    "通常情况下，罗马数字中小的数字在大的数字的右边。但也存在特例，例如 4 不写做 IIII，而是 IV。数字 1 在数字 5 的左边，所表示的数等于大数 5 减小数 1 得到的数值 4 。同样地，数字 9 表示为 IX。这个特殊的规则只适用于以下六种情况：\n",
    "\n",
    "I 可以放在 V (5) 和 X (10) 的左边，来表示 4 和 9。\n",
    "\n",
    "X 可以放在 L (50) 和 C (100) 的左边，来表示 40 和 90。 \n",
    "\n",
    "C 可以放在 D (500) 和 M (1000) 的左边，来表示 400 和 900。\n",
    "给定一个罗马数字，将其转换成整数。\n",
    "\n",
    "输入: s = \"III\"\n",
    "\n",
    "输出: 3\n",
    "\n",
    "https://leetcode.cn/problems/roman-to-integer\n"
   ]
  },
  {
   "cell_type": "markdown",
   "id": "8ee699a7",
   "metadata": {},
   "source": [
    "**思路**：先存上一个字符，如果数字小于下一个要减去，否则加上。最后再加上最后一位。"
   ]
  },
  {
   "cell_type": "code",
   "execution_count": 12,
   "id": "9925341a",
   "metadata": {
    "ExecuteTime": {
     "end_time": "2022-08-31T16:43:03.363146Z",
     "start_time": "2022-08-31T16:43:03.349651Z"
    }
   },
   "outputs": [
    {
     "data": {
      "text/plain": [
       "58"
      ]
     },
     "execution_count": 12,
     "metadata": {},
     "output_type": "execute_result"
    }
   ],
   "source": [
    "maps = {'I': 1\n",
    ",'V': 5\n",
    ",'X': 10\n",
    ",'L': 50\n",
    ",'C': 100\n",
    ",'D': 500\n",
    ",'M': 1000}\n",
    "\n",
    "s = \"IX\"\n",
    "s = \"LVIII\"\n",
    "res = 0\n",
    "lastNum = maps[s[0]]\n",
    "\n",
    "for i in range(1, len(s)):\n",
    "    if lastNum >= maps[s[i]]:  \n",
    "        res += lastNum\n",
    "    else:\n",
    "        res -= lastNum\n",
    "        \n",
    "    lastNum = maps[s[i]]\n",
    "\n",
    "res+lastNum\n"
   ]
  },
  {
   "cell_type": "code",
   "execution_count": 14,
   "id": "587175ab",
   "metadata": {
    "ExecuteTime": {
     "end_time": "2022-08-31T16:43:24.680184Z",
     "start_time": "2022-08-31T16:43:24.670180Z"
    }
   },
   "outputs": [],
   "source": [
    "def romanToInt(s):\n",
    "    \"\"\"\n",
    "    :type s: str\n",
    "    :rtype: int\n",
    "    \"\"\"\n",
    "    maps = {'I': 1\n",
    "    ,'V': 5\n",
    "    ,'X': 10\n",
    "    ,'L': 50\n",
    "    ,'C': 100\n",
    "    ,'D': 500\n",
    "    ,'M': 1000}\n",
    "\n",
    "    res = 0\n",
    "    lastNum = maps[s[0]]\n",
    "\n",
    "    for i in range(1, len(s)):\n",
    "        if lastNum >= maps[s[i]]:  \n",
    "            res += lastNum\n",
    "        else:\n",
    "            res -= lastNum\n",
    "\n",
    "        lastNum = maps[s[i]]\n",
    "\n",
    "    return res+lastNum"
   ]
  },
  {
   "cell_type": "code",
   "execution_count": 15,
   "id": "1dbe8988",
   "metadata": {
    "ExecuteTime": {
     "end_time": "2022-08-31T16:43:32.936615Z",
     "start_time": "2022-08-31T16:43:32.928677Z"
    }
   },
   "outputs": [
    {
     "data": {
      "text/plain": [
       "58"
      ]
     },
     "execution_count": 15,
     "metadata": {},
     "output_type": "execute_result"
    }
   ],
   "source": [
    "s = \"LVIII\"\n",
    "romanToInt(s)"
   ]
  }
 ],
 "metadata": {
  "kernelspec": {
   "display_name": "Python 3",
   "language": "python",
   "name": "python3"
  },
  "language_info": {
   "codemirror_mode": {
    "name": "ipython",
    "version": 3
   },
   "file_extension": ".py",
   "mimetype": "text/x-python",
   "name": "python",
   "nbconvert_exporter": "python",
   "pygments_lexer": "ipython3",
   "version": "3.8.8"
  }
 },
 "nbformat": 4,
 "nbformat_minor": 5
}
