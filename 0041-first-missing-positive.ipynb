{
 "cells": [
  {
   "cell_type": "markdown",
   "id": "b27a0059",
   "metadata": {},
   "source": [
    "### 41. 缺失的第一个正数\n",
    "给你一个未排序的整数数组 nums ，请你找出其中没有出现的最小的正整数。\n",
    "\n",
    "请你实现时间复杂度为 O(n) 并且只使用常数级别额外空间的解决方案。\n",
    " \n",
    "\n",
    "示例 1：\n",
    "\n",
    "输入：nums = [1,2,0]\n",
    "\n",
    "输出：3\n",
    "\n",
    "示例 2：\n",
    "\n",
    "输入：nums = [3,4,-1,1]\n",
    "\n",
    "输出：2\n",
    "\n",
    "https://leetcode.cn/problems/first-missing-positive/"
   ]
  },
  {
   "cell_type": "markdown",
   "id": "0fec61cb",
   "metadata": {
    "ExecuteTime": {
     "end_time": "2022-09-11T16:56:58.159939Z",
     "start_time": "2022-09-11T16:56:58.148747Z"
    }
   },
   "source": [
    "**思路**：先把所有的数字都放到该放的地方去，最后来一个for循环看哪个位置上没有对应的数字，就返回那个数字"
   ]
  },
  {
   "cell_type": "code",
   "execution_count": 59,
   "id": "3b4bda5c",
   "metadata": {
    "ExecuteTime": {
     "end_time": "2022-09-11T17:15:12.006734Z",
     "start_time": "2022-09-11T17:15:11.992985Z"
    }
   },
   "outputs": [],
   "source": [
    "def firstMissingPositive(nums):\n",
    "    \"\"\"\n",
    "    :type nums: List[int]\n",
    "    :rtype: int\n",
    "    \"\"\"\n",
    "    if not nums or len(nums) == 0:\n",
    "        return 1\n",
    "\n",
    "    for i in range(len(nums)):\n",
    "        # swap nums[i] to i - 1 then use nums[i - 1] as new target to swap\n",
    "        while nums[i] > 0 and nums[i] <= len(nums) and nums[nums[i]-1] != nums[i]:\n",
    "            nums[nums[i]-1], nums[i] = nums[i], nums[nums[i]-1]\n",
    "            print(i, nums)\n",
    "    for i in range(len(nums)):\n",
    "        if nums[i] != i + 1:\n",
    "            return i + 1\n",
    "    return len(nums) + 1"
   ]
  },
  {
   "cell_type": "code",
   "execution_count": 60,
   "id": "795102e2",
   "metadata": {
    "ExecuteTime": {
     "end_time": "2022-09-11T17:15:13.154834Z",
     "start_time": "2022-09-11T17:15:13.139086Z"
    }
   },
   "outputs": [
    {
     "name": "stdout",
     "output_type": "stream",
     "text": [
      "0 [-1, 4, 3, 1]\n",
      "1 [-1, 1, 3, 4]\n",
      "1 [1, -1, 3, 4]\n"
     ]
    },
    {
     "data": {
      "text/plain": [
       "2"
      ]
     },
     "execution_count": 60,
     "metadata": {},
     "output_type": "execute_result"
    }
   ],
   "source": [
    "nums = [3,10,1,1,0,3,5]\n",
    "nums = [3,4,-1,1]\n",
    "firstMissingPositive(nums)"
   ]
  }
 ],
 "metadata": {
  "kernelspec": {
   "display_name": "Python 3",
   "language": "python",
   "name": "python3"
  },
  "language_info": {
   "codemirror_mode": {
    "name": "ipython",
    "version": 3
   },
   "file_extension": ".py",
   "mimetype": "text/x-python",
   "name": "python",
   "nbconvert_exporter": "python",
   "pygments_lexer": "ipython3",
   "version": "3.8.8"
  }
 },
 "nbformat": 4,
 "nbformat_minor": 5
}
