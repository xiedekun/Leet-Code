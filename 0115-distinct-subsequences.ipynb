{
 "cells": [
  {
   "cell_type": "markdown",
   "id": "96cf9676",
   "metadata": {},
   "source": [
    "### 115. 不同的子序列\n",
    "给定一个字符串 s 和一个字符串 t ，计算在 s 的子序列中 t 出现的个数。\n",
    "\n",
    "字符串的一个 子序列 是指，通过删除一些（也可以不删除）字符且不干扰剩余字符相对位置所组成的新字符串。（例如，\"ACE\" 是 \"ABCDE\" 的一个子序列，而 \"AEC\" 不是）\n",
    "\n",
    "题目数据保证答案符合 32 位带符号整数范围。\n",
    "\n",
    " \n",
    "\n",
    "示例 1：\n",
    "\n",
    "输入：s = \"rabbbit\", t = \"rabbit\"\n",
    "\n",
    "输出：3\n",
    "\n",
    "解释：\n",
    "\n",
    "如下图所示, 有 3 种可以从 s 中得到 \"rabbit\" 的方案。\n",
    "\n",
    "ra**bb**bit\n",
    "\n",
    "rab**bb**it\n",
    "\n",
    "ra**b**b**b**it\n",
    "\n",
    "https://leetcode.cn/problems/distinct-subsequences/submissions/"
   ]
  },
  {
   "cell_type": "markdown",
   "id": "f7773e5a",
   "metadata": {},
   "source": [
    "**思路**：动态规划\n",
    "\n",
    "s = \"babgbag\", t = \"bag\"\n",
    "\n",
    "\n",
    "dp[i][j]：s的前i个字符有多少等于t的前j个\n",
    "\n",
    "if s[i-1]!=t[j-1]:\n",
    "    \n",
    "    dp[i][j] = dp[i-1][j]\n",
    "    \n",
    "else:\n",
    "    \n",
    "    1.s和t位置符号都不要 => dp[i-1][j-1]\n",
    "        意思是用s的位置匹配\n",
    "        \n",
    "    2.s位置符号不要 => dp[i-1][j]\n",
    "        意思是不用s位置的匹配\n"
   ]
  },
  {
   "cell_type": "code",
   "execution_count": 11,
   "id": "f594f89a",
   "metadata": {
    "ExecuteTime": {
     "end_time": "2022-09-23T13:15:20.455560Z",
     "start_time": "2022-09-23T13:15:20.439364Z"
    }
   },
   "outputs": [],
   "source": [
    "def numDistinct(s, t):\n",
    "    \"\"\"\n",
    "    :type s: str\n",
    "    :type t: str\n",
    "    :rtype: int\n",
    "    \"\"\"\n",
    "    \n",
    "    m = len(s)\n",
    "    n = len(t)\n",
    "    \n",
    "    if n>m:\n",
    "        return 0\n",
    "\n",
    "    dp = [[0 for y in range(n+1)] for x in range(m+1)]\n",
    "\n",
    "    for i in range(m+1):\n",
    "        dp[i][0] = 1\n",
    "\n",
    "    # for j in range(1, n):\n",
    "    #     dp[0][j] = 0\n",
    "\n",
    "    for i in range(1, m+1):\n",
    "        for j in range(1, n+1):\n",
    "            if s[i-1] != t[j-1]:\n",
    "                dp[i][j] = dp[i-1][j]\n",
    "            else:\n",
    "                dp[i][j] = dp[i-1][j-1] + dp[i-1][j]\n",
    "\n",
    "    return dp[-1][-1]"
   ]
  },
  {
   "cell_type": "code",
   "execution_count": 10,
   "id": "afd0c893",
   "metadata": {
    "ExecuteTime": {
     "end_time": "2022-09-23T13:14:52.707636Z",
     "start_time": "2022-09-23T13:14:52.662910Z"
    }
   },
   "outputs": [
    {
     "data": {
      "text/plain": [
       "[[1, 0, 0, 0, 0, 0, 0],\n",
       " [1, 1, 0, 0, 0, 0, 0],\n",
       " [1, 1, 1, 0, 0, 0, 0],\n",
       " [1, 1, 1, 1, 0, 0, 0],\n",
       " [1, 1, 1, 2, 1, 0, 0],\n",
       " [1, 1, 1, 3, 3, 0, 0],\n",
       " [1, 1, 1, 3, 3, 3, 0],\n",
       " [1, 1, 1, 3, 3, 3, 3]]"
      ]
     },
     "execution_count": 10,
     "metadata": {},
     "output_type": "execute_result"
    }
   ],
   "source": [
    "s = \"rabbbit\"\n",
    "t = \"rabbit\"\n",
    "\n",
    "m = len(s)\n",
    "n = len(t)\n",
    "\n",
    "dp = [[0 for y in range(n+1)] for x in range(m+1)]\n",
    "\n",
    "for i in range(m+1):\n",
    "    dp[i][0] = 1\n",
    "    \n",
    "# for j in range(1, n):\n",
    "#     dp[0][j] = 0\n",
    "\n",
    "for i in range(1, m+1):\n",
    "    for j in range(1, n+1):\n",
    "        if s[i-1] != t[j-1]:\n",
    "            dp[i][j] = dp[i-1][j]\n",
    "        else:\n",
    "            dp[i][j] = dp[i-1][j-1] + dp[i-1][j]\n",
    "            \n",
    "dp[-1][-1]"
   ]
  }
 ],
 "metadata": {
  "kernelspec": {
   "display_name": "Python 3",
   "language": "python",
   "name": "python3"
  },
  "language_info": {
   "codemirror_mode": {
    "name": "ipython",
    "version": 3
   },
   "file_extension": ".py",
   "mimetype": "text/x-python",
   "name": "python",
   "nbconvert_exporter": "python",
   "pygments_lexer": "ipython3",
   "version": "3.8.8"
  }
 },
 "nbformat": 4,
 "nbformat_minor": 5
}
