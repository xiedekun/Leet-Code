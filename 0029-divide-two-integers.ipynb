{
 "cells": [
  {
   "cell_type": "markdown",
   "id": "189ff09e",
   "metadata": {},
   "source": [
    "### 29. 两数相除\n",
    "给定两个整数，被除数 dividend 和除数 divisor。将两数相除，要求不使用乘法、除法和 mod 运算符。\n",
    "\n",
    "返回被除数 dividend 除以除数 divisor 得到的商。\n",
    "\n",
    "整数除法的结果应当截去（truncate）其小数部分，例如：truncate(8.345) = 8 以及 truncate(-2.7335) = -2\n",
    "\n",
    " \n",
    "\n",
    "示例 1:\n",
    "\n",
    "输入: dividend = 10, divisor = 3\n",
    "\n",
    "输出: 3\n",
    "\n",
    "解释: 10/3 = truncate(3.33333..) = truncate(3) = 3\n",
    "\n",
    "https://leetcode.cn/problems/divide-two-integers/"
   ]
  },
  {
   "cell_type": "code",
   "execution_count": 9,
   "id": "88ee0abc",
   "metadata": {
    "ExecuteTime": {
     "end_time": "2022-09-04T09:36:59.540701Z",
     "start_time": "2022-09-04T09:36:59.528403Z"
    }
   },
   "outputs": [
    {
     "data": {
      "text/plain": [
       "-4"
      ]
     },
     "execution_count": 9,
     "metadata": {},
     "output_type": "execute_result"
    }
   ],
   "source": [
    "dividend = 10\n",
    "divisor = 3\n",
    "\n",
    "-2<<1\n",
    "# bin(-2)"
   ]
  },
  {
   "cell_type": "code",
   "execution_count": null,
   "id": "a120a21b",
   "metadata": {},
   "outputs": [],
   "source": [
    "def divide(dividend, divisor):\n",
    "    \"\"\"\n",
    "    :type dividend: int\n",
    "    :type divisor: int\n",
    "    :rtype: int\n",
    "    \"\"\""
   ]
  }
 ],
 "metadata": {
  "kernelspec": {
   "display_name": "Python 3",
   "language": "python",
   "name": "python3"
  },
  "language_info": {
   "codemirror_mode": {
    "name": "ipython",
    "version": 3
   },
   "file_extension": ".py",
   "mimetype": "text/x-python",
   "name": "python",
   "nbconvert_exporter": "python",
   "pygments_lexer": "ipython3",
   "version": "3.8.8"
  }
 },
 "nbformat": 4,
 "nbformat_minor": 5
}
