{
 "cells": [
  {
   "cell_type": "markdown",
   "id": "bd054c0d",
   "metadata": {},
   "source": [
    "### 60. 排列序列\n",
    "给出集合 [1,2,3,...,n]，其所有元素共有 n! 种排列。\n",
    "\n",
    "按大小顺序列出所有排列情况，并一一标记，当 n = 3 时, 所有排列如下：\n",
    "\n",
    "\"123\"\n",
    "\"132\"\n",
    "\"213\"\n",
    "\"231\"\n",
    "\"312\"\n",
    "\"321\"\n",
    "给定 n 和 k，返回第 k 个排列。\n",
    "\n",
    " \n",
    "\n",
    "示例 1：\n",
    "\n",
    "输入：n = 3, k = 3\n",
    "输出：\"213\"\n",
    "\n",
    "https://leetcode.cn/problems/permutation-sequence/"
   ]
  },
  {
   "cell_type": "markdown",
   "id": "9b3303bc",
   "metadata": {
    "ExecuteTime": {
     "end_time": "2022-09-13T12:35:41.749777Z",
     "start_time": "2022-09-13T12:35:41.721092Z"
    }
   },
   "source": [
    "**思路**：计算每个数字开头有多少个；通过商和余数判断结果的开头数字和位置；回溯法\n",
    "\n",
    "效率有点低"
   ]
  },
  {
   "cell_type": "code",
   "execution_count": 154,
   "id": "86039fdd",
   "metadata": {
    "ExecuteTime": {
     "end_time": "2022-09-13T12:43:49.278152Z",
     "start_time": "2022-09-13T12:43:49.254439Z"
    }
   },
   "outputs": [],
   "source": [
    "def getPermutation(n, k):\n",
    "    \"\"\"\n",
    "    :type n: int\n",
    "    :type k: int\n",
    "    :rtype: str\n",
    "    \"\"\"\n",
    "      \n",
    "    nums = []\n",
    "    res = []\n",
    "    \n",
    "    cnt = 1\n",
    "    for i in range(n-1):\n",
    "        cnt *= (i+1)\n",
    "    a = int(k/cnt) #哪个数字开头\n",
    "    b = k%cnt # 第几个\n",
    "\n",
    "    if b>0:\n",
    "        a += 1\n",
    "\n",
    "\n",
    "    nums.append(a)\n",
    "    for i in range(n):\n",
    "        if i+1 != a:\n",
    "            nums.append(i+1)\n",
    "            \n",
    "    def backtrack(n, a, b, nums, arr):\n",
    "        \n",
    "        if (b!=0 and len(res) == b) or len(res) == cnt:\n",
    "            return \n",
    "          \n",
    "        if len(arr) == n:\n",
    "            res.append(arr)\n",
    "            return\n",
    "\n",
    "        for i in range(len(nums)):\n",
    "            backtrack(n, a, b, nums[:i]+nums[i+1:], arr+[nums[i]])\n",
    "\n",
    "    backtrack(n, a, b, nums, [])\n",
    "    return ''.join([str(s) for s in res[-1]])"
   ]
  },
  {
   "cell_type": "code",
   "execution_count": 155,
   "id": "e13e3944",
   "metadata": {
    "ExecuteTime": {
     "end_time": "2022-09-13T12:43:50.706497Z",
     "start_time": "2022-09-13T12:43:50.674196Z"
    }
   },
   "outputs": [
    {
     "data": {
      "text/plain": [
       "'12'"
      ]
     },
     "execution_count": 155,
     "metadata": {},
     "output_type": "execute_result"
    }
   ],
   "source": [
    "n = 2\n",
    "k = 1\n",
    "getPermutation(n, k)"
   ]
  },
  {
   "cell_type": "code",
   "execution_count": null,
   "id": "c3e12e1e",
   "metadata": {
    "ExecuteTime": {
     "end_time": "2022-09-13T11:54:51.506980Z",
     "start_time": "2022-09-13T11:54:51.485704Z"
    }
   },
   "outputs": [],
   "source": []
  }
 ],
 "metadata": {
  "kernelspec": {
   "display_name": "Python 3",
   "language": "python",
   "name": "python3"
  },
  "language_info": {
   "codemirror_mode": {
    "name": "ipython",
    "version": 3
   },
   "file_extension": ".py",
   "mimetype": "text/x-python",
   "name": "python",
   "nbconvert_exporter": "python",
   "pygments_lexer": "ipython3",
   "version": "3.8.8"
  }
 },
 "nbformat": 4,
 "nbformat_minor": 5
}
