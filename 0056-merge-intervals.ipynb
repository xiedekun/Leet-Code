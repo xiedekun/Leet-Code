{
 "cells": [
  {
   "cell_type": "markdown",
   "id": "f6b23474",
   "metadata": {},
   "source": [
    "### 56. 合并区间\n",
    "以数组 intervals 表示若干个区间的集合，其中单个区间为 intervals[i] = [starti, endi] 。请你合并所有重叠的区间，并返回 一个不重叠的区间数组，该数组需恰好覆盖输入中的所有区间 。\n",
    "\n",
    "示例 1：\n",
    "\n",
    "输入：intervals = [[1,3],[2,6],[8,10],[15,18]]\n",
    "\n",
    "输出：[[1,6],[8,10],[15,18]]\n",
    "\n",
    "解释：区间 [1,3] 和 [2,6] 重叠, 将它们合并为 [1,6].\n",
    "\n",
    "https://leetcode.cn/problems/merge-intervals/"
   ]
  },
  {
   "cell_type": "markdown",
   "id": "68ab7b5b",
   "metadata": {},
   "source": [
    "**思路**：先按照首位排序；如果res空直接添加元素，否则比较res顶元素末尾和当前元素开头，若res元素大于当前，则pop res 合并。"
   ]
  },
  {
   "cell_type": "code",
   "execution_count": 72,
   "id": "fa556567",
   "metadata": {
    "ExecuteTime": {
     "end_time": "2022-09-13T11:04:10.801274Z",
     "start_time": "2022-09-13T11:04:10.784051Z"
    }
   },
   "outputs": [],
   "source": [
    "def merge(intervals):\n",
    "    \"\"\"\n",
    "    :type intervals: List[List[int]]\n",
    "    :rtype: List[List[int]]\n",
    "    \"\"\"\n",
    "    res = []\n",
    "    for i in sorted(intervals, key=lambda x:x[0]):\n",
    "        if res and res[-1][-1] >= i[0]:\n",
    "            element  = res.pop()\n",
    "            res.append([element[0], max(element[1], i[-1])])\n",
    "\n",
    "        else:\n",
    "            res.append(i)\n",
    "    return res"
   ]
  },
  {
   "cell_type": "code",
   "execution_count": 73,
   "id": "fb97522d",
   "metadata": {
    "ExecuteTime": {
     "end_time": "2022-09-13T11:04:11.970793Z",
     "start_time": "2022-09-13T11:04:11.954839Z"
    }
   },
   "outputs": [
    {
     "data": {
      "text/plain": [
       "[[1, 4]]"
      ]
     },
     "execution_count": 73,
     "metadata": {},
     "output_type": "execute_result"
    }
   ],
   "source": [
    "intervals = [[1,3],[2,6],[8,10],[15,18]]\n",
    "intervals = [[1,4],[2,3]]\n",
    "merge(intervals)"
   ]
  },
  {
   "cell_type": "code",
   "execution_count": 64,
   "id": "e9d33c3d",
   "metadata": {
    "ExecuteTime": {
     "end_time": "2022-09-13T10:59:49.179062Z",
     "start_time": "2022-09-13T10:59:49.153568Z"
    }
   },
   "outputs": [
    {
     "data": {
      "text/plain": [
       "[[1, 6], [8, 10], [15, 18]]"
      ]
     },
     "execution_count": 64,
     "metadata": {},
     "output_type": "execute_result"
    }
   ],
   "source": [
    "res = []\n",
    "for i in sorted(intervals, key=lambda x:x[0]):\n",
    "    if res and res[-1][-1] > i[0]:\n",
    "        res.append([res.pop()[0], i[-1]])\n",
    "    \n",
    "    else:\n",
    "        res.append(i)\n",
    "res"
   ]
  }
 ],
 "metadata": {
  "kernelspec": {
   "display_name": "Python 3",
   "language": "python",
   "name": "python3"
  },
  "language_info": {
   "codemirror_mode": {
    "name": "ipython",
    "version": 3
   },
   "file_extension": ".py",
   "mimetype": "text/x-python",
   "name": "python",
   "nbconvert_exporter": "python",
   "pygments_lexer": "ipython3",
   "version": "3.8.8"
  }
 },
 "nbformat": 4,
 "nbformat_minor": 5
}
