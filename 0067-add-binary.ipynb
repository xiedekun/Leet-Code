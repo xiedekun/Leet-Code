{
 "cells": [
  {
   "cell_type": "markdown",
   "id": "e1f20cad",
   "metadata": {},
   "source": [
    "### 67. 二进制求和\n",
    "给你两个二进制字符串 a 和 b ，以二进制字符串的形式返回它们的和。\n",
    "\n",
    " \n",
    "\n",
    "示例 1：\n",
    "\n",
    "输入:a = \"11\", b = \"1\"\n",
    "输出：\"100\"\n",
    "\n",
    "示例 2：\n",
    "\n",
    "输入：a = \"1010\", b = \"1011\"\n",
    "输出：\"10101\"\n",
    "\n",
    "https://leetcode.cn/problems/add-binary/"
   ]
  },
  {
   "cell_type": "markdown",
   "id": "340f8ce1",
   "metadata": {},
   "source": [
    "**思路**：循环；倒着添加进数组，最后反向输出"
   ]
  },
  {
   "cell_type": "code",
   "execution_count": 31,
   "id": "041cdd2c",
   "metadata": {
    "ExecuteTime": {
     "end_time": "2022-09-14T10:30:00.608546Z",
     "start_time": "2022-09-14T10:30:00.584474Z"
    }
   },
   "outputs": [],
   "source": [
    "def addBinary(a, b):\n",
    "    \"\"\"\n",
    "    :type a: str\n",
    "    :type b: str\n",
    "    :rtype: str\n",
    "    \"\"\"\n",
    "    add = 0\n",
    "    res = []\n",
    "    while True:\n",
    "        if a=='':\n",
    "            incre = int(b[-1]) + add\n",
    "        elif b=='':\n",
    "            incre = int(a[-1]) + add\n",
    "        else:\n",
    "            incre = int(a[-1]) + int(b[-1]) + add\n",
    "\n",
    "        if incre < 2:\n",
    "            res.append(str(incre))\n",
    "            add = 0\n",
    "        else:\n",
    "            res.append(str(incre%2))\n",
    "            add = int(incre/2)\n",
    "\n",
    "        if a:\n",
    "            a = a[:-1]\n",
    "        if b:\n",
    "            b = b[:-1]\n",
    "\n",
    "        if a=='' and b=='':\n",
    "            if add:\n",
    "                res.append(str(add))\n",
    "            break\n",
    "\n",
    "\n",
    "    return ''.join(res[::-1])"
   ]
  },
  {
   "cell_type": "code",
   "execution_count": 35,
   "id": "85bd88ac",
   "metadata": {
    "ExecuteTime": {
     "end_time": "2022-09-14T10:30:36.396456Z",
     "start_time": "2022-09-14T10:30:36.374878Z"
    }
   },
   "outputs": [
    {
     "data": {
      "text/plain": [
       "'100'"
      ]
     },
     "execution_count": 35,
     "metadata": {},
     "output_type": "execute_result"
    }
   ],
   "source": [
    "a = \"1010\" \n",
    "b = \"1011\" \n",
    "a = '11'\n",
    "b = '1'\n",
    "addBinary(a,b)"
   ]
  }
 ],
 "metadata": {
  "kernelspec": {
   "display_name": "Python 3",
   "language": "python",
   "name": "python3"
  },
  "language_info": {
   "codemirror_mode": {
    "name": "ipython",
    "version": 3
   },
   "file_extension": ".py",
   "mimetype": "text/x-python",
   "name": "python",
   "nbconvert_exporter": "python",
   "pygments_lexer": "ipython3",
   "version": "3.8.8"
  }
 },
 "nbformat": 4,
 "nbformat_minor": 5
}
