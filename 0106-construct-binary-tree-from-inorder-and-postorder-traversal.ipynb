{
 "cells": [
  {
   "cell_type": "markdown",
   "id": "24400c7e",
   "metadata": {},
   "source": [
    "### 106. 从中序与后序遍历序列构造二叉树\n",
    "\n",
    "难度：中等\n",
    "\n",
    "Given inorder and postorder traversal of a tree, construct the binary tree.\n",
    "\n",
    "Note:\n",
    "You may assume that duplicates do not exist in the tree.\n",
    "\n",
    "For example, given\n",
    "\n",
    "inorder = [9,3,15,20,7]\n",
    "\n",
    "postorder = [9,15,7,20,3]\n",
    "\n",
    "Return the following binary tree:\n",
    "\n",
    "    3\n",
    "    \n",
    "    / \\\n",
    "\n",
    "    9  20\n",
    "\n",
    "      /  \\\n",
    "    \n",
    "     15   7\n",
    "    \n",
    "    \n",
    "https://leetcode.cn/problems/construct-binary-tree-from-preorder-and-inorder-traversal/"
   ]
  },
  {
   "cell_type": "code",
   "execution_count": null,
   "id": "072877db",
   "metadata": {},
   "outputs": [],
   "source": []
  },
  {
   "cell_type": "code",
   "execution_count": 2,
   "id": "f378897e",
   "metadata": {
    "ExecuteTime": {
     "end_time": "2022-09-23T07:44:59.160553Z",
     "start_time": "2022-09-23T07:44:59.149052Z"
    }
   },
   "outputs": [],
   "source": [
    "class TreeNode(object):\n",
    "    def __init__(self, val=0, left=None, right=None):\n",
    "        self.val = val\n",
    "        self.left = left\n",
    "        self.right = right"
   ]
  },
  {
   "cell_type": "code",
   "execution_count": 3,
   "id": "91a20c33",
   "metadata": {
    "ExecuteTime": {
     "end_time": "2022-09-23T07:45:01.643253Z",
     "start_time": "2022-09-23T07:45:01.634262Z"
    }
   },
   "outputs": [],
   "source": [
    "inorder = [9,3,15,20,7]\n",
    "postorder = [9,15,7,20,3]\n",
    "\n",
    "def buildTree(inorder, postorder):\n",
    "    \"\"\"\n",
    "    :type inorder: List[int]\n",
    "    :type postorder: List[int]\n",
    "    :rtype: TreeNode\n",
    "    \"\"\"\n",
    "    if not postorder:\n",
    "        return None\n",
    "    \n",
    "    root = TreeNode(postorder[-1])\n",
    "    k = inorder.index(postorder[-1])\n",
    "    \n",
    "    root.left = buildTree(inorder[0:k], postorder[0:k])\n",
    "    root.right = buildTree(inorder[k+1:], postorder[k: len(postorder)-1])\n",
    "    \n",
    "    return root\n"
   ]
  },
  {
   "cell_type": "code",
   "execution_count": 10,
   "id": "80e09b58",
   "metadata": {
    "ExecuteTime": {
     "end_time": "2022-09-23T07:51:27.757534Z",
     "start_time": "2022-09-23T07:51:27.740752Z"
    }
   },
   "outputs": [],
   "source": [
    "def buildTree(inorder, postorder):\n",
    "    \"\"\"\n",
    "    :type inorder: List[int]\n",
    "    :type postorder: List[int]\n",
    "    :rtype: TreeNode\n",
    "    \"\"\"\n",
    "        if postorder==[] or inorder==[]:\n",
    "            return \n",
    "        root = TreeNode(postorder[-1])\n",
    "\n",
    "        k = inorder.index(postorder[-1])\n",
    "\n",
    "        root.left = buildTree(inorder[:k], postorder[:k])\n",
    "        root.right = buildTree(inorder[k+1:], postorder[k:-1])\n",
    "\n",
    "        return root"
   ]
  },
  {
   "cell_type": "code",
   "execution_count": 11,
   "id": "a3660c1f",
   "metadata": {
    "ExecuteTime": {
     "end_time": "2022-09-23T07:51:29.323653Z",
     "start_time": "2022-09-23T07:51:29.313348Z"
    }
   },
   "outputs": [],
   "source": [
    "inorder = [9,3,15,20,7]\n",
    "postorder = [9,15,7,20,3]\n",
    "\n",
    "node = buildTree(inorder, postorder)"
   ]
  },
  {
   "cell_type": "code",
   "execution_count": 6,
   "id": "2aba776f",
   "metadata": {
    "ExecuteTime": {
     "end_time": "2022-09-23T07:47:26.812447Z",
     "start_time": "2022-09-23T07:47:26.792295Z"
    }
   },
   "outputs": [
    {
     "data": {
      "text/plain": [
       "1"
      ]
     },
     "execution_count": 6,
     "metadata": {},
     "output_type": "execute_result"
    }
   ],
   "source": [
    "\n",
    "k = inorder.index(postorder[-1])\n"
   ]
  },
  {
   "cell_type": "code",
   "execution_count": 12,
   "id": "70096a45",
   "metadata": {
    "ExecuteTime": {
     "end_time": "2022-09-23T07:51:32.387810Z",
     "start_time": "2022-09-23T07:51:32.352772Z"
    }
   },
   "outputs": [
    {
     "data": {
      "text/plain": [
       "[[3], [9, 20], [15, 7]]"
      ]
     },
     "execution_count": 12,
     "metadata": {},
     "output_type": "execute_result"
    }
   ],
   "source": [
    "from queue import deque\n",
    "def levelOrder(root):\n",
    "    \"\"\"\n",
    "    :type root: TreeNode\n",
    "    :rtype: List[List[int]]\n",
    "    \"\"\"\n",
    "    \n",
    "\n",
    "    res = []\n",
    "    queue = deque([root])\n",
    "    \n",
    "    if not root:\n",
    "        return res\n",
    "    \n",
    "    while queue:\n",
    "        size = len(queue)\n",
    "        res_ = []\n",
    "        while size > 0:\n",
    "            \n",
    "            node = queue.popleft()\n",
    "\n",
    "            res_.append(node.val)\n",
    "\n",
    "            if node.left:\n",
    "                queue.append(node.left)\n",
    "            if node.right:\n",
    "                queue.append(node.right)\n",
    "            size -= 1\n",
    "        res.append(res_)\n",
    "    return res\n",
    "        \n",
    "    \n",
    "levelOrder(node)"
   ]
  }
 ],
 "metadata": {
  "kernelspec": {
   "display_name": "Python 3",
   "language": "python",
   "name": "python3"
  },
  "language_info": {
   "codemirror_mode": {
    "name": "ipython",
    "version": 3
   },
   "file_extension": ".py",
   "mimetype": "text/x-python",
   "name": "python",
   "nbconvert_exporter": "python",
   "pygments_lexer": "ipython3",
   "version": "3.8.8"
  }
 },
 "nbformat": 4,
 "nbformat_minor": 5
}
