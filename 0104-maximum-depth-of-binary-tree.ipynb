{
 "cells": [
  {
   "cell_type": "markdown",
   "id": "3d54a961",
   "metadata": {},
   "source": [
    "### 104. 二叉树的最大深度\n",
    "给定一个二叉树，找出其最大深度。\n",
    "\n",
    "二叉树的深度为根节点到最远叶子节点的最长路径上的节点数。\n",
    "\n",
    "说明: 叶子节点是指没有子节点的节点。\n",
    "\n",
    "示例：\n",
    "给定二叉树 [3,9,20,null,null,15,7]，\n",
    "\n",
    "        3\n",
    "       / \\\n",
    "      9  20\n",
    "        /  \\\n",
    "       15   7\n",
    "返回它的最大深度 3 。\n",
    "\n",
    "https://leetcode.cn/problems/maximum-depth-of-binary-tree/"
   ]
  },
  {
   "cell_type": "markdown",
   "id": "cc9c9bab",
   "metadata": {
    "ExecuteTime": {
     "end_time": "2022-09-23T07:05:28.930639Z",
     "start_time": "2022-09-23T07:05:28.912379Z"
    }
   },
   "source": [
    "**思路**：层序遍历"
   ]
  },
  {
   "cell_type": "code",
   "execution_count": 33,
   "id": "10e20063",
   "metadata": {
    "ExecuteTime": {
     "end_time": "2022-09-23T07:36:45.132378Z",
     "start_time": "2022-09-23T07:36:45.113490Z"
    }
   },
   "outputs": [],
   "source": [
    "class TreeNode(object):\n",
    "    def __init__(self, val=0, left=None, right=None):\n",
    "        self.val = val\n",
    "        self.left = left\n",
    "        self.right = right"
   ]
  },
  {
   "cell_type": "code",
   "execution_count": 32,
   "id": "e2e36072",
   "metadata": {
    "ExecuteTime": {
     "end_time": "2022-09-23T07:36:18.390402Z",
     "start_time": "2022-09-23T07:36:18.375049Z"
    }
   },
   "outputs": [],
   "source": [
    "def maxDepth(root):\n",
    "    \"\"\"\n",
    "    :type root: TreeNode\n",
    "    :rtype: int\n",
    "    \"\"\"\n",
    "    if not root:\n",
    "        return 0\n",
    "    stack = [root]\n",
    "    d = 0\n",
    "    while stack:\n",
    "        d+=1\n",
    "        size = len(stack)\n",
    "        for _ in range(size):\n",
    "            node = stack.pop(0)\n",
    "            if node.left:\n",
    "                stack.append(node.left)\n",
    "            if node.right:\n",
    "                stack.append(node.right)\n",
    "\n",
    "    return d   "
   ]
  },
  {
   "cell_type": "code",
   "execution_count": 29,
   "id": "47c13b51",
   "metadata": {
    "ExecuteTime": {
     "end_time": "2022-09-23T07:34:32.740748Z",
     "start_time": "2022-09-23T07:34:32.725763Z"
    }
   },
   "outputs": [
    {
     "data": {
      "text/plain": [
       "3"
      ]
     },
     "execution_count": 29,
     "metadata": {},
     "output_type": "execute_result"
    }
   ],
   "source": [
    "root = TreeNode(3, TreeNode(9),TreeNode(20,TreeNode(15),TreeNode(7)))\n",
    "\n",
    "stack = [root]\n",
    "d = 0\n",
    "while stack:\n",
    "    d+=1\n",
    "    size = len(stack)\n",
    "    for _ in range(size):\n",
    "        node = stack.pop(0)\n",
    "        if node.left:\n",
    "            stack.append(node.left)\n",
    "        if node.right:\n",
    "            stack.append(node.right)\n",
    "    \n",
    "d      "
   ]
  },
  {
   "cell_type": "code",
   "execution_count": null,
   "id": "92264b2e",
   "metadata": {},
   "outputs": [],
   "source": []
  }
 ],
 "metadata": {
  "kernelspec": {
   "display_name": "Python 3",
   "language": "python",
   "name": "python3"
  },
  "language_info": {
   "codemirror_mode": {
    "name": "ipython",
    "version": 3
   },
   "file_extension": ".py",
   "mimetype": "text/x-python",
   "name": "python",
   "nbconvert_exporter": "python",
   "pygments_lexer": "ipython3",
   "version": "3.8.8"
  }
 },
 "nbformat": 4,
 "nbformat_minor": 5
}
