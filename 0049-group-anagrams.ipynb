{
 "cells": [
  {
   "cell_type": "markdown",
   "id": "3b463e7f",
   "metadata": {},
   "source": [
    "### 49. 字母异位词分组\n",
    "给你一个字符串数组，请你将 字母异位词 组合在一起。可以按任意顺序返回结果列表。\n",
    "\n",
    "字母异位词 是由重新排列源单词的字母得到的一个新单词，所有源单词中的字母通常恰好只用一次。\n",
    "\n",
    " \n",
    "\n",
    "示例 1:\n",
    "\n",
    "输入: strs = [\"eat\", \"tea\", \"tan\", \"ate\", \"nat\", \"bat\"]\n",
    "\n",
    "输出: [[\"bat\"],[\"nat\",\"tan\"],[\"ate\",\"eat\",\"tea\"]]\n",
    "\n",
    "https://leetcode.cn/problems/group-anagrams/"
   ]
  },
  {
   "cell_type": "markdown",
   "id": "ded4d724",
   "metadata": {},
   "source": [
    "**思路**：字符串排序；哈希"
   ]
  },
  {
   "cell_type": "code",
   "execution_count": 24,
   "id": "0675705a",
   "metadata": {
    "ExecuteTime": {
     "end_time": "2022-09-13T05:48:56.210792Z",
     "start_time": "2022-09-13T05:48:56.191501Z"
    }
   },
   "outputs": [],
   "source": [
    "def groupAnagrams(strs):\n",
    "    \"\"\"\n",
    "    :type strs: List[str]\n",
    "    :rtype: List[List[str]]\n",
    "    \"\"\"\n",
    "    maps = dict()\n",
    "    for s in strs:\n",
    "        key = ''.join(sorted(s))\n",
    "        if maps.get(key):\n",
    "            maps.update({key: maps.get(key)+[s]})\n",
    "        else:\n",
    "            maps.update({key:[s]})\n",
    "\n",
    "    return list(maps.values())"
   ]
  },
  {
   "cell_type": "code",
   "execution_count": 23,
   "id": "eb30872e",
   "metadata": {
    "ExecuteTime": {
     "end_time": "2022-09-13T05:48:45.974070Z",
     "start_time": "2022-09-13T05:48:45.943725Z"
    }
   },
   "outputs": [
    {
     "data": {
      "text/plain": [
       "[['eat', 'tea', 'ate'], ['tan', 'nat'], ['bat']]"
      ]
     },
     "execution_count": 23,
     "metadata": {},
     "output_type": "execute_result"
    }
   ],
   "source": [
    "strs = [\"eat\", \"tea\", \"tan\", \"ate\", \"nat\", \"bat\"]\n",
    "\n",
    "maps = dict()\n",
    "for s in strs:\n",
    "    key = ''.join(sorted(s))\n",
    "    if maps.get(key):\n",
    "        maps.update({key: maps.get(key)+[s]})\n",
    "    else:\n",
    "        maps.update({key:[s]})\n",
    "        \n",
    "list(maps.values())\n"
   ]
  }
 ],
 "metadata": {
  "kernelspec": {
   "display_name": "Python 3",
   "language": "python",
   "name": "python3"
  },
  "language_info": {
   "codemirror_mode": {
    "name": "ipython",
    "version": 3
   },
   "file_extension": ".py",
   "mimetype": "text/x-python",
   "name": "python",
   "nbconvert_exporter": "python",
   "pygments_lexer": "ipython3",
   "version": "3.8.8"
  }
 },
 "nbformat": 4,
 "nbformat_minor": 5
}
