{
 "cells": [
  {
   "cell_type": "markdown",
   "id": "5de4a1c7",
   "metadata": {},
   "source": [
    "### 58. 最后一个单词的长度\n",
    "给你一个字符串 s，由若干单词组成，单词前后用一些空格字符隔开。返回字符串中 最后一个 单词的长度。\n",
    "\n",
    "单词 是指仅由字母组成、不包含任何空格字符的最大子字符串。\n",
    "\n",
    " \n",
    "\n",
    "示例 1：\n",
    "\n",
    "输入：s = \"Hello World\"\n",
    "输出：5\n",
    "解释：最后一个单词是“World”，长度为5。\n",
    "\n",
    "https://leetcode.cn/problems/length-of-last-word/"
   ]
  },
  {
   "cell_type": "code",
   "execution_count": 14,
   "id": "0ac3a5ca",
   "metadata": {
    "ExecuteTime": {
     "end_time": "2022-09-13T11:37:34.993908Z",
     "start_time": "2022-09-13T11:37:34.983212Z"
    }
   },
   "outputs": [],
   "source": [
    "def lengthOfLastWord(s):\n",
    "    \"\"\"\n",
    "    :type s: str\n",
    "    :rtype: int\n",
    "    \"\"\"\n",
    "    \n",
    "    s = s.strip(' ')\n",
    "    s = s.split(' ')[-1]\n",
    "    return len(s)\n",
    "    "
   ]
  },
  {
   "cell_type": "code",
   "execution_count": 13,
   "id": "96c8a000",
   "metadata": {
    "ExecuteTime": {
     "end_time": "2022-09-13T11:37:28.448878Z",
     "start_time": "2022-09-13T11:37:28.433249Z"
    }
   },
   "outputs": [
    {
     "data": {
      "text/plain": [
       "'Hello World'"
      ]
     },
     "execution_count": 13,
     "metadata": {},
     "output_type": "execute_result"
    }
   ],
   "source": [
    "s = \" Hello World   \"\n",
    "s = s.strip(' ')\n",
    "# lengthOfLastWord(s)\n",
    "s"
   ]
  },
  {
   "cell_type": "code",
   "execution_count": null,
   "id": "1a0f3727",
   "metadata": {},
   "outputs": [],
   "source": []
  },
  {
   "cell_type": "code",
   "execution_count": null,
   "id": "c9754770",
   "metadata": {},
   "outputs": [],
   "source": []
  }
 ],
 "metadata": {
  "kernelspec": {
   "display_name": "Python 3",
   "language": "python",
   "name": "python3"
  },
  "language_info": {
   "codemirror_mode": {
    "name": "ipython",
    "version": 3
   },
   "file_extension": ".py",
   "mimetype": "text/x-python",
   "name": "python",
   "nbconvert_exporter": "python",
   "pygments_lexer": "ipython3",
   "version": "3.8.8"
  }
 },
 "nbformat": 4,
 "nbformat_minor": 5
}
