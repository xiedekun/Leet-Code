{
 "cells": [
  {
   "cell_type": "markdown",
   "id": "b927466a",
   "metadata": {},
   "source": [
    "### 65. 有效数字\n",
    "有效数字（按顺序）可以分成以下几个部分：\n",
    "\n",
    "一个 小数 或者 整数\n",
    "\n",
    "（可选）一个 'e' 或 'E' ，后面跟着一个 整数\n",
    "\n",
    "小数（按顺序）可以分成以下几个部分：\n",
    "\n",
    "（可选）一个符号字符（'+' 或 '-'）\n",
    "\n",
    "下述格式之一：\n",
    "\n",
    "至少一位数字，后面跟着一个点 '.'\n",
    "\n",
    "至少一位数字，后面跟着一个点 '.' ，后面再跟着至少一位数字\n",
    "\n",
    "一个点 '.' ，后面跟着至少一位数字\n",
    "\n",
    "整数（按顺序）可以分成以下几个部分：\n",
    "\n",
    "（可选）一个符号字符（'+' 或 '-'）\n",
    "\n",
    "至少一位数字\n",
    "\n",
    "部分有效数字列举如下：[\"2\", \"0089\", \"-0.1\", \"+3.14\", \"4.\", \"-.9\", \"2e10\", \"-90E3\", \"3e+7\", \"+6e-1\", \"53.5e93\", \"-123.456e789\"]\n",
    "\n",
    "部分无效数字列举如下：[\"abc\", \"1a\", \"1e\", \"e3\", \"99e2.5\", \"--6\", \"-+3\", \"95a54e53\"]\n",
    "\n",
    "给你一个字符串 s ，如果 s 是一个 有效数字 ，请返回 true 。\n",
    "\n",
    " \n",
    "\n",
    "示例 1：\n",
    "\n",
    "输入：s = \"0\"\n",
    "输出：true\n",
    "\n",
    "https://leetcode.cn/problems/valid-number/"
   ]
  },
  {
   "cell_type": "code",
   "execution_count": null,
   "id": "207e6b0c",
   "metadata": {},
   "outputs": [],
   "source": []
  }
 ],
 "metadata": {
  "kernelspec": {
   "display_name": "Python 3",
   "language": "python",
   "name": "python3"
  },
  "language_info": {
   "codemirror_mode": {
    "name": "ipython",
    "version": 3
   },
   "file_extension": ".py",
   "mimetype": "text/x-python",
   "name": "python",
   "nbconvert_exporter": "python",
   "pygments_lexer": "ipython3",
   "version": "3.8.8"
  }
 },
 "nbformat": 4,
 "nbformat_minor": 5
}
