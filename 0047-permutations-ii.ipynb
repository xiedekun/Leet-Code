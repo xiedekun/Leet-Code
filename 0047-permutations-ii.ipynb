{
 "cells": [
  {
   "cell_type": "markdown",
   "id": "6dcc357b",
   "metadata": {},
   "source": [
    "### 47. 全排列 II\n",
    "给定一个可包含重复数字的序列 nums ，按任意顺序 返回所有不重复的全排列。\n",
    "\n",
    " \n",
    "\n",
    "示例 1：\n",
    "\n",
    "输入：nums = [1,1,2]\n",
    "\n",
    "输出：\n",
    "\n",
    "[[1,1,2],\n",
    " [1,2,1],\n",
    " [2,1,1]]\n",
    " \n",
    "https://leetcode.cn/problems/permutations-ii/"
   ]
  },
  {
   "cell_type": "markdown",
   "id": "97d9729a",
   "metadata": {},
   "source": [
    "**思路**：回溯法；先排序；注意循环里，遇到重复的就跳过"
   ]
  },
  {
   "cell_type": "code",
   "execution_count": 16,
   "id": "a6cdb076",
   "metadata": {
    "ExecuteTime": {
     "end_time": "2022-09-13T04:30:30.671299Z",
     "start_time": "2022-09-13T04:30:30.652113Z"
    }
   },
   "outputs": [],
   "source": [
    "def permuteUnique(nums):\n",
    "    \"\"\"\n",
    "    :type nums: List[int]\n",
    "    :rtype: List[List[int]]\n",
    "    \"\"\"\n",
    "    res = []\n",
    "    nums.sort()\n",
    "    def backtrack(nums, arr):\n",
    "        nums.sort()\n",
    "        if not nums:\n",
    "            res.append(arr)\n",
    "            return res\n",
    "\n",
    "        for i in range(len(nums)):\n",
    "            if i!=len(nums)-1 and nums[i] == nums[i+1]:\n",
    "                continue\n",
    "            backtrack(nums[:i]+nums[i+1:], arr+[nums[i]])\n",
    "\n",
    "    backtrack(nums, [])\n",
    "    return res"
   ]
  },
  {
   "cell_type": "code",
   "execution_count": 17,
   "id": "8723c6db",
   "metadata": {
    "ExecuteTime": {
     "end_time": "2022-09-13T04:30:32.382563Z",
     "start_time": "2022-09-13T04:30:32.361452Z"
    }
   },
   "outputs": [
    {
     "data": {
      "text/plain": [
       "[[1, 1, 2], [1, 2, 1], [2, 1, 1]]"
      ]
     },
     "execution_count": 17,
     "metadata": {},
     "output_type": "execute_result"
    }
   ],
   "source": [
    "nums = [1,1,2]\n",
    "permuteUnique(nums)"
   ]
  },
  {
   "cell_type": "code",
   "execution_count": 10,
   "id": "7b3708f1",
   "metadata": {
    "ExecuteTime": {
     "end_time": "2022-09-13T04:28:42.480693Z",
     "start_time": "2022-09-13T04:28:42.461653Z"
    }
   },
   "outputs": [
    {
     "data": {
      "text/plain": [
       "[[1, 1, 2], [1, 2, 1], [2, 1, 1]]"
      ]
     },
     "execution_count": 10,
     "metadata": {},
     "output_type": "execute_result"
    }
   ],
   "source": [
    "nums = [1,1,2]\n",
    "res = []\n",
    "def backtrack(nums, arr):\n",
    "    if not nums:\n",
    "        res.append(arr)\n",
    "        return res\n",
    "    \n",
    "    for i in range(len(nums)):\n",
    "        if i!=len(nums)-1 and nums[i] == nums[i+1]:\n",
    "            continue\n",
    "        backtrack(nums[:i]+nums[i+1:], arr+[nums[i]])\n",
    "        \n",
    "backtrack(nums, [])\n",
    "res"
   ]
  }
 ],
 "metadata": {
  "kernelspec": {
   "display_name": "Python 3",
   "language": "python",
   "name": "python3"
  },
  "language_info": {
   "codemirror_mode": {
    "name": "ipython",
    "version": 3
   },
   "file_extension": ".py",
   "mimetype": "text/x-python",
   "name": "python",
   "nbconvert_exporter": "python",
   "pygments_lexer": "ipython3",
   "version": "3.8.8"
  }
 },
 "nbformat": 4,
 "nbformat_minor": 5
}
