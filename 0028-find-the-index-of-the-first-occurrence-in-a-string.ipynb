{
 "cells": [
  {
   "cell_type": "markdown",
   "id": "360739e9",
   "metadata": {},
   "source": [
    "### 28. 实现 strStr()\n",
    "实现 strStr() 函数。\n",
    "\n",
    "给你两个字符串 haystack 和 needle ，请你在 haystack 字符串中找出 needle 字符串出现的第一个位置（下标从 0 开始）。如果不存在，则返回  -1 。\n",
    "\n",
    "说明：\n",
    "\n",
    "当 needle 是空字符串时，我们应当返回什么值呢？这是一个在面试中很好的问题。\n",
    "\n",
    "对于本题而言，当 needle 是空字符串时我们应当返回 0 。这与 C 语言的 strstr() 以及 Java 的 indexOf() 定义相符。\n",
    "\n",
    " \n",
    "\n",
    "示例 1：\n",
    "\n",
    "输入：haystack = \"hello\", needle = \"ll\"\n",
    "\n",
    "输出：2\n",
    "\n",
    "https://leetcode.cn/problems/find-the-index-of-the-first-occurrence-in-a-string"
   ]
  },
  {
   "cell_type": "markdown",
   "id": "7130e46d",
   "metadata": {
    "ExecuteTime": {
     "end_time": "2022-09-04T09:21:40.446655Z",
     "start_time": "2022-09-04T09:21:40.426640Z"
    }
   },
   "source": [
    "**思路**：双指针；暴力"
   ]
  },
  {
   "cell_type": "code",
   "execution_count": 44,
   "id": "2ff16cbd",
   "metadata": {
    "ExecuteTime": {
     "end_time": "2022-09-04T09:21:45.487952Z",
     "start_time": "2022-09-04T09:21:45.471639Z"
    }
   },
   "outputs": [],
   "source": [
    "def strStr(haystack, needle):\n",
    "    \"\"\"\n",
    "    :type haystack: str\n",
    "    :type needle: str\n",
    "    :rtype: int\n",
    "    \"\"\"\n",
    "    if needle == '':\n",
    "        return 0\n",
    "\n",
    "    for i in range(len(haystack)-len(needle)+1):\n",
    "        if haystack[i] == needle[0]:\n",
    "            j = 1\n",
    "            while j<len(needle) and haystack[i+j] == needle[j]:\n",
    "                j+=1\n",
    "\n",
    "            if j==len(needle):\n",
    "                return i\n",
    "    return -1"
   ]
  },
  {
   "cell_type": "code",
   "execution_count": 42,
   "id": "aaa0ecf5",
   "metadata": {
    "ExecuteTime": {
     "end_time": "2022-09-04T09:21:19.243140Z",
     "start_time": "2022-09-04T09:21:19.229138Z"
    }
   },
   "outputs": [
    {
     "data": {
      "text/plain": [
       "4"
      ]
     },
     "execution_count": 42,
     "metadata": {},
     "output_type": "execute_result"
    }
   ],
   "source": [
    "haystack = \"hello\" \n",
    "needle = \"ll\"\n",
    "\n",
    "haystack = \"mississippi\"\n",
    "needle = \"issip\"\n",
    "# haystack =\"leetcode\"\n",
    "# needle = \"leeto\"\n",
    "haystack.find(needle)\n",
    "\n",
    "strStr(haystack, needle)"
   ]
  }
 ],
 "metadata": {
  "kernelspec": {
   "display_name": "Python 3",
   "language": "python",
   "name": "python3"
  },
  "language_info": {
   "codemirror_mode": {
    "name": "ipython",
    "version": 3
   },
   "file_extension": ".py",
   "mimetype": "text/x-python",
   "name": "python",
   "nbconvert_exporter": "python",
   "pygments_lexer": "ipython3",
   "version": "3.8.8"
  }
 },
 "nbformat": 4,
 "nbformat_minor": 5
}
