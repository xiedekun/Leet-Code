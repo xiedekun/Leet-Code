{
 "cells": [
  {
   "cell_type": "markdown",
   "id": "439fd37c",
   "metadata": {},
   "source": [
    "### 72. 编辑距离\n",
    "给你两个单词 word1 和 word2， 请返回将 word1 转换成 word2 所使用的最少操作数  。\n",
    "\n",
    "你可以对一个单词进行如下三种操作：\n",
    "\n",
    "插入一个字符\n",
    "删除一个字符\n",
    "替换一个字符\n",
    " \n",
    "\n",
    "示例 1：\n",
    "\n",
    "输入：word1 = \"horse\", word2 = \"ros\"\n",
    "\n",
    "输出：3\n",
    "\n",
    "解释：\n",
    "\n",
    "horse -> rorse (将 'h' 替换为 'r')\n",
    "rorse -> rose (删除 'r')\n",
    "rose -> ros (删除 'e')\n",
    "\n",
    "https://leetcode.cn/problems/edit-distance/"
   ]
  },
  {
   "cell_type": "markdown",
   "id": "9a39bdeb",
   "metadata": {},
   "source": [
    "**思路**：动态规划\n",
    "\n",
    "dp[i][j]: s1长度为i，s2长度为j时候，将s1转换s2用到的最少步数。\n",
    "\n",
    "si = sj => dp[i-1][j-1]\n",
    "\n",
    "si != sj:\n",
    "\n",
    "    si删除 => dp[i-1][j]+1：\n",
    "    \n",
    "    si末尾插入 => dp[i][j-1]+1\n",
    "    \n",
    "    si替换 => dp[i-1][j-1] + 1"
   ]
  },
  {
   "cell_type": "code",
   "execution_count": 17,
   "id": "b2ba4b4f",
   "metadata": {
    "ExecuteTime": {
     "end_time": "2022-09-14T13:25:43.388011Z",
     "start_time": "2022-09-14T13:25:43.334962Z"
    }
   },
   "outputs": [],
   "source": [
    "def minDistance(word1, word2):\n",
    "    \"\"\"\n",
    "    :type word1: str\n",
    "    :type word2: str\n",
    "    :rtype: int\n",
    "    \"\"\"\n",
    "    m = len(word1)+1\n",
    "    n = len(word2)+1\n",
    "\n",
    "    dp = [[0 for y in range(n)] for x in range(m)]\n",
    "\n",
    "    for i in range(m):\n",
    "        dp[i][0] = i\n",
    "    for j in range(n):\n",
    "        dp[0][j] = j\n",
    "\n",
    "    for i in range(1, m):\n",
    "        for j in range(1, n):\n",
    "            if word1[i-1] == word2[j-1]:\n",
    "                dp[i][j] = dp[i-1][j-1]\n",
    "            else:\n",
    "                dp[i][j] = min(dp[i-1][j], dp[i][j-1], dp[i-1][j-1])+1\n",
    "\n",
    "    return dp[-1][-1]"
   ]
  },
  {
   "cell_type": "code",
   "execution_count": 16,
   "id": "2ef4898a",
   "metadata": {
    "ExecuteTime": {
     "end_time": "2022-09-14T13:24:04.474634Z",
     "start_time": "2022-09-14T13:24:04.452747Z"
    }
   },
   "outputs": [
    {
     "data": {
      "text/plain": [
       "3"
      ]
     },
     "execution_count": 16,
     "metadata": {},
     "output_type": "execute_result"
    }
   ],
   "source": [
    "word1 = \"horse\"\n",
    "word2 = \"ros\"\n",
    "\n",
    "minDistance(word1, word2)"
   ]
  }
 ],
 "metadata": {
  "kernelspec": {
   "display_name": "Python 3",
   "language": "python",
   "name": "python3"
  },
  "language_info": {
   "codemirror_mode": {
    "name": "ipython",
    "version": 3
   },
   "file_extension": ".py",
   "mimetype": "text/x-python",
   "name": "python",
   "nbconvert_exporter": "python",
   "pygments_lexer": "ipython3",
   "version": "3.8.8"
  }
 },
 "nbformat": 4,
 "nbformat_minor": 5
}
