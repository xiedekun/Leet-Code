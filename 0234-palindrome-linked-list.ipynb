{
 "cells": [
  {
   "cell_type": "markdown",
   "id": "d5b5cf15",
   "metadata": {},
   "source": [
    "### 234.回文链表\n",
    "\n",
    "给你一个单链表的头节点 head ，请你判断该链表是否为回文链表。如果是，返回 true ；否则，返回 false 。\n",
    "\n",
    "输入：head = [1,2,2,1]\n",
    "\n",
    "输出：true"
   ]
  },
  {
   "cell_type": "code",
   "execution_count": 1,
   "id": "990a5c12",
   "metadata": {
    "ExecuteTime": {
     "end_time": "2022-08-24T10:00:23.898809Z",
     "start_time": "2022-08-24T10:00:23.884463Z"
    }
   },
   "outputs": [],
   "source": [
    "class ListNode(object):\n",
    "    def __init__(self, val=0, next=None):\n",
    "        self.val = val\n",
    "        self.next = next"
   ]
  },
  {
   "cell_type": "code",
   "execution_count": 16,
   "id": "a7d9d5c9",
   "metadata": {
    "ExecuteTime": {
     "end_time": "2022-08-24T10:13:37.623436Z",
     "start_time": "2022-08-24T10:13:37.602748Z"
    }
   },
   "outputs": [
    {
     "data": {
      "text/plain": [
       "True"
      ]
     },
     "execution_count": 16,
     "metadata": {},
     "output_type": "execute_result"
    }
   ],
   "source": [
    "head = ListNode(1, ListNode(2, ListNode(3, ListNode(2, ListNode(1)))))\n",
    "head = ListNode(1, ListNode(2, ListNode(2, ListNode(1))))\n",
    "\n",
    "slow = fast = head\n",
    "\n",
    "if head.next and head.next.next:\n",
    "    fast = fast.next.next\n",
    "    \n",
    "while fast.next and fast.next.next:\n",
    "    slow = slow.next\n",
    "    fast = fast.next.next\n",
    "    \n",
    "slow = slow.next\n",
    "\n",
    "stack = []\n",
    "flag = True\n",
    "\n",
    "while slow:\n",
    "    stack.append(slow.val)\n",
    "    slow = slow.next\n",
    "    \n",
    "while stack:\n",
    "    if head.val != stack.pop():\n",
    "        flag = False\n",
    "        break\n",
    "    head = head.next\n",
    "    \n",
    "flag"
   ]
  },
  {
   "cell_type": "code",
   "execution_count": 17,
   "id": "6880cb5c",
   "metadata": {
    "ExecuteTime": {
     "end_time": "2022-08-24T10:14:05.367830Z",
     "start_time": "2022-08-24T10:14:05.345395Z"
    }
   },
   "outputs": [],
   "source": [
    "def isPalindrome(head):\n",
    "    \"\"\"\n",
    "    :type head: ListNode\n",
    "    :rtype: bool\n",
    "    \"\"\"\n",
    "    slow = fast = head\n",
    "\n",
    "    if head.next and head.next.next:\n",
    "        fast = fast.next.next\n",
    "\n",
    "    while fast.next and fast.next.next:\n",
    "        slow = slow.next\n",
    "        fast = fast.next.next\n",
    "\n",
    "    slow = slow.next\n",
    "\n",
    "    stack = []\n",
    "    flag = True\n",
    "\n",
    "    while slow:\n",
    "        stack.append(slow.val)\n",
    "        slow = slow.next\n",
    "\n",
    "    while stack:\n",
    "        if head.val != stack.pop():\n",
    "            flag = False\n",
    "            break\n",
    "        head = head.next\n",
    "    return flag"
   ]
  }
 ],
 "metadata": {
  "kernelspec": {
   "display_name": "Python 3",
   "language": "python",
   "name": "python3"
  },
  "language_info": {
   "codemirror_mode": {
    "name": "ipython",
    "version": 3
   },
   "file_extension": ".py",
   "mimetype": "text/x-python",
   "name": "python",
   "nbconvert_exporter": "python",
   "pygments_lexer": "ipython3",
   "version": "3.8.8"
  }
 },
 "nbformat": 4,
 "nbformat_minor": 5
}
