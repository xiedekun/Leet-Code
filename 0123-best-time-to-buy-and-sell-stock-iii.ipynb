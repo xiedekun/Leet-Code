{
 "cells": [
  {
   "cell_type": "markdown",
   "id": "638092bf",
   "metadata": {},
   "source": [
    "### 123. 买卖股票的最佳时机 III\n",
    "给定一个数组，它的第 i 个元素是一支给定的股票在第 i 天的价格。\n",
    "\n",
    "设计一个算法来计算你所能获取的最大利润。你最多可以完成 两笔 交易。\n",
    "\n",
    "注意：你不能同时参与多笔交易（你必须在再次购买前出售掉之前的股票）。\n",
    "\n",
    " \n",
    "\n",
    "示例 1:\n",
    "\n",
    "输入：prices = [3,3,5,0,0,3,1,4]\n",
    "\n",
    "输出：6\n",
    "\n",
    "解释：在第 4 天（股票价格 = 0）的时候买入，在第 6 天（股票价格 = 3）的时候卖出，这笔交易所能获得利润 = 3-0 = 3 。\n",
    "     随后，在第 7 天（股票价格 = 1）的时候买入，在第 8 天 （股票价格 = 4）的时候卖出，这笔交易所能获得利润 = 4-1 = 3 。\n",
    "     \n",
    "https://leetcode.cn/problems/best-time-to-buy-and-sell-stock-iii/     "
   ]
  },
  {
   "cell_type": "code",
   "execution_count": null,
   "id": "1f246074",
   "metadata": {},
   "outputs": [],
   "source": []
  },
  {
   "cell_type": "code",
   "execution_count": 1,
   "id": "de1f6133",
   "metadata": {
    "ExecuteTime": {
     "end_time": "2022-09-24T03:43:20.420060Z",
     "start_time": "2022-09-24T03:43:20.393097Z"
    }
   },
   "outputs": [],
   "source": [
    "def maxProfit(prices):\n",
    "    \"\"\"\n",
    "    :type prices: List[int]\n",
    "    :rtype: int\n",
    "    \"\"\""
   ]
  },
  {
   "cell_type": "code",
   "execution_count": 2,
   "id": "543e2c71",
   "metadata": {
    "ExecuteTime": {
     "end_time": "2022-09-24T03:43:21.879252Z",
     "start_time": "2022-09-24T03:43:21.861841Z"
    }
   },
   "outputs": [],
   "source": [
    "prices = [3,3,5,0,0,3,1,4]"
   ]
  }
 ],
 "metadata": {
  "kernelspec": {
   "display_name": "Python 3",
   "language": "python",
   "name": "python3"
  },
  "language_info": {
   "codemirror_mode": {
    "name": "ipython",
    "version": 3
   },
   "file_extension": ".py",
   "mimetype": "text/x-python",
   "name": "python",
   "nbconvert_exporter": "python",
   "pygments_lexer": "ipython3",
   "version": "3.8.8"
  }
 },
 "nbformat": 4,
 "nbformat_minor": 5
}
