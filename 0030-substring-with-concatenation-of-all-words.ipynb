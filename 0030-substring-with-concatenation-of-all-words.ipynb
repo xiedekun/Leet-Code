{
 "cells": [
  {
   "cell_type": "markdown",
   "id": "006ea073",
   "metadata": {},
   "source": [
    "### 30. 串联所有单词的子串\n",
    "给定一个字符串 s 和一个字符串数组 words。 words 中所有字符串 长度相同。\n",
    "\n",
    " s 中的 串联子串 是指一个包含  words 中所有字符串以任意顺序排列连接起来的子串。\n",
    "\n",
    "例如，如果 words = [\"ab\",\"cd\",\"ef\"]， 那么 \"abcdef\"， \"abefcd\"，\"cdabef\"， \"cdefab\"，\"efabcd\"， 和 \"efcdab\" 都是串联子串。 \"acdbef\" 不是串联子串，因为他不是任何 words 排列的连接。\n",
    "返回所有串联字串在 s 中的开始索引。你可以以 任意顺序 返回答案。\n",
    "\n",
    "\n",
    "示例 1：\n",
    "\n",
    "输入：s = \"barfoothefoobarman\", words = [\"foo\",\"bar\"]\n",
    "\n",
    "输出：[0,9]\n",
    "\n",
    "解释：因为 words.length == 2 同时 words[i].length == 3，连接的子字符串的长度必须为 6。\n",
    "子串 \"barfoo\" 开始位置是 0。它是 words 中以 [\"bar\",\"foo\"] 顺序排列的连接。\n",
    "子串 \"foobar\" 开始位置是 9。它是 words 中以 [\"foo\",\"bar\"] 顺序排列的连接。\n",
    "输出顺序无关紧要。返回 [9,0] 也是可以的。\n",
    "\n",
    "https://leetcode.cn/problems/substring-with-concatenation-of-all-words/"
   ]
  },
  {
   "cell_type": "code",
   "execution_count": 2,
   "id": "44bd8ab9",
   "metadata": {
    "ExecuteTime": {
     "end_time": "2022-09-11T06:19:04.429285Z",
     "start_time": "2022-09-11T06:19:04.405739Z"
    }
   },
   "outputs": [
    {
     "data": {
      "text/plain": [
       "['foo', 'bar']"
      ]
     },
     "execution_count": 2,
     "metadata": {},
     "output_type": "execute_result"
    }
   ],
   "source": [
    "s = \"barfoothefoobarman\"\n",
    "words = [\"foo\",\"bar\"]\n",
    "words"
   ]
  },
  {
   "cell_type": "code",
   "execution_count": null,
   "id": "610a0d08",
   "metadata": {},
   "outputs": [],
   "source": []
  }
 ],
 "metadata": {
  "kernelspec": {
   "display_name": "Python 3",
   "language": "python",
   "name": "python3"
  },
  "language_info": {
   "codemirror_mode": {
    "name": "ipython",
    "version": 3
   },
   "file_extension": ".py",
   "mimetype": "text/x-python",
   "name": "python",
   "nbconvert_exporter": "python",
   "pygments_lexer": "ipython3",
   "version": "3.8.8"
  }
 },
 "nbformat": 4,
 "nbformat_minor": 5
}
