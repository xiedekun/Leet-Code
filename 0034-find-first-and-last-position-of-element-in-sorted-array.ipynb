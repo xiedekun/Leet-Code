{
 "cells": [
  {
   "cell_type": "markdown",
   "id": "6c3b0b53",
   "metadata": {},
   "source": [
    "### 34. 在排序数组中查找元素的第一个和最后一个位置\n",
    "给你一个按照非递减顺序排列的整数数组 nums，和一个目标值 target。请你找出给定目标值在数组中的开始位置和结束位置。\n",
    "\n",
    "如果数组中不存在目标值 target，返回 [-1, -1]。\n",
    "\n",
    "你必须设计并实现时间复杂度为 O(log n) 的算法解决此问题。\n",
    "\n",
    " \n",
    "\n",
    "示例 1：\n",
    "\n",
    "输入：nums = [5,7,7,8,8,10], target = 8\n",
    "\n",
    "输出：[3,4]"
   ]
  },
  {
   "cell_type": "markdown",
   "id": "de5256a0",
   "metadata": {},
   "source": [
    "**思路**：二分搜索找到一个，向两边继续搜"
   ]
  },
  {
   "cell_type": "code",
   "execution_count": 46,
   "id": "b3bdde68",
   "metadata": {
    "ExecuteTime": {
     "end_time": "2022-09-11T11:59:33.265741Z",
     "start_time": "2022-09-11T11:59:33.242338Z"
    }
   },
   "outputs": [],
   "source": [
    "def searchRange(nums, target):\n",
    "    \"\"\"\n",
    "    :type nums: List[int]\n",
    "    :type target: int\n",
    "    :rtype: List[int]\n",
    "    \"\"\"\n",
    "    if not nums:\n",
    "        return [-1, -1]\n",
    "    l,r = 0, len(nums) -1\n",
    "    idx = -1\n",
    "    while l<=r:\n",
    "\n",
    "        mid = int((l+r)/2)\n",
    "\n",
    "        if nums[mid] == target:\n",
    "            idx = mid\n",
    "            break\n",
    "\n",
    "\n",
    "        elif nums[mid] < target:\n",
    "            l = mid + 1\n",
    "        elif nums[mid] > target:\n",
    "            r = mid - 1\n",
    "            \n",
    "    if idx<0:\n",
    "        return [-1, -1]\n",
    "\n",
    "    start, end = idx-1, idx+1\n",
    "    while start>=0 and nums[start] == target:\n",
    "        start -=1\n",
    "\n",
    "    start+=1\n",
    "\n",
    "    while end <len(nums) and nums[end] == target:\n",
    "        end+=1\n",
    "    end-=1\n",
    "    \n",
    "    return [start, end]"
   ]
  },
  {
   "cell_type": "code",
   "execution_count": 48,
   "id": "ebb67d0f",
   "metadata": {
    "ExecuteTime": {
     "end_time": "2022-09-11T12:03:10.452927Z",
     "start_time": "2022-09-11T12:03:10.432644Z"
    }
   },
   "outputs": [
    {
     "data": {
      "text/plain": [
       "[0, 1]"
      ]
     },
     "execution_count": 48,
     "metadata": {},
     "output_type": "execute_result"
    }
   ],
   "source": [
    "nums = [5,7,7,8,8,8,10]\n",
    "nums = [1,1,2]\n",
    "target = 1\n",
    "searchRange(nums, target)"
   ]
  },
  {
   "cell_type": "markdown",
   "id": "f7de2b62",
   "metadata": {},
   "source": [
    "先找左边界，再右边界"
   ]
  },
  {
   "cell_type": "code",
   "execution_count": 62,
   "id": "c1a45e07",
   "metadata": {
    "ExecuteTime": {
     "end_time": "2022-09-11T12:08:27.505459Z",
     "start_time": "2022-09-11T12:08:27.484596Z"
    }
   },
   "outputs": [],
   "source": [
    "def searchRange(nums, target):\n",
    "    \"\"\"\n",
    "    :type nums: List[int]\n",
    "    :type target: int\n",
    "    :rtype: List[int]\n",
    "    \"\"\"\n",
    "    if not nums:\n",
    "        return [-1, -1]\n",
    "    l,r = 0, len(nums) -1\n",
    "    res = []\n",
    "    while l<=r:\n",
    "\n",
    "        mid = int((l+r)/2)\n",
    "\n",
    "        if nums[mid] == target and (mid==0 or nums[mid-1] != target):\n",
    "            res.append(mid)\n",
    "            break\n",
    "\n",
    "\n",
    "        elif nums[mid] < target:\n",
    "            l = mid + 1\n",
    "        else:\n",
    "            r = mid - 1\n",
    "            \n",
    "    if not res:\n",
    "        return [-1, -1]\n",
    "    \n",
    "    r = len(nums)-1\n",
    "    \n",
    "    while l<=r:\n",
    "\n",
    "        mid = int((l+r)/2)\n",
    "\n",
    "        if nums[mid] == target and (mid==len(nums)-1 or nums[mid+1] != target):\n",
    "            res.append(mid)\n",
    "            break\n",
    "\n",
    "\n",
    "        elif nums[mid] > target:\n",
    "            r = mid - 1\n",
    "\n",
    "        else:\n",
    "            l = mid + 1\n",
    "    \n",
    "    return res"
   ]
  },
  {
   "cell_type": "code",
   "execution_count": 63,
   "id": "77782fa4",
   "metadata": {
    "ExecuteTime": {
     "end_time": "2022-09-11T12:08:28.889499Z",
     "start_time": "2022-09-11T12:08:28.878357Z"
    }
   },
   "outputs": [
    {
     "data": {
      "text/plain": [
       "[0, 1]"
      ]
     },
     "execution_count": 63,
     "metadata": {},
     "output_type": "execute_result"
    }
   ],
   "source": [
    "nums = [5,7,7,8,8,8,10]\n",
    "nums = [1,1,2]\n",
    "target = 1\n",
    "searchRange(nums, target)"
   ]
  }
 ],
 "metadata": {
  "kernelspec": {
   "display_name": "Python 3",
   "language": "python",
   "name": "python3"
  },
  "language_info": {
   "codemirror_mode": {
    "name": "ipython",
    "version": 3
   },
   "file_extension": ".py",
   "mimetype": "text/x-python",
   "name": "python",
   "nbconvert_exporter": "python",
   "pygments_lexer": "ipython3",
   "version": "3.8.8"
  }
 },
 "nbformat": 4,
 "nbformat_minor": 5
}
