{
 "cells": [
  {
   "cell_type": "markdown",
   "id": "4f9690a3",
   "metadata": {},
   "source": [
    "### 76. 最小覆盖子串\n",
    "给你一个字符串 s 、一个字符串 t 。返回 s 中涵盖 t 所有字符的最小子串。如果 s 中不存在涵盖 t 所有字符的子串，则返回空字符串 \"\" 。\n",
    "\n",
    " \n",
    "\n",
    "注意：\n",
    "\n",
    "对于 t 中重复字符，我们寻找的子字符串中该字符数量必须不少于 t 中该字符数量。\n",
    "如果 s 中存在这样的子串，我们保证它是唯一的答案。\n",
    " \n",
    "\n",
    "示例 1：\n",
    "\n",
    "输入：s = \"ADOBECODEBANC\", t = \"ABC\"\n",
    "\n",
    "输出：\"BANC\"\n",
    "\n",
    "https://leetcode.cn/problems/minimum-window-substring/"
   ]
  },
  {
   "cell_type": "markdown",
   "id": "bb0e150b",
   "metadata": {},
   "source": [
    "**思路**：滑动窗口\n",
    "\n",
    "要素：左指针，右指针，maps记录字符可用的频率，Counter记录字符是否都用完，操作右指针，当字符频率为0，counter--，如果counter==0则表示用完，可以开始操作左指针，并且计算长度。"
   ]
  },
  {
   "cell_type": "code",
   "execution_count": 124,
   "id": "fb06c72c",
   "metadata": {
    "ExecuteTime": {
     "end_time": "2022-09-15T09:28:54.373554Z",
     "start_time": "2022-09-15T09:28:54.342934Z"
    }
   },
   "outputs": [],
   "source": [
    "def minWindow(s, t):\n",
    "    \"\"\"\n",
    "    :type s: str\n",
    "    :type t: str\n",
    "    :rtype: str\n",
    "    \"\"\"\n",
    "    if len(s) < len(t):\n",
    "        return ''\n",
    "    if t=='' or s=='':\n",
    "        return ''\n",
    "    \n",
    "    import collections\n",
    "    maps = collections.Counter(t)\n",
    "    maps\n",
    "    l, r, head, counter, length= 0, 0, 0, len(maps), float('inf')\n",
    "    while r<len(s):\n",
    "        if s[r] in maps:\n",
    "            maps[s[r]] -= 1\n",
    "            if maps[s[r]] == 0:\n",
    "                counter -=1\n",
    "        r+=1\n",
    "        while l<=r and counter==0:\n",
    "            if s[l] in maps:\n",
    "                maps[s[l]] += 1\n",
    "                if maps[s[l]] > 0:\n",
    "                    counter +=1\n",
    "                if length > r-l:\n",
    "                    length = r-l\n",
    "                    head = l\n",
    "            l+=1\n",
    "    if length == float('inf'):\n",
    "        return ''\n",
    "\n",
    "    return s[head:length+head]"
   ]
  },
  {
   "cell_type": "code",
   "execution_count": 126,
   "id": "1a4a4f06",
   "metadata": {
    "ExecuteTime": {
     "end_time": "2022-09-15T09:29:32.088514Z",
     "start_time": "2022-09-15T09:29:32.063226Z"
    }
   },
   "outputs": [
    {
     "data": {
      "text/plain": [
       "'BANC'"
      ]
     },
     "execution_count": 126,
     "metadata": {},
     "output_type": "execute_result"
    }
   ],
   "source": [
    "s = \"ADOBECODEBANC\"\n",
    "t = \"ABC\"\n",
    "\n",
    "minWindow(s, t)"
   ]
  }
 ],
 "metadata": {
  "kernelspec": {
   "display_name": "Python 3",
   "language": "python",
   "name": "python3"
  },
  "language_info": {
   "codemirror_mode": {
    "name": "ipython",
    "version": 3
   },
   "file_extension": ".py",
   "mimetype": "text/x-python",
   "name": "python",
   "nbconvert_exporter": "python",
   "pygments_lexer": "ipython3",
   "version": "3.8.8"
  }
 },
 "nbformat": 4,
 "nbformat_minor": 5
}
