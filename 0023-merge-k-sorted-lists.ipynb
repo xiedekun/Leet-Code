{
 "cells": [
  {
   "cell_type": "markdown",
   "id": "cb73a527",
   "metadata": {
    "ExecuteTime": {
     "end_time": "2022-09-03T12:35:54.550934Z",
     "start_time": "2022-09-03T12:35:54.538435Z"
    }
   },
   "source": [
    "## 23. 合并K个升序链表\n",
    "给你一个链表数组，每个链表都已经按升序排列。\n",
    "\n",
    "请你将所有链表合并到一个升序链表中，返回合并后的链表。\n",
    "\n",
    "输入：lists = [[1,4,5],[1,3,4],[2,6]]\n",
    "\n",
    "输出：[1,1,2,3,4,4,5,6]\n",
    "\n",
    "解释：链表数组如下：\n",
    "[\n",
    "  1->4->5,\n",
    "  1->3->4,\n",
    "  2->6\n",
    "]\n",
    "将它们合并到一个有序链表中得到。\n",
    "\n",
    "1->1->2->3->4->4->5->6\n",
    "\n",
    "https://leetcode.cn/problems/merge-k-sorted-lists/"
   ]
  },
  {
   "cell_type": "markdown",
   "id": "f58b93f0",
   "metadata": {},
   "source": [
    "**思路**：归并排序;分而治之"
   ]
  },
  {
   "cell_type": "code",
   "execution_count": 2,
   "id": "1ae29b99",
   "metadata": {
    "ExecuteTime": {
     "end_time": "2022-09-03T12:36:11.187441Z",
     "start_time": "2022-09-03T12:36:11.181983Z"
    }
   },
   "outputs": [],
   "source": [
    "class ListNode(object):\n",
    "    def __init__(self, val=0, next=None):\n",
    "        self.val = val\n",
    "        self.next = next"
   ]
  },
  {
   "cell_type": "code",
   "execution_count": 90,
   "id": "4cab7418",
   "metadata": {
    "ExecuteTime": {
     "end_time": "2022-09-03T13:35:40.861501Z",
     "start_time": "2022-09-03T13:35:40.852002Z"
    }
   },
   "outputs": [],
   "source": [
    "l1 = ListNode(1, ListNode(4, ListNode(5)))\n",
    "l2 = ListNode(1, ListNode(3, ListNode(4)))\n",
    "l3 = ListNode(2, ListNode(6))\n",
    "\n",
    "lists = [l1, l2, l3]\n",
    "\n",
    "def merge(l1, l2):\n",
    "        \n",
    "    head = res = ListNode(None)\n",
    "    while l1 or l2:\n",
    "        if l1 is None:\n",
    "            head.next = ListNode(l2.val)\n",
    "            head = head.next\n",
    "            l2 = l2.next\n",
    "            \n",
    "        elif l2 is None:\n",
    "            head.next = ListNode(l1.val)\n",
    "            head = head.next\n",
    "            l1 = l1.next\n",
    "        elif l1.val < l2.val:\n",
    "            head.next = ListNode(l1.val)\n",
    "            head = head.next\n",
    "            l1 = l1.next\n",
    "        elif l1.val >= l2.val:\n",
    "            head.next = ListNode(l2.val)\n",
    "            head = head.next\n",
    "            l2 = l2.next\n",
    "    return res.next\n",
    "\n",
    "# merge(l1, l2).val"
   ]
  },
  {
   "cell_type": "code",
   "execution_count": 105,
   "id": "5f617599",
   "metadata": {
    "ExecuteTime": {
     "end_time": "2022-09-03T13:41:39.214496Z",
     "start_time": "2022-09-03T13:41:39.198502Z"
    }
   },
   "outputs": [],
   "source": [
    "def mergeKLists(lists):\n",
    "    \"\"\"\n",
    "    :type lists: List[ListNode]\n",
    "    :rtype: ListNode\n",
    "    \"\"\"\n",
    "    \n",
    "    if len(lists)==0:\n",
    "        return None\n",
    "    \n",
    "    if len(lists)==1:\n",
    "        return lists[0]\n",
    "    \n",
    "    l = len(lists)\n",
    "    mid = int(l/2)\n",
    "    \n",
    "    left = lists[:mid]\n",
    "    right = lists[mid:l]\n",
    "    \n",
    "    def merge(l1, l2):\n",
    "\n",
    "        head = res = ListNode(None)\n",
    "        while l1 or l2:\n",
    "            if l1 is None:\n",
    "                head.next = ListNode(l2.val)\n",
    "                head = head.next\n",
    "                l2 = l2.next\n",
    "\n",
    "            elif l2 is None:\n",
    "                head.next = ListNode(l1.val)\n",
    "                head = head.next\n",
    "                l1 = l1.next\n",
    "            elif l1.val < l2.val:\n",
    "                head.next = ListNode(l1.val)\n",
    "                head = head.next\n",
    "                l1 = l1.next\n",
    "            elif l1.val >= l2.val:\n",
    "                head.next = ListNode(l2.val)\n",
    "                head = head.next\n",
    "                l2 = l2.next\n",
    "        return res.next\n",
    "\n",
    "    return merge(mergeKLists(left), mergeKLists(right))"
   ]
  },
  {
   "cell_type": "code",
   "execution_count": 108,
   "id": "7064dcdb",
   "metadata": {
    "ExecuteTime": {
     "end_time": "2022-09-03T13:42:57.541995Z",
     "start_time": "2022-09-03T13:42:57.531499Z"
    }
   },
   "outputs": [
    {
     "data": {
      "text/plain": [
       "1"
      ]
     },
     "execution_count": 108,
     "metadata": {},
     "output_type": "execute_result"
    }
   ],
   "source": [
    "l1 = ListNode(1, ListNode(4, ListNode(5)))\n",
    "l2 = ListNode(1, ListNode(3, ListNode(4)))\n",
    "l3 = ListNode(2, ListNode(6))\n",
    "\n",
    "lists = [l1, l2, l3]\n",
    "mergeKLists(lists).val"
   ]
  }
 ],
 "metadata": {
  "kernelspec": {
   "display_name": "Python 3",
   "language": "python",
   "name": "python3"
  },
  "language_info": {
   "codemirror_mode": {
    "name": "ipython",
    "version": 3
   },
   "file_extension": ".py",
   "mimetype": "text/x-python",
   "name": "python",
   "nbconvert_exporter": "python",
   "pygments_lexer": "ipython3",
   "version": "3.8.8"
  }
 },
 "nbformat": 4,
 "nbformat_minor": 5
}
