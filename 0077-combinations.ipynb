{
 "cells": [
  {
   "cell_type": "markdown",
   "id": "1f5f4226",
   "metadata": {},
   "source": [
    "### 77. 组合\n",
    "给定两个整数 n 和 k，返回范围 [1, n] 中所有可能的 k 个数的组合。\n",
    "\n",
    "你可以按 任何顺序 返回答案。\n",
    "\n",
    " \n",
    "\n",
    "示例 1：\n",
    "\n",
    "输入：n = 4, k = 2\n",
    "输出：\n",
    "[\n",
    "  [2,4],\n",
    "  [3,4],\n",
    "  [2,3],\n",
    "  [1,2],\n",
    "  [1,3],\n",
    "  [1,4],\n",
    "]\n",
    "\n",
    "https://leetcode.cn/problems/combinations/"
   ]
  },
  {
   "cell_type": "markdown",
   "id": "dd882d0f",
   "metadata": {},
   "source": [
    "**思路**：回溯法"
   ]
  },
  {
   "cell_type": "code",
   "execution_count": 15,
   "id": "8eaaee96",
   "metadata": {
    "ExecuteTime": {
     "end_time": "2022-09-15T09:47:13.928193Z",
     "start_time": "2022-09-15T09:47:13.897330Z"
    }
   },
   "outputs": [],
   "source": [
    "def combine(n, k):\n",
    "    \"\"\"\n",
    "    :type n: int\n",
    "    :type k: int\n",
    "    :rtype: List[List[int]]\n",
    "    \"\"\"\n",
    "    nums = []\n",
    "    res = []\n",
    "    for i in range(n):\n",
    "        nums.append(i+1)\n",
    "\n",
    "    def backtrack(nums, arr, k):\n",
    "\n",
    "        if len(arr) == k:\n",
    "            res.append(arr)\n",
    "            return \n",
    "\n",
    "        for i in range(len(nums)):\n",
    "            backtrack(nums[i+1:], arr+[nums[i]],k)\n",
    "    backtrack(nums, [], k)\n",
    "    return res"
   ]
  },
  {
   "cell_type": "code",
   "execution_count": 14,
   "id": "d300fbe8",
   "metadata": {
    "ExecuteTime": {
     "end_time": "2022-09-15T09:46:55.740237Z",
     "start_time": "2022-09-15T09:46:55.709247Z"
    }
   },
   "outputs": [
    {
     "data": {
      "text/plain": [
       "[[1, 2], [1, 3], [1, 4], [2, 3], [2, 4], [3, 4]]"
      ]
     },
     "execution_count": 14,
     "metadata": {},
     "output_type": "execute_result"
    }
   ],
   "source": [
    "n = 4\n",
    "k = 2\n",
    "combine(n, k)"
   ]
  },
  {
   "cell_type": "code",
   "execution_count": 11,
   "id": "d5d23af9",
   "metadata": {
    "ExecuteTime": {
     "end_time": "2022-09-15T09:46:25.049840Z",
     "start_time": "2022-09-15T09:46:25.020293Z"
    }
   },
   "outputs": [
    {
     "data": {
      "text/plain": [
       "[[1, 2], [1, 3], [1, 4], [2, 3], [2, 4], [3, 4]]"
      ]
     },
     "execution_count": 11,
     "metadata": {},
     "output_type": "execute_result"
    }
   ],
   "source": [
    "n = 4\n",
    "k = 2\n",
    "\n",
    "nums = []\n",
    "res = []\n",
    "for i in range(n):\n",
    "    nums.append(i+1)\n",
    "\n",
    "def backtrack(nums, arr, k):\n",
    "    \n",
    "    if len(arr) == k:\n",
    "        res.append(arr)\n",
    "        return \n",
    "    \n",
    "    for i in range(len(nums)):\n",
    "        backtrack(nums[i+1:], arr+[nums[i]],k)\n",
    "backtrack(nums, [], k)\n",
    "res"
   ]
  }
 ],
 "metadata": {
  "kernelspec": {
   "display_name": "Python 3",
   "language": "python",
   "name": "python3"
  },
  "language_info": {
   "codemirror_mode": {
    "name": "ipython",
    "version": 3
   },
   "file_extension": ".py",
   "mimetype": "text/x-python",
   "name": "python",
   "nbconvert_exporter": "python",
   "pygments_lexer": "ipython3",
   "version": "3.8.8"
  }
 },
 "nbformat": 4,
 "nbformat_minor": 5
}
